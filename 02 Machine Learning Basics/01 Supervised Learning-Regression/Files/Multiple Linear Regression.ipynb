{
 "cells": [
  {
   "cell_type": "markdown",
   "metadata": {
    "cell_content_type": "markdown_default",
    "changed": false,
    "deletable": false,
    "editable": false,
    "original-content": "# Multiple Linear Regression (Solution)\nModule 1 | Chapter 1 | Notebook 6\n\n***\nIn this notebook we'll expand the simple linear regression model to use more than one feature to make predictions. Thanks to the metrics and visualizations for model quality that you got to know, you can assess whether the model with several features is better than the models with only one feature each. By the end of this lesson you will be able to:\n* Use multiple linear regression\n* Examine the assumptions of a multiple linear regression\n***\n",
    "protected": false,
    "selectable": false
   },
   "source": [
    "# Multiple Linear Regression\n",
    "Module 1 | Chapter 1 | Notebook 6\n",
    "\n",
    "***\n",
    "In this notebook we'll expand the simple linear regression model to use more than one feature to make predictions. Thanks to the metrics and visualizations for model quality that you got to know, you can assess whether the model with several features is better than the models with only one feature each. By the end of this lesson you will be able to:\n",
    "* Use multiple linear regression\n",
    "* Examine the assumptions of a multiple linear regression\n",
    "***\n"
   ]
  },
  {
   "cell_type": "markdown",
   "metadata": {
    "cell_content_type": "markdown_default",
    "changed": false,
    "deletable": false,
    "editable": false,
    "original-content": "## Multiple linear regression\n",
    "protected": false,
    "selectable": false
   },
   "source": [
    "## Multiple linear regression\n"
   ]
  },
  {
   "cell_type": "markdown",
   "metadata": {
    "cell_content_type": "markdown_selectable",
    "changed": false,
    "deletable": false,
    "editable": false,
    "messageType": "szenario",
    "original-content": "**Scenario:** A Taiwanese investor comes to you to find out how much his properties in Taiwan are actually worth. He might want to resell them. The data on the houses is located in *Taiwan_real_estate_prediction_data.xlsx*. \n\nHe looked at your prediction based on the proximity to nearest metro station and based on the age of the house and based on food stores in the area. The investor is asking you to look at how much his houses are worth, if you use multiple features at the same time rather than just using one at a time. The training data is in *Taiwan_real_estate_training_data.xlsx*.\n",
    "protected": false,
    "selectable": true
   },
   "source": [
    "**Scenario:** A Taiwanese investor comes to you to find out how much his properties in Taiwan are actually worth. He might want to resell them. The data on the houses is located in *Taiwan_real_estate_prediction_data.xlsx*. \n",
    "\n",
    "He looked at your prediction based on the proximity to nearest metro station and based on the age of the house and based on food stores in the area. The investor is asking you to look at how much his houses are worth, if you use multiple features at the same time rather than just using one at a time. The training data is in *Taiwan_real_estate_training_data.xlsx*.\n"
   ]
  },
  {
   "cell_type": "markdown",
   "metadata": {
    "cell_content_type": "markdown_default",
    "changed": false,
    "deletable": false,
    "editable": false,
    "original-content": "In order to get started quickly, let's import the data and process it like we did in the last lesson.\n",
    "protected": false,
    "selectable": false
   },
   "source": [
    "In order to get started quickly, let's import the data and process it like we did in the last lesson.\n"
   ]
  },
  {
   "cell_type": "code",
   "execution_count": 1,
   "metadata": {
    "cell_content_type": "code_demo",
    "changed": false,
    "deletable": false,
    "editable": true,
    "hint": "If you would like, you can discuss this in the forum under *Multiple Linear Regression*.",
    "original-content": "import pandas as pd\ndf = pd.read_excel('Taiwan_real_estate_training_data.xlsx', index_col='No')\ncol_names = ['house_age', \n              'metro_distance', \n              'number_convenience_stores', \n              'number_parking_spaces',\n              'air_pollution',\n              'light_pollution',\n              'noise_pollution',\n              'neighborhood_quality',\n              'crime_score',\n              'energy_consumption',\n              'longitude', \n              'price_per_ping']\ndf.columns = col_names\ndf.loc[:, 'price_per_m2'] = df.loc[:, 'price_per_ping'] / 3.3",
    "protected": false,
    "selectable": true
   },
   "outputs": [],
   "source": [
    "import pandas as pd\n",
    "df = pd.read_excel('Taiwan_real_estate_training_data.xlsx', index_col='No')\n",
    "col_names = ['house_age', \n",
    "              'metro_distance', \n",
    "              'number_convenience_stores', \n",
    "              'number_parking_spaces',\n",
    "              'air_pollution',\n",
    "              'light_pollution',\n",
    "              'noise_pollution',\n",
    "              'neighborhood_quality',\n",
    "              'crime_score',\n",
    "              'energy_consumption',\n",
    "              'longitude', \n",
    "              'price_per_ping']\n",
    "df.columns = col_names\n",
    "df.loc[:, 'price_per_m2'] = df.loc[:, 'price_per_ping'] / 3.3"
   ]
  },
  {
   "cell_type": "markdown",
   "metadata": {
    "cell_content_type": "markdown_selectable",
    "changed": false,
    "deletable": false,
    "editable": false,
    "original-content": "The data dictionary for this data is as follows:\n\nColumn number | Column name       | Type      | Description\n ------------ | ---     | :---------:           | ------------:\n0              | `'house_age'` | continuous (`float`) | age of the house in years\n1              | `'metro_distance'` | continuous (`float`) | distance in meters to the next metro station\n2              | `'number_convenience_stores'` | continuous (`int`) | Number of convenience stores nearby\n3              | `'number_parking_spaces'` | continuous (`int`) | Number of parking spaces nearby\n4              | `'air_pollution'` | continuous (`float`) | Air pollution value near the house\n5              | `'light_pollution'` | continuous (`float`) | Light pollution value near the house\n6              | `'light_pollution'` | continuous (`float`) | Light pollution value near the house\n7              | `'neighborhood_quality'` | continuous (`float`) | average Quality of life in the neighborhood\n8              | `'crime_score'` | continuous (`float`) | crime score according to police\n9              | `'energy_consumption'` | continuous (`float`) | The property's energy consumption\n10              | `'longitude'` | continuous (`float`) | The property's longitude\n11              | `'price_per_ping'` | continuous (`float`) | House price in Taiwan dollars per ping, one ping is 3.3 square meters\n12              | `'price_per_ping'` | continuous (`'float'`) | House price in Taiwan dollars per m²\n",
    "protected": false,
    "selectable": true
   },
   "source": [
    "The data dictionary for this data is as follows:\n",
    "\n",
    "Column number | Column name       | Type      | Description\n",
    " ------------ | ---     | :---------:           | ------------:\n",
    "0              | `'house_age'` | continuous (`float`) | age of the house in years\n",
    "1              | `'metro_distance'` | continuous (`float`) | distance in meters to the next metro station\n",
    "2              | `'number_convenience_stores'` | continuous (`int`) | Number of convenience stores nearby\n",
    "3              | `'number_parking_spaces'` | continuous (`int`) | Number of parking spaces nearby\n",
    "4              | `'air_pollution'` | continuous (`float`) | Air pollution value near the house\n",
    "5              | `'light_pollution'` | continuous (`float`) | Light pollution value near the house\n",
    "6              | `'light_pollution'` | continuous (`float`) | Light pollution value near the house\n",
    "7              | `'neighborhood_quality'` | continuous (`float`) | average Quality of life in the neighborhood\n",
    "8              | `'crime_score'` | continuous (`float`) | crime score according to police\n",
    "9              | `'energy_consumption'` | continuous (`float`) | The property's energy consumption\n",
    "10              | `'longitude'` | continuous (`float`) | The property's longitude\n",
    "11              | `'price_per_ping'` | continuous (`float`) | House price in Taiwan dollars per ping, one ping is 3.3 square meters\n",
    "12              | `'price_per_ping'` | continuous (`'float'`) | House price in Taiwan dollars per m²\n"
   ]
  },
  {
   "cell_type": "markdown",
   "metadata": {
    "cell_content_type": "markdown_default",
    "changed": false,
    "deletable": false,
    "editable": false,
    "original-content": "Since the lesson *Simple linear regression with sklearn* you know that regression models follow this formula:\n\n\\begin{equation*}\nTarget = intercept + (slope \\cdot Feature) + error\n\\end{equation*}\n\nMultiple linear regression uses several features simultaneously to make predictions for the data. Each feature ($Feature_1$ and $Feature_2$) gets its own slope ($slope_1$ and $slope_2$). This also changes the formula, which looks like this for two features:\n\n\\begin{equation*}\nTarget = intercept + (slope_1 \\cdot Feature_1) + (slope_2 \\cdot Feature_2) + error\n\\end{equation*}\n",
    "protected": false,
    "selectable": false
   },
   "source": [
    "Since the lesson *Simple linear regression with sklearn* you know that regression models follow this formula:\n",
    "\n",
    "\\begin{equation*}\n",
    "Target = intercept + (slope \\cdot Feature) + error\n",
    "\\end{equation*}\n",
    "\n",
    "Multiple linear regression uses several features simultaneously to make predictions for the data. Each feature ($Feature_1$ and $Feature_2$) gets its own slope ($slope_1$ and $slope_2$). This also changes the formula, which looks like this for two features:\n",
    "\n",
    "\\begin{equation*}\n",
    "Target = intercept + (slope_1 \\cdot Feature_1) + (slope_2 \\cdot Feature_2) + error\n",
    "\\end{equation*}\n"
   ]
  },
  {
   "cell_type": "markdown",
   "metadata": {
    "cell_content_type": "markdown_default",
    "changed": false,
    "deletable": false,
    "editable": false,
    "messageType": "vertiefung",
    "original-content": "**Deep dive**: The following content is optional, feel free to skip it.<br>\nYou can generalize this formula using matrices and vectors:\n\n<table style=\"float:left;\">\n    <tr><th align=\"center\">Word formula</th>\n        <th align=\"center\">math. Formula</th>\n    </tr>\n<tr>\n<td>\n\\begin{equation*}\nprediction vector = feature matrix \\cdot slope vector + intercept + error vector\n\\end{equation*}\n    </td>\n<td>\n\\begin{equation*}\n\\hat{y} = X\\cdot\\vec{\\beta} + \\beta_{0} + \\vec{\\epsilon}\n\\end{equation*}    \n        </td>\n    </tr>\n</table>\n\n<br style=\"clear:both\">When predicting with the model, the intercept ($\\beta_{0}$) is converted by *broadcasting* into a vector with the same length as the slope vector and then the equation can be solved - we get our predictions $\\hat{y}$\n\nIn sklearn this *broadcasting* step is omitted, instead the intercept is written in the zero position of the slope vector. Since this is an additional constant, a column is added to the feature matrix at position 0. This column is filled with ones so that the scalar product of the feature matrix and slope vector is always increased by the value of the intercept when calculating the prediction. This conversion is equivalent to our calculation above.\n",
    "protected": false,
    "selectable": false
   },
   "source": [
    "**Deep dive**: The following content is optional, feel free to skip it.<br>\n",
    "You can generalize this formula using matrices and vectors:\n",
    "\n",
    "<table style=\"float:left;\">\n",
    "    <tr><th align=\"center\">Word formula</th>\n",
    "        <th align=\"center\">math. Formula</th>\n",
    "    </tr>\n",
    "<tr>\n",
    "<td>\n",
    "\\begin{equation*}\n",
    "prediction vector = feature matrix \\cdot slope vector + intercept + error vector\n",
    "\\end{equation*}\n",
    "    </td>\n",
    "<td>\n",
    "\\begin{equation*}\n",
    "\\hat{y} = X\\cdot\\vec{\\beta} + \\beta_{0} + \\vec{\\epsilon}\n",
    "\\end{equation*}    \n",
    "        </td>\n",
    "    </tr>\n",
    "</table>\n",
    "\n",
    "<br style=\"clear:both\">When predicting with the model, the intercept ($\\beta_{0}$) is converted by *broadcasting* into a vector with the same length as the slope vector and then the equation can be solved - we get our predictions $\\hat{y}$\n",
    "\n",
    "In sklearn this *broadcasting* step is omitted, instead the intercept is written in the zero position of the slope vector. Since this is an additional constant, a column is added to the feature matrix at position 0. This column is filled with ones so that the scalar product of the feature matrix and slope vector is always increased by the value of the intercept when calculating the prediction. This conversion is equivalent to our calculation above.\n"
   ]
  },
  {
   "cell_type": "markdown",
   "metadata": {
    "cell_content_type": "markdown_default",
    "changed": false,
    "deletable": false,
    "editable": false,
    "original-content": "We can also imagine the difference graphically. While in simple linear regression with one feature we fit a line to points in an area, in multiple linear regression with two features we fit a plane to points in space.\n",
    "protected": false,
    "selectable": false
   },
   "source": [
    "We can also imagine the difference graphically. While in simple linear regression with one feature we fit a line to points in an area, in multiple linear regression with two features we fit a plane to points in space.\n"
   ]
  },
  {
   "cell_type": "markdown",
   "metadata": {
    "cell_content_type": "markdown_default",
    "changed": false,
    "deletable": false,
    "editable": false,
    "original-content": "So the parameters of a regression with one feature describe a line like this:\n\n![simple linear regression](01_01_05_pic1_en.png)\n",
    "protected": false,
    "selectable": false
   },
   "source": [
    "So the parameters of a regression with one feature describe a line like this:\n",
    "\n",
    "![simple linear regression](01_01_05_pic1_en.png)\n"
   ]
  },
  {
   "cell_type": "markdown",
   "metadata": {
    "cell_content_type": "markdown_default",
    "changed": false,
    "deletable": false,
    "editable": false,
    "original-content": "So the parameters of a regression with two feature describe a plane like this:\n\n![multiple linear regression](01_01_05_pic2_en.png)\n",
    "protected": false,
    "selectable": false
   },
   "source": [
    "So the parameters of a regression with two feature describe a plane like this:\n",
    "\n",
    "![multiple linear regression](01_01_05_pic2_en.png)\n"
   ]
  },
  {
   "cell_type": "markdown",
   "metadata": {
    "cell_content_type": "markdown_default",
    "changed": false,
    "deletable": false,
    "editable": false,
    "original-content": "If you add even more features, this is what we call a hyperplane, which you can no longer imagine spatially. This hyperplane has as many dimensions as there are features.\n",
    "protected": false,
    "selectable": false
   },
   "source": [
    "If you add even more features, this is what we call a hyperplane, which you can no longer imagine spatially. This hyperplane has as many dimensions as there are features.\n"
   ]
  },
  {
   "cell_type": "markdown",
   "metadata": {
    "cell_content_type": "markdown_default",
    "changed": false,
    "deletable": false,
    "editable": false,
    "messageType": "beachte",
    "original-content": "**Note:**\nThe term **linear regression** does not, as people often assume, come from the fact that we draw a line through the data points. As you have seen, a line is only used in the special case of linear regression with just one feature. In all other cases we use a (hyper)plane rather than a line. The name linear regression is derived from the linear combination of the matrices and vectors of the regression model.\n",
    "protected": false,
    "selectable": false
   },
   "source": [
    "**Note:**\n",
    "The term **linear regression** does not, as people often assume, come from the fact that we draw a line through the data points. As you have seen, a line is only used in the special case of linear regression with just one feature. In all other cases we use a (hyper)plane rather than a line. The name linear regression is derived from the linear combination of the matrices and vectors of the regression model.\n"
   ]
  },
  {
   "cell_type": "markdown",
   "metadata": {
    "cell_content_type": "markdown_selectable",
    "changed": false,
    "deletable": false,
    "editable": false,
    "original-content": "Now let's try out a multiple linear regression. We'll follow the same five steps again:\n1. Select model type: `Linear Regression`\n2. Instantiate the model with certain hyperparameters: Store standard model with axis intercept in `model_multiple`\n3. Organize data into a feature matrix and target vector: `features` and `target`\n4. Model fitting: use `my_model.fit()`\n5. Make predictions with the trained model: use `my_model.predict()`\n\nWe'll stick with  `LinearRegression` from the `sklearn.linear_model` module. Import it.\n",
    "protected": false,
    "selectable": true
   },
   "source": [
    "Now let's try out a multiple linear regression. We'll follow the same five steps again:\n",
    "1. Select model type: `Linear Regression`\n",
    "2. Instantiate the model with certain hyperparameters: Store standard model with axis intercept in `model_multiple`\n",
    "3. Organize data into a feature matrix and target vector: `features` and `target`\n",
    "4. Model fitting: use `my_model.fit()`\n",
    "5. Make predictions with the trained model: use `my_model.predict()`\n",
    "\n",
    "We'll stick with  `LinearRegression` from the `sklearn.linear_model` module. Import it.\n"
   ]
  },
  {
   "cell_type": "code",
   "execution_count": 2,
   "metadata": {
    "cell_content_type": "code_user",
    "changed": false,
    "deletable": false,
    "editable": true,
    "hint": "Write `from sklearn.linear_model import LinearRegression` and run the cell.",
    "hint_counter": 1,
    "original-content": "",
    "protected": false,
    "selectable": true,
    "tags": []
   },
   "outputs": [],
   "source": [
    "from sklearn.linear_model import LinearRegression"
   ]
  },
  {
   "cell_type": "markdown",
   "metadata": {
    "cell_content_type": "markdown_selectable",
    "changed": false,
    "deletable": false,
    "editable": false,
    "original-content": "Also the second step is no different to in a simple linear regression. In this case we'll call the model `model_multiple`.\n",
    "protected": false,
    "selectable": true
   },
   "source": [
    "Also the second step is no different to in a simple linear regression. In this case we'll call the model `model_multiple`.\n"
   ]
  },
  {
   "cell_type": "code",
   "execution_count": 3,
   "metadata": {
    "cell_content_type": "code_user",
    "changed": false,
    "deletable": false,
    "editable": true,
    "hint": "Write `model_multiple = LinearRegression()` and run the cell.",
    "original-content": "",
    "protected": false,
    "selectable": true
   },
   "outputs": [],
   "source": [
    "model_multiple = LinearRegression(fit_intercept=True)"
   ]
  },
  {
   "cell_type": "markdown",
   "metadata": {
    "cell_content_type": "markdown_selectable",
    "changed": false,
    "deletable": false,
    "editable": false,
    "original-content": "A difference only becomes apparent in the third step. The feature matrix now includes more than one feature. We'll use the `'house_age'` and `'metro_distance'` columns.\n",
    "protected": false,
    "selectable": true
   },
   "source": [
    "A difference only becomes apparent in the third step. The feature matrix now includes more than one feature. We'll use the `'house_age'` and `'metro_distance'` columns.\n"
   ]
  },
  {
   "cell_type": "code",
   "execution_count": 4,
   "metadata": {
    "cell_content_type": "code_demo",
    "changed": false,
    "deletable": false,
    "editable": true,
    "hint": "If you would like, you can discuss this in the forum under *Multiple Linear Regression*.",
    "original-content": "# step 3\nfeatures_multiple = df.loc[:, ['house_age', 'metro_distance']]\ntarget = df.loc[:, 'price_per_m2']",
    "protected": false,
    "selectable": true
   },
   "outputs": [],
   "source": [
    "# step 3\n",
    "features_multiple = df.loc[:, ['house_age', 'metro_distance']]\n",
    "target = df.loc[:, 'price_per_m2']"
   ]
  },
  {
   "cell_type": "markdown",
   "metadata": {
    "cell_content_type": "markdown_selectable",
    "changed": false,
    "deletable": false,
    "editable": false,
    "original-content": "In the fourth step (*model fitting*) two slopes are now calculated: one slope for the `'house_age'` and one slope for the `'metro_distance'` feature. Use the model `model_multiple` together with the feature matrix `features_multiple` and the target vector `target` to fit a multiple linear regression model to the data. Then print the slopes in `model_multiple.coef_` and the intercept in `model_multiple.intercept_`.\n",
    "protected": false,
    "selectable": true
   },
   "source": [
    "In the fourth step (*model fitting*) two slopes are now calculated: one slope for the `'house_age'` and one slope for the `'metro_distance'` feature. Use the model `model_multiple` together with the feature matrix `features_multiple` and the target vector `target` to fit a multiple linear regression model to the data. Then print the slopes in `model_multiple.coef_` and the intercept in `model_multiple.intercept_`.\n"
   ]
  },
  {
   "cell_type": "code",
   "execution_count": 5,
   "metadata": {
    "cell_content_type": "code_user",
    "changed": false,
    "deletable": false,
    "editable": true,
    "hint": "The first line of the cell should look like this: `model_multiple.fit(features_multiple, target)`.",
    "original-content": "",
    "protected": false,
    "selectable": true
   },
   "outputs": [
    {
     "name": "stdout",
     "output_type": "stream",
     "text": [
      "[-0.07615426 -0.00218815]\n",
      "15.277396784757384\n"
     ]
    }
   ],
   "source": [
    "model_multiple.fit(features_multiple, target)\n",
    "print(model_multiple.coef_)\n",
    "print(model_multiple.intercept_)"
   ]
  },
  {
   "cell_type": "markdown",
   "metadata": {
    "cell_content_type": "markdown_default",
    "changed": false,
    "deletable": false,
    "editable": false,
    "original-content": "The interpretation of the parameters has not changed. The model predicts that with each additional year of age for the property, its value decreases by $0.08 per square meter. With every meter of distance to the nearest metro station, the value of the property decreases by 0.02 dollars.\n\nWe can now determine the model quality using the *mean quared error* and *R²* values as before. Does the multiple linear regression model perform better than the simple linear regression models?\n",
    "protected": false,
    "selectable": false
   },
   "source": [
    "The interpretation of the parameters has not changed. The model predicts that with each additional year of age for the property, its value decreases by $0.08 per square meter. With every meter of distance to the nearest metro station, the value of the property decreases by 0.02 dollars.\n",
    "\n",
    "We can now determine the model quality using the *mean quared error* and *R²* values as before. Does the multiple linear regression model perform better than the simple linear regression models?\n"
   ]
  },
  {
   "cell_type": "code",
   "execution_count": 6,
   "metadata": {
    "cell_content_type": "code_user",
    "changed": false,
    "deletable": false,
    "editable": true,
    "hint": "First import the `mean_squared_error()` and `r2_score()`functions. The first line of the cell should look like this: `target_pred_multiple = model_multiple.predict(features_multiple)`.",
    "original-content": "",
    "protected": false,
    "selectable": true
   },
   "outputs": [
    {
     "name": "stdout",
     "output_type": "stream",
     "text": [
      "9.337033633449392\n",
      "0.4780649322899778\n"
     ]
    }
   ],
   "source": [
    "from sklearn.metrics import mean_squared_error, r2_score\n",
    "import numpy as np\n",
    "target_pred = model_multiple.predict(features_multiple)\n",
    "\n",
    "\n",
    "print(mean_squared_error(target, target_pred))\n",
    "print(r2_score(target, target_pred))"
   ]
  },
  {
   "cell_type": "markdown",
   "metadata": {
    "cell_content_type": "markdown_selectable",
    "changed": false,
    "deletable": false,
    "editable": false,
    "original-content": "It's true. If we summarize all the models calculated so far in a table, you'll notice that both the mean squared error and the coefficient of determination are better in the multiple linear regression.\n\nModel| *MSE*| *R²*\n---|---|---\n`model_age`| 16.97 | 5.1%\n`model_metro`| 10.07 | 43.7%\n`model_stores`| 12.21 | 31.8%\n`model_multiple`| 9.34 | 47.8%\n",
    "protected": false,
    "selectable": true
   },
   "source": [
    "It's true. If we summarize all the models calculated so far in a table, you'll notice that both the mean squared error and the coefficient of determination are better in the multiple linear regression.\n",
    "\n",
    "Model| *MSE*| *R²*\n",
    "---|---|---\n",
    "`model_age`| 16.97 | 5.1%\n",
    "`model_metro`| 10.07 | 43.7%\n",
    "`model_stores`| 12.21 | 31.8%\n",
    "`model_multiple`| 9.34 | 47.8%\n"
   ]
  },
  {
   "cell_type": "markdown",
   "metadata": {
    "cell_content_type": "markdown_default",
    "changed": false,
    "deletable": false,
    "editable": false,
    "original-content": "We can now look at the regression plane visually. 3D visualizations are not part of this module. So here's this image for now:\n\n![multiple linear regression](01_01_05_pic3_en.png)\n",
    "protected": false,
    "selectable": false
   },
   "source": [
    "We can now look at the regression plane visually. 3D visualizations are not part of this module. So here's this image for now:\n",
    "\n",
    "![multiple linear regression](01_01_05_pic3_en.png)\n"
   ]
  },
  {
   "cell_type": "markdown",
   "metadata": {
    "cell_content_type": "markdown_default",
    "changed": false,
    "deletable": false,
    "editable": false,
    "original-content": "In multiple linear regression, the residuals are the vertical distances between the actual data points and the regression plane. So we can take another look at a residual plot to see whether the assumptions of the regression model are correct. \n\nCreate a residual plot with the predicted real estate prices on the x-axis and the residuals on the y-axis. Don't forget to draw a zero line to make it easier to interpret the graph.\n",
    "protected": false,
    "selectable": false
   },
   "source": [
    "In multiple linear regression, the residuals are the vertical distances between the actual data points and the regression plane. So we can take another look at a residual plot to see whether the assumptions of the regression model are correct. \n",
    "\n",
    "Create a residual plot with the predicted real estate prices on the x-axis and the residuals on the y-axis. Don't forget to draw a zero line to make it easier to interpret the graph.\n"
   ]
  },
  {
   "cell_type": "code",
   "execution_count": 11,
   "metadata": {
    "cell_content_type": "code_user",
    "changed": false,
    "deletable": false,
    "editable": true,
    "hint": "You learned how to best draw a residual graph in *Assumptions of the Linear Regression Model*. Use the `my_ax.scatter()` function or the `seaborn.scatterplot()` function. For both options you have to assign the predicted house prices (`target_pred_multiple`) to an `x` argument and the residuals (`residuals`) to a `y` argument.",
    "hint_counter": 3,
    "original-content": "",
    "protected": false,
    "selectable": true,
    "tags": []
   },
   "outputs": [
    {
     "data": {
      "image/png": "[encoded data removed]",
      "text/plain": [
       "<Figure size 432x288 with 1 Axes>"
      ]
     },
     "metadata": {
      "needs_background": "light"
     },
     "output_type": "display_data"
    }
   ],
   "source": [
    "import matplotlib.pyplot as plt\n",
    "import seaborn as sns\n",
    "fig, axs = plt.subplots( )\n",
    "\n",
    "target_pred_multiple = model_multiple.predict(features_multiple)\n",
    "residuals = target - target_pred_multiple\n",
    "\n",
    "residuals = target - target_pred\n",
    "sns.scatterplot(x=target_pred_multiple,\n",
    "                y=residuals,\n",
    "                ax=axs);\n",
    "\n",
    "axs.hlines(y=0,\n",
    "          xmin=target_pred.min(),\n",
    "          xmax=target_pred.max(),\n",
    "          color='black')\n",
    "axs.set(ylabel='Residuals',xlabel='Predicted y-values');"
   ]
  },
  {
   "cell_type": "markdown",
   "metadata": {
    "cell_content_type": "markdown_default",
    "changed": false,
    "deletable": false,
    "editable": false,
    "original-content": "The residual plot should now look something like this:\n\n![residuals graph](01_01_05_pic4_en.png)\n",
    "protected": false,
    "selectable": false
   },
   "source": [
    "The residual plot should now look something like this:\n",
    "\n",
    "![residuals graph](01_01_05_pic4_en.png)\n"
   ]
  },
  {
   "cell_type": "markdown",
   "metadata": {
    "cell_content_type": "markdown_default",
    "changed": false,
    "deletable": false,
    "editable": false,
    "original-content": "Our evaluation of the residual plot is that the data points are concentrated on the right. One assumption of the linear regression model (linear dependency) is not quite fulfilled here.\n",
    "protected": false,
    "selectable": false
   },
   "source": [
    "Our evaluation of the residual plot is that the data points are concentrated on the right. One assumption of the linear regression model (linear dependency) is not quite fulfilled here.\n"
   ]
  },
  {
   "cell_type": "markdown",
   "metadata": {
    "cell_content_type": "markdown_default",
    "changed": false,
    "deletable": false,
    "editable": false,
    "messageType": "glueckwunsch",
    "original-content": "**Congratulations:** You have created your first multiple linear regression. Now you can use several features at the same time to predict continuous values. However, you should consider a new assumption. We'll look at that next.\n",
    "protected": false,
    "selectable": false
   },
   "source": [
    "**Congratulations:** You have created your first multiple linear regression. Now you can use several features at the same time to predict continuous values. However, you should consider a new assumption. We'll look at that next.\n"
   ]
  },
  {
   "cell_type": "markdown",
   "metadata": {
    "cell_content_type": "markdown_default",
    "changed": false,
    "deletable": false,
    "editable": false,
    "original-content": "## Assumptions of the multiple linear regression\n",
    "protected": false,
    "selectable": false
   },
   "source": [
    "## Assumptions of the multiple linear regression\n"
   ]
  },
  {
   "cell_type": "markdown",
   "metadata": {
    "cell_content_type": "markdown_default",
    "changed": false,
    "deletable": false,
    "editable": false,
    "original-content": "We have already interpreted the calculated increases of the features. The model predicts that with every additional year of age, the property prices lose 0.83 dollars per square meter. With every meter of distance to the nearest metro station, the value of the property decreases by 0.02 dollars. \n\nIt's noticeable that this interpretation assumes an independence of age and metro distance. The age of the property says nothing about its metro distance, and vice versa. So, you don't say things like \"Older properties are generally located further away from metro stations and are therefore worth less\", but \"older properties are simply older and therefore worth less\".\n\nOverall, multiple linear regression is therefore made up of the four assumptions of the simple linear regression model and additionally the assumption of feature independence:\n1. The data points are independent from each other\n2. There is a linear dependency between feature and target\n3. The residuals are normally distributed\n4. The residuals have a constant variance\n5. The Features are independent from each other\n\nIf the fifth assumption is violated, we call this collinearity, i.e. a linear dependence between features. This creates two problems:\n* The slopes can no longer be directly interpreted\n* The model's predictions are based on all the features together. Removing a feature because it may no longer be measured changes the slopes of the other features and therefore also the predictions.\n\nHow do you find out whether the fifth assumption is fulfilled? In the case of two features, we can calculate their correlation coefficients. If this is close to zero, you can assume that there is no correlation between the features. If the value is 1 or -1, there is a perfect correlation and the assumption is clearly violated. Generally speaking, you should be concerned if you have a value exceeding 0.9 or -0.9.\n",
    "protected": false,
    "selectable": false
   },
   "source": [
    "We have already interpreted the calculated increases of the features. The model predicts that with every additional year of age, the property prices lose 0.83 dollars per square meter. With every meter of distance to the nearest metro station, the value of the property decreases by 0.02 dollars. \n",
    "\n",
    "It's noticeable that this interpretation assumes an independence of age and metro distance. The age of the property says nothing about its metro distance, and vice versa. So, you don't say things like \"Older properties are generally located further away from metro stations and are therefore worth less\", but \"older properties are simply older and therefore worth less\".\n",
    "\n",
    "Overall, multiple linear regression is therefore made up of the four assumptions of the simple linear regression model and additionally the assumption of feature independence:\n",
    "1. The data points are independent from each other\n",
    "2. There is a linear dependency between feature and target\n",
    "3. The residuals are normally distributed\n",
    "4. The residuals have a constant variance\n",
    "5. The Features are independent from each other\n",
    "\n",
    "If the fifth assumption is violated, we call this collinearity, i.e. a linear dependence between features. This creates two problems:\n",
    "* The slopes can no longer be directly interpreted\n",
    "* The model's predictions are based on all the features together. Removing a feature because it may no longer be measured changes the slopes of the other features and therefore also the predictions.\n",
    "\n",
    "How do you find out whether the fifth assumption is fulfilled? In the case of two features, we can calculate their correlation coefficients. If this is close to zero, you can assume that there is no correlation between the features. If the value is 1 or -1, there is a perfect correlation and the assumption is clearly violated. Generally speaking, you should be concerned if you have a value exceeding 0.9 or -0.9.\n"
   ]
  },
  {
   "cell_type": "markdown",
   "metadata": {
    "cell_content_type": "markdown_default",
    "changed": false,
    "deletable": false,
    "editable": false,
    "messageType": "vertiefung",
    "original-content": "**Deep dive**: The following content is optional, feel free to skip it.<br>\n\n<div class=\"details\">\n\nWhy is perfect collinearity a problem?\nTo answer this question we need to go a little further and look at how our multiple linear regression model learns.\nThe goal of the training stage is always to find the parameters that minimize a selected evaluation metric. The evaluation metric is calculated with a ***cost function***. So you can also interpret the training of a model as a search for the minimum in the *cost function*.\n\nThe sklearn implementation that you have learned so far uses the OLS method to train. OLS stands for *ordinary least squares*. In short: the best hyperplane is determined by the mean of the sum of the squared errors, i.e. the MSE.\nDepending on the values we choose for $\\beta_0$ and $\\vec{\\beta}$ the MSE will change.\n\nThe *cost function* that is minimized in OLS is the same as the calculation of the MSE:\n\n$MSE=\\frac{1}{n}\\sum_{i=1}^n(y_i-\\hat{y_i})^2$\n\nmit: $\\hat{y_i} = \\vec{x_i} \\cdot \\vec{\\beta} + \\beta_0$\n\nAs mentioned earlier, assuming we add a zero column of ones to the feature matrix (X), we can insert $\\beta_0$ in the zero position of $\\vec{\\beta}$ and then ignore $\\beta_0$. \nFor linear regression there is a mathematical equation which can be used to calculate $\\vec{\\beta}$ - the normal equation. The equation is:\n\n$\\vec{\\beta} = (X^T\\cdot X)^{⁻1}\\cdot X^T\\cdot \\vec{y}$\n\nWhen training the linear regression model, this equation is solved mathematically. However, a prerequisite for solving this equation is that the matrix $(X^T\\cdot X)$ is invertible. If perfect colinearity occurs, this is not the case and the model cannot be trained.\nIt is therefore worth considering the correlation coefficients before selecting the features.\n\n</div>",
    "protected": false,
    "selectable": false,
    "tags": []
   },
   "source": [
    "**Deep dive**: The following content is optional, feel free to skip it.<br>\n",
    "\n",
    "<div class=\"details\">\n",
    "\n",
    "Why is perfect collinearity a problem?\n",
    "To answer this question we need to go a little further and look at how our multiple linear regression model learns.\n",
    "The goal of the training stage is always to find the parameters that minimize a selected evaluation metric. The evaluation metric is calculated with a ***cost function***. So you can also interpret the training of a model as a search for the minimum in the *cost function*.\n",
    "\n",
    "The sklearn implementation that you have learned so far uses the OLS method to train. OLS stands for *ordinary least squares*. In short: the best hyperplane is determined by the mean of the sum of the squared errors, i.e. the MSE.\n",
    "Depending on the values we choose for $\\beta_0$ and $\\vec{\\beta}$ the MSE will change.\n",
    "\n",
    "The *cost function* that is minimized in OLS is the same as the calculation of the MSE:\n",
    "\n",
    "$MSE=\\frac{1}{n}\\sum_{i=1}^n(y_i-\\hat{y_i})^2$\n",
    "\n",
    "mit: $\\hat{y_i} = \\vec{x_i} \\cdot \\vec{\\beta} + \\beta_0$\n",
    "\n",
    "As mentioned earlier, assuming we add a zero column of ones to the feature matrix (X), we can insert $\\beta_0$ in the zero position of $\\vec{\\beta}$ and then ignore $\\beta_0$. \n",
    "For linear regression there is a mathematical equation which can be used to calculate $\\vec{\\beta}$ - the normal equation. The equation is:\n",
    "\n",
    "$\\vec{\\beta} = (X^T\\cdot X)^{⁻1}\\cdot X^T\\cdot \\vec{y}$\n",
    "\n",
    "When training the linear regression model, this equation is solved mathematically. However, a prerequisite for solving this equation is that the matrix $(X^T\\cdot X)$ is invertible. If perfect colinearity occurs, this is not the case and the model cannot be trained.\n",
    "It is therefore worth considering the correlation coefficients before selecting the features.\n",
    "\n",
    "</div>"
   ]
  },
  {
   "cell_type": "markdown",
   "metadata": {
    "cell_content_type": "markdown_selectable",
    "changed": false,
    "deletable": false,
    "editable": false,
    "original-content": "Let's calculate the correlation coefficient using `my_df.corr()`.\n",
    "protected": false,
    "selectable": true
   },
   "source": [
    "Let's calculate the correlation coefficient using `my_df.corr()`.\n"
   ]
  },
  {
   "cell_type": "code",
   "execution_count": 14,
   "metadata": {
    "cell_content_type": "code_user",
    "changed": false,
    "deletable": false,
    "editable": true,
    "hint": "Write `df.loc[:, ['house_age', 'metro_distance']].corr()` and run the cell.",
    "original-content": "",
    "protected": false,
    "selectable": true
   },
   "outputs": [
    {
     "data": {
      "text/html": [
       "<div>\n",
       "<style scoped>\n",
       "    .dataframe tbody tr th:only-of-type {\n",
       "        vertical-align: middle;\n",
       "    }\n",
       "\n",
       "    .dataframe tbody tr th {\n",
       "        vertical-align: top;\n",
       "    }\n",
       "\n",
       "    .dataframe thead th {\n",
       "        text-align: right;\n",
       "    }\n",
       "</style>\n",
       "<table border=\"1\" class=\"dataframe\">\n",
       "  <thead>\n",
       "    <tr style=\"text-align: right;\">\n",
       "      <th></th>\n",
       "      <th>house_age</th>\n",
       "      <th>metro_distance</th>\n",
       "      <th>number_convenience_stores</th>\n",
       "      <th>number_parking_spaces</th>\n",
       "      <th>air_pollution</th>\n",
       "      <th>light_pollution</th>\n",
       "      <th>noise_pollution</th>\n",
       "      <th>neighborhood_quality</th>\n",
       "      <th>crime_score</th>\n",
       "      <th>energy_consumption</th>\n",
       "      <th>longitude</th>\n",
       "      <th>price_per_ping</th>\n",
       "      <th>price_per_m2</th>\n",
       "    </tr>\n",
       "  </thead>\n",
       "  <tbody>\n",
       "    <tr>\n",
       "      <th>house_age</th>\n",
       "      <td>1.000000</td>\n",
       "      <td>0.036331</td>\n",
       "      <td>0.014449</td>\n",
       "      <td>-0.022529</td>\n",
       "      <td>0.040284</td>\n",
       "      <td>0.025715</td>\n",
       "      <td>0.028178</td>\n",
       "      <td>-0.081576</td>\n",
       "      <td>-0.052100</td>\n",
       "      <td>-0.084817</td>\n",
       "      <td>-0.065618</td>\n",
       "      <td>-0.226919</td>\n",
       "      <td>-0.226919</td>\n",
       "    </tr>\n",
       "    <tr>\n",
       "      <th>metro_distance</th>\n",
       "      <td>0.036331</td>\n",
       "      <td>1.000000</td>\n",
       "      <td>-0.606720</td>\n",
       "      <td>-0.432883</td>\n",
       "      <td>0.780327</td>\n",
       "      <td>0.737938</td>\n",
       "      <td>0.855484</td>\n",
       "      <td>-0.030894</td>\n",
       "      <td>0.043856</td>\n",
       "      <td>-0.093475</td>\n",
       "      <td>-0.815071</td>\n",
       "      <td>-0.660938</td>\n",
       "      <td>-0.660938</td>\n",
       "    </tr>\n",
       "    <tr>\n",
       "      <th>number_convenience_stores</th>\n",
       "      <td>0.014449</td>\n",
       "      <td>-0.606720</td>\n",
       "      <td>1.000000</td>\n",
       "      <td>0.674302</td>\n",
       "      <td>-0.515958</td>\n",
       "      <td>-0.496835</td>\n",
       "      <td>-0.553736</td>\n",
       "      <td>-0.016989</td>\n",
       "      <td>-0.056977</td>\n",
       "      <td>0.022464</td>\n",
       "      <td>0.450321</td>\n",
       "      <td>0.563644</td>\n",
       "      <td>0.563644</td>\n",
       "    </tr>\n",
       "    <tr>\n",
       "      <th>number_parking_spaces</th>\n",
       "      <td>-0.022529</td>\n",
       "      <td>-0.432883</td>\n",
       "      <td>0.674302</td>\n",
       "      <td>1.000000</td>\n",
       "      <td>-0.322823</td>\n",
       "      <td>-0.312605</td>\n",
       "      <td>-0.393450</td>\n",
       "      <td>-0.041470</td>\n",
       "      <td>-0.041056</td>\n",
       "      <td>0.007477</td>\n",
       "      <td>0.224307</td>\n",
       "      <td>0.288261</td>\n",
       "      <td>0.288261</td>\n",
       "    </tr>\n",
       "    <tr>\n",
       "      <th>air_pollution</th>\n",
       "      <td>0.040284</td>\n",
       "      <td>0.780327</td>\n",
       "      <td>-0.515958</td>\n",
       "      <td>-0.322823</td>\n",
       "      <td>1.000000</td>\n",
       "      <td>0.947841</td>\n",
       "      <td>0.813770</td>\n",
       "      <td>-0.002350</td>\n",
       "      <td>0.066948</td>\n",
       "      <td>-0.077235</td>\n",
       "      <td>-0.640769</td>\n",
       "      <td>-0.559532</td>\n",
       "      <td>-0.559532</td>\n",
       "    </tr>\n",
       "    <tr>\n",
       "      <th>light_pollution</th>\n",
       "      <td>0.025715</td>\n",
       "      <td>0.737938</td>\n",
       "      <td>-0.496835</td>\n",
       "      <td>-0.312605</td>\n",
       "      <td>0.947841</td>\n",
       "      <td>1.000000</td>\n",
       "      <td>0.785710</td>\n",
       "      <td>-0.007780</td>\n",
       "      <td>0.077222</td>\n",
       "      <td>-0.068125</td>\n",
       "      <td>-0.620875</td>\n",
       "      <td>-0.503870</td>\n",
       "      <td>-0.503870</td>\n",
       "    </tr>\n",
       "    <tr>\n",
       "      <th>noise_pollution</th>\n",
       "      <td>0.028178</td>\n",
       "      <td>0.855484</td>\n",
       "      <td>-0.553736</td>\n",
       "      <td>-0.393450</td>\n",
       "      <td>0.813770</td>\n",
       "      <td>0.785710</td>\n",
       "      <td>1.000000</td>\n",
       "      <td>-0.011858</td>\n",
       "      <td>0.000197</td>\n",
       "      <td>-0.148646</td>\n",
       "      <td>-0.702294</td>\n",
       "      <td>-0.606372</td>\n",
       "      <td>-0.606372</td>\n",
       "    </tr>\n",
       "    <tr>\n",
       "      <th>neighborhood_quality</th>\n",
       "      <td>-0.081576</td>\n",
       "      <td>-0.030894</td>\n",
       "      <td>-0.016989</td>\n",
       "      <td>-0.041470</td>\n",
       "      <td>-0.002350</td>\n",
       "      <td>-0.007780</td>\n",
       "      <td>-0.011858</td>\n",
       "      <td>1.000000</td>\n",
       "      <td>0.073701</td>\n",
       "      <td>-0.023033</td>\n",
       "      <td>0.059182</td>\n",
       "      <td>0.097014</td>\n",
       "      <td>0.097014</td>\n",
       "    </tr>\n",
       "    <tr>\n",
       "      <th>crime_score</th>\n",
       "      <td>-0.052100</td>\n",
       "      <td>0.043856</td>\n",
       "      <td>-0.056977</td>\n",
       "      <td>-0.041056</td>\n",
       "      <td>0.066948</td>\n",
       "      <td>0.077222</td>\n",
       "      <td>0.000197</td>\n",
       "      <td>0.073701</td>\n",
       "      <td>1.000000</td>\n",
       "      <td>-0.073215</td>\n",
       "      <td>-0.022769</td>\n",
       "      <td>-0.017667</td>\n",
       "      <td>-0.017667</td>\n",
       "    </tr>\n",
       "    <tr>\n",
       "      <th>energy_consumption</th>\n",
       "      <td>-0.084817</td>\n",
       "      <td>-0.093475</td>\n",
       "      <td>0.022464</td>\n",
       "      <td>0.007477</td>\n",
       "      <td>-0.077235</td>\n",
       "      <td>-0.068125</td>\n",
       "      <td>-0.148646</td>\n",
       "      <td>-0.023033</td>\n",
       "      <td>-0.073215</td>\n",
       "      <td>1.000000</td>\n",
       "      <td>0.097615</td>\n",
       "      <td>0.078049</td>\n",
       "      <td>0.078049</td>\n",
       "    </tr>\n",
       "    <tr>\n",
       "      <th>longitude</th>\n",
       "      <td>-0.065618</td>\n",
       "      <td>-0.815071</td>\n",
       "      <td>0.450321</td>\n",
       "      <td>0.224307</td>\n",
       "      <td>-0.640769</td>\n",
       "      <td>-0.620875</td>\n",
       "      <td>-0.702294</td>\n",
       "      <td>0.059182</td>\n",
       "      <td>-0.022769</td>\n",
       "      <td>0.097615</td>\n",
       "      <td>1.000000</td>\n",
       "      <td>0.517159</td>\n",
       "      <td>0.517159</td>\n",
       "    </tr>\n",
       "    <tr>\n",
       "      <th>price_per_ping</th>\n",
       "      <td>-0.226919</td>\n",
       "      <td>-0.660938</td>\n",
       "      <td>0.563644</td>\n",
       "      <td>0.288261</td>\n",
       "      <td>-0.559532</td>\n",
       "      <td>-0.503870</td>\n",
       "      <td>-0.606372</td>\n",
       "      <td>0.097014</td>\n",
       "      <td>-0.017667</td>\n",
       "      <td>0.078049</td>\n",
       "      <td>0.517159</td>\n",
       "      <td>1.000000</td>\n",
       "      <td>1.000000</td>\n",
       "    </tr>\n",
       "    <tr>\n",
       "      <th>price_per_m2</th>\n",
       "      <td>-0.226919</td>\n",
       "      <td>-0.660938</td>\n",
       "      <td>0.563644</td>\n",
       "      <td>0.288261</td>\n",
       "      <td>-0.559532</td>\n",
       "      <td>-0.503870</td>\n",
       "      <td>-0.606372</td>\n",
       "      <td>0.097014</td>\n",
       "      <td>-0.017667</td>\n",
       "      <td>0.078049</td>\n",
       "      <td>0.517159</td>\n",
       "      <td>1.000000</td>\n",
       "      <td>1.000000</td>\n",
       "    </tr>\n",
       "  </tbody>\n",
       "</table>\n",
       "</div>"
      ],
      "text/plain": [
       "                           house_age  metro_distance  \\\n",
       "house_age                   1.000000        0.036331   \n",
       "metro_distance              0.036331        1.000000   \n",
       "number_convenience_stores   0.014449       -0.606720   \n",
       "number_parking_spaces      -0.022529       -0.432883   \n",
       "air_pollution               0.040284        0.780327   \n",
       "light_pollution             0.025715        0.737938   \n",
       "noise_pollution             0.028178        0.855484   \n",
       "neighborhood_quality       -0.081576       -0.030894   \n",
       "crime_score                -0.052100        0.043856   \n",
       "energy_consumption         -0.084817       -0.093475   \n",
       "longitude                  -0.065618       -0.815071   \n",
       "price_per_ping             -0.226919       -0.660938   \n",
       "price_per_m2               -0.226919       -0.660938   \n",
       "\n",
       "                           number_convenience_stores  number_parking_spaces  \\\n",
       "house_age                                   0.014449              -0.022529   \n",
       "metro_distance                             -0.606720              -0.432883   \n",
       "number_convenience_stores                   1.000000               0.674302   \n",
       "number_parking_spaces                       0.674302               1.000000   \n",
       "air_pollution                              -0.515958              -0.322823   \n",
       "light_pollution                            -0.496835              -0.312605   \n",
       "noise_pollution                            -0.553736              -0.393450   \n",
       "neighborhood_quality                       -0.016989              -0.041470   \n",
       "crime_score                                -0.056977              -0.041056   \n",
       "energy_consumption                          0.022464               0.007477   \n",
       "longitude                                   0.450321               0.224307   \n",
       "price_per_ping                              0.563644               0.288261   \n",
       "price_per_m2                                0.563644               0.288261   \n",
       "\n",
       "                           air_pollution  light_pollution  noise_pollution  \\\n",
       "house_age                       0.040284         0.025715         0.028178   \n",
       "metro_distance                  0.780327         0.737938         0.855484   \n",
       "number_convenience_stores      -0.515958        -0.496835        -0.553736   \n",
       "number_parking_spaces          -0.322823        -0.312605        -0.393450   \n",
       "air_pollution                   1.000000         0.947841         0.813770   \n",
       "light_pollution                 0.947841         1.000000         0.785710   \n",
       "noise_pollution                 0.813770         0.785710         1.000000   \n",
       "neighborhood_quality           -0.002350        -0.007780        -0.011858   \n",
       "crime_score                     0.066948         0.077222         0.000197   \n",
       "energy_consumption             -0.077235        -0.068125        -0.148646   \n",
       "longitude                      -0.640769        -0.620875        -0.702294   \n",
       "price_per_ping                 -0.559532        -0.503870        -0.606372   \n",
       "price_per_m2                   -0.559532        -0.503870        -0.606372   \n",
       "\n",
       "                           neighborhood_quality  crime_score  \\\n",
       "house_age                             -0.081576    -0.052100   \n",
       "metro_distance                        -0.030894     0.043856   \n",
       "number_convenience_stores             -0.016989    -0.056977   \n",
       "number_parking_spaces                 -0.041470    -0.041056   \n",
       "air_pollution                         -0.002350     0.066948   \n",
       "light_pollution                       -0.007780     0.077222   \n",
       "noise_pollution                       -0.011858     0.000197   \n",
       "neighborhood_quality                   1.000000     0.073701   \n",
       "crime_score                            0.073701     1.000000   \n",
       "energy_consumption                    -0.023033    -0.073215   \n",
       "longitude                              0.059182    -0.022769   \n",
       "price_per_ping                         0.097014    -0.017667   \n",
       "price_per_m2                           0.097014    -0.017667   \n",
       "\n",
       "                           energy_consumption  longitude  price_per_ping  \\\n",
       "house_age                           -0.084817  -0.065618       -0.226919   \n",
       "metro_distance                      -0.093475  -0.815071       -0.660938   \n",
       "number_convenience_stores            0.022464   0.450321        0.563644   \n",
       "number_parking_spaces                0.007477   0.224307        0.288261   \n",
       "air_pollution                       -0.077235  -0.640769       -0.559532   \n",
       "light_pollution                     -0.068125  -0.620875       -0.503870   \n",
       "noise_pollution                     -0.148646  -0.702294       -0.606372   \n",
       "neighborhood_quality                -0.023033   0.059182        0.097014   \n",
       "crime_score                         -0.073215  -0.022769       -0.017667   \n",
       "energy_consumption                   1.000000   0.097615        0.078049   \n",
       "longitude                            0.097615   1.000000        0.517159   \n",
       "price_per_ping                       0.078049   0.517159        1.000000   \n",
       "price_per_m2                         0.078049   0.517159        1.000000   \n",
       "\n",
       "                           price_per_m2  \n",
       "house_age                     -0.226919  \n",
       "metro_distance                -0.660938  \n",
       "number_convenience_stores      0.563644  \n",
       "number_parking_spaces          0.288261  \n",
       "air_pollution                 -0.559532  \n",
       "light_pollution               -0.503870  \n",
       "noise_pollution               -0.606372  \n",
       "neighborhood_quality           0.097014  \n",
       "crime_score                   -0.017667  \n",
       "energy_consumption             0.078049  \n",
       "longitude                      0.517159  \n",
       "price_per_ping                 1.000000  \n",
       "price_per_m2                   1.000000  "
      ]
     },
     "execution_count": 14,
     "metadata": {},
     "output_type": "execute_result"
    }
   ],
   "source": [
    "df.corr()"
   ]
  },
  {
   "cell_type": "markdown",
   "metadata": {
    "cell_content_type": "markdown_default",
    "changed": false,
    "deletable": false,
    "editable": false,
    "original-content": "The value is very close to zero. The fifth assumption of the multiple linear regression model has therefore been fulfilled. The slopes can be directly interpreted.\n\nWhat do you do if the fifth assumption of the multiple linear regression model is not fulfilled? Then you have three options:\n* *Feature selection*: if there are two correlated features, remove one. You can discuss which is the best one to remove with experts in the field where the data comes from.\n* *Feature engineering*: You can force the features to be independent with a principal component analysis.\n* Alternative model: You can use ridge or lasso regression to reduce correlated features to the most important feature and therefore make predictions.\n",
    "protected": false,
    "selectable": false
   },
   "source": [
    "The value is very close to zero. The fifth assumption of the multiple linear regression model has therefore been fulfilled. The slopes can be directly interpreted.\n",
    "\n",
    "What do you do if the fifth assumption of the multiple linear regression model is not fulfilled? Then you have three options:\n",
    "* *Feature selection*: if there are two correlated features, remove one. You can discuss which is the best one to remove with experts in the field where the data comes from.\n",
    "* *Feature engineering*: You can force the features to be independent with a principal component analysis.\n",
    "* Alternative model: You can use ridge or lasso regression to reduce correlated features to the most important feature and therefore make predictions.\n"
   ]
  },
  {
   "cell_type": "markdown",
   "metadata": {
    "cell_content_type": "markdown_default",
    "changed": false,
    "deletable": false,
    "editable": false,
    "messageType": "glueckwunsch",
    "original-content": "**Congratulations:** You have learned the five most important assumptions of the multiple linear regression model:\n\n1. The data points are independent from each other\n2. There is a linear dependency between feature and target\n3. The residuals are normally distributed\n4. The residuals have a constant variance\n5. The Features are independent from each other\n\nYou have now learned how to check the fifth assumption with a correlation value. If you use more than two features, you can proceed similarly, or you can check whether the slope values of the linear multiple regression roughly match those of a ridge or lasso regression, which you'll encounter later in this chapter.\n\nWe've now used two of six possible features. Why not include all eleven features in the model? Because this leads to a whole new problem: *overfitting*. You'll find out what that means in the next lesson.\n",
    "protected": false,
    "selectable": false
   },
   "source": [
    "**Congratulations:** You have learned the five most important assumptions of the multiple linear regression model:\n",
    "\n",
    "1. The data points are independent from each other\n",
    "2. There is a linear dependency between feature and target\n",
    "3. The residuals are normally distributed\n",
    "4. The residuals have a constant variance\n",
    "5. The Features are independent from each other\n",
    "\n",
    "You have now learned how to check the fifth assumption with a correlation value. If you use more than two features, you can proceed similarly, or you can check whether the slope values of the linear multiple regression roughly match those of a ridge or lasso regression, which you'll encounter later in this chapter.\n",
    "\n",
    "We've now used two of six possible features. Why not include all eleven features in the model? Because this leads to a whole new problem: *overfitting*. You'll find out what that means in the next lesson.\n"
   ]
  },
  {
   "cell_type": "markdown",
   "metadata": {
    "cell_content_type": "markdown_default",
    "changed": false,
    "deletable": false,
    "editable": false,
    "messageType": "merke",
    "original-content": "**Remember:**\n* A multiple linear regression uses more than one feature.\n* Adding additional features often improves the predictions.\n",
    "protected": false,
    "selectable": false
   },
   "source": [
    "**Remember:**\n",
    "* A multiple linear regression uses more than one feature.\n",
    "* Adding additional features often improves the predictions.\n"
   ]
  },
  {
   "cell_type": "code",
   "execution_count": null,
   "metadata": {},
   "outputs": [],
   "source": []
  },
  {
   "cell_type": "markdown",
   "metadata": {
    "cell_content_type": "markdown_default",
    "changed": false,
    "deletable": false,
    "editable": false,
    "messageType": "literatur",
    "original-content": "**Literature:**\nIf you would like to delve deeper into the subject matter of this chapter, we recommend the following source(s):\n* Géron, Aurélien. 2017. *Hands-On Machine Learning with Scikit-Learn & TensorFlow*. Sebastopol : O'Reilly, 2017. p. 108 pp.\n",
    "protected": false,
    "selectable": false
   },
   "source": [
    "**Literature:**\n",
    "If you would like to delve deeper into the subject matter of this chapter, we recommend the following source(s):\n",
    "* Géron, Aurélien. 2017. *Hands-On Machine Learning with Scikit-Learn & TensorFlow*. Sebastopol : O'Reilly, 2017. p. 108 pp.\n"
   ]
  },
  {
   "cell_type": "markdown",
   "metadata": {
    "cell_content_type": "markdown_default",
    "changed": false,
    "deletable": false,
    "editable": false,
    "original-content": "***\nDo you have any questions about this exercise? Look in the forum to see if they have already been discussed.\n***\nFound a mistake? Contact Support at support@stackfuel.com.\n***\n",
    "protected": false,
    "selectable": false
   },
   "source": [
    "***\n",
    "Do you have any questions about this exercise? Look in the forum to see if they have already been discussed.\n",
    "***\n",
    "Found a mistake? Contact Support at support@stackfuel.com.\n",
    "***\n"
   ]
  }
 ],
 "metadata": {
  "content_id": "0e72bba0-b5ef-4add-96b1-ea1028172ea1",
  "content_language": "en",
  "content_title": "Multiple Linear Regression",
  "content_type": "exercise",
  "kernelspec": {
   "display_name": "Python 3 (ipykernel)",
   "language": "python",
   "name": "python3"
  },
  "language_info": {
   "codemirror_mode": {
    "name": "ipython",
    "version": 3
   },
   "file_extension": ".py",
   "mimetype": "text/x-python",
   "name": "python",
   "nbconvert_exporter": "python",
   "pygments_lexer": "ipython3",
   "version": "3.8.10"
  }
 },
 "nbformat": 4,
 "nbformat_minor": 4
}
