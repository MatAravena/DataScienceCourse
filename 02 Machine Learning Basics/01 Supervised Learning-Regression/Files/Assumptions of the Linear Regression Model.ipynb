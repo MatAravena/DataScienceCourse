{
 "cells": [
  {
   "cell_type": "markdown",
   "metadata": {
    "cell_content_type": "markdown_default",
    "changed": false,
    "deletable": false,
    "editable": false,
    "original-content": "# Assumptions of the Linear Regression Model (Solution)\nModule 1 | Chapter 1 | Notebook 4\n\n***\nIn this notebook we will turn to the assumptions of the linear regression model. To do this, you will learn about Anscombe's quartet. It shows that a visualization of the data can reveal surprising things. By the end of this exercise you will be able to:\n* Generate a residual plot\n* Check the assumptions of the linear regression model\n***\n",
    "selectable": false
   },
   "source": [
    "# Assumptions of the Linear Regression Model\n",
    "Module 1 | Chapter 1 | Notebook 4\n",
    "\n",
    "***\n",
    "In this notebook we will turn to the assumptions of the linear regression model. To do this, you will learn about Anscombe's quartet. It shows that a visualization of the data can reveal surprising things. By the end of this exercise you will be able to:\n",
    "* Generate a residual plot\n",
    "* Check the assumptions of the linear regression model\n",
    "***\n"
   ]
  },
  {
   "cell_type": "markdown",
   "metadata": {
    "cell_content_type": "markdown_default",
    "changed": false,
    "deletable": false,
    "editable": false,
    "original-content": "## Anscombe's quartet\n",
    "selectable": false
   },
   "source": [
    "## Anscombe's quartet\n"
   ]
  },
  {
   "cell_type": "markdown",
   "metadata": {
    "cell_content_type": "markdown_selectable",
    "changed": false,
    "deletable": false,
    "editable": false,
    "original-content": "Before we return to the problems of the Taiwanese real estate investor in the next lesson, we should take a look at the assumptions of the regression model. These are:\n1. The data points are independent from each other\n2. There is a linear dependency between feature and target\n3. The residuals are normally distributed\n4. The residuals have a constant variance\n\nIt turns out that the model quality metrics, which we learned about in the previous lesson, are not necessarily sufficient to evaluate a linear regression model.\n\nTo see why, let's use a fictional data set from the mathematician Anscombe with four parts: Anscombe's Quartet. Each smaller data set has eleven data points, the same mean value, the same dispersion, the same regression parameters, and the same values for  *mean squared error* and *R²*. \n\nThe data set is included in the `seaborn` module. Let's take a look at it. Think of `'y'` as target values, such as house prices, whereas `'x'`, a feature, should represent the house age, for example.\n",
    "selectable": true
   },
   "source": [
    "Before we return to the problems of the Taiwanese real estate investor in the next lesson, we should take a look at the assumptions of the regression model. These are:\n",
    "1. The data points are independent from each other\n",
    "2. There is a linear dependency between feature and target\n",
    "3. The residuals are normally distributed\n",
    "4. The residuals have a constant variance\n",
    "\n",
    "It turns out that the model quality metrics, which we learned about in the previous lesson, are not necessarily sufficient to evaluate a linear regression model.\n",
    "\n",
    "To see why, let's use a fictional data set from the mathematician Anscombe with four parts: Anscombe's Quartet. Each smaller data set has eleven data points, the same mean value, the same dispersion, the same regression parameters, and the same values for  *mean squared error* and *R²*. \n",
    "\n",
    "The data set is included in the `seaborn` module. Let's take a look at it. Think of `'y'` as target values, such as house prices, whereas `'x'`, a feature, should represent the house age, for example.\n"
   ]
  },
  {
   "cell_type": "code",
   "execution_count": 1,
   "metadata": {
    "cell_content_type": "code_demo",
    "changed": false,
    "deletable": false,
    "editable": true,
    "hint": "If you would like, you can discuss this in the forum under *Assumptions of the Linear Regression Model*.",
    "original-content": "import seaborn as sns\ndf_anscombe = sns.load_dataset(\"anscombe\", cache=False)\nsns.lmplot(x=\"x\",\n           y=\"y\",\n           col=\"dataset\",\n           data=df_anscombe,\n           ci=None,\n           height=4)",
    "selectable": true
   },
   "outputs": [
    {
     "data": {
      "image/png": "[encoded data removed]",
      "text/plain": [
       "<Figure size 1152x288 with 4 Axes>"
      ]
     },
     "metadata": {
      "needs_background": "light"
     },
     "output_type": "display_data"
    }
   ],
   "source": [
    "import seaborn as sns\n",
    "df_anscombe = sns.load_dataset(\"anscombe\", cache=False)\n",
    "sns.lmplot(x=\"x\",\n",
    "           y=\"y\",\n",
    "           col=\"dataset\",\n",
    "           data=df_anscombe,\n",
    "           ci=None,\n",
    "           height=4);"
   ]
  },
  {
   "cell_type": "markdown",
   "metadata": {
    "cell_content_type": "markdown_selectable",
    "changed": false,
    "deletable": false,
    "editable": false,
    "original-content": "The first partial data set on the far left is roughly what data scientists have in mind when they think of linear regression: Points lie randomly scattered around the regression line.\n\nIn all the other data sets the points are not at all randomly scattered around the regression line. In the second data set they show a clear structure. A linear model with a simple straight line is not a good description of the data. In this case you should actually use a different model.\n\nIn the third case, there is indeed a linear dependency between `'x'` and `'y'`, but it is not as strong as described by the regression line. A single extreme data point, an outlier, pulls the slope of the regression line upwards.\n\nIn the fourth data set, an association between `'x'` and `'y'` is only simulated by a single data point. Ten of the eleven data points are on the same`'x'` value and therefore do not show any connection between `'x'` and `'y'`.\n\nLet's take a closer look at the raw data from Anscombe's quartet with some examples. Print the first twenty rows and all the columns of `df_anscombe`.\n",
    "selectable": true
   },
   "source": [
    "The first partial data set on the far left is roughly what data scientists have in mind when they think of linear regression: Points lie randomly scattered around the regression line.\n",
    "\n",
    "In all the other data sets the points are not at all randomly scattered around the regression line. In the second data set they show a clear structure. A linear model with a simple straight line is not a good description of the data. In this case you should actually use a different model.\n",
    "\n",
    "In the third case, there is indeed a linear dependency between `'x'` and `'y'`, but it is not as strong as described by the regression line. A single extreme data point, an outlier, pulls the slope of the regression line upwards.\n",
    "\n",
    "In the fourth data set, an association between `'x'` and `'y'` is only simulated by a single data point. Ten of the eleven data points are on the same`'x'` value and therefore do not show any connection between `'x'` and `'y'`.\n",
    "\n",
    "Let's take a closer look at the raw data from Anscombe's quartet with some examples. Print the first twenty rows and all the columns of `df_anscombe`.\n"
   ]
  },
  {
   "cell_type": "code",
   "execution_count": 2,
   "metadata": {
    "cell_content_type": "code_user",
    "changed": false,
    "deletable": false,
    "editable": true,
    "hint": "Use the `my_df.head()` method.",
    "hint_counter": 1,
    "original-content": "",
    "selectable": true,
    "tags": []
   },
   "outputs": [
    {
     "data": {
      "text/html": [
       "<div>\n",
       "<style scoped>\n",
       "    .dataframe tbody tr th:only-of-type {\n",
       "        vertical-align: middle;\n",
       "    }\n",
       "\n",
       "    .dataframe tbody tr th {\n",
       "        vertical-align: top;\n",
       "    }\n",
       "\n",
       "    .dataframe thead th {\n",
       "        text-align: right;\n",
       "    }\n",
       "</style>\n",
       "<table border=\"1\" class=\"dataframe\">\n",
       "  <thead>\n",
       "    <tr style=\"text-align: right;\">\n",
       "      <th></th>\n",
       "      <th>dataset</th>\n",
       "      <th>x</th>\n",
       "      <th>y</th>\n",
       "    </tr>\n",
       "  </thead>\n",
       "  <tbody>\n",
       "    <tr>\n",
       "      <th>0</th>\n",
       "      <td>I</td>\n",
       "      <td>10.0</td>\n",
       "      <td>8.04</td>\n",
       "    </tr>\n",
       "    <tr>\n",
       "      <th>1</th>\n",
       "      <td>I</td>\n",
       "      <td>8.0</td>\n",
       "      <td>6.95</td>\n",
       "    </tr>\n",
       "    <tr>\n",
       "      <th>2</th>\n",
       "      <td>I</td>\n",
       "      <td>13.0</td>\n",
       "      <td>7.58</td>\n",
       "    </tr>\n",
       "    <tr>\n",
       "      <th>3</th>\n",
       "      <td>I</td>\n",
       "      <td>9.0</td>\n",
       "      <td>8.81</td>\n",
       "    </tr>\n",
       "    <tr>\n",
       "      <th>4</th>\n",
       "      <td>I</td>\n",
       "      <td>11.0</td>\n",
       "      <td>8.33</td>\n",
       "    </tr>\n",
       "    <tr>\n",
       "      <th>5</th>\n",
       "      <td>I</td>\n",
       "      <td>14.0</td>\n",
       "      <td>9.96</td>\n",
       "    </tr>\n",
       "    <tr>\n",
       "      <th>6</th>\n",
       "      <td>I</td>\n",
       "      <td>6.0</td>\n",
       "      <td>7.24</td>\n",
       "    </tr>\n",
       "    <tr>\n",
       "      <th>7</th>\n",
       "      <td>I</td>\n",
       "      <td>4.0</td>\n",
       "      <td>4.26</td>\n",
       "    </tr>\n",
       "    <tr>\n",
       "      <th>8</th>\n",
       "      <td>I</td>\n",
       "      <td>12.0</td>\n",
       "      <td>10.84</td>\n",
       "    </tr>\n",
       "    <tr>\n",
       "      <th>9</th>\n",
       "      <td>I</td>\n",
       "      <td>7.0</td>\n",
       "      <td>4.82</td>\n",
       "    </tr>\n",
       "    <tr>\n",
       "      <th>10</th>\n",
       "      <td>I</td>\n",
       "      <td>5.0</td>\n",
       "      <td>5.68</td>\n",
       "    </tr>\n",
       "    <tr>\n",
       "      <th>11</th>\n",
       "      <td>II</td>\n",
       "      <td>10.0</td>\n",
       "      <td>9.14</td>\n",
       "    </tr>\n",
       "    <tr>\n",
       "      <th>12</th>\n",
       "      <td>II</td>\n",
       "      <td>8.0</td>\n",
       "      <td>8.14</td>\n",
       "    </tr>\n",
       "    <tr>\n",
       "      <th>13</th>\n",
       "      <td>II</td>\n",
       "      <td>13.0</td>\n",
       "      <td>8.74</td>\n",
       "    </tr>\n",
       "    <tr>\n",
       "      <th>14</th>\n",
       "      <td>II</td>\n",
       "      <td>9.0</td>\n",
       "      <td>8.77</td>\n",
       "    </tr>\n",
       "    <tr>\n",
       "      <th>15</th>\n",
       "      <td>II</td>\n",
       "      <td>11.0</td>\n",
       "      <td>9.26</td>\n",
       "    </tr>\n",
       "    <tr>\n",
       "      <th>16</th>\n",
       "      <td>II</td>\n",
       "      <td>14.0</td>\n",
       "      <td>8.10</td>\n",
       "    </tr>\n",
       "    <tr>\n",
       "      <th>17</th>\n",
       "      <td>II</td>\n",
       "      <td>6.0</td>\n",
       "      <td>6.13</td>\n",
       "    </tr>\n",
       "    <tr>\n",
       "      <th>18</th>\n",
       "      <td>II</td>\n",
       "      <td>4.0</td>\n",
       "      <td>3.10</td>\n",
       "    </tr>\n",
       "    <tr>\n",
       "      <th>19</th>\n",
       "      <td>II</td>\n",
       "      <td>12.0</td>\n",
       "      <td>9.13</td>\n",
       "    </tr>\n",
       "  </tbody>\n",
       "</table>\n",
       "</div>"
      ],
      "text/plain": [
       "   dataset     x      y\n",
       "0        I  10.0   8.04\n",
       "1        I   8.0   6.95\n",
       "2        I  13.0   7.58\n",
       "3        I   9.0   8.81\n",
       "4        I  11.0   8.33\n",
       "5        I  14.0   9.96\n",
       "6        I   6.0   7.24\n",
       "7        I   4.0   4.26\n",
       "8        I  12.0  10.84\n",
       "9        I   7.0   4.82\n",
       "10       I   5.0   5.68\n",
       "11      II  10.0   9.14\n",
       "12      II   8.0   8.14\n",
       "13      II  13.0   8.74\n",
       "14      II   9.0   8.77\n",
       "15      II  11.0   9.26\n",
       "16      II  14.0   8.10\n",
       "17      II   6.0   6.13\n",
       "18      II   4.0   3.10\n",
       "19      II  12.0   9.13"
      ]
     },
     "execution_count": 2,
     "metadata": {},
     "output_type": "execute_result"
    }
   ],
   "source": [
    "df_anscombe.head(20)"
   ]
  },
  {
   "cell_type": "markdown",
   "metadata": {
    "cell_content_type": "markdown_selectable",
    "changed": false,
    "deletable": false,
    "editable": false,
    "original-content": "`df_anscombe` consists of a categorical column (`'dataset'`), which assigns the rows to the datasets, and two continuous columns (`'x'` and `'y'`), which simulate two associated data series. Imagine that `'y'` is a predicted target data series and `'x'` is a feature.\n\nUse the `my_df.groupby()` method to go check whether all four data sets in `df_anscombe` really have the same mean value for `'x'` and `'y'`.\n",
    "selectable": true
   },
   "source": [
    "`df_anscombe` consists of a categorical column (`'dataset'`), which assigns the rows to the datasets, and two continuous columns (`'x'` and `'y'`), which simulate two associated data series. Imagine that `'y'` is a predicted target data series and `'x'` is a feature.\n",
    "\n",
    "Use the `my_df.groupby()` method to go check whether all four data sets in `df_anscombe` really have the same mean value for `'x'` and `'y'`.\n"
   ]
  },
  {
   "cell_type": "code",
   "execution_count": 3,
   "metadata": {
    "cell_content_type": "code_user",
    "changed": false,
    "deletable": false,
    "editable": true,
    "hint": "Write `df_anscombe.groupby('dataset').mean()` and run the cell.",
    "hint_counter": 1,
    "original-content": "",
    "selectable": true,
    "tags": []
   },
   "outputs": [
    {
     "data": {
      "text/html": [
       "<div>\n",
       "<style scoped>\n",
       "    .dataframe tbody tr th:only-of-type {\n",
       "        vertical-align: middle;\n",
       "    }\n",
       "\n",
       "    .dataframe tbody tr th {\n",
       "        vertical-align: top;\n",
       "    }\n",
       "\n",
       "    .dataframe thead th {\n",
       "        text-align: right;\n",
       "    }\n",
       "</style>\n",
       "<table border=\"1\" class=\"dataframe\">\n",
       "  <thead>\n",
       "    <tr style=\"text-align: right;\">\n",
       "      <th></th>\n",
       "      <th>x</th>\n",
       "      <th>y</th>\n",
       "    </tr>\n",
       "    <tr>\n",
       "      <th>dataset</th>\n",
       "      <th></th>\n",
       "      <th></th>\n",
       "    </tr>\n",
       "  </thead>\n",
       "  <tbody>\n",
       "    <tr>\n",
       "      <th>I</th>\n",
       "      <td>9.0</td>\n",
       "      <td>7.500909</td>\n",
       "    </tr>\n",
       "    <tr>\n",
       "      <th>II</th>\n",
       "      <td>9.0</td>\n",
       "      <td>7.500909</td>\n",
       "    </tr>\n",
       "    <tr>\n",
       "      <th>III</th>\n",
       "      <td>9.0</td>\n",
       "      <td>7.500000</td>\n",
       "    </tr>\n",
       "    <tr>\n",
       "      <th>IV</th>\n",
       "      <td>9.0</td>\n",
       "      <td>7.500909</td>\n",
       "    </tr>\n",
       "  </tbody>\n",
       "</table>\n",
       "</div>"
      ],
      "text/plain": [
       "           x         y\n",
       "dataset               \n",
       "I        9.0  7.500909\n",
       "II       9.0  7.500909\n",
       "III      9.0  7.500000\n",
       "IV       9.0  7.500909"
      ]
     },
     "execution_count": 3,
     "metadata": {},
     "output_type": "execute_result"
    }
   ],
   "source": [
    "df_anscombe.groupby('dataset').mean()"
   ]
  },
  {
   "cell_type": "markdown",
   "metadata": {
    "cell_content_type": "markdown_selectable",
    "changed": false,
    "deletable": false,
    "editable": false,
    "original-content": "What about the regression parameters (intercept and slope)? Are they really the same for all four data sets in `df_anscombe`? Print them for each category in the `'dataset'` column.\n",
    "selectable": true
   },
   "source": [
    "What about the regression parameters (intercept and slope)? Are they really the same for all four data sets in `df_anscombe`? Print them for each category in the `'dataset'` column.\n"
   ]
  },
  {
   "cell_type": "code",
   "execution_count": 4,
   "metadata": {
    "cell_content_type": "code_user",
    "changed": false,
    "deletable": false,
    "editable": true,
    "hint": "Follow the first four steps you have learned. Start by importing `LinearRegression` directly from the `sklearn.linear_model` module. After that, you can usea `for` loop to move through each category in the `'dataset'` column (`for category in df_anscombe.loc[:, 'dataset'].unique():`).\n\nIn the loop body you can then go through steps 2 to 4. Start using just the data from the relevant category of this iteration. You can ensure this with `mask = df_anscombe.loc[:, 'dataset']==category` and then `df_anscombe_cat = df_anscombe.loc[mask, :]`. Make sure that the feature matrix `features` is a `DataFrame` after that. Print the slope and intercept values at the end of each loop iteration.",
    "hint_counter": 5,
    "original-content": "",
    "selectable": true,
    "tags": []
   },
   "outputs": [
    {
     "name": "stdout",
     "output_type": "stream",
     "text": [
      "I\n",
      "[0.50009091]\n",
      "3.0000909090909094\n",
      "II\n",
      "[0.5]\n",
      "3.00090909090909\n",
      "III\n",
      "[0.49972727]\n",
      "3.002454545454545\n",
      "IV\n",
      "[0.49990909]\n",
      "3.0017272727272726\n"
     ]
    }
   ],
   "source": [
    "from sklearn.linear_model import LinearRegression\n",
    "model = LinearRegression(fit_intercept=True)\n",
    "\n",
    "for category in df_anscombe.loc[:, 'dataset'].unique():\n",
    "    mask = df_anscombe.loc[:, 'dataset'] == category\n",
    "\n",
    "    features = df_anscombe_cat = df_anscombe.loc[mask, ['x']]\n",
    "    target = df_anscombe_cat = df_anscombe.loc[mask, 'y']\n",
    "    model.fit( features, target)\n",
    "\n",
    "    print(category)\n",
    "    print(model.coef_)\n",
    "    print(model.intercept_)"
   ]
  },
  {
   "cell_type": "markdown",
   "metadata": {
    "cell_content_type": "markdown_default",
    "changed": false,
    "deletable": false,
    "editable": false,
    "original-content": "Although the four parts of Anscombe's quartet look extremely different, they have the same linear regression parameters (intercept of about 3 and slope of about 0.5). Now print the model quality metrics for each of the four linear regressions of the small data sets in Anscombe's quartet.\n",
    "selectable": false
   },
   "source": [
    "Although the four parts of Anscombe's quartet look extremely different, they have the same linear regression parameters (intercept of about 3 and slope of about 0.5). Now print the model quality metrics for each of the four linear regressions of the small data sets in Anscombe's quartet.\n"
   ]
  },
  {
   "cell_type": "code",
   "execution_count": 5,
   "metadata": {
    "cell_content_type": "code_user",
    "changed": false,
    "deletable": false,
    "editable": true,
    "hint": "Start by importing `mean_squared_error()` and `r2_score` directly from the `sklearn.metrics` module. After that, use a `for` loop again to move through the four categories in the `'dataset'` column. It probably makes sense to copy and paste the `for` loop from the last code cell and build on it here.",
    "hint_counter": 3,
    "original-content": "",
    "selectable": true,
    "tags": []
   },
   "outputs": [
    {
     "name": "stdout",
     "output_type": "stream",
     "text": [
      "I\n",
      "1.2512\n",
      "0.667\n",
      "II\n",
      "1.2524\n",
      "0.666\n",
      "III\n",
      "1.2506\n",
      "0.666\n",
      "IV\n",
      "1.2493\n",
      "0.667\n"
     ]
    }
   ],
   "source": [
    "from sklearn.metrics import mean_squared_error,r2_score\n",
    "\n",
    "for category in df_anscombe.loc[:, 'dataset'].unique():\n",
    "    mask = df_anscombe.loc[:, 'dataset'] == category\n",
    "\n",
    "    features =  df_anscombe.loc[mask, ['x']]\n",
    "    target = df_anscombe.loc[mask, 'y']\n",
    "    model.fit(features, target)\n",
    "\n",
    "    target_pred = model.predict(features)\n",
    "    # target_pred = [  1, 2,3,4,5,6,7,8,9,10,11 ]\n",
    "\n",
    "    print(category)\n",
    "    print(round( mean_squared_error(target, target_pred),4))\n",
    "    print(round(r2_score(target, target_pred),3))"
   ]
  },
  {
   "cell_type": "markdown",
   "metadata": {
    "cell_content_type": "markdown_default",
    "changed": false,
    "deletable": false,
    "editable": false,
    "original-content": "Intuitively, a linear regression in the first sub-data set of Anscombe's quartet seems much more appropriate than in the other sub-data sets. Nevertheless the model quality metrics for all four sub-data sets are the same: a mean squared error of 1.25 and a coefficient of determination of 0.67.\n\nAnscombe's quartet impressively demonstrates that you should not trust the model quality metrics blindly. They are generally very useful. However, they are not suitable to check the assumptions of the linear regression model.\n",
    "selectable": false
   },
   "source": [
    "Intuitively, a linear regression in the first sub-data set of Anscombe's quartet seems much more appropriate than in the other sub-data sets. Nevertheless the model quality metrics for all four sub-data sets are the same: a mean squared error of 1.25 and a coefficient of determination of 0.67.\n",
    "\n",
    "Anscombe's quartet impressively demonstrates that you should not trust the model quality metrics blindly. They are generally very useful. However, they are not suitable to check the assumptions of the linear regression model.\n"
   ]
  },
  {
   "cell_type": "markdown",
   "metadata": {
    "cell_content_type": "markdown_default",
    "changed": false,
    "deletable": false,
    "editable": false,
    "messageType": "glueckwunsch",
    "original-content": "**Congratulations:** It is generally a good idea to evaluate models with model quality metrics Nevertheless, you should still always look at the data. You have used Anscombe's quartet to explore the limits of model quality metrics for linear regressions. You can compensate for this weakness with a graph. Now we'll get to know this graph.\n",
    "selectable": false
   },
   "source": [
    "**Congratulations:** It is generally a good idea to evaluate models with model quality metrics Nevertheless, you should still always look at the data. You have used Anscombe's quartet to explore the limits of model quality metrics for linear regressions. You can compensate for this weakness with a graph. Now we'll get to know this graph.\n"
   ]
  },
  {
   "cell_type": "markdown",
   "metadata": {
    "cell_content_type": "markdown_default",
    "changed": false,
    "deletable": false,
    "editable": false,
    "original-content": "## Residual plot\n",
    "selectable": false
   },
   "source": [
    "## Residual plot\n"
   ]
  },
  {
   "cell_type": "markdown",
   "metadata": {
    "cell_content_type": "markdown_default",
    "changed": false,
    "deletable": false,
    "editable": false,
    "original-content": "Simple linear regression models make the following assumptions to describe the data:\n1. The data points are independent from each other\n2. There is a linear dependency between feature and target\n3. The residuals are normally distributed\n4. The residuals have a constant variance\n\nThe assumptions of the linear regression model are often slightly impaired without the model's prediction quality suffering. \n\nTime series such as stock prices and temperature curves, for example, consist of data points that are dependent on each other. If you know the value at a certain point in time, you can guess the value at the next point in time quite well. In this case, you should use a time series analysis, not a simple linear correlation.\n\nOn the other hand, if each data point is a person, you can usually consider the first assumption as accepted. In the case of the Taiwanese real estate investor, it seems appropriate to assume that the data points are independent.\n\nThe second assumption might surprise many readers. A simple linear regression model assumes a linear dependency and works under this assumption. Even if the assumption does not apply, an intercept and a slope are calculated. Remember Anscombe's quartet:\n",
    "selectable": false
   },
   "source": [
    "Simple linear regression models make the following assumptions to describe the data:\n",
    "1. The data points are independent from each other\n",
    "2. There is a linear dependency between feature and target\n",
    "3. The residuals are normally distributed\n",
    "4. The residuals have a constant variance\n",
    "\n",
    "The assumptions of the linear regression model are often slightly impaired without the model's prediction quality suffering. \n",
    "\n",
    "Time series such as stock prices and temperature curves, for example, consist of data points that are dependent on each other. If you know the value at a certain point in time, you can guess the value at the next point in time quite well. In this case, you should use a time series analysis, not a simple linear correlation.\n",
    "\n",
    "On the other hand, if each data point is a person, you can usually consider the first assumption as accepted. In the case of the Taiwanese real estate investor, it seems appropriate to assume that the data points are independent.\n",
    "\n",
    "The second assumption might surprise many readers. A simple linear regression model assumes a linear dependency and works under this assumption. Even if the assumption does not apply, an intercept and a slope are calculated. Remember Anscombe's quartet:\n"
   ]
  },
  {
   "cell_type": "code",
   "execution_count": 6,
   "metadata": {
    "cell_content_type": "code_demo",
    "changed": false,
    "deletable": false,
    "editable": true,
    "hint": "If you would like, you can discuss this in the forum under *Assumptions of the Linear Regression Model*.",
    "original-content": "sns.lmplot(x=\"x\",\n           y=\"y\",\n           col=\"dataset\",\n           data=df_anscombe,\n           ci=None,\n           height=4)",
    "selectable": true
   },
   "outputs": [
    {
     "data": {
      "image/png": "[encoded data removed]",
      "text/plain": [
       "<Figure size 1152x288 with 4 Axes>"
      ]
     },
     "metadata": {
      "needs_background": "light"
     },
     "output_type": "display_data"
    }
   ],
   "source": [
    "sns.lmplot(x=\"x\",\n",
    "           y=\"y\",\n",
    "           col=\"dataset\",\n",
    "           data=df_anscombe,\n",
    "           ci=None,\n",
    "           height=4);"
   ]
  },
  {
   "cell_type": "markdown",
   "metadata": {
    "cell_content_type": "markdown_selectable",
    "changed": false,
    "deletable": false,
    "editable": false,
    "original-content": "A linear relationship between `'x'` and `'y'` is given in the first and third sub-data set. In the second, the connection seems to be of a more square nature, whereas in the fourth there is no connection.\n\nActually, you should only use a linear regression for the first and third data set in Anscombe's quartet. In the latter case, you could use what's referred to as a robust regression to ensure that the outlier's influence is reduced. You can find more on the [relevant page in the `sklearn` documentation](https://scikit-learn.org/stable/modules/linear_model.html#robustness-regression-outliers-and-modeling-errors). We will also discuss robust metrics and regressions in a later chapter.\n\nIn the case of the second partial data set, it is advisable to convert the `'x'` values into their square. After that, you could continue with a linear regression. This comes under *feature engineering*, which we're also saving for a later chapter.\n\nIn the fourth sub-data set there is no correlation between the `'x'` and `'y'` values except for one outlier. Linear regression is not suitable here.\n\nYou can already see all these insights in the scatterplot with the regression line. However, in order to gain similar insights with more complicated models, the residual plot has become widely accepted. Remember that a residual is the vertical distance between the regression line and the data point. In the first sub-data set of Anscombe's quartet it would look like this:\n",
    "selectable": true
   },
   "source": [
    "A linear relationship between `'x'` and `'y'` is given in the first and third sub-data set. In the second, the connection seems to be of a more square nature, whereas in the fourth there is no connection.\n",
    "\n",
    "Actually, you should only use a linear regression for the first and third data set in Anscombe's quartet. In the latter case, you could use what's referred to as a robust regression to ensure that the outlier's influence is reduced. You can find more on the [relevant page in the `sklearn` documentation](https://scikit-learn.org/stable/modules/linear_model.html#robustness-regression-outliers-and-modeling-errors). We will also discuss robust metrics and regressions in a later chapter.\n",
    "\n",
    "In the case of the second partial data set, it is advisable to convert the `'x'` values into their square. After that, you could continue with a linear regression. This comes under *feature engineering*, which we're also saving for a later chapter.\n",
    "\n",
    "In the fourth sub-data set there is no correlation between the `'x'` and `'y'` values except for one outlier. Linear regression is not suitable here.\n",
    "\n",
    "You can already see all these insights in the scatterplot with the regression line. However, in order to gain similar insights with more complicated models, the residual plot has become widely accepted. Remember that a residual is the vertical distance between the regression line and the data point. In the first sub-data set of Anscombe's quartet it would look like this:\n"
   ]
  },
  {
   "cell_type": "code",
   "execution_count": 7,
   "metadata": {
    "cell_content_type": "code_demo",
    "changed": false,
    "deletable": false,
    "editable": true,
    "hint": "If you would like, you can discuss this in the forum under *Assumptions of the Linear Regression Model*.",
    "original-content": "# extract data for first quarter of anscombe's quartet\nmask = df_anscombe.loc[:, 'dataset']=='I'\ndf_anscombe_cat = df_anscombe.loc[mask, :]\n\n# choose model\nfrom sklearn.linear_model import LinearRegression\n\n# instantiate model\nmodel_cat = LinearRegression()\n    \n# feature matrix and target vector\nfeatures = df_anscombe_cat.loc[:, ['x']]\ntarget = df_anscombe_cat.loc[:, 'y']\n    \n# model fitting\nmodel_cat.fit(features, target)\n    \n# model predictions\ntarget_pred = model_cat.predict(features)\nresiduals = target - target_pred\n\nresiduals",
    "selectable": true
   },
   "outputs": [
    {
     "data": {
      "text/plain": [
       "0     0.039000\n",
       "1    -0.050818\n",
       "2    -1.921273\n",
       "3     1.309091\n",
       "4    -0.171091\n",
       "5    -0.041364\n",
       "6     1.239364\n",
       "7    -0.740455\n",
       "8     1.838818\n",
       "9    -1.680727\n",
       "10    0.179455\n",
       "Name: y, dtype: float64"
      ]
     },
     "execution_count": 7,
     "metadata": {},
     "output_type": "execute_result"
    }
   ],
   "source": [
    "# extract data for first quarter of anscombe's quartet\n",
    "mask = df_anscombe.loc[:, 'dataset']=='I'\n",
    "df_anscombe_cat = df_anscombe.loc[mask, :]\n",
    "\n",
    "# choose model\n",
    "from sklearn.linear_model import LinearRegression\n",
    "\n",
    "# instantiate model\n",
    "model_cat = LinearRegression()\n",
    "    \n",
    "df_anscombe_cat = df_anscombe.loc[mask, :]\n",
    "\n",
    "features = df_anscombe_cat.loc[:, ['x']]\n",
    "target = df_anscombe_cat.loc[:, 'y']\n",
    "    \n",
    "# model fitting\n",
    "model_cat.fit(features, target)\n",
    "    \n",
    "# model predictions\n",
    "target_pred = model_cat.predict(features)\n",
    "residuals = target - target_pred\n",
    "\n",
    "residuals"
   ]
  },
  {
   "cell_type": "markdown",
   "metadata": {
    "cell_content_type": "markdown_selectable",
    "changed": false,
    "deletable": false,
    "editable": false,
    "original-content": "`residuals` now includes the difference between the predicted `'y'` values and the actual measured `'y'` values. Remember that a residual is the vertical distance between the regression line and the data point.\n\nA residual plot shows the residuals on the y-axis and the predicted values of the target variable on the x-axis. The zero line shows a perfect prediction. The further a data point is from the zero line, the worse the prediction and the more it influences the regression line.\n",
    "selectable": true
   },
   "source": [
    "`residuals` now includes the difference between the predicted `'y'` values and the actual measured `'y'` values. Remember that a residual is the vertical distance between the regression line and the data point.\n",
    "\n",
    "A residual plot shows the residuals on the y-axis and the predicted values of the target variable on the x-axis. The zero line shows a perfect prediction. The further a data point is from the zero line, the worse the prediction and the more it influences the regression line.\n"
   ]
  },
  {
   "cell_type": "code",
   "execution_count": 8,
   "metadata": {
    "cell_content_type": "code_demo",
    "changed": false,
    "deletable": false,
    "editable": true,
    "hint": "If you would like, you can discuss this in the forum under *Assumptions of the Linear Regression Model*.",
    "original-content": "import matplotlib.pyplot as plt\nfig, ax = plt.subplots()\n\nsns.scatterplot(x=target_pred,\n                y=residuals,\n                ax=ax)\n    \n# labels\nax.set(xlabel='Predicted y-values',\n           ylabel='Residuals',\n           title='Dataset: I')\n    \n# zero line\nax.hlines(y=0,\n          xmin=target_pred.min(),\n          xmax=target_pred.max(),\n          color='black')",
    "selectable": true
   },
   "outputs": [
    {
     "data": {
      "text/plain": [
       "<matplotlib.collections.LineCollection at 0x7f2baee8e790>"
      ]
     },
     "execution_count": 8,
     "metadata": {},
     "output_type": "execute_result"
    },
    {
     "data": {
      "image/png": "[encoded data removed]",
      "text/plain": [
       "<Figure size 432x288 with 1 Axes>"
      ]
     },
     "metadata": {
      "needs_background": "light"
     },
     "output_type": "display_data"
    }
   ],
   "source": [
    "import matplotlib.pyplot as plt\n",
    "fig, ax = plt.subplots()\n",
    "\n",
    "sns.scatterplot(x=target_pred,\n",
    "                y=residuals,\n",
    "                ax=ax)\n",
    "    \n",
    "# labels\n",
    "ax.set(xlabel='Predicted y-values',\n",
    "           ylabel='Residuals',\n",
    "           title='Dataset: I')\n",
    "    \n",
    "# zero line\n",
    "ax.hlines(y=0,\n",
    "          xmin=target_pred.min(),\n",
    "          xmax=target_pred.max(),\n",
    "          color='black')"
   ]
  },
  {
   "cell_type": "markdown",
   "metadata": {
    "cell_content_type": "markdown_default",
    "changed": false,
    "deletable": false,
    "editable": false,
    "original-content": "The residual plot looks roughly like you would want it to look for a linear regression. There's no identifiable structure in the residuals. They appear to be randomly scattered around the zero line. The assumption of a linear relationship between feature and target variable seems to be correct.\n\nSo what does it look like for the other sub-data sets from Anscombe's quartet? Create a *figure* with four *axes*. Each *axes* should contain the residual plot of a sub-data set.\n",
    "selectable": false
   },
   "source": [
    "The residual plot looks roughly like you would want it to look for a linear regression. There's no identifiable structure in the residuals. They appear to be randomly scattered around the zero line. The assumption of a linear relationship between feature and target variable seems to be correct.\n",
    "\n",
    "So what does it look like for the other sub-data sets from Anscombe's quartet? Create a *figure* with four *axes*. Each *axes* should contain the residual plot of a sub-data set.\n"
   ]
  },
  {
   "cell_type": "code",
   "execution_count": 9,
   "metadata": {
    "cell_content_type": "code_user",
    "changed": false,
    "deletable": false,
    "editable": true,
    "hint": "There are different ways to do this. Try using a `for` loop again to go through the four categories in the `'dataset'` column. In the loop body you can then follow steps 2 through 5 that you have learned, and at the end of each loop iteration, assign a residual plot to an *axes*. You have to initialize these *axes* before the loop with `fig, axs = plt.subplots(ncols=4, figsize=[16, 5])`. Use `my_fig.tight_layout()` if your *axes* are overlapping. Make sure that the predicted y values are displayed on the x axis.",
    "hint_counter": 2,
    "original-content": "",
    "selectable": true,
    "tags": []
   },
   "outputs": [
    {
     "data": {
      "image/png": "[encoded data removed]",
      "text/plain": [
       "<Figure size 1152x360 with 4 Axes>"
      ]
     },
     "metadata": {
      "needs_background": "light"
     },
     "output_type": "display_data"
    }
   ],
   "source": [
    "from sklearn.linear_model import LinearRegression\n",
    "fig, axs = plt.subplots(ncols=4, figsize=[16, 5])\n",
    "model_cat = LinearRegression()\n",
    "\n",
    "categories = {\n",
    "    'I' : 0,\n",
    "    'II' : 1,\n",
    "    'III' : 2,\n",
    "    'IV' : 3,   \n",
    "}\n",
    "\n",
    "for category in df_anscombe.loc[:, 'dataset'].unique():\n",
    "    mask = df_anscombe.loc[:, 'dataset'] == category\n",
    "\n",
    "    features = df_anscombe.loc[mask, ['x']]\n",
    "    target = df_anscombe.loc[mask, 'y']\n",
    "\n",
    "    # model fitting\n",
    "    model_cat.fit(features, target)\n",
    "\n",
    "    # model predictions\n",
    "    target_pred = model_cat.predict(features)\n",
    "    residuals = target - target_pred\n",
    "\n",
    "    numericCateory = categories[category]\n",
    "    sns.scatterplot(x=target_pred,\n",
    "                    y=residuals,\n",
    "                    ax=axs[categories[category]])\n",
    "\n",
    "    # labels\n",
    "    axs[numericCateory].set(xlabel='Predicted y-values',\n",
    "               ylabel='Residuals',\n",
    "               title='Dataset:{0}'.format(category))\n",
    "\n",
    "    # zero line\n",
    "    axs[numericCateory].hlines(y=0,\n",
    "              xmin=target_pred.min(),\n",
    "              xmax=target_pred.max(),\n",
    "              color='black')\n",
    "\n",
    "    fig.tight_layout()"
   ]
  },
  {
   "cell_type": "markdown",
   "metadata": {
    "cell_content_type": "markdown_default",
    "changed": false,
    "deletable": false,
    "editable": false,
    "original-content": "The *figure* should now look something like this:\n\n![residuals plot](1_01_04_pic1.png)\n",
    "selectable": false
   },
   "source": [
    "The *figure* should now look something like this:\n",
    "\n",
    "![residuals plot](1_01_04_pic1.png)\n"
   ]
  },
  {
   "cell_type": "markdown",
   "metadata": {
    "cell_content_type": "markdown_default",
    "changed": false,
    "deletable": false,
    "editable": false,
    "original-content": "In the residual plot of the second and third sub-data set, you can see very clear structures: The residuals increase and decrease again in the second case, or constantly decrease in the third case. This kind of structure is an indication that a different model might be able to model the data better, as we mentioned above. \n\nIn the last residual plot, there is no random distribution around the zero line. Instead, a value of 7 is predicted for almost all data points with variable residuals.\n",
    "selectable": false
   },
   "source": [
    "In the residual plot of the second and third sub-data set, you can see very clear structures: The residuals increase and decrease again in the second case, or constantly decrease in the third case. This kind of structure is an indication that a different model might be able to model the data better, as we mentioned above. \n",
    "\n",
    "In the last residual plot, there is no random distribution around the zero line. Instead, a value of 7 is predicted for almost all data points with variable residuals.\n"
   ]
  },
  {
   "cell_type": "markdown",
   "metadata": {
    "cell_content_type": "markdown_default",
    "changed": false,
    "deletable": false,
    "editable": false,
    "messageType": "glueckwunsch",
    "original-content": "**Congratulations:** You've learned a method for looking at the residuals of a regression. In the next section we'll look at how to use the residual graphs to check more  assumptions of the linear regression.\n",
    "selectable": false
   },
   "source": [
    "**Congratulations:** You've learned a method for looking at the residuals of a regression. In the next section we'll look at how to use the residual graphs to check more  assumptions of the linear regression.\n"
   ]
  },
  {
   "cell_type": "markdown",
   "metadata": {
    "cell_content_type": "markdown_selectable",
    "changed": false,
    "deletable": false,
    "editable": false,
    "original-content": "With the help of the residuals we can also calculate the last two assumptions of the linear regression:\n\n3. The residuals are normally distributed\n4. The residuals have a constant variance\n\nThe normal distribution of the residuals can be best estimated with the help of a histogram or a distribution plot.\nUse `sns.distplot()` to plot the distribution of the residuals. Proceed exactly as you did with your last visualization. Add a second row with the corresponding *distplot* of the sub-data sets and label this.\n\nYou might see four `FutureWarnings` referring to the use of `sns.distplot` which you can ignore.",
    "selectable": true
   },
   "source": [
    "With the help of the residuals we can also calculate the last two assumptions of the linear regression:\n",
    "\n",
    "3. The residuals are normally distributed\n",
    "4. The residuals have a constant variance\n",
    "\n",
    "The normal distribution of the residuals can be best estimated with the help of a histogram or a distribution plot.\n",
    "Use `sns.distplot()` to plot the distribution of the residuals. Proceed exactly as you did with your last visualization. Add a second row with the corresponding *distplot* of the sub-data sets and label this.\n",
    "\n",
    "You might see four `FutureWarnings` referring to the use of `sns.distplot` which you can ignore."
   ]
  },
  {
   "cell_type": "code",
   "execution_count": 10,
   "metadata": {
    "cell_content_type": "code_user",
    "changed": false,
    "deletable": false,
    "editable": true,
    "hint": "Use the code from the last cell as a guide. To include all eight subplots in a figure, use `plt.subplots`\n`fig, axs = plt.subplots(ncols=4,nrows=2, figsize=[16, 8])`\nYou can now select a single subplot using axs[row][col].",
    "hint_counter": 5,
    "original-content": "",
    "selectable": true,
    "tags": []
   },
   "outputs": [
    {
     "name": "stderr",
     "output_type": "stream",
     "text": [
      "/home/jovyan/.virtualenvs/training_env/lib/python3.8/site-packages/seaborn/distributions.py:2557: FutureWarning: `distplot` is a deprecated function and will be removed in a future version. Please adapt your code to use either `displot` (a figure-level function with similar flexibility) or `histplot` (an axes-level function for histograms).\n",
      "  warnings.warn(msg, FutureWarning)\n",
      "/home/jovyan/.virtualenvs/training_env/lib/python3.8/site-packages/seaborn/distributions.py:2557: FutureWarning: `distplot` is a deprecated function and will be removed in a future version. Please adapt your code to use either `displot` (a figure-level function with similar flexibility) or `histplot` (an axes-level function for histograms).\n",
      "  warnings.warn(msg, FutureWarning)\n",
      "/home/jovyan/.virtualenvs/training_env/lib/python3.8/site-packages/seaborn/distributions.py:2557: FutureWarning: `distplot` is a deprecated function and will be removed in a future version. Please adapt your code to use either `displot` (a figure-level function with similar flexibility) or `histplot` (an axes-level function for histograms).\n",
      "  warnings.warn(msg, FutureWarning)\n",
      "/home/jovyan/.virtualenvs/training_env/lib/python3.8/site-packages/seaborn/distributions.py:2557: FutureWarning: `distplot` is a deprecated function and will be removed in a future version. Please adapt your code to use either `displot` (a figure-level function with similar flexibility) or `histplot` (an axes-level function for histograms).\n",
      "  warnings.warn(msg, FutureWarning)\n"
     ]
    },
    {
     "data": {
      "image/png": "[encoded data removed]",
      "text/plain": [
       "<Figure size 1152x576 with 8 Axes>"
      ]
     },
     "metadata": {
      "needs_background": "light"
     },
     "output_type": "display_data"
    }
   ],
   "source": [
    "fig, axs = plt.subplots(ncols=4,nrows=2, figsize=[16, 8]) \n",
    "\n",
    "for category in df_anscombe.loc[:, 'dataset'].unique():\n",
    "    mask = df_anscombe.loc[:, 'dataset'] == category\n",
    "    features = df_anscombe.loc[mask, ['x']]\n",
    "    target = df_anscombe.loc[mask, 'y']\n",
    "\n",
    "    # model fitting\n",
    "    model_cat.fit(features, target)\n",
    "\n",
    "    # model predictions\n",
    "    target_pred = model_cat.predict(features)\n",
    "    residuals = target - target_pred\n",
    "    numericCateory = categories[category]\n",
    "\n",
    "    sns.scatterplot(x=target_pred,\n",
    "                    y=residuals,\n",
    "                    ax=axs[0,numericCateory])\n",
    "\n",
    "    # labels\n",
    "    axs[0,numericCateory].set(xlabel='Predicted y-values',\n",
    "               ylabel='Residuals',\n",
    "               title='Dataset:{0}'.format(category))\n",
    "\n",
    "    # zero line\n",
    "    axs[0,numericCateory].hlines(y=0,\n",
    "              xmin=target_pred.min(),\n",
    "              xmax=target_pred.max(),\n",
    "              color='black')\n",
    "    \n",
    "    sns.distplot(residuals, ax=axs[1,numericCateory]   )\n",
    "\n",
    "    fig.tight_layout()\n",
    "\n"
   ]
  },
  {
   "cell_type": "markdown",
   "metadata": {
    "cell_content_type": "markdown_default",
    "changed": false,
    "deletable": false,
    "editable": false,
    "original-content": "The *figure* should now look something like this:\n",
    "selectable": false
   },
   "source": [
    "The *figure* should now look something like this:\n"
   ]
  },
  {
   "cell_type": "markdown",
   "metadata": {
    "cell_content_type": "markdown_default",
    "changed": false,
    "deletable": false,
    "editable": false,
    "original-content": "<img src=\"01_01_04_pic2_en.png\">",
    "selectable": false
   },
   "source": [
    "<img src=\"01_01_04_pic2_en.png\">"
   ]
  },
  {
   "cell_type": "markdown",
   "metadata": {
    "cell_content_type": "markdown_default",
    "changed": false,
    "deletable": false,
    "editable": false,
    "original-content": "Sub-data set I and IV seem to be normally distributed and therefore meet the normal distribution assumption. In sub-data set II the distribution curve is strongly skewed to the right and in set III there is a second peak due to the outlier. Both these factors indicate that the normal distribution assumption has not been met here.\n\nNow let's look at the final assumption of the linear regression. The assumption of constant variance in the residuals.\nThis assumption states that the errors for each predicted value of Y should have a similar variance. The regression should therefore be similarly accurate or innacurate for small predictive values as for large values. The technical term for this is **homoscedasticity**. You can recognize homoscedasticity by the fact that all the residuals lie in a parallel corridor around the value zero.\n\nIf the corridor is not equally thick, i.e. wedge-shaped either increasing or decreasing, is not homoscedasticity but heteroscedasticity. This is the case in sub-data set IV. The dispersion of the errors around the value 7 is much larger than around the value 13.\n",
    "selectable": false
   },
   "source": [
    "Sub-data set I and IV seem to be normally distributed and therefore meet the normal distribution assumption. In sub-data set II the distribution curve is strongly skewed to the right and in set III there is a second peak due to the outlier. Both these factors indicate that the normal distribution assumption has not been met here.\n",
    "\n",
    "Now let's look at the final assumption of the linear regression. The assumption of constant variance in the residuals.\n",
    "This assumption states that the errors for each predicted value of Y should have a similar variance. The regression should therefore be similarly accurate or innacurate for small predictive values as for large values. The technical term for this is **homoscedasticity**. You can recognize homoscedasticity by the fact that all the residuals lie in a parallel corridor around the value zero.\n",
    "\n",
    "If the corridor is not equally thick, i.e. wedge-shaped either increasing or decreasing, is not homoscedasticity but heteroscedasticity. This is the case in sub-data set IV. The dispersion of the errors around the value 7 is much larger than around the value 13.\n"
   ]
  },
  {
   "cell_type": "markdown",
   "metadata": {
    "cell_content_type": "markdown_default",
    "changed": false,
    "deletable": false,
    "editable": false,
    "messageType": "glueckwunsch",
    "original-content": "**Congratulations:** You have learned the most important assumptions of the linear regression model:\n\n1. The data points are independent from each other\n2. There is a linear dependency between feature and target\n3. The residuals are normally distributed\n4. The residuals have a constant variance\n\nNow you know how to make these assumptions with residual plots. We can apply this knowledge in the next lesson when it comes to linear regression with several features at once: multiple linear regression.\n",
    "selectable": false
   },
   "source": [
    "**Congratulations:** You have learned the most important assumptions of the linear regression model:\n",
    "\n",
    "1. The data points are independent from each other\n",
    "2. There is a linear dependency between feature and target\n",
    "3. The residuals are normally distributed\n",
    "4. The residuals have a constant variance\n",
    "\n",
    "Now you know how to make these assumptions with residual plots. We can apply this knowledge in the next lesson when it comes to linear regression with several features at once: multiple linear regression.\n"
   ]
  },
  {
   "cell_type": "markdown",
   "metadata": {
    "cell_content_type": "markdown_default",
    "changed": false,
    "deletable": false,
    "editable": false,
    "messageType": "merke",
    "original-content": "**Remember:**\n* Residuals are the distance between prediction and reality\n* A residual plot shows the residuals in connection with the predictions.\n* If you do not see a random scattering in the residual plot, you should use an alternative model.\n",
    "selectable": false
   },
   "source": [
    "**Remember:**\n",
    "* Residuals are the distance between prediction and reality\n",
    "* A residual plot shows the residuals in connection with the predictions.\n",
    "* If you do not see a random scattering in the residual plot, you should use an alternative model.\n"
   ]
  },
  {
   "cell_type": "markdown",
   "metadata": {
    "cell_content_type": "markdown_default",
    "changed": false,
    "deletable": false,
    "editable": false,
    "messageType": "literatur",
    "original-content": "**Literature:**\nIf you would like to delve deeper into the subject matter of this chapter, we recommend the following source(s):\n* Rencher, Alvin C. and Schaalje, Bruce G. 2008. *Linear models in statistics*. Hoboken: Wiley, 2008. p. 127 pp.\n",
    "selectable": false
   },
   "source": [
    "**Literature:**\n",
    "If you would like to delve deeper into the subject matter of this chapter, we recommend the following source(s):\n",
    "* Rencher, Alvin C. and Schaalje, Bruce G. 2008. *Linear models in statistics*. Hoboken: Wiley, 2008. p. 127 pp.\n"
   ]
  },
  {
   "cell_type": "markdown",
   "metadata": {
    "cell_content_type": "markdown_default",
    "changed": false,
    "deletable": false,
    "editable": false,
    "original-content": "***\nDo you have any questions about this exercise? Look in the forum to see if they have already been discussed.\n***\nFound a mistake? Contact Support at support@stackfuel.com.\n***\n",
    "selectable": false
   },
   "source": [
    "***\n",
    "Do you have any questions about this exercise? Look in the forum to see if they have already been discussed.\n",
    "***\n",
    "Found a mistake? Contact Support at support@stackfuel.com.\n",
    "***\n"
   ]
  }
 ],
 "metadata": {
  "content_id": "e5678e0a-efa4-4606-8833-e407aa674e3f",
  "content_language": "en",
  "content_title": "Assumptions of the Linear Regression Model",
  "content_type": "exercise",
  "kernelspec": {
   "display_name": "Python 3 (ipykernel)",
   "language": "python",
   "name": "python3"
  },
  "language_info": {
   "codemirror_mode": {
    "name": "ipython",
    "version": 3
   },
   "file_extension": ".py",
   "mimetype": "text/x-python",
   "name": "python",
   "nbconvert_exporter": "python",
   "pygments_lexer": "ipython3",
   "version": "3.8.10"
  }
 },
 "nbformat": 4,
 "nbformat_minor": 4
}
