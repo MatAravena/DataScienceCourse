{
 "cells": [
  {
   "cell_type": "markdown",
   "metadata": {
    "cell_content_type": "markdown_default",
    "changed": false,
    "deletable": false,
    "editable": false,
    "original-content": "# Evaluating Regression Models (Solution)\nModule 1 | Chapter 1 | Notebook 3\n\n***\nIn this notebook we will evaluate the model quality of our first machine learning model using two widely used model quality metrics. These use the prediction errors, what we call residuals, i.e. the distance between predicted and real target values. By the end of this exercise you will be able to:\n* Calculate and interpret the mean squared error\n* Calculate and interpret the coefficient of determination\n***\n",
    "protected": false,
    "selectable": false
   },
   "source": [
    "# Evaluating Regression Models\n",
    "Module 1 | Chapter 1 | Notebook 3\n",
    "\n",
    "***\n",
    "In this notebook we will evaluate the model quality of our first machine learning model using two widely used model quality metrics. These use the prediction errors, what we call residuals, i.e. the distance between predicted and real target values. By the end of this exercise you will be able to:\n",
    "* Calculate and interpret the mean squared error\n",
    "* Calculate and interpret the coefficient of determination\n",
    "***\n"
   ]
  },
  {
   "cell_type": "markdown",
   "metadata": {
    "cell_content_type": "markdown_default",
    "changed": false,
    "deletable": false,
    "editable": false,
    "original-content": "## Taiwanese house prices near to and far from the Metro\n",
    "protected": false,
    "selectable": false
   },
   "source": [
    "## Taiwanese house prices near to and far from the Metro\n"
   ]
  },
  {
   "cell_type": "markdown",
   "metadata": {
    "cell_content_type": "markdown_selectable",
    "changed": false,
    "deletable": false,
    "editable": false,
    "messageType": "szenario",
    "original-content": "**Scenario:** A Taiwanese investor comes to you to find out how much his properties in Taiwan are actually worth. He might want to resell them. The data on the houses is located in *Taiwan_real_estate_prediction_data.xlsx*. How much are these houses worth?\n",
    "protected": false,
    "selectable": true
   },
   "source": [
    "**Scenario:** A Taiwanese investor comes to you to find out how much his properties in Taiwan are actually worth. He might want to resell them. The data on the houses is located in *Taiwan_real_estate_prediction_data.xlsx*. How much are these houses worth?\n"
   ]
  },
  {
   "cell_type": "markdown",
   "metadata": {
    "cell_content_type": "markdown_default",
    "changed": false,
    "deletable": false,
    "editable": false,
    "original-content": "In order to progress quickly, let's import the training data and process it like we did in the last lesson.\n",
    "protected": false,
    "selectable": false
   },
   "source": [
    "In order to progress quickly, let's import the training data and process it like we did in the last lesson.\n"
   ]
  },
  {
   "cell_type": "code",
   "execution_count": 100,
   "metadata": {
    "cell_content_type": "code_demo",
    "changed": false,
    "deletable": false,
    "editable": true,
    "hint": "If you would like, you can discuss this in the forum under *Evaluating Regression Models*.",
    "original-content": "import pandas as pd\ndf = pd.read_excel('Taiwan_real_estate_training_data.xlsx', index_col='No')\ncol_names = ['house_age', \n              'metro_distance', \n              'number_convenience_stores', \n              'number_parking_spaces',\n              'air_pollution',\n              'light_pollution',\n              'noise_pollution',\n              'neighborhood_quality',\n              'crime_score',\n              'energy_consumption',\n              'longitude', \n              'price_per_ping']\ndf.columns = col_names\ndf.loc[:, 'price_per_m2'] = df.loc[:, 'price_per_ping'] / 3.3",
    "protected": false,
    "selectable": true
   },
   "outputs": [
    {
     "data": {
      "text/plain": [
       "house_age                    float64\n",
       "metro_distance               float64\n",
       "number_convenience_stores      int64\n",
       "number_parking_spaces          int64\n",
       "air_pollution                float64\n",
       "light_pollution              float64\n",
       "noise_pollution              float64\n",
       "neighborhood_quality         float64\n",
       "crime_score                  float64\n",
       "energy_consumption           float64\n",
       "longitude                    float64\n",
       "price_per_ping               float64\n",
       "price_per_m2                 float64\n",
       "dtype: object"
      ]
     },
     "execution_count": 100,
     "metadata": {},
     "output_type": "execute_result"
    }
   ],
   "source": [
    "import pandas as pd\n",
    "df = pd.read_excel('Taiwan_real_estate_training_data.xlsx', index_col='No')\n",
    "col_names = ['house_age', \n",
    "              'metro_distance', \n",
    "              'number_convenience_stores', \n",
    "              'number_parking_spaces',\n",
    "              'air_pollution',\n",
    "              'light_pollution',\n",
    "              'noise_pollution',\n",
    "              'neighborhood_quality',\n",
    "              'crime_score',\n",
    "              'energy_consumption',\n",
    "              'longitude', \n",
    "              'price_per_ping']\n",
    "df.columns = col_names\n",
    "df.loc[:, 'price_per_m2'] = df.loc[:, 'price_per_ping'] / 3.3\n",
    " "
   ]
  },
  {
   "cell_type": "markdown",
   "metadata": {
    "cell_content_type": "markdown_selectable",
    "changed": false,
    "deletable": false,
    "editable": false,
    "original-content": "The data dictionary for this data is as follows:\n\nColumn number | Column name       | Type      | Description\n ------------ | ---     | :---------:           | ------------:\n0              | `'house_age'` | continuous (`float`) | age of the house in years\n1              | `'metro_distance'` | continuous (`float`) | distance in meters to the next metro station\n2              | `'number_convenience_stores'` | continuous (`int`) | Number of convenience stores nearby\n3              | `'number_parking_spaces'` | continuous (`int`) | Number of parking spaces nearby\n4              | `'air_pollution'` | continuous (`float`) | Air pollution value near the house\n5              | `'light_pollution'` | continuous (`float`) | Light pollution value near the house\n6              | `'light_pollution'` | continuous (`float`) | Light pollution value near the house\n7              | `'neighborhood_quality'` | continuous (`float`) | average quality of life in the neighborhood\n8              | `'crime_score'` | continuous (`float`) | crime score according to police\n9              | `'energy_consumption'` | continuous (`float`) | The property's energy consumption\n10              | `'longitude'` | continuous (`float`) | The property's longitude\n11              | `'price_per_ping'` | continuous (`float`) | House price in Taiwan dollars per ping, one ping is 3.3 m²\n12              | `'price_per_m2'` | continuous (`float`) | House price in Taiwan dollars per m²\n",
    "protected": false,
    "selectable": true
   },
   "source": [
    "The data dictionary for this data is as follows:\n",
    "\n",
    "Column number | Column name       | Type      | Description\n",
    " ------------ | ---     | :---------:           | ------------:\n",
    "0              | `'house_age'` | continuous (`float`) | age of the house in years\n",
    "1              | `'metro_distance'` | continuous (`float`) | distance in meters to the next metro station\n",
    "2              | `'number_convenience_stores'` | continuous (`int`) | Number of convenience stores nearby\n",
    "3              | `'number_parking_spaces'` | continuous (`int`) | Number of parking spaces nearby\n",
    "4              | `'air_pollution'` | continuous (`float`) | Air pollution value near the house\n",
    "5              | `'light_pollution'` | continuous (`float`) | Light pollution value near the house\n",
    "6              | `'light_pollution'` | continuous (`float`) | Light pollution value near the house\n",
    "7              | `'neighborhood_quality'` | continuous (`float`) | average quality of life in the neighborhood\n",
    "8              | `'crime_score'` | continuous (`float`) | crime score according to police\n",
    "9              | `'energy_consumption'` | continuous (`float`) | The property's energy consumption\n",
    "10              | `'longitude'` | continuous (`float`) | The property's longitude\n",
    "11              | `'price_per_ping'` | continuous (`float`) | House price in Taiwan dollars per ping, one ping is 3.3 m²\n",
    "12              | `'price_per_m2'` | continuous (`float`) | House price in Taiwan dollars per m²\n"
   ]
  },
  {
   "cell_type": "markdown",
   "metadata": {
    "cell_content_type": "markdown_default",
    "changed": false,
    "deletable": false,
    "editable": false,
    "original-content": "We have already seen that the age of a house has a negative effect on the value of a property. What about the distance to the nearest metro station? Are properties more valuable if they are easily accessible by public transport?\n\nWe'll follow the five steps you learned in the last lesson to arrive at a prediction:\n\n1. Choose model type\n2. Instantiate the model with certain hyperparameters\n3. Organize data into a feature matrix and target vector\n4. Model fitting\n5. Make predictions with the trained model\n",
    "protected": false,
    "selectable": false
   },
   "source": [
    "We have already seen that the age of a house has a negative effect on the value of a property. What about the distance to the nearest metro station? Are properties more valuable if they are easily accessible by public transport?\n",
    "\n",
    "We'll follow the five steps you learned in the last lesson to arrive at a prediction:\n",
    "\n",
    "1. Choose model type\n",
    "2. Instantiate the model with certain hyperparameters\n",
    "3. Organize data into a feature matrix and target vector\n",
    "4. Model fitting\n",
    "5. Make predictions with the trained model\n"
   ]
  },
  {
   "cell_type": "markdown",
   "metadata": {
    "cell_content_type": "markdown_selectable",
    "changed": false,
    "deletable": false,
    "editable": false,
    "original-content": "1) Import `LinearRegression` directly from the `sklearn.linear_model` module.\n",
    "protected": false,
    "selectable": true
   },
   "source": [
    "1) Import `LinearRegression` directly from the `sklearn.linear_model` module.\n"
   ]
  },
  {
   "cell_type": "code",
   "execution_count": 9,
   "metadata": {
    "cell_content_type": "code_user",
    "changed": false,
    "deletable": false,
    "editable": true,
    "hint": "You learned how to import `LinearRegression` directly in *Simple Linear Regression with sklearn*.",
    "original-content": "",
    "protected": false,
    "selectable": true
   },
   "outputs": [],
   "source": [
    "from sklearn.linear_model import LinearRegression"
   ]
  },
  {
   "cell_type": "markdown",
   "metadata": {
    "cell_content_type": "markdown_selectable",
    "changed": false,
    "deletable": false,
    "editable": false,
    "original-content": "2) Instantiate a linear regression model with axis intercept and store it in the variable `model_metro`.\n",
    "protected": false,
    "selectable": true
   },
   "source": [
    "2) Instantiate a linear regression model with axis intercept and store it in the variable `model_metro`.\n"
   ]
  },
  {
   "cell_type": "code",
   "execution_count": 92,
   "metadata": {
    "cell_content_type": "code_user",
    "changed": false,
    "deletable": false,
    "editable": true,
    "hint": "Write `model_metro = LinearRegression()` in the code cell and run the cell. You don't have to specify `fit_intercept=True` because that's already the default.",
    "original-content": "",
    "protected": false,
    "selectable": true
   },
   "outputs": [],
   "source": [
    "model_metro = LinearRegression(fit_intercept=True)"
   ]
  },
  {
   "cell_type": "markdown",
   "metadata": {
    "cell_content_type": "markdown_selectable",
    "changed": false,
    "deletable": false,
    "editable": false,
    "original-content": "3) Store the data from the `'metro_distance'` column in a feature matrix called `features_metro` and the data from the `'price_per_m2'` column in a target vector called `target`.\n",
    "protected": false,
    "selectable": true
   },
   "source": [
    "3) Store the data from the `'metro_distance'` column in a feature matrix called `features_metro` and the data from the `'price_per_m2'` column in a target vector called `target`.\n"
   ]
  },
  {
   "cell_type": "markdown",
   "metadata": {
    "cell_content_type": "markdown_selectable",
    "changed": false,
    "deletable": false,
    "editable": false,
    "messageType": "beachte",
    "original-content": "**Important:** `features_metro` must be a `DataFrame`. Check that `features_metro` is not a `Series` by mistake.\n",
    "protected": false,
    "selectable": true
   },
   "source": [
    "**Important:** `features_metro` must be a `DataFrame`. Check that `features_metro` is not a `Series` by mistake.\n"
   ]
  },
  {
   "cell_type": "code",
   "execution_count": 93,
   "metadata": {
    "cell_content_type": "code_user",
    "changed": false,
    "deletable": false,
    "editable": true,
    "hint": "Check the data type of `features_metro` with `type()`. Refer to *Simple linear regression with sklearn* if `features_metro` is not a `DataFrame`.",
    "hint_counter": 1,
    "original-content": "",
    "protected": false,
    "selectable": true,
    "tags": []
   },
   "outputs": [],
   "source": [
    "features_metro = df.loc[:,['metro_distance']]\n",
    "target = df.loc[:,'price_per_m2'] "
   ]
  },
  {
   "cell_type": "markdown",
   "metadata": {
    "cell_content_type": "markdown_selectable",
    "changed": false,
    "deletable": false,
    "editable": false,
    "original-content": "4) Now carry out the model fitting with `model_metro`, `features_metro` and `target`. Then print the parameters of the trained model: the intercept and the slope.\n",
    "protected": false,
    "selectable": true
   },
   "source": [
    "4) Now carry out the model fitting with `model_metro`, `features_metro` and `target`. Then print the parameters of the trained model: the intercept and the slope.\n"
   ]
  },
  {
   "cell_type": "code",
   "execution_count": 94,
   "metadata": {
    "cell_content_type": "code_user",
    "changed": false,
    "deletable": false,
    "editable": true,
    "hint": "For this code cell you need the `my_model.fit()` method and then the attributes `my_model.coef_` and `my_model_intercept_`.",
    "hint_counter": 1,
    "original-content": "",
    "protected": false,
    "selectable": true,
    "tags": []
   },
   "outputs": [
    {
     "name": "stdout",
     "output_type": "stream",
     "text": [
      "[-0.22128621]\n",
      "13.94\n"
     ]
    }
   ],
   "source": [
    "model_metro.fit(features_metro, target)\n",
    "print(model_metro.coef_ *100)\n",
    "print(round( model_metro.intercept_,2))"
   ]
  },
  {
   "cell_type": "markdown",
   "metadata": {
    "cell_content_type": "markdown_default",
    "changed": false,
    "deletable": false,
    "editable": false,
    "original-content": "If you've done everything right, a house with zero distance to a subway station should be worth $13.96 per square meter. With every meter of distance to the nearest metro station, the value of the property decreases by 0.2 cents.\n",
    "protected": false,
    "selectable": false
   },
   "source": [
    "If you've done everything right, a house with zero distance to a subway station should be worth $13.96 per square meter. With every meter of distance to the nearest metro station, the value of the property decreases by 0.2 cents.\n"
   ]
  },
  {
   "cell_type": "markdown",
   "metadata": {
    "cell_content_type": "markdown_selectable",
    "changed": false,
    "deletable": false,
    "editable": false,
    "original-content": "5) Now we can use the trained model to make predictions. First import the data for the ten houses that the investor wants to make predictions for. They are located in the file *Taiwan_real_estate_prediction_data.xlsx*. Store them in the variable `df_aim`. Rename the column names using `col_names`.\n\nTip: Use the `'No'` column as the row name column again. Rename the columns just like you did with `df`.\n",
    "protected": false,
    "selectable": true
   },
   "source": [
    "5) Now we can use the trained model to make predictions. First import the data for the ten houses that the investor wants to make predictions for. They are located in the file *Taiwan_real_estate_prediction_data.xlsx*. Store them in the variable `df_aim`. Rename the column names using `col_names`.\n",
    "\n",
    "Tip: Use the `'No'` column as the row name column again. Rename the columns just like you did with `df`.\n"
   ]
  },
  {
   "cell_type": "code",
   "execution_count": 29,
   "metadata": {
    "cell_content_type": "code_user",
    "changed": false,
    "deletable": false,
    "editable": true,
    "hint": "The first line of the cell should look like this: `df_aim = pd.read_excel('Taiwan_real_estate_prediction_data.xlsx', index_col='No')`.",
    "original-content": "",
    "protected": false,
    "selectable": true
   },
   "outputs": [
    {
     "data": {
      "text/html": [
       "<div>\n",
       "<style scoped>\n",
       "    .dataframe tbody tr th:only-of-type {\n",
       "        vertical-align: middle;\n",
       "    }\n",
       "\n",
       "    .dataframe tbody tr th {\n",
       "        vertical-align: top;\n",
       "    }\n",
       "\n",
       "    .dataframe thead th {\n",
       "        text-align: right;\n",
       "    }\n",
       "</style>\n",
       "<table border=\"1\" class=\"dataframe\">\n",
       "  <thead>\n",
       "    <tr style=\"text-align: right;\">\n",
       "      <th></th>\n",
       "      <th>No</th>\n",
       "      <th>X1 house age</th>\n",
       "      <th>X2 distance to the nearest MRT station</th>\n",
       "      <th>X3 number of convenience stores</th>\n",
       "      <th>X4 number of parking spaces</th>\n",
       "      <th>X5 air pollution</th>\n",
       "      <th>X6 light pollution</th>\n",
       "      <th>X7 noise pollution</th>\n",
       "      <th>X8 neighborhood quality</th>\n",
       "      <th>X9 crime score</th>\n",
       "      <th>X10 energy consumption</th>\n",
       "      <th>X11 longitude</th>\n",
       "      <th>Y house price of unit area</th>\n",
       "    </tr>\n",
       "  </thead>\n",
       "  <tbody>\n",
       "    <tr>\n",
       "      <th>0</th>\n",
       "      <td>1</td>\n",
       "      <td>0.0</td>\n",
       "      <td>12.36000</td>\n",
       "      <td>7</td>\n",
       "      <td>72</td>\n",
       "      <td>1125.436807</td>\n",
       "      <td>243.043412</td>\n",
       "      <td>18.985221</td>\n",
       "      <td>0.481227</td>\n",
       "      <td>0.829688</td>\n",
       "      <td>59.592560</td>\n",
       "      <td>121.51486</td>\n",
       "      <td>NaN</td>\n",
       "    </tr>\n",
       "    <tr>\n",
       "      <th>1</th>\n",
       "      <td>2</td>\n",
       "      <td>0.0</td>\n",
       "      <td>44.52000</td>\n",
       "      <td>6</td>\n",
       "      <td>72</td>\n",
       "      <td>108.918247</td>\n",
       "      <td>232.545763</td>\n",
       "      <td>6.068610</td>\n",
       "      <td>0.530686</td>\n",
       "      <td>0.738343</td>\n",
       "      <td>89.217898</td>\n",
       "      <td>121.54024</td>\n",
       "      <td>NaN</td>\n",
       "    </tr>\n",
       "    <tr>\n",
       "      <th>2</th>\n",
       "      <td>3</td>\n",
       "      <td>12.0</td>\n",
       "      <td>84.87882</td>\n",
       "      <td>10</td>\n",
       "      <td>88</td>\n",
       "      <td>223.987861</td>\n",
       "      <td>402.289749</td>\n",
       "      <td>42.984450</td>\n",
       "      <td>0.645779</td>\n",
       "      <td>0.558472</td>\n",
       "      <td>95.941196</td>\n",
       "      <td>121.54228</td>\n",
       "      <td>NaN</td>\n",
       "    </tr>\n",
       "    <tr>\n",
       "      <th>3</th>\n",
       "      <td>4</td>\n",
       "      <td>13.3</td>\n",
       "      <td>22.45000</td>\n",
       "      <td>5</td>\n",
       "      <td>64</td>\n",
       "      <td>822.634911</td>\n",
       "      <td>340.743137</td>\n",
       "      <td>11.934130</td>\n",
       "      <td>0.247523</td>\n",
       "      <td>0.867096</td>\n",
       "      <td>90.597490</td>\n",
       "      <td>121.48458</td>\n",
       "      <td>NaN</td>\n",
       "    </tr>\n",
       "    <tr>\n",
       "      <th>4</th>\n",
       "      <td>5</td>\n",
       "      <td>34.0</td>\n",
       "      <td>10.48000</td>\n",
       "      <td>3</td>\n",
       "      <td>52</td>\n",
       "      <td>346.904902</td>\n",
       "      <td>227.855059</td>\n",
       "      <td>14.087371</td>\n",
       "      <td>0.463508</td>\n",
       "      <td>0.628561</td>\n",
       "      <td>60.069841</td>\n",
       "      <td>121.51254</td>\n",
       "      <td>NaN</td>\n",
       "    </tr>\n",
       "    <tr>\n",
       "      <th>5</th>\n",
       "      <td>6</td>\n",
       "      <td>3.0</td>\n",
       "      <td>12.38000</td>\n",
       "      <td>1</td>\n",
       "      <td>46</td>\n",
       "      <td>5.699197</td>\n",
       "      <td>200.837368</td>\n",
       "      <td>2.498199</td>\n",
       "      <td>0.547598</td>\n",
       "      <td>0.878642</td>\n",
       "      <td>92.919562</td>\n",
       "      <td>121.54391</td>\n",
       "      <td>NaN</td>\n",
       "    </tr>\n",
       "    <tr>\n",
       "      <th>6</th>\n",
       "      <td>7</td>\n",
       "      <td>15.0</td>\n",
       "      <td>56.12400</td>\n",
       "      <td>3</td>\n",
       "      <td>53</td>\n",
       "      <td>229.957124</td>\n",
       "      <td>380.822669</td>\n",
       "      <td>2.451917</td>\n",
       "      <td>0.378529</td>\n",
       "      <td>0.865401</td>\n",
       "      <td>97.744431</td>\n",
       "      <td>121.54391</td>\n",
       "      <td>NaN</td>\n",
       "    </tr>\n",
       "    <tr>\n",
       "      <th>7</th>\n",
       "      <td>8</td>\n",
       "      <td>27.5</td>\n",
       "      <td>1005.34000</td>\n",
       "      <td>9</td>\n",
       "      <td>74</td>\n",
       "      <td>218.621522</td>\n",
       "      <td>283.847670</td>\n",
       "      <td>4.793616</td>\n",
       "      <td>0.426784</td>\n",
       "      <td>0.771716</td>\n",
       "      <td>108.818687</td>\n",
       "      <td>121.53951</td>\n",
       "      <td>NaN</td>\n",
       "    </tr>\n",
       "    <tr>\n",
       "      <th>8</th>\n",
       "      <td>9</td>\n",
       "      <td>11.0</td>\n",
       "      <td>90.10000</td>\n",
       "      <td>5</td>\n",
       "      <td>66</td>\n",
       "      <td>822.634911</td>\n",
       "      <td>359.517345</td>\n",
       "      <td>11.971735</td>\n",
       "      <td>0.482081</td>\n",
       "      <td>0.960735</td>\n",
       "      <td>86.415252</td>\n",
       "      <td>121.54245</td>\n",
       "      <td>NaN</td>\n",
       "    </tr>\n",
       "    <tr>\n",
       "      <th>9</th>\n",
       "      <td>10</td>\n",
       "      <td>7.0</td>\n",
       "      <td>12.11000</td>\n",
       "      <td>5</td>\n",
       "      <td>63</td>\n",
       "      <td>236.626951</td>\n",
       "      <td>380.822669</td>\n",
       "      <td>24.526754</td>\n",
       "      <td>0.470417</td>\n",
       "      <td>0.705197</td>\n",
       "      <td>100.507061</td>\n",
       "      <td>121.53642</td>\n",
       "      <td>NaN</td>\n",
       "    </tr>\n",
       "  </tbody>\n",
       "</table>\n",
       "</div>"
      ],
      "text/plain": [
       "   No  X1 house age  X2 distance to the nearest MRT station  \\\n",
       "0   1           0.0                                12.36000   \n",
       "1   2           0.0                                44.52000   \n",
       "2   3          12.0                                84.87882   \n",
       "3   4          13.3                                22.45000   \n",
       "4   5          34.0                                10.48000   \n",
       "5   6           3.0                                12.38000   \n",
       "6   7          15.0                                56.12400   \n",
       "7   8          27.5                              1005.34000   \n",
       "8   9          11.0                                90.10000   \n",
       "9  10           7.0                                12.11000   \n",
       "\n",
       "   X3 number of convenience stores  X4 number of parking spaces  \\\n",
       "0                                7                           72   \n",
       "1                                6                           72   \n",
       "2                               10                           88   \n",
       "3                                5                           64   \n",
       "4                                3                           52   \n",
       "5                                1                           46   \n",
       "6                                3                           53   \n",
       "7                                9                           74   \n",
       "8                                5                           66   \n",
       "9                                5                           63   \n",
       "\n",
       "   X5 air pollution  X6 light pollution  X7 noise pollution  \\\n",
       "0       1125.436807          243.043412           18.985221   \n",
       "1        108.918247          232.545763            6.068610   \n",
       "2        223.987861          402.289749           42.984450   \n",
       "3        822.634911          340.743137           11.934130   \n",
       "4        346.904902          227.855059           14.087371   \n",
       "5          5.699197          200.837368            2.498199   \n",
       "6        229.957124          380.822669            2.451917   \n",
       "7        218.621522          283.847670            4.793616   \n",
       "8        822.634911          359.517345           11.971735   \n",
       "9        236.626951          380.822669           24.526754   \n",
       "\n",
       "   X8 neighborhood quality  X9 crime score  X10 energy consumption  \\\n",
       "0                 0.481227        0.829688               59.592560   \n",
       "1                 0.530686        0.738343               89.217898   \n",
       "2                 0.645779        0.558472               95.941196   \n",
       "3                 0.247523        0.867096               90.597490   \n",
       "4                 0.463508        0.628561               60.069841   \n",
       "5                 0.547598        0.878642               92.919562   \n",
       "6                 0.378529        0.865401               97.744431   \n",
       "7                 0.426784        0.771716              108.818687   \n",
       "8                 0.482081        0.960735               86.415252   \n",
       "9                 0.470417        0.705197              100.507061   \n",
       "\n",
       "   X11 longitude  Y house price of unit area  \n",
       "0      121.51486                         NaN  \n",
       "1      121.54024                         NaN  \n",
       "2      121.54228                         NaN  \n",
       "3      121.48458                         NaN  \n",
       "4      121.51254                         NaN  \n",
       "5      121.54391                         NaN  \n",
       "6      121.54391                         NaN  \n",
       "7      121.53951                         NaN  \n",
       "8      121.54245                         NaN  \n",
       "9      121.53642                         NaN  "
      ]
     },
     "execution_count": 29,
     "metadata": {},
     "output_type": "execute_result"
    }
   ],
   "source": [
    "df_aim = pd.read_excel( 'Taiwan_real_estate_prediction_data.xlsx', index_col=False)\n",
    "df_aim"
   ]
  },
  {
   "cell_type": "markdown",
   "metadata": {
    "cell_content_type": "markdown_selectable",
    "changed": false,
    "deletable": false,
    "editable": false,
    "original-content": "Save the distances to the nearest metro station for `df_aim` in the new variable `features_aim_metro`.\n",
    "protected": false,
    "selectable": true
   },
   "source": [
    "Save the distances to the nearest metro station for `df_aim` in the new variable `features_aim_metro`.\n"
   ]
  },
  {
   "cell_type": "markdown",
   "metadata": {
    "cell_content_type": "markdown_selectable",
    "changed": false,
    "deletable": false,
    "editable": false,
    "messageType": "beachte",
    "original-content": "**Important:** `features_aim_metro` must be a `DataFrame`. Check that `features_aim_metro` is not a `Series` by mistake.\n",
    "protected": false,
    "selectable": true
   },
   "source": [
    "**Important:** `features_aim_metro` must be a `DataFrame`. Check that `features_aim_metro` is not a `Series` by mistake.\n"
   ]
  },
  {
   "cell_type": "code",
   "execution_count": 36,
   "metadata": {
    "cell_content_type": "code_user",
    "changed": false,
    "deletable": false,
    "editable": true,
    "hint": "Check the data type of `features_aim_metro` with `type()`. Refer to *Simple linear regression with sklearn* if `features_aim_metro` is not a `DataFrame`.",
    "hint_counter": 1,
    "original-content": "",
    "protected": false,
    "selectable": true,
    "tags": []
   },
   "outputs": [
    {
     "data": {
      "text/html": [
       "<div>\n",
       "<style scoped>\n",
       "    .dataframe tbody tr th:only-of-type {\n",
       "        vertical-align: middle;\n",
       "    }\n",
       "\n",
       "    .dataframe tbody tr th {\n",
       "        vertical-align: top;\n",
       "    }\n",
       "\n",
       "    .dataframe thead th {\n",
       "        text-align: right;\n",
       "    }\n",
       "</style>\n",
       "<table border=\"1\" class=\"dataframe\">\n",
       "  <thead>\n",
       "    <tr style=\"text-align: right;\">\n",
       "      <th></th>\n",
       "      <th>X2 distance to the nearest MRT station</th>\n",
       "    </tr>\n",
       "  </thead>\n",
       "  <tbody>\n",
       "    <tr>\n",
       "      <th>0</th>\n",
       "      <td>12.36000</td>\n",
       "    </tr>\n",
       "    <tr>\n",
       "      <th>1</th>\n",
       "      <td>44.52000</td>\n",
       "    </tr>\n",
       "    <tr>\n",
       "      <th>2</th>\n",
       "      <td>84.87882</td>\n",
       "    </tr>\n",
       "    <tr>\n",
       "      <th>3</th>\n",
       "      <td>22.45000</td>\n",
       "    </tr>\n",
       "    <tr>\n",
       "      <th>4</th>\n",
       "      <td>10.48000</td>\n",
       "    </tr>\n",
       "    <tr>\n",
       "      <th>5</th>\n",
       "      <td>12.38000</td>\n",
       "    </tr>\n",
       "    <tr>\n",
       "      <th>6</th>\n",
       "      <td>56.12400</td>\n",
       "    </tr>\n",
       "    <tr>\n",
       "      <th>7</th>\n",
       "      <td>1005.34000</td>\n",
       "    </tr>\n",
       "    <tr>\n",
       "      <th>8</th>\n",
       "      <td>90.10000</td>\n",
       "    </tr>\n",
       "    <tr>\n",
       "      <th>9</th>\n",
       "      <td>12.11000</td>\n",
       "    </tr>\n",
       "  </tbody>\n",
       "</table>\n",
       "</div>"
      ],
      "text/plain": [
       "   X2 distance to the nearest MRT station\n",
       "0                                12.36000\n",
       "1                                44.52000\n",
       "2                                84.87882\n",
       "3                                22.45000\n",
       "4                                10.48000\n",
       "5                                12.38000\n",
       "6                                56.12400\n",
       "7                              1005.34000\n",
       "8                                90.10000\n",
       "9                                12.11000"
      ]
     },
     "execution_count": 36,
     "metadata": {},
     "output_type": "execute_result"
    }
   ],
   "source": [
    "features_aim_metro = df_aim.loc[:,['X2 distance to the nearest MRT station']]\n",
    "features_aim_metro"
   ]
  },
  {
   "cell_type": "markdown",
   "metadata": {
    "cell_content_type": "markdown_selectable",
    "changed": false,
    "deletable": false,
    "editable": false,
    "original-content": "Now use `model_metro` with its `my_model.predict()` method to determine the prices of the houses in the prediction data set. Store them in the variable `target_aim_pred_metro`.\n",
    "protected": false,
    "selectable": true
   },
   "source": [
    "Now use `model_metro` with its `my_model.predict()` method to determine the prices of the houses in the prediction data set. Store them in the variable `target_aim_pred_metro`.\n"
   ]
  },
  {
   "cell_type": "code",
   "execution_count": 38,
   "metadata": {
    "cell_content_type": "code_user",
    "changed": false,
    "deletable": false,
    "editable": true,
    "hint": "Write `target_aim_pred_metro = model_metro.predict(features_aim_metro)` and run the cell.",
    "hint_counter": 1,
    "original-content": "",
    "protected": false,
    "selectable": true,
    "tags": []
   },
   "outputs": [
    {
     "name": "stdout",
     "output_type": "stream",
     "text": [
      "[13.9086418  13.83747616 13.74816765 13.88631402 13.91280198 13.90859754\n",
      " 13.8117981  11.71131394 13.7366139  13.90919502]\n",
      "<class 'numpy.ndarray'>\n"
     ]
    }
   ],
   "source": [
    "target_aim_pred_metro = model_metro.predict(features_aim_metro)\n",
    "print(target_aim_pred_metro)\n",
    "print(type(target_aim_pred_metro))"
   ]
  },
  {
   "cell_type": "markdown",
   "metadata": {
    "cell_content_type": "markdown_selectable",
    "changed": false,
    "deletable": false,
    "editable": false,
    "messageType": "beachte",
    "original-content": "**Important:** `target_aim_pred_metro` must be a `numpyArray`. Check that `target_aim_pred_metro` is not a `DataFrame` by mistake.\n",
    "protected": false,
    "selectable": true
   },
   "source": [
    "**Important:** `target_aim_pred_metro` must be a `numpyArray`. Check that `target_aim_pred_metro` is not a `DataFrame` by mistake.\n"
   ]
  },
  {
   "cell_type": "code",
   "execution_count": null,
   "metadata": {
    "cell_content_type": "code_demo",
    "changed": false,
    "deletable": false,
    "editable": true,
    "hint": "If you would like, you can discuss this in the forum under *Evaluating Regression Models*.",
    "original-content": "print(type(target_aim_pred_metro))",
    "protected": false,
    "selectable": true
   },
   "outputs": [],
   "source": [
    "print(type(target_aim_pred_metro))"
   ]
  },
  {
   "cell_type": "markdown",
   "metadata": {
    "cell_content_type": "markdown_default",
    "changed": false,
    "deletable": false,
    "editable": false,
    "original-content": "Great! In the graphic below we have summarized this process visually. The training data is represented by dark blue dots in the scatter diagram. The regression line is light blue. You can see the predicted house prices in orange.\n",
    "protected": false,
    "selectable": false
   },
   "source": [
    "Great! In the graphic below we have summarized this process visually. The training data is represented by dark blue dots in the scatter diagram. The regression line is light blue. You can see the predicted house prices in orange.\n"
   ]
  },
  {
   "cell_type": "code",
   "execution_count": 39,
   "metadata": {
    "cell_content_type": "code_demo",
    "changed": false,
    "deletable": false,
    "editable": true,
    "hint": "If you would like, you can discuss this in the forum under *Evaluating Regression Models*.",
    "original-content": "import matplotlib.pyplot as plt\nimport seaborn as sns\n\nfig, ax = plt.subplots()\n\nsns.regplot(x=features_metro.iloc[:, 0],  # metro distances in training data set\n            y=target,  # prices in training data set\n            scatter_kws={'color':'#17415f',  # dark blue dots\n                        'alpha':1},  # no transparency for dots\n            line_kws={'color':'#70b8e5'},  # light blue regression line\n            ci=None,  # no confidence intervals around line\n           ax=ax)  # plot on current Axes\n\nsns.regplot(x=features_aim_metro.iloc[:, 0],  # x-values of houses with estimated prices\n            y=target_aim_pred_metro,  # estimated prices\n            scatter_kws={'color':'#ff9e1c',  # orange dots\n                        'alpha':1,  # no transparency for dots\n                        's':70},  # dot size\n            fit_reg=False,  # no additional regression line\n            ci=None,  # no confidence intervals around line\n           ax=ax)  # plot on current Axes\n\nax.set(xlim=[0, max(df.loc[:, 'metro_distance'])])",
    "protected": false,
    "selectable": true
   },
   "outputs": [
    {
     "data": {
      "text/plain": [
       "[(0.0, 6396.283)]"
      ]
     },
     "execution_count": 39,
     "metadata": {},
     "output_type": "execute_result"
    },
    {
     "data": {
      "image/png": "[encoded data removed]",
      "text/plain": [
       "<Figure size 432x288 with 1 Axes>"
      ]
     },
     "metadata": {
      "needs_background": "light"
     },
     "output_type": "display_data"
    }
   ],
   "source": [
    "import matplotlib.pyplot as plt\n",
    "import seaborn as sns\n",
    "\n",
    "fig, ax = plt.subplots()\n",
    "\n",
    "sns.regplot(x=features_metro.iloc[:, 0],  # metro distances in training data set\n",
    "            y=target,  # prices in training data set\n",
    "            scatter_kws={'color':'#17415f',  # dark blue dots\n",
    "                        'alpha':1},  # no transparency for dots\n",
    "            line_kws={'color':'#70b8e5'},  # light blue regression line\n",
    "            ci=None,  # no confidence intervals around line\n",
    "           ax=ax)  # plot on current Axes\n",
    "\n",
    "sns.regplot(x=features_aim_metro.iloc[:, 0],  # x-values of houses with estimated prices\n",
    "            y=target_aim_pred_metro,  # estimated prices\n",
    "            scatter_kws={'color':'#ff9e1c',  # orange dots\n",
    "                        'alpha':1,  # no transparency for dots\n",
    "                        's':70},  # dot size\n",
    "            fit_reg=False,  # no additional regression line\n",
    "            ci=None,  # no confidence intervals around line\n",
    "           ax=ax)  # plot on current Axes\n",
    "\n",
    "ax.set(xlim=[0, max(df.loc[:, 'metro_distance'])])"
   ]
  },
  {
   "cell_type": "markdown",
   "metadata": {
    "cell_content_type": "markdown_default",
    "changed": false,
    "deletable": false,
    "editable": false,
    "messageType": "glueckwunsch",
    "original-content": "**Congratulations:** You have carried out your second linear regression. Now you have predicted the house prices for the real estate investor based on the house age and then based on the distance to the metro. Are these values correct? We'll look into this now.\n",
    "protected": false,
    "selectable": false
   },
   "source": [
    "**Congratulations:** You have carried out your second linear regression. Now you have predicted the house prices for the real estate investor based on the house age and then based on the distance to the metro. Are these values correct? We'll look into this now.\n"
   ]
  },
  {
   "cell_type": "markdown",
   "metadata": {
    "cell_content_type": "markdown_default",
    "changed": false,
    "deletable": false,
    "editable": false,
    "original-content": "## Comparing predictions\n",
    "protected": false,
    "selectable": false
   },
   "source": [
    "## Comparing predictions\n"
   ]
  },
  {
   "cell_type": "markdown",
   "metadata": {
    "cell_content_type": "markdown_selectable",
    "changed": false,
    "deletable": false,
    "editable": false,
    "original-content": "In the previous lesson, you predicted house prices based on their age. So that we can compare these with the house prices we just predicted, we'll calculate them again here. Store the regression model in of the variable `model_age`. The age values of the new houses, whose prices you should predict, can be found in `df_aim`. Store them in the feature matrix `features_aim_age`. You can store the predicted prices per square meter in the variable `target_aim_pred_age`. \n\nTip: Follow the five steps again. You can skip the first step.\n",
    "protected": false,
    "selectable": true
   },
   "source": [
    "In the previous lesson, you predicted house prices based on their age. So that we can compare these with the house prices we just predicted, we'll calculate them again here. Store the regression model in of the variable `model_age`. The age values of the new houses, whose prices you should predict, can be found in `df_aim`. Store them in the feature matrix `features_aim_age`. You can store the predicted prices per square meter in the variable `target_aim_pred_age`. \n",
    "\n",
    "Tip: Follow the five steps again. You can skip the first step.\n"
   ]
  },
  {
   "cell_type": "code",
   "execution_count": 52,
   "metadata": {
    "cell_content_type": "code_user",
    "changed": false,
    "deletable": false,
    "editable": true,
    "hint": "Start by instantiating the model (`model_age = LinearRegression()`). Then define a new feature matrix (`features_age = df.loc[:, ['house_age']]`). Then the model should be fitted to the data (`model_age.fit(features_age, target)`) to predict house prices in the end (`features_aim_age = df_aim.loc[:, ['house_age']]` and then `target_aim_pred_age = model_age.predict(features_aim_age)`).",
    "hint_counter": 6,
    "original-content": "",
    "protected": false,
    "selectable": true,
    "tags": []
   },
   "outputs": [],
   "source": [
    "model_age = LinearRegression(fit_intercept=True)\n",
    "\n",
    "features_age = df.loc[:, ['house_age']]\n",
    "model_age.fit(features_age, target)\n",
    "\n",
    "features_aim_age = df_aim.loc[:, ['X1 house age']]\n",
    "target_aim_pred_age = model_age.predict(features_aim_age)\n",
    "\n",
    "# features_aim_age  = df_aim.loc[:,['X1 house age']]\n",
    "# model_age.fit(features_aim_age, target)\n",
    "# target_aim_pred_age = model_age.predict(features_aim_age)"
   ]
  },
  {
   "cell_type": "markdown",
   "metadata": {
    "cell_content_type": "markdown_selectable",
    "changed": false,
    "deletable": false,
    "editable": false,
    "original-content": "Print the prices in `target_aim_pred_age`. Do they match the values in `target_aim_pred_metro`? Print these now as well.\n",
    "protected": false,
    "selectable": true
   },
   "source": [
    "Print the prices in `target_aim_pred_age`. Do they match the values in `target_aim_pred_metro`? Print these now as well.\n"
   ]
  },
  {
   "cell_type": "code",
   "execution_count": 53,
   "metadata": {
    "cell_content_type": "code_user",
    "changed": false,
    "deletable": false,
    "editable": true,
    "hint": "Write `print('Age: ', target_aim_pred_age, '\n')` as well as `print('Metro: ', target_aim_pred_metro)` and run the cell.",
    "original-content": "",
    "protected": false,
    "selectable": true
   },
   "outputs": [
    {
     "name": "stdout",
     "output_type": "stream",
     "text": [
      "[13.07287169 13.07287169 12.05222116 11.94165069 10.18102853 12.81770906\n",
      " 11.79705853 10.7338809  12.13727538 12.47749222]\n",
      "[13.9086418  13.83747616 13.74816765 13.88631402 13.91280198 13.90859754\n",
      " 13.8117981  11.71131394 13.7366139  13.90919502]\n"
     ]
    }
   ],
   "source": [
    "print(target_aim_pred_age)\n",
    "print(target_aim_pred_metro)"
   ]
  },
  {
   "cell_type": "markdown",
   "metadata": {
    "cell_content_type": "markdown_selectable",
    "changed": false,
    "deletable": false,
    "editable": false,
    "original-content": "You should have received the following values:\n```python\nAge: [13.07287169 13.07287169 12.05222116 11.94165069 10.18102853 12.81770906\n 11.79705853 10.7338809  12.13727538 12.47749222] \n\nMetro: [13.9086418  13.83747616 13.74816765 13.88631402 13.91280198 13.90859754\n 13.8117981  11.71131394 13.7366139  13.90919502]\n```\n",
    "protected": false,
    "selectable": true
   },
   "source": [
    "You should have received the following values:\n",
    "```python\n",
    "Age: [13.07287169 13.07287169 12.05222116 11.94165069 10.18102853 12.81770906\n",
    " 11.79705853 10.7338809  12.13727538 12.47749222] \n",
    "\n",
    "Metro: [13.9086418  13.83747616 13.74816765 13.88631402 13.91280198 13.90859754\n",
    " 13.8117981  11.71131394 13.7366139  13.90919502]\n",
    "```\n"
   ]
  },
  {
   "cell_type": "markdown",
   "metadata": {
    "cell_content_type": "markdown_default",
    "changed": false,
    "deletable": false,
    "editable": false,
    "original-content": "These values differ from the values calculated previously. The following visualization shows how much the predictions differ from each other. The grey line represents the ideal case: the predicted values match perfectly. As you can see, none of the values are on the grey line. The predicted house prices therefore don't match up.\n",
    "protected": false,
    "selectable": false
   },
   "source": [
    "These values differ from the values calculated previously. The following visualization shows how much the predictions differ from each other. The grey line represents the ideal case: the predicted values match perfectly. As you can see, none of the values are on the grey line. The predicted house prices therefore don't match up.\n"
   ]
  },
  {
   "cell_type": "code",
   "execution_count": 64,
   "metadata": {
    "cell_content_type": "code_demo",
    "changed": false,
    "deletable": false,
    "editable": true,
    "hint": "If you would like, you can discuss this in the forum under *Evaluating Regression Models*.",
    "original-content": "fig, ax = plt.subplots()\n\nsns.scatterplot(x=target_aim_pred_age, \n                y=target_aim_pred_metro, \n                color='#ff9e1c',  # orange dots\n                s=70,  # big dots\n                ax=ax)  # draw on current Axes\nax.plot([10, 20], # x-values\n       [10, 20],  # y-values\n       'grey')\nax.set(xlabel='Predicted house price based on house age',\n      ylabel='Predicted house price based on distance to metro')",
    "protected": false,
    "selectable": true
   },
   "outputs": [
    {
     "data": {
      "image/png": "[encoded data removed]",
      "text/plain": [
       "<Figure size 432x288 with 1 Axes>"
      ]
     },
     "metadata": {
      "needs_background": "light"
     },
     "output_type": "display_data"
    }
   ],
   "source": [
    "fig, ax = plt.subplots()\n",
    "\n",
    "sns.scatterplot(x=target_aim_pred_age, \n",
    "                y=target_aim_pred_metro, \n",
    "                color='#ff9e1c',  # orange dots\n",
    "                s=70,  # big dots\n",
    "                ax=ax)  # draw on current Axes\n",
    "ax.plot([10, 20], # x-values\n",
    "       [10, 20],  # y-values\n",
    "       'grey')\n",
    "ax.set(xlabel='Predicted house price based on house age',\n",
    "      ylabel='Predicted house price based on distance to metro');"
   ]
  },
  {
   "cell_type": "markdown",
   "metadata": {
    "cell_content_type": "markdown_default",
    "changed": false,
    "deletable": false,
    "editable": false,
    "messageType": "glueckwunsch",
    "original-content": "**Congratulations:** You now have two different predicted price lists for ten of the real estate investor's houses. Which one can we trust more? To answer this, let's turn to the problem of determining the quality of regression models.\n",
    "protected": false,
    "selectable": false
   },
   "source": [
    "**Congratulations:** You now have two different predicted price lists for ten of the real estate investor's houses. Which one can we trust more? To answer this, let's turn to the problem of determining the quality of regression models.\n"
   ]
  },
  {
   "cell_type": "markdown",
   "metadata": {
    "cell_content_type": "markdown_default",
    "changed": false,
    "deletable": false,
    "editable": false,
    "original-content": "## Determining the quality of regression models with the *(rooted) mean squared error*\n",
    "protected": false,
    "selectable": false
   },
   "source": [
    "## Determining the quality of regression models with the *(rooted) mean squared error*\n"
   ]
  },
  {
   "cell_type": "markdown",
   "metadata": {
    "cell_content_type": "markdown_selectable",
    "changed": false,
    "deletable": false,
    "editable": false,
    "original-content": "`sklearn` offers you six different options to determine the quality of regressions. You can find them all in the [official documentation](https://scikit-learn.org/stable/modules/model_evaluation.html#regression-metrics). They are based on predicting data with the trained model and then comparing these predictions with the real values. The difference between a prediction and the real value is called a residual. It is the basis for evaluating the model. A good model predicts the values as they actually are. The residual should therefore be as small as possible.\n\nIn this lesson we will use the training data to determine the model quality.\nTo obtain the residuals, we treat the actual age values of the houses in the training dataset (`df`) as if we wanted a price prediction for them and store those in `target_pred_age`.",
    "protected": false,
    "selectable": true,
    "tags": []
   },
   "source": [
    "`sklearn` offers you six different options to determine the quality of regressions. You can find them all in the [official documentation](https://scikit-learn.org/stable/modules/model_evaluation.html#regression-metrics). They are based on predicting data with the trained model and then comparing these predictions with the real values. The difference between a prediction and the real value is called a residual. It is the basis for evaluating the model. A good model predicts the values as they actually are. The residual should therefore be as small as possible.\n",
    "\n",
    "In this lesson we will use the training data to determine the model quality.\n",
    "To obtain the residuals, we treat the actual age values of the houses in the training dataset (`df`) as if we wanted a price prediction for them and store those in `target_pred_age`."
   ]
  },
  {
   "cell_type": "code",
   "execution_count": 67,
   "metadata": {
    "cell_content_type": "code_demo",
    "changed": false,
    "deletable": false,
    "editable": true,
    "hint": "If you would like, you can discuss this in the forum under *Evaluating Regression Models*.",
    "hint_counter": 1,
    "original-content": "features_age = df.loc[:, ['house_age']]\ntarget_pred_age = model_age.predict(features_age)",
    "protected": false,
    "selectable": true,
    "tags": []
   },
   "outputs": [],
   "source": [
    "features_age = df.loc[:, ['house_age']]\n",
    "target_pred_age = model_age.predict(features_age)"
   ]
  },
  {
   "cell_type": "markdown",
   "metadata": {
    "cell_content_type": "markdown_selectable",
    "changed": false,
    "deletable": false,
    "editable": false,
    "original-content": "Now store the values that `model_metro` would predict for the houses from the training dataset, in `target_pred_metro`.\n",
    "protected": false,
    "selectable": true
   },
   "source": [
    "Now store the values that `model_metro` would predict for the houses from the training dataset, in `target_pred_metro`.\n"
   ]
  },
  {
   "cell_type": "code",
   "execution_count": 95,
   "metadata": {
    "cell_content_type": "code_user",
    "changed": false,
    "deletable": false,
    "editable": true,
    "hint": "Calculate `target_pred_metro` using `model_metro` and `features_metro`.",
    "hint_counter": 1,
    "original-content": "",
    "protected": false,
    "selectable": true,
    "tags": []
   },
   "outputs": [],
   "source": [
    "target_pred_metro = model_metro.predict(features_age)"
   ]
  },
  {
   "cell_type": "markdown",
   "metadata": {
    "cell_content_type": "markdown_default",
    "changed": false,
    "deletable": false,
    "editable": false,
    "original-content": "Now we can visually compare whether the predicted property prices match the actual property prices for both models. The grey line in the graph represents the perfect prediction again. If a point lies on it, the predicted house price is the same as the actual house price.\n",
    "protected": false,
    "selectable": false
   },
   "source": [
    "Now we can visually compare whether the predicted property prices match the actual property prices for both models. The grey line in the graph represents the perfect prediction again. If a point lies on it, the predicted house price is the same as the actual house price.\n"
   ]
  },
  {
   "cell_type": "code",
   "execution_count": 74,
   "metadata": {
    "cell_content_type": "code_demo",
    "changed": false,
    "deletable": false,
    "editable": true,
    "hint": "If you would like, you can discuss this in the forum under *Evaluating Regression Models*.",
    "original-content": "fig, ax = plt.subplots(1, 2, \n                       figsize=[12, 6])\n\n# Predictions based on house age\nsns.scatterplot(x=target_pred_age, \n                y=target, \n                color='#515151',  # grey dots\n                s=70,  # big dots\n                ax=ax[0])  # draw on current Axes\n# diagonal\nax[0].plot([0, 50], # x-values\n       [0, 50],  # y-values\n       'grey')  # line colour\n\nax[0].set(xlabel='Predicted house price', \n          ylabel='Actual house price',\n          title='Predictions based on house age')\n\n# Predictions based on metro distance\nsns.scatterplot(x=target_pred_metro, \n                y=target, \n                color='#515151',  # grey dots\n                s=70,  # big dots\n                ax=ax[1])  # draw on current Axes\n# diagonal\nax[1].plot([0, 50], # x-values\n       [0, 50],  # y-values\n       'grey')  # line colour\n\nax[1].set(xlabel='Predicted house price',\n          ylabel='Actual house price',\n          title='Predictions based on metro distance')",
    "protected": false,
    "selectable": true
   },
   "outputs": [
    {
     "data": {
      "image/png": "[encoded data removed]",
      "text/plain": [
       "<Figure size 864x432 with 2 Axes>"
      ]
     },
     "metadata": {
      "needs_background": "light"
     },
     "output_type": "display_data"
    }
   ],
   "source": [
    "fig, ax = plt.subplots(1, 2, figsize=[12, 6])\n",
    "\n",
    "# Predictions based on house age\n",
    "sns.scatterplot(x=target_pred_age,\n",
    "                y=target,\n",
    "                color='#515151',  # grey dots\n",
    "                s=70,  # big dots\n",
    "                ax=ax[0]) # draw on current Axes\n",
    "# diagonal\n",
    "ax[0].plot([0, 50], # x-values\n",
    "           [0, 50], # y-values\n",
    "           'grey') # line colour\n",
    "\n",
    "ax[0].set(xlabel='Predicted house price', \n",
    "          ylabel='Actual house price',\n",
    "          title='Predictions based on house age');\n",
    "\n",
    "# Predictions based on metro distance\n",
    "sns.scatterplot(x=target_pred_metro, \n",
    "                y=target, \n",
    "                color='#515151',  # grey dots\n",
    "                s=70,  # big dots\n",
    "                ax=ax[1]) # draw on current Axes\n",
    "# diagonal\n",
    "ax[1].plot([0, 50], # x-values\n",
    "           [0, 50], # y-values\n",
    "           'grey') # line colour\n",
    "\n",
    "ax[1].set(xlabel='Predicted house price',\n",
    "          ylabel='Actual house price',\n",
    "          title='Predictions based on metro distance');"
   ]
  },
  {
   "cell_type": "markdown",
   "metadata": {
    "cell_content_type": "markdown_selectable",
    "changed": false,
    "deletable": false,
    "editable": false,
    "original-content": "The visual impression of the two scatter plots alone suggests worse predictions from `model_age` (left) than from `model_metro` (right). On the right, the points appear closer to the diagonal than on the left.\n\nMetrics for the quality of regression models summarize this impression in a number. We'll concentrate here on two common values. Let's start with the mean squared error (*MSE*). To calculate this error, import the `mean_squared_error()` function directly from the `sklearn.metrics` module.\n",
    "protected": false,
    "selectable": true
   },
   "source": [
    "The visual impression of the two scatter plots alone suggests worse predictions from `model_age` (left) than from `model_metro` (right). On the right, the points appear closer to the diagonal than on the left.\n",
    "\n",
    "Metrics for the quality of regression models summarize this impression in a number. We'll concentrate here on two common values. Let's start with the mean squared error (*MSE*). To calculate this error, import the `mean_squared_error()` function directly from the `sklearn.metrics` module.\n"
   ]
  },
  {
   "cell_type": "code",
   "execution_count": 76,
   "metadata": {
    "cell_content_type": "code_user",
    "changed": false,
    "deletable": false,
    "editable": true,
    "hint": "Write `from sklearn.metrics import mean_squared_error` and run the cell.",
    "hint_counter": 2,
    "original-content": "",
    "protected": false,
    "selectable": true,
    "tags": []
   },
   "outputs": [],
   "source": [
    "from sklearn.metrics import mean_squared_error "
   ]
  },
  {
   "cell_type": "markdown",
   "metadata": {
    "cell_content_type": "markdown_selectable",
    "changed": false,
    "deletable": false,
    "editable": false,
    "original-content": "`mean_squared_error()` proceeds as follows:\n1. First it calculates the difference between predicted and actual values (the residual).\n2. These differences are squared so that they are all positive and large differences are given extra weight.\n3. The average of the squared differences is formed.\n\nin short:\n\n$MSE=\\frac{1}{n}\\sum_{i=1}^n(y_i-f(x_i))^2$\n\nIn Python code it would look like this:\n",
    "protected": false,
    "selectable": true
   },
   "source": [
    "`mean_squared_error()` proceeds as follows:\n",
    "1. First it calculates the difference between predicted and actual values (the residual).\n",
    "2. These differences are squared so that they are all positive and large differences are given extra weight.\n",
    "3. The average of the squared differences is formed.\n",
    "\n",
    "in short:\n",
    "\n",
    "$MSE=\\frac{1}{n}\\sum_{i=1}^n(y_i-f(x_i))^2$\n",
    "\n",
    "In Python code it would look like this:\n"
   ]
  },
  {
   "cell_type": "code",
   "execution_count": 77,
   "metadata": {
    "cell_content_type": "code_demo",
    "changed": false,
    "deletable": false,
    "editable": true,
    "hint": "If you would like, you can discuss this in the forum under *Evaluating Regression Models*.",
    "original-content": "import numpy as np\nresiduals = target - target_pred_age\nresiduals_squared = residuals**2\nMSE = np.mean(residuals_squared)\nMSE",
    "protected": false,
    "selectable": true
   },
   "outputs": [
    {
     "data": {
      "text/plain": [
       "16.968103205571758"
      ]
     },
     "execution_count": 77,
     "metadata": {},
     "output_type": "execute_result"
    }
   ],
   "source": [
    "import numpy as np\n",
    "residuals = target - target_pred_age\n",
    "residuals_squared = residuals**2\n",
    "MSE = np.mean(residuals_squared)\n",
    "MSE"
   ]
  },
  {
   "cell_type": "markdown",
   "metadata": {
    "cell_content_type": "markdown_selectable",
    "changed": false,
    "deletable": false,
    "editable": false,
    "original-content": "The result of the `mean_squared_error()` function is exactly the same.\n",
    "protected": false,
    "selectable": true
   },
   "source": [
    "The result of the `mean_squared_error()` function is exactly the same.\n"
   ]
  },
  {
   "cell_type": "code",
   "execution_count": 78,
   "metadata": {
    "cell_content_type": "code_demo",
    "changed": false,
    "deletable": false,
    "editable": true,
    "hint": "If you would like, you can discuss this in the forum under *Evaluating Regression Models*.",
    "original-content": "mean_squared_error(target, target_pred_age)",
    "protected": false,
    "selectable": true
   },
   "outputs": [
    {
     "data": {
      "text/plain": [
       "23.37086387856145"
      ]
     },
     "execution_count": 79,
     "metadata": {},
     "output_type": "execute_result"
    }
   ],
   "source": [
    "mean_squared_error(target, target_pred_age)"
   ]
  },
  {
   "cell_type": "markdown",
   "metadata": {
    "cell_content_type": "markdown_selectable",
    "changed": false,
    "deletable": false,
    "editable": false,
    "original-content": "What does this value mean? The perfect regression model has a *mean squared error* of zero. In this case the value is higher. `model_age` misses the house prices in the data set by an average of $16.97\\:\\$^2$ per square meter. This information doesn't tell us that much at first, because nobody trades in square dollars. Usually we take the root from the MSE, arriving at the original unit of our *target*. The root of the MSE is known as the *rooted mean squared error* or **RMSE**\n\n$RMSE = \\sqrt{MSE}$\n\nThe RMSE of our house price prediction based on the age is therefore:\n$RMSE = \\sqrt{16,97\\:\\$^2}$ = 4.11 $\n\nSo how does it look for `model_metro`? Calculate the RMSE using `target` and `target_pred_metro`.\n<br>Tip: To get the root of a value, use `np.sqrt()`\n",
    "protected": false,
    "selectable": true
   },
   "source": [
    "What does this value mean? The perfect regression model has a *mean squared error* of zero. In this case the value is higher. `model_age` misses the house prices in the data set by an average of $16.97\\:\\$^2$ per square meter. This information doesn't tell us that much at first, because nobody trades in square dollars. Usually we take the root from the MSE, arriving at the original unit of our *target*. The root of the MSE is known as the *rooted mean squared error* or **RMSE**\n",
    "\n",
    "$RMSE = \\sqrt{MSE}$\n",
    "\n",
    "The RMSE of our house price prediction based on the age is therefore:\n",
    "$RMSE = \\sqrt{16,97\\:\\$^2}$ = 4.11 $\n",
    "\n",
    "So how does it look for `model_metro`? Calculate the RMSE using `target` and `target_pred_metro`.\n",
    "<br>Tip: To get the root of a value, use `np.sqrt()`\n"
   ]
  },
  {
   "cell_type": "code",
   "execution_count": 86,
   "metadata": {
    "cell_content_type": "code_user",
    "changed": false,
    "deletable": false,
    "editable": true,
    "hint": "Write `mean_squared_error(target, target_pred_metro)` and run the cell.",
    "hint_counter": 1,
    "original-content": "",
    "protected": false,
    "selectable": true,
    "tags": []
   },
   "outputs": [
    {
     "name": "stdout",
     "output_type": "stream",
     "text": [
      "16.968103205571758\n",
      "4.119235755036577\n"
     ]
    }
   ],
   "source": [
    "print(mean_squared_error(target, target_pred_age))\n",
    "print(np.sqrt(mean_squared_error(target, target_pred_age)))"
   ]
  },
  {
   "cell_type": "markdown",
   "metadata": {
    "cell_content_type": "markdown_selectable",
    "changed": false,
    "deletable": false,
    "editable": false,
    "original-content": "The house prices in the training dataset from `model_metro` fall short by an average of just $\\sqrt{10,07}$, or 3.17 dollars per square meter. The visual impression from the graph above is therefore confirmed by the *rooted mean squared error*: `model_metro` produces better predictions than `model_age`.\n",
    "protected": false,
    "selectable": true
   },
   "source": [
    "The house prices in the training dataset from `model_metro` fall short by an average of just $\\sqrt{10,07}$, or 3.17 dollars per square meter. The visual impression from the graph above is therefore confirmed by the *rooted mean squared error*: `model_metro` produces better predictions than `model_age`.\n"
   ]
  },
  {
   "cell_type": "markdown",
   "metadata": {
    "cell_content_type": "markdown_default",
    "changed": false,
    "deletable": false,
    "editable": false,
    "messageType": "glueckwunsch",
    "original-content": "**Congratulations:** You have determined the quality of a machine learning model for the first time. These kinds of model evaluations help data scientists to decide between models and which predictions can be trusted. However, the *rooted mean squared error* is not infallible. It's therefore worthwhile using several metrics to get an idea of the model quality. Now we'll get to know a second metric.\n",
    "protected": false,
    "selectable": false
   },
   "source": [
    "**Congratulations:** You have determined the quality of a machine learning model for the first time. These kinds of model evaluations help data scientists to decide between models and which predictions can be trusted. However, the *rooted mean squared error* is not infallible. It's therefore worthwhile using several metrics to get an idea of the model quality. Now we'll get to know a second metric.\n"
   ]
  },
  {
   "cell_type": "markdown",
   "metadata": {
    "cell_content_type": "markdown_default",
    "changed": false,
    "deletable": false,
    "editable": false,
    "original-content": "## Determining the quality of regression models with the coefficient of determination\n",
    "protected": false,
    "selectable": false
   },
   "source": [
    "## Determining the quality of regression models with the coefficient of determination\n"
   ]
  },
  {
   "cell_type": "markdown",
   "metadata": {
    "cell_content_type": "markdown_selectable",
    "changed": false,
    "deletable": false,
    "editable": false,
    "original-content": "In addition to the *rooted mean squared error*, [the coefficient of determination](https://de.wikipedia.org/wiki/Bestimmtheitsma%C3%9F), also called $R^{2}$, is often used to determine model quality. The coefficient of determination indicates how much dispersion in the data can be explained by the linear regression model. The perfect regression model has a coefficient of determination of one. The worst $R^{2}$ value a standard linear regression can create is zero. What is the value for `model_metro` and `model_age`?\n\nImport the `r2_score()` function directly from the `sklearn.metrics` module.\n",
    "protected": false,
    "selectable": true
   },
   "source": [
    "In addition to the *rooted mean squared error*, [the coefficient of determination](https://de.wikipedia.org/wiki/Bestimmtheitsma%C3%9F), also called $R^{2}$, is often used to determine model quality. The coefficient of determination indicates how much dispersion in the data can be explained by the linear regression model. The perfect regression model has a coefficient of determination of one. The worst $R^{2}$ value a standard linear regression can create is zero. What is the value for `model_metro` and `model_age`?\n",
    "\n",
    "Import the `r2_score()` function directly from the `sklearn.metrics` module.\n"
   ]
  },
  {
   "cell_type": "code",
   "execution_count": 89,
   "metadata": {
    "cell_content_type": "code_user",
    "changed": false,
    "deletable": false,
    "editable": true,
    "hint": "Follow a similar process as you did above with `mean_squared_error()`.",
    "original-content": "",
    "protected": false,
    "selectable": true
   },
   "outputs": [],
   "source": [
    "from sklearn.metrics import r2_score"
   ]
  },
  {
   "cell_type": "markdown",
   "metadata": {
    "cell_content_type": "markdown_selectable",
    "changed": false,
    "deletable": false,
    "editable": false,
    "original-content": "Now use the `r2_score()` functions with the inputs `target` and `target_pred_age` to calculate the coefficient of determination.\n",
    "protected": false,
    "selectable": true
   },
   "source": [
    "Now use the `r2_score()` functions with the inputs `target` and `target_pred_age` to calculate the coefficient of determination.\n"
   ]
  },
  {
   "cell_type": "code",
   "execution_count": 90,
   "metadata": {
    "cell_content_type": "code_user",
    "changed": false,
    "deletable": false,
    "editable": true,
    "hint": "Write `r2_score(target, target_pred_age)` and run the cell.",
    "hint_counter": 1,
    "original-content": "",
    "protected": false,
    "selectable": true,
    "tags": []
   },
   "outputs": [
    {
     "data": {
      "text/plain": [
       "0.05149232152450056"
      ]
     },
     "execution_count": 90,
     "metadata": {},
     "output_type": "execute_result"
    }
   ],
   "source": [
    "r2_score(target, target_pred_age)"
   ]
  },
  {
   "cell_type": "markdown",
   "metadata": {
    "cell_content_type": "markdown_selectable",
    "changed": false,
    "deletable": false,
    "editable": false,
    "original-content": "Only 5% of the dispersion in the data is explained by the model with age data. That is a further indication that the age data of the houses on its own is not really suitable for predicting the real estate price. Now calculate the coefficient of determination for `model_metro`.\n",
    "protected": false,
    "selectable": true
   },
   "source": [
    "Only 5% of the dispersion in the data is explained by the model with age data. That is a further indication that the age data of the houses on its own is not really suitable for predicting the real estate price. Now calculate the coefficient of determination for `model_metro`.\n"
   ]
  },
  {
   "cell_type": "code",
   "execution_count": 96,
   "metadata": {
    "cell_content_type": "code_user",
    "changed": false,
    "deletable": false,
    "editable": true,
    "hint": "Use `r2_score()` with the inputs `target` and `target_pred_metro`.",
    "hint_counter": 1,
    "original-content": "",
    "protected": false,
    "selectable": true,
    "tags": []
   },
   "outputs": [
    {
     "data": {
      "text/plain": [
       "-0.3064184943277679"
      ]
     },
     "execution_count": 96,
     "metadata": {},
     "output_type": "execute_result"
    }
   ],
   "source": [
    "r2_score(target, target_pred_metro)"
   ]
  },
  {
   "cell_type": "markdown",
   "metadata": {
    "cell_content_type": "markdown_selectable",
    "changed": false,
    "deletable": false,
    "editable": false,
    "original-content": "44% of the dispersion in the data is explained by the model with metro distances. \n\nA look at the top graph and metric of model quality all suggest the same thing: The predictions from `model_metro` are more reliable than those from `model_age`.\n",
    "protected": false,
    "selectable": true
   },
   "source": [
    "44% of the dispersion in the data is explained by the model with metro distances. \n",
    "\n",
    "A look at the top graph and metric of model quality all suggest the same thing: The predictions from `model_metro` are more reliable than those from `model_age`.\n"
   ]
  },
  {
   "cell_type": "markdown",
   "metadata": {
    "cell_content_type": "markdown_default",
    "changed": false,
    "deletable": false,
    "editable": false,
    "messageType": "glueckwunsch",
    "original-content": "**Congratulations:** You have learned how to differentiate between two regression models. In this case it was a decision between models with different features but otherwise the same model type with the same hyperparameter settings. Data scientists can use metrics for model quality to compare all kinds of regression models. Regression models can also differ in how many features they use. But before we turn to regression models with more than one feature, let's quickly look at the assumptions of the linear regression model in the next lesson.\n",
    "protected": false,
    "selectable": false
   },
   "source": [
    "**Congratulations:** You have learned how to differentiate between two regression models. In this case it was a decision between models with different features but otherwise the same model type with the same hyperparameter settings. Data scientists can use metrics for model quality to compare all kinds of regression models. Regression models can also differ in how many features they use. But before we turn to regression models with more than one feature, let's quickly look at the assumptions of the linear regression model in the next lesson.\n"
   ]
  },
  {
   "cell_type": "markdown",
   "metadata": {
    "cell_content_type": "markdown_default",
    "changed": false,
    "deletable": false,
    "editable": false,
    "messageType": "merke",
    "original-content": "**Remember:**\n* The mean squared error expresses the mean squared distance between the prediction and measured value\n* The RMSE is the root of the MSE. It can be directly interpreted, since it has the same dimension as the *target*.\n* The coefficient of determination indicates how much dispersion in the data can be explained by the linear regression model.\n",
    "protected": false,
    "selectable": false
   },
   "source": [
    "**Remember:**\n",
    "* The mean squared error expresses the mean squared distance between the prediction and measured value\n",
    "* The RMSE is the root of the MSE. It can be directly interpreted, since it has the same dimension as the *target*.\n",
    "* The coefficient of determination indicates how much dispersion in the data can be explained by the linear regression model.\n"
   ]
  },
  {
   "cell_type": "markdown",
   "metadata": {
    "cell_content_type": "markdown_default",
    "changed": false,
    "deletable": false,
    "editable": false,
    "original-content": "***\nDo you have any questions about this exercise? Look in the forum to see if they have already been discussed.\n***\nFound a mistake? Contact Support at support@stackfuel.com.\n***\n",
    "protected": false,
    "selectable": false
   },
   "source": [
    "***\n",
    "Do you have any questions about this exercise? Look in the forum to see if they have already been discussed.\n",
    "***\n",
    "Found a mistake? Contact Support at support@stackfuel.com.\n",
    "***\n"
   ]
  }
 ],
 "metadata": {
  "content_id": "0f9bfef9-8d77-439e-835b-6764a002ebd4",
  "content_language": "en",
  "content_title": "Evaluating Regression Models",
  "content_type": "exercise",
  "kernelspec": {
   "display_name": "Python 3 (ipykernel)",
   "language": "python",
   "name": "python3"
  },
  "language_info": {
   "codemirror_mode": {
    "name": "ipython",
    "version": 3
   },
   "file_extension": ".py",
   "mimetype": "text/x-python",
   "name": "python",
   "nbconvert_exporter": "python",
   "pygments_lexer": "ipython3",
   "version": "3.8.10"
  }
 },
 "nbformat": 4,
 "nbformat_minor": 4
}
