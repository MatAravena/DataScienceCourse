{
 "cells": [
  {
   "cell_type": "markdown",
   "metadata": {
    "cell_content_type": "markdown_default",
    "changed": false,
    "deletable": false,
    "editable": false,
    "original-content": "# Too Many Features: Overfitting (Solution)\nModule 1 | Chapter 1 | Notebook 7\n\n***\nIf you give a machine learning model too much freedom to learn, then it learns the data by heart, so to speak, and and can no longer be used to make good predictions. If there are too many free parameters that are adapted to the data, this is called overfitting. Every slope in a linear regression model is a parameter in this way. You'll learn exactly what this is all about in this lesson. By the end of this exercise you will be able to:\n* Detect overfitting\n* Avoid overfitting\n***\n",
    "selectable": false
   },
   "source": [
    "# Too Many Features: Overfitting\n",
    "Module 1 | Chapter 1 | Notebook 7\n",
    "\n",
    "***\n",
    "If you give a machine learning model too much freedom to learn, then it learns the data by heart, so to speak, and and can no longer be used to make good predictions. If there are too many free parameters that are adapted to the data, this is called overfitting. Every slope in a linear regression model is a parameter in this way. You'll learn exactly what this is all about in this lesson. By the end of this exercise you will be able to:\n",
    "* Detect overfitting\n",
    "* Avoid overfitting\n",
    "***\n"
   ]
  },
  {
   "cell_type": "markdown",
   "metadata": {
    "cell_content_type": "markdown_default",
    "changed": false,
    "deletable": false,
    "editable": false,
    "original-content": "## Creating a Baseline Model\n",
    "selectable": false
   },
   "source": [
    "## Creating a Baseline Model\n"
   ]
  },
  {
   "cell_type": "markdown",
   "metadata": {
    "cell_content_type": "markdown_selectable",
    "changed": false,
    "deletable": false,
    "editable": false,
    "messageType": "szenario",
    "original-content": "**Scenario:** A Taiwanese investor comes to you to find out how much his properties in Taiwan are actually worth. He might want to resell them. The data on the houses is located in *Taiwan_real_estate_prediction_data.xlsx*. \n\nHe looked at your prediction based on the proximity to the nearest metro station and/or on the age of the house.  He would now like a prediction based on all the features we have. Is this kind of multiple linear regression model the best? The training data is in *Taiwan_real_estate_training_data.xlsx*.\n",
    "selectable": true
   },
   "source": [
    "**Scenario:** A Taiwanese investor comes to you to find out how much his properties in Taiwan are actually worth. He might want to resell them. The data on the houses is located in *Taiwan_real_estate_prediction_data.xlsx*. \n",
    "\n",
    "He looked at your prediction based on the proximity to the nearest metro station and/or on the age of the house.  He would now like a prediction based on all the features we have. Is this kind of multiple linear regression model the best? The training data is in *Taiwan_real_estate_training_data.xlsx*.\n"
   ]
  },
  {
   "cell_type": "markdown",
   "metadata": {
    "cell_content_type": "markdown_default",
    "changed": false,
    "deletable": false,
    "editable": false,
    "original-content": "In order to get started quickly, let's import the data and process it like we did in the last lesson.\n",
    "selectable": false
   },
   "source": [
    "In order to get started quickly, let's import the data and process it like we did in the last lesson.\n"
   ]
  },
  {
   "cell_type": "code",
   "execution_count": 1,
   "metadata": {
    "cell_content_type": "code_demo",
    "changed": false,
    "deletable": false,
    "editable": true,
    "hint": "If you would like, you can discuss this in the forum under *Too Many Features: Overfitting*.",
    "original-content": "import pandas as pd\ndf = pd.read_excel('Taiwan_real_estate_training_data.xlsx', index_col='No')\ncol_names = ['house_age', \n              'metro_distance', \n              'number_convenience_stores', \n              'number_parking_spaces',\n              'air_pollution',\n              'light_pollution',\n              'noise_pollution',\n              'neighborhood_quality',\n              'crime_score',\n              'energy_consumption',\n              'longitude', \n              'price_per_ping']\ndf.columns = col_names\ndf.loc[:, 'price_per_m2'] = df.loc[:, 'price_per_ping'] / 3.3",
    "selectable": true
   },
   "outputs": [],
   "source": [
    "import pandas as pd\n",
    "df = pd.read_excel('Taiwan_real_estate_training_data.xlsx', index_col='No')\n",
    "col_names = ['house_age', \n",
    "              'metro_distance', \n",
    "              'number_convenience_stores', \n",
    "              'number_parking_spaces',\n",
    "              'air_pollution',\n",
    "              'light_pollution',\n",
    "              'noise_pollution',\n",
    "              'neighborhood_quality',\n",
    "              'crime_score',\n",
    "              'energy_consumption',\n",
    "              'longitude', \n",
    "              'price_per_ping']\n",
    "df.columns = col_names\n",
    "df.loc[:, 'price_per_m2'] = df.loc[:, 'price_per_ping'] / 3.3"
   ]
  },
  {
   "cell_type": "markdown",
   "metadata": {
    "cell_content_type": "markdown_selectable",
    "changed": false,
    "deletable": false,
    "editable": false,
    "original-content": "The data dictionary for this data is as follows:\n\nColumn number | Column name       | Type      | Description\n ------------ | ---     | :---------:           | ------------:\n0              | `'house_age'` | continuous (`float`) | age of the house in years\n1              | `'metro_distance'` | continuous (`float`) | distance in meters to the next metro station\n2              | `'number_convenience_stores'` | continuous (`int`) | Number of convenience stores nearby\n3              | `'number_parking_spaces'` | continuous (`int`) | Number of parking spaces nearby\n4              | `'air_pollution'` | continuous (`float`) | Air pollution value near the house\n5              | `'light_pollution'` | continuous (`float`) | Light pollution value near the house\n6              | `'light_pollution'` | continuous (`float`) | Light pollution value near the house\n7              | `'neighborhood_quality'` | continuous (`float`) | average quality of life in the neighborhood\n8              | `'crime_score'` | continuous (`float`) | crime score according to police\n9              | `'energy_consumption'` | continuous (`float`) | The property's energy consumption\n10              | `'longitude'` | continuous (`float`) | The property's longitude\n11              | `'price_per_ping'` | continuous (`float`) | House price in Taiwan dollars per ping, one ping is 3.3 m²\n12              | `'price_per_ping'` | continuous (`float`) | House price in Taiwan dollars per m²\n",
    "selectable": true
   },
   "source": [
    "The data dictionary for this data is as follows:\n",
    "\n",
    "Column number | Column name       | Type      | Description\n",
    " ------------ | ---     | :---------:           | ------------:\n",
    "0              | `'house_age'` | continuous (`float`) | age of the house in years\n",
    "1              | `'metro_distance'` | continuous (`float`) | distance in meters to the next metro station\n",
    "2              | `'number_convenience_stores'` | continuous (`int`) | Number of convenience stores nearby\n",
    "3              | `'number_parking_spaces'` | continuous (`int`) | Number of parking spaces nearby\n",
    "4              | `'air_pollution'` | continuous (`float`) | Air pollution value near the house\n",
    "5              | `'light_pollution'` | continuous (`float`) | Light pollution value near the house\n",
    "6              | `'light_pollution'` | continuous (`float`) | Light pollution value near the house\n",
    "7              | `'neighborhood_quality'` | continuous (`float`) | average quality of life in the neighborhood\n",
    "8              | `'crime_score'` | continuous (`float`) | crime score according to police\n",
    "9              | `'energy_consumption'` | continuous (`float`) | The property's energy consumption\n",
    "10              | `'longitude'` | continuous (`float`) | The property's longitude\n",
    "11              | `'price_per_ping'` | continuous (`float`) | House price in Taiwan dollars per ping, one ping is 3.3 m²\n",
    "12              | `'price_per_ping'` | continuous (`float`) | House price in Taiwan dollars per m²\n"
   ]
  },
  {
   "cell_type": "markdown",
   "metadata": {
    "cell_content_type": "markdown_selectable",
    "changed": false,
    "deletable": false,
    "editable": false,
    "original-content": "Now let's get straight to the real estate investor's request. Use a multiple linear regression model to predict property prices based on the following features:\n```python\n['house_age',\n 'metro_distance', \n 'number_convenience_stores', \n 'number_parking_spaces',\n 'air_pollution',\n 'light_pollution',\n 'noise_pollution',\n 'neighborhood_quality',\n 'crime_score',\n 'energy_consumption',\n 'longitude']\n```\nSave the feature matrix in `features_multiple_all`. Store the model in `model_multiple_all`. Print the slopes and intercept.\n",
    "selectable": true
   },
   "source": [
    "Now let's get straight to the real estate investor's request. Use a multiple linear regression model to predict property prices based on the following features:\n",
    "```python\n",
    "['house_age',\n",
    " 'metro_distance', \n",
    " 'number_convenience_stores', \n",
    " 'number_parking_spaces',\n",
    " 'air_pollution',\n",
    " 'light_pollution',\n",
    " 'noise_pollution',\n",
    " 'neighborhood_quality',\n",
    " 'crime_score',\n",
    " 'energy_consumption',\n",
    " 'longitude']\n",
    "```\n",
    "Save the feature matrix in `features_multiple_all`. Store the model in `model_multiple_all`. Print the slopes and intercept.\n"
   ]
  },
  {
   "cell_type": "code",
   "execution_count": 2,
   "metadata": {
    "cell_content_type": "code_user",
    "changed": false,
    "deletable": false,
    "editable": true,
    "hint": "Follow the first four of the five steps you learned in *Simple Linear Regression with sklearn*. Start with `from sklearn.linear_model import LinearRegression`. End with `print('Intercept: ', model_multiple_all.intercept_)`.",
    "original-content": "",
    "selectable": true
   },
   "outputs": [
    {
     "name": "stdout",
     "output_type": "stream",
     "text": [
      "Slope:  [ -0.08080605  -0.00157327   0.58572668  -0.02730774  -0.00143356\n",
      "   0.00496967  -0.02051466   2.27005373  -0.15999745  -0.00045578\n",
      " -31.99795736]\n",
      "Intercept:  3901.708990997849\n"
     ]
    }
   ],
   "source": [
    "from sklearn.linear_model import LinearRegression\n",
    "model_multiple_all = LinearRegression()\n",
    "\n",
    "features_multiple_all = df.loc[:, ['house_age',\n",
    " 'metro_distance', \n",
    " 'number_convenience_stores', \n",
    " 'number_parking_spaces',\n",
    " 'air_pollution',\n",
    " 'light_pollution',\n",
    " 'noise_pollution',\n",
    " 'neighborhood_quality',\n",
    " 'crime_score',\n",
    " 'energy_consumption',\n",
    " 'longitude']]\n",
    "target = df.loc[:,'price_per_m2']\n",
    "model_multiple_all.fit( features_multiple_all, target)\n",
    "\n",
    "\n",
    "import numpy as np; np.set_printoptions(suppress=True)  # suppress scientific notation for ease of interpretation\n",
    "print('Slope: ', model_multiple_all.coef_)  # beta (slope)\n",
    "print('Intercept: ', model_multiple_all.intercept_)  # intercept"
   ]
  },
  {
   "cell_type": "markdown",
   "metadata": {
    "cell_content_type": "markdown_default",
    "changed": false,
    "deletable": false,
    "editable": false,
    "original-content": "We end up with the following regression formula:\n\n\\begin{equation*}\nhouse price\\, \\ per\\, \\ m² = 3902 - (0.081 \\cdot house age) - (0.002 \\cdot metro distance) + (0.586 \\cdot number \\, food stores) - (0.03 \\cdot number \\, parking spaces) - (0.001 \\cdot air pollution value) + (0.005 \\cdot light pollution value) - (0.02 \\cdot noise pollution value) + (2.27 \\cdot neighborhood value) - (0.16 \\cdot crime value) - (0.0005 \\cdot energy consumption) - (32.00 \\cdot latitude)\n\\end{equation*}\n\nHow good is this kind of large multiple linear regression model? Calculate the mean squared error (*mean squared error*), the RMSE (*rooted mean squared error*) and the coefficient of determination (*R²*)\n",
    "selectable": false
   },
   "source": [
    "We end up with the following regression formula:\n",
    "\n",
    "\\begin{equation*}\n",
    "house price\\, \\ per\\, \\ m² = 3902 - (0.081 \\cdot house age) - (0.002 \\cdot metro distance) + (0.586 \\cdot number \\, food stores) - (0.03 \\cdot number \\, parking spaces) - (0.001 \\cdot air pollution value) + (0.005 \\cdot light pollution value) - (0.02 \\cdot noise pollution value) + (2.27 \\cdot neighborhood value) - (0.16 \\cdot crime value) - (0.0005 \\cdot energy consumption) - (32.00 \\cdot latitude)\n",
    "\\end{equation*}\n",
    "\n",
    "How good is this kind of large multiple linear regression model? Calculate the mean squared error (*mean squared error*), the RMSE (*rooted mean squared error*) and the coefficient of determination (*R²*)\n"
   ]
  },
  {
   "cell_type": "code",
   "execution_count": 3,
   "metadata": {
    "cell_content_type": "code_user",
    "changed": false,
    "deletable": false,
    "editable": true,
    "hint": "Start by importing the relevant functions from the `sklearn.metrics` module. Then calculate which house prices the model predicts: `target_pred = model_multiple_all.predict(features_multiple_all)`. You can then use these values to determine the the model quality metric.",
    "original-content": "",
    "selectable": true
   },
   "outputs": [
    {
     "name": "stdout",
     "output_type": "stream",
     "text": [
      "MSE:  7.766393941469823\n",
      "RMSE:  2.786825064741205\n",
      "R2:  0.565862831083511\n"
     ]
    }
   ],
   "source": [
    "from sklearn.metrics import mean_squared_error, r2_score\n",
    "import numpy as np\n",
    "\n",
    "target_pred = model_multiple_all.predict(features_multiple_all)\n",
    "print('MSE: ', mean_squared_error(target, target_pred))\n",
    "print('RMSE: ', np.sqrt(mean_squared_error(target, target_pred)))\n",
    "print('R2: ', r2_score(target, target_pred))\n"
   ]
  },
  {
   "cell_type": "markdown",
   "metadata": {
    "cell_content_type": "markdown_selectable",
    "changed": false,
    "deletable": false,
    "editable": false,
    "original-content": "The values look very good. If we compare them with the model quality metrics calculated so far, it becomes apparent that this model is better than all the others.\n\nModel| MSE| *R²*\n---|---|---\n`model_age`| 16.97 | 5.1%\n`model_metro`| 10.07 | 43.6%\n`model_stores`| 12.21 | 31.8% \n`model_multiple`| 9.34 | 47.8% \n`model_multiple_all`| 7.76 | 56.6%\n",
    "selectable": true
   },
   "source": [
    "The values look very good. If we compare them with the model quality metrics calculated so far, it becomes apparent that this model is better than all the others.\n",
    "\n",
    "Model| MSE| *R²*\n",
    "---|---|---\n",
    "`model_age`| 16.97 | 5.1%\n",
    "`model_metro`| 10.07 | 43.6%\n",
    "`model_stores`| 12.21 | 31.8% \n",
    "`model_multiple`| 9.34 | 47.8% \n",
    "`model_multiple_all`| 7.76 | 56.6%\n"
   ]
  },
  {
   "cell_type": "markdown",
   "metadata": {
    "cell_content_type": "markdown_default",
    "changed": false,
    "deletable": false,
    "editable": false,
    "original-content": "We will use this model as the *baseline model*. It will be a guide as to whether our optimization steps are taking us in the right direction.\n",
    "selectable": false
   },
   "source": [
    "We will use this model as the *baseline model*. It will be a guide as to whether our optimization steps are taking us in the right direction.\n"
   ]
  },
  {
   "cell_type": "markdown",
   "metadata": {
    "cell_content_type": "markdown_default",
    "changed": false,
    "deletable": false,
    "editable": false,
    "messageType": "glueckwunsch",
    "original-content": "**Congratulations:** The large multiple linear regression model looks very good according to the model quality metrics. As data scientists, we are particularly interested in the how accurate our model's predictions are. In general, you shouldn't evaluate your model with the same data the algorithm used to learn. Now you'll see why.\n",
    "selectable": false
   },
   "source": [
    "**Congratulations:** The large multiple linear regression model looks very good according to the model quality metrics. As data scientists, we are particularly interested in the how accurate our model's predictions are. In general, you shouldn't evaluate your model with the same data the algorithm used to learn. Now you'll see why.\n"
   ]
  },
  {
   "cell_type": "markdown",
   "metadata": {
    "cell_content_type": "markdown_default",
    "changed": false,
    "deletable": false,
    "editable": false,
    "original-content": "## Independent test data\n",
    "selectable": false
   },
   "source": [
    "## Independent test data\n"
   ]
  },
  {
   "cell_type": "markdown",
   "metadata": {
    "cell_content_type": "markdown_selectable",
    "changed": false,
    "deletable": false,
    "editable": false,
    "messageType": "szenario",
    "original-content": "**Scenario:** The Taiwanese investor doesn't completely trust the large multiple linear regression model. He also put some data to one side to use for a test. You weren't able to use this data during the training phase. How well our model can predict this test data will now be the deciding factor in which model is the most reliable. The test data is stored in *Taiwan_real_estate_test_data.xlsx*.\n",
    "selectable": true
   },
   "source": [
    "**Scenario:** The Taiwanese investor doesn't completely trust the large multiple linear regression model. He also put some data to one side to use for a test. You weren't able to use this data during the training phase. How well our model can predict this test data will now be the deciding factor in which model is the most reliable. The test data is stored in *Taiwan_real_estate_test_data.xlsx*.\n"
   ]
  },
  {
   "cell_type": "markdown",
   "metadata": {
    "cell_content_type": "markdown_selectable",
    "changed": false,
    "deletable": false,
    "editable": false,
    "original-content": "First import *Taiwan_real_estate_test_data.xlsx* and store the data in `df_test`. Calculate the `'price_per_m2'` column using the following formula:\n\n\\begin{equation*}\nHouse price\\, \\ per\\, \\ square\\,meter = \\frac{House price\\, \\ per\\, \\ ping}{3,3}\n\\end{equation*}\n\nand add it to `df_test`. Then print the first 5 rows (all columns) of `df_test`.\n\nTip: Use the `'No'` column as the row name column again. Rename the columns just like you did with `df` by using `col_names`.\n",
    "selectable": true
   },
   "source": [
    "First import *Taiwan_real_estate_test_data.xlsx* and store the data in `df_test`. Calculate the `'price_per_m2'` column using the following formula:\n",
    "\n",
    "\\begin{equation*}\n",
    "House price\\, \\ per\\, \\ square\\,meter = \\frac{House price\\, \\ per\\, \\ ping}{3,3}\n",
    "\\end{equation*}\n",
    "\n",
    "and add it to `df_test`. Then print the first 5 rows (all columns) of `df_test`.\n",
    "\n",
    "Tip: Use the `'No'` column as the row name column again. Rename the columns just like you did with `df` by using `col_names`.\n"
   ]
  },
  {
   "cell_type": "code",
   "execution_count": 4,
   "metadata": {
    "cell_content_type": "code_user",
    "changed": false,
    "deletable": false,
    "editable": true,
    "hint": "Use the first code cell from this lesson as a guide.",
    "hint_counter": 1,
    "original-content": "",
    "selectable": true,
    "tags": []
   },
   "outputs": [
    {
     "data": {
      "text/html": [
       "<div>\n",
       "<style scoped>\n",
       "    .dataframe tbody tr th:only-of-type {\n",
       "        vertical-align: middle;\n",
       "    }\n",
       "\n",
       "    .dataframe tbody tr th {\n",
       "        vertical-align: top;\n",
       "    }\n",
       "\n",
       "    .dataframe thead th {\n",
       "        text-align: right;\n",
       "    }\n",
       "</style>\n",
       "<table border=\"1\" class=\"dataframe\">\n",
       "  <thead>\n",
       "    <tr style=\"text-align: right;\">\n",
       "      <th></th>\n",
       "      <th>house_age</th>\n",
       "      <th>metro_distance</th>\n",
       "      <th>number_convenience_stores</th>\n",
       "      <th>number_parking_spaces</th>\n",
       "      <th>air_pollution</th>\n",
       "      <th>light_pollution</th>\n",
       "      <th>noise_pollution</th>\n",
       "      <th>neighborhood_quality</th>\n",
       "      <th>crime_score</th>\n",
       "      <th>energy_consumption</th>\n",
       "      <th>longitude</th>\n",
       "      <th>price_per_ping</th>\n",
       "      <th>price_per_m2</th>\n",
       "    </tr>\n",
       "    <tr>\n",
       "      <th>No</th>\n",
       "      <th></th>\n",
       "      <th></th>\n",
       "      <th></th>\n",
       "      <th></th>\n",
       "      <th></th>\n",
       "      <th></th>\n",
       "      <th></th>\n",
       "      <th></th>\n",
       "      <th></th>\n",
       "      <th></th>\n",
       "      <th></th>\n",
       "      <th></th>\n",
       "      <th></th>\n",
       "    </tr>\n",
       "  </thead>\n",
       "  <tbody>\n",
       "    <tr>\n",
       "      <th>315</th>\n",
       "      <td>3.7</td>\n",
       "      <td>577.9615</td>\n",
       "      <td>6</td>\n",
       "      <td>108</td>\n",
       "      <td>480.000000</td>\n",
       "      <td>1.099596</td>\n",
       "      <td>146.430378</td>\n",
       "      <td>0.485457</td>\n",
       "      <td>0.556433</td>\n",
       "      <td>103.639798</td>\n",
       "      <td>121.54722</td>\n",
       "      <td>41.6</td>\n",
       "      <td>12.606061</td>\n",
       "    </tr>\n",
       "    <tr>\n",
       "      <th>316</th>\n",
       "      <td>15.6</td>\n",
       "      <td>1756.4110</td>\n",
       "      <td>2</td>\n",
       "      <td>54</td>\n",
       "      <td>1607.727683</td>\n",
       "      <td>1.456661</td>\n",
       "      <td>229.970916</td>\n",
       "      <td>0.390628</td>\n",
       "      <td>0.850871</td>\n",
       "      <td>56.356143</td>\n",
       "      <td>121.51812</td>\n",
       "      <td>27.3</td>\n",
       "      <td>8.272727</td>\n",
       "    </tr>\n",
       "    <tr>\n",
       "      <th>317</th>\n",
       "      <td>13.3</td>\n",
       "      <td>250.6310</td>\n",
       "      <td>7</td>\n",
       "      <td>83</td>\n",
       "      <td>34.689814</td>\n",
       "      <td>6.098307</td>\n",
       "      <td>273.824975</td>\n",
       "      <td>0.631295</td>\n",
       "      <td>0.762503</td>\n",
       "      <td>93.381480</td>\n",
       "      <td>121.54297</td>\n",
       "      <td>42.0</td>\n",
       "      <td>12.727273</td>\n",
       "    </tr>\n",
       "    <tr>\n",
       "      <th>318</th>\n",
       "      <td>15.6</td>\n",
       "      <td>752.7669</td>\n",
       "      <td>2</td>\n",
       "      <td>63</td>\n",
       "      <td>492.150645</td>\n",
       "      <td>0.071399</td>\n",
       "      <td>124.359973</td>\n",
       "      <td>0.526502</td>\n",
       "      <td>0.852945</td>\n",
       "      <td>92.024473</td>\n",
       "      <td>121.53451</td>\n",
       "      <td>37.5</td>\n",
       "      <td>11.363636</td>\n",
       "    </tr>\n",
       "    <tr>\n",
       "      <th>319</th>\n",
       "      <td>7.1</td>\n",
       "      <td>379.5575</td>\n",
       "      <td>10</td>\n",
       "      <td>123</td>\n",
       "      <td>253.417158</td>\n",
       "      <td>7.865223</td>\n",
       "      <td>185.210828</td>\n",
       "      <td>0.403618</td>\n",
       "      <td>0.910539</td>\n",
       "      <td>52.222489</td>\n",
       "      <td>121.53762</td>\n",
       "      <td>49.8</td>\n",
       "      <td>15.090909</td>\n",
       "    </tr>\n",
       "  </tbody>\n",
       "</table>\n",
       "</div>"
      ],
      "text/plain": [
       "     house_age  metro_distance  number_convenience_stores  \\\n",
       "No                                                          \n",
       "315        3.7        577.9615                          6   \n",
       "316       15.6       1756.4110                          2   \n",
       "317       13.3        250.6310                          7   \n",
       "318       15.6        752.7669                          2   \n",
       "319        7.1        379.5575                         10   \n",
       "\n",
       "     number_parking_spaces  air_pollution  light_pollution  noise_pollution  \\\n",
       "No                                                                            \n",
       "315                    108     480.000000         1.099596       146.430378   \n",
       "316                     54    1607.727683         1.456661       229.970916   \n",
       "317                     83      34.689814         6.098307       273.824975   \n",
       "318                     63     492.150645         0.071399       124.359973   \n",
       "319                    123     253.417158         7.865223       185.210828   \n",
       "\n",
       "     neighborhood_quality  crime_score  energy_consumption  longitude  \\\n",
       "No                                                                      \n",
       "315              0.485457     0.556433          103.639798  121.54722   \n",
       "316              0.390628     0.850871           56.356143  121.51812   \n",
       "317              0.631295     0.762503           93.381480  121.54297   \n",
       "318              0.526502     0.852945           92.024473  121.53451   \n",
       "319              0.403618     0.910539           52.222489  121.53762   \n",
       "\n",
       "     price_per_ping  price_per_m2  \n",
       "No                                 \n",
       "315            41.6     12.606061  \n",
       "316            27.3      8.272727  \n",
       "317            42.0     12.727273  \n",
       "318            37.5     11.363636  \n",
       "319            49.8     15.090909  "
      ]
     },
     "execution_count": 4,
     "metadata": {},
     "output_type": "execute_result"
    }
   ],
   "source": [
    "df_test = pd.read_excel('Taiwan_real_estate_test_data.xlsx', index_col='No')\n",
    "df_test.columns = col_names\n",
    "df_test.loc[:, 'price_per_m2'] = df_test.loc[:, 'price_per_ping'] / 3.3\n",
    "df_test.head()"
   ]
  },
  {
   "cell_type": "markdown",
   "metadata": {
    "cell_content_type": "markdown_selectable",
    "changed": false,
    "deletable": false,
    "editable": false,
    "original-content": "`df_test` now contains data which is very similar to the data in `df` in principle. Does `model_multiple_all` manage to predict the values in the `'price_per_m2'` column of `df_test` well? Create a feature matrix `features_test` and a target vector `target_test` to test it.\n",
    "selectable": true
   },
   "source": [
    "`df_test` now contains data which is very similar to the data in `df` in principle. Does `model_multiple_all` manage to predict the values in the `'price_per_m2'` column of `df_test` well? Create a feature matrix `features_test` and a target vector `target_test` to test it.\n"
   ]
  },
  {
   "cell_type": "code",
   "execution_count": 5,
   "metadata": {
    "cell_content_type": "code_user",
    "changed": false,
    "deletable": false,
    "editable": true,
    "hint": "Make sure that `features_test` and `target_test` contain data from `df_test`, e.g. `target_test = df_test.loc[:, 'price_per_m2']`. In addition, `features_test` should contain as many features as `features_multiple_all`.",
    "hint_counter": 1,
    "original-content": "",
    "selectable": true,
    "tags": []
   },
   "outputs": [],
   "source": [
    "features_test = df_test.loc[:, ['house_age',\n",
    " 'metro_distance', \n",
    " 'number_convenience_stores', \n",
    " 'number_parking_spaces',\n",
    " 'air_pollution',\n",
    " 'light_pollution',\n",
    " 'noise_pollution',\n",
    " 'neighborhood_quality',\n",
    " 'crime_score',\n",
    " 'energy_consumption',\n",
    " 'longitude']]\n",
    "target_test = df_test.loc[:,'price_per_m2']\n"
   ]
  },
  {
   "cell_type": "markdown",
   "metadata": {
    "cell_content_type": "markdown_selectable",
    "changed": false,
    "deletable": false,
    "editable": false,
    "original-content": "Now use `model_multiple_all` together with its `my_model.predict()` method and `features_test` to predict house prices. Assign this to `target_test_pred`. You should then compare these with the actual house prices from the test data set, which are in `target_test`. Use the *mean squared error*, the *RMSE* and *R²*.\n",
    "selectable": true
   },
   "source": [
    "Now use `model_multiple_all` together with its `my_model.predict()` method and `features_test` to predict house prices. Assign this to `target_test_pred`. You should then compare these with the actual house prices from the test data set, which are in `target_test`. Use the *mean squared error*, the *RMSE* and *R²*.\n"
   ]
  },
  {
   "cell_type": "code",
   "execution_count": 6,
   "metadata": {
    "cell_content_type": "code_user",
    "changed": false,
    "deletable": false,
    "editable": true,
    "hint": "First calculate `target_test_pred` like this: `target_test_pred = model_multiple_all.predict(features_test)`",
    "hint_counter": 1,
    "original-content": "",
    "selectable": true,
    "tags": []
   },
   "outputs": [
    {
     "name": "stdout",
     "output_type": "stream",
     "text": [
      "31.76765041220873\n",
      "5.636279837996756\n",
      "-1.4015802907439143\n"
     ]
    }
   ],
   "source": [
    "target_pred_test = model_multiple_all.predict(features_test)\n",
    "\n",
    "print(mean_squared_error(target_test, target_pred_test))\n",
    "print(np.sqrt(mean_squared_error(target_test, target_pred_test)))\n",
    "print(r2_score(target_test, target_pred_test))"
   ]
  },
  {
   "cell_type": "markdown",
   "metadata": {
    "cell_content_type": "markdown_selectable",
    "changed": false,
    "deletable": false,
    "editable": false,
    "original-content": "These values are extraordinarily bad. The predicted house prices in the test data set  are $\\sqrt{31.77}$, i.e. 5.64 dollars per square meter, off target on average. The coefficient of determination is below zero. This means that the average price of of the houses without any kind of distinction provides a better prediction than this complicated model.\n\nCould this be due to the test data itself? Maybe it's the data that's incorrect?  It's best to try out how well `model_multiple` predicts the data with the features `'house_age'` and `'metro_distance'`. Instantiate the model, fit it to the **training data set** in `fd` and then calculate the *mean squared error* and *R²* quality metrics using the **test data set** in `df_test`.\n",
    "selectable": true
   },
   "source": [
    "These values are extraordinarily bad. The predicted house prices in the test data set  are $\\sqrt{31.77}$, i.e. 5.64 dollars per square meter, off target on average. The coefficient of determination is below zero. This means that the average price of of the houses without any kind of distinction provides a better prediction than this complicated model.\n",
    "\n",
    "Could this be due to the test data itself? Maybe it's the data that's incorrect?  It's best to try out how well `model_multiple` predicts the data with the features `'house_age'` and `'metro_distance'`. Instantiate the model, fit it to the **training data set** in `fd` and then calculate the *mean squared error* and *R²* quality metrics using the **test data set** in `df_test`.\n"
   ]
  },
  {
   "cell_type": "code",
   "execution_count": 7,
   "metadata": {
    "cell_content_type": "code_user",
    "changed": false,
    "deletable": false,
    "editable": true,
    "hint": "The feature matrix should now be defined like this: `features_multiple = df.loc[:, ['house_age', 'metro_distance']]`. You can reuse the variables `target` and `target_test`.",
    "hint_counter": 1,
    "original-content": "",
    "selectable": true,
    "tags": []
   },
   "outputs": [
    {
     "name": "stdout",
     "output_type": "stream",
     "text": [
      "MSE:  9.719702133987989\n",
      "RMSE:  3.117643682974048\n",
      "R2:  0.2652070652377795\n"
     ]
    }
   ],
   "source": [
    "model_multiple = LinearRegression()\n",
    "\n",
    "features_multiple = df.loc[:, ['house_age', 'metro_distance']]\n",
    "features_test_multiple = df_test.loc[:, ['house_age', 'metro_distance']]\n",
    "\n",
    "model_multiple.fit(features_multiple, target)\n",
    "\n",
    "target_test_pred_multiple = model_multiple.predict(features_test_multiple)\n",
    "\n",
    "print('MSE: ', mean_squared_error(target_test, target_test_pred_multiple))\n",
    "print('RMSE: ', np.sqrt(mean_squared_error(target_test, target_test_pred_multiple)))\n",
    "print('R2: ', r2_score(target_test, target_test_pred_multiple))\n"
   ]
  },
  {
   "cell_type": "markdown",
   "metadata": {
    "cell_content_type": "markdown_selectable",
    "changed": false,
    "deletable": false,
    "editable": false,
    "original-content": "`model_multiple` is much better at predicting the test data. For example, the mean square error is now only 9.72. So the forecasts are only off by an average of $3.12 per square meter. \n\nNow we can evaluate the performance of all previous models based on the test data in a similar way.\n",
    "selectable": true
   },
   "source": [
    "`model_multiple` is much better at predicting the test data. For example, the mean square error is now only 9.72. So the forecasts are only off by an average of $3.12 per square meter. \n",
    "\n",
    "Now we can evaluate the performance of all previous models based on the test data in a similar way.\n"
   ]
  },
  {
   "cell_type": "code",
   "execution_count": 8,
   "metadata": {
    "cell_content_type": "code_demo",
    "changed": false,
    "deletable": false,
    "editable": true,
    "hint": "If you would like, you can discuss this in the forum under *Too Many Features: Overfitting*.",
    "original-content": "features_cols = {'model_age' : ['house_age'],  # model_age\n                 'model_metro' : ['metro_distance'],  # model_metro\n                 'model_stores' : ['number_convenience_stores'],  # model_stores\n                 'model_multiple' : ['house_age', 'metro_distance'],  # model_multiple\n                 'model_multiple_all' : df.columns[:-2]}  # model_multiple_all\n\nfor name, features_col in features_cols.items():\n    print(name)\n    print('---------------------')\n    print('Features: ', features_col)\n    \n    model_tmp = LinearRegression()\n    \n    features_tmp = df.loc[:, features_col]\n\n    model_tmp.fit(features_tmp, target)\n    \n    features_test_tmp = df_test.loc[:, features_col]\n    \n    target_test_pred_tmp = model_tmp.predict(features_test_tmp)    \n    print('MSE: ', mean_squared_error(target_test, target_test_pred_tmp))\n    print('R2: ', r2_score(target_test, target_test_pred_tmp), '\\n')\n    ",
    "selectable": true
   },
   "outputs": [
    {
     "name": "stdout",
     "output_type": "stream",
     "text": [
      "model_age\n",
      "---------------------\n",
      "Features:  ['house_age']\n",
      "MSE:  11.890328785593141\n",
      "R2:  0.10111138559459787 \n",
      "\n",
      "model_metro\n",
      "---------------------\n",
      "Features:  ['metro_distance']\n",
      "MSE:  10.268754788766552\n",
      "R2:  0.2236996192294317 \n",
      "\n",
      "model_stores\n",
      "---------------------\n",
      "Features:  ['number_convenience_stores']\n",
      "MSE:  11.286542007618975\n",
      "R2:  0.1467566381385902 \n",
      "\n",
      "model_multiple\n",
      "---------------------\n",
      "Features:  ['house_age', 'metro_distance']\n",
      "MSE:  9.719702133987989\n",
      "R2:  0.2652070652377795 \n",
      "\n",
      "model_multiple_all\n",
      "---------------------\n",
      "Features:  Index(['house_age', 'metro_distance', 'number_convenience_stores',\n",
      "       'number_parking_spaces', 'air_pollution', 'light_pollution',\n",
      "       'noise_pollution', 'neighborhood_quality', 'crime_score',\n",
      "       'energy_consumption', 'longitude'],\n",
      "      dtype='object')\n",
      "MSE:  31.76765041220873\n",
      "R2:  -1.4015802907439143 \n",
      "\n"
     ]
    }
   ],
   "source": [
    "features_cols = {'model_age' : ['house_age'],  # model_age\n",
    "                 'model_metro' : ['metro_distance'],  # model_metro\n",
    "                 'model_stores' : ['number_convenience_stores'],  # model_stores\n",
    "                 'model_multiple' : ['house_age', 'metro_distance'],  # model_multiple\n",
    "                 'model_multiple_all' : df.columns[:-2]}  # model_multiple_all\n",
    "\n",
    "for name, features_col in features_cols.items():\n",
    "    print(name)\n",
    "    print('---------------------')\n",
    "    print('Features: ', features_col)\n",
    "    \n",
    "    model_tmp = LinearRegression()\n",
    "    \n",
    "    features_tmp = df.loc[:, features_col]\n",
    "\n",
    "    model_tmp.fit(features_tmp, target)\n",
    "    \n",
    "    features_test_tmp = df_test.loc[:, features_col]\n",
    "    \n",
    "    target_test_pred_tmp = model_tmp.predict(features_test_tmp)    \n",
    "    print('MSE: ', mean_squared_error(target_test, target_test_pred_tmp))\n",
    "    print('R2: ', r2_score(target_test, target_test_pred_tmp), '\\n')\n",
    "    "
   ]
  },
  {
   "cell_type": "markdown",
   "metadata": {
    "cell_content_type": "markdown_selectable",
    "changed": false,
    "deletable": false,
    "editable": false,
    "original-content": "Looking at the performance of the other models we have worked with so far, we get the following table:\n\nModel| Training: MSE| Training: *R²* | Test: MSE | Test: *R²*\n---|---|---|---|---\n`model_age`| 16.97 | 5.1% | 11.89 | 10.1%\n`model_metro`| 10.07 | 43.6%`| 10.07 | 22.4%\n`model_stores`| 12.21 | 31.8%`| 11.29 | 14.7%\n`model_multiple`| 9.34 | 47.8% | 9.72 | 26.5%\n`model_multiple_all`| 7.76 | 56.6% | 31.77 | -140.2%\n",
    "selectable": true
   },
   "source": [
    "Looking at the performance of the other models we have worked with so far, we get the following table:\n",
    "\n",
    "Model| Training: MSE| Training: *R²* | Test: MSE | Test: *R²*\n",
    "---|---|---|---|---\n",
    "`model_age`| 16.97 | 5.1% | 11.89 | 10.1%\n",
    "`model_metro`| 10.07 | 43.6%`| 10.07 | 22.4%\n",
    "`model_stores`| 12.21 | 31.8%`| 11.29 | 14.7%\n",
    "`model_multiple`| 9.34 | 47.8% | 9.72 | 26.5%\n",
    "`model_multiple_all`| 7.76 | 56.6% | 31.77 | -140.2%\n"
   ]
  },
  {
   "cell_type": "markdown",
   "metadata": {
    "cell_content_type": "markdown_selectable",
    "changed": false,
    "deletable": false,
    "editable": false,
    "original-content": "With one exception (`model_age`), the trained models seem to predict the **training data** better than the **test data**. Compared to the test data, the *mean squared error* is generally smaller for the training data, while the coefficient of determination is larger for the training data. So almost all models perform better with the data they had available to train with.\n\nA closer look, however, also shows that for relatively simple models (all of them except `model_multiple_all`) a model gets a better score on test data, if it was also able to make better predictions with the training data than the other models. For both the training data and the test data, `model_multiple` performs better than `model_metro`, which in turn makes better predictions than `model_stores`.\n\nIf you only look at the relatively simple models with less than 3 features, you might think that more features lead to better predictions. For models with few features, this statement is true for predicting training data as well as predicting test data. \n\nYou only start to see a discrepancy between training data and test data when you start using a lot of features. A model with many features can only predict the training data it trained with well. If you give it independent new test data, it is totally overwhelmed. **[Overfitting](https://en.wikipedia.org/wiki/Overfitting) describes the state of a machine learning model, which predicts training data much better than test data.**\n",
    "selectable": true
   },
   "source": [
    "With one exception (`model_age`), the trained models seem to predict the **training data** better than the **test data**. Compared to the test data, the *mean squared error* is generally smaller for the training data, while the coefficient of determination is larger for the training data. So almost all models perform better with the data they had available to train with.\n",
    "\n",
    "A closer look, however, also shows that for relatively simple models (all of them except `model_multiple_all`) a model gets a better score on test data, if it was also able to make better predictions with the training data than the other models. For both the training data and the test data, `model_multiple` performs better than `model_metro`, which in turn makes better predictions than `model_stores`.\n",
    "\n",
    "If you only look at the relatively simple models with less than 3 features, you might think that more features lead to better predictions. For models with few features, this statement is true for predicting training data as well as predicting test data. \n",
    "\n",
    "You only start to see a discrepancy between training data and test data when you start using a lot of features. A model with many features can only predict the training data it trained with well. If you give it independent new test data, it is totally overwhelmed. **[Overfitting](https://en.wikipedia.org/wiki/Overfitting) describes the state of a machine learning model, which predicts training data much better than test data.**\n"
   ]
  },
  {
   "cell_type": "markdown",
   "metadata": {
    "cell_content_type": "markdown_default",
    "changed": false,
    "deletable": false,
    "editable": false,
    "messageType": "glueckwunsch",
    "original-content": "**Congratulations:** You have learned about the basic problem of overfitting. This will accompany us throughout the entire course, because all supervised learning algorithms can fall victim to overfitting. But before we turn to a possible strategy to avoid overfitting in linear regression models in the next lesson, let's take a look at the optimal number of features in our case. At what point do many features become too many features?\n",
    "selectable": false
   },
   "source": [
    "**Congratulations:** You have learned about the basic problem of overfitting. This will accompany us throughout the entire course, because all supervised learning algorithms can fall victim to overfitting. But before we turn to a possible strategy to avoid overfitting in linear regression models in the next lesson, let's take a look at the optimal number of features in our case. At what point do many features become too many features?\n"
   ]
  },
  {
   "cell_type": "markdown",
   "metadata": {
    "cell_content_type": "markdown_default",
    "changed": false,
    "deletable": false,
    "editable": false,
    "original-content": "## The bias-variance trade-off\n",
    "selectable": false
   },
   "source": [
    "## The bias-variance trade-off\n"
   ]
  },
  {
   "cell_type": "markdown",
   "metadata": {
    "cell_content_type": "markdown_selectable",
    "changed": false,
    "deletable": false,
    "editable": false,
    "original-content": "To explain *overfitting*, it can help to think of machine learning models as a trade-off between *bias* and *variance*. *bias* describes the average prediction error across different training datasets. A model with a very high *bias* hardly changes when the training data changes. \n\n*Variance* is exactly the opposite, *Variance* describes how sensitively the model reacts to changes in the training data set. A model with a very high *variance* changes a lot when the training data changes.\n\nTo illustrate bias and variance, imagine that our model's predictions represent the attempt to hit the center of a dartboard. Where the middle of the board represents the actual value to be predicted.\n\n<img src=\"01_01_07_pic1_biasVarianceTradeoff_en.png\" width=350>\n\nIn general, simpler models have a large *bias* and a small *variance*, whereas very complicated models have a small *bias* and a very large *variance*. In general, data scientist want to train models in such a way that they can learn the training data well (small *bias*) and then make predictions well for new data well (small *variance*).\n\nTo minimize both *bias* and *variance*, you need models that are neither simple (simple models have high *bias*) nor complex (complex models have high *variance*). So somewhere in the middle there is a model that is \"medium complex\". This model learns the training data well but it does not learn it completely by heart. This model can then optimally apply this knowledge to test data.\n\nLet's see if we can find this this optimal model that strikes that balance. The following code cell calculates the coefficient of determination of the training and test data for twelve regression models. With each iteration of the `for` loop, the regression model becomes more complex. In the beginning it contains only the first feature (`'house_age'`), then the first two (`['house_age', 'metro_distance']`) and so on. The resulting quality metrics are stored in the `DataFrame` `R2`.\n",
    "selectable": true
   },
   "source": [
    "To explain *overfitting*, it can help to think of machine learning models as a trade-off between *bias* and *variance*. *bias* describes the average prediction error across different training datasets. A model with a very high *bias* hardly changes when the training data changes. \n",
    "\n",
    "*Variance* is exactly the opposite, *Variance* describes how sensitively the model reacts to changes in the training data set. A model with a very high *variance* changes a lot when the training data changes.\n",
    "\n",
    "To illustrate bias and variance, imagine that our model's predictions represent the attempt to hit the center of a dartboard. Where the middle of the board represents the actual value to be predicted.\n",
    "\n",
    "<img src=\"01_01_07_pic1_biasVarianceTradeoff_en.png\" width=350>\n",
    "\n",
    "In general, simpler models have a large *bias* and a small *variance*, whereas very complicated models have a small *bias* and a very large *variance*. In general, data scientist want to train models in such a way that they can learn the training data well (small *bias*) and then make predictions well for new data well (small *variance*).\n",
    "\n",
    "To minimize both *bias* and *variance*, you need models that are neither simple (simple models have high *bias*) nor complex (complex models have high *variance*). So somewhere in the middle there is a model that is \"medium complex\". This model learns the training data well but it does not learn it completely by heart. This model can then optimally apply this knowledge to test data.\n",
    "\n",
    "Let's see if we can find this this optimal model that strikes that balance. The following code cell calculates the coefficient of determination of the training and test data for twelve regression models. With each iteration of the `for` loop, the regression model becomes more complex. In the beginning it contains only the first feature (`'house_age'`), then the first two (`['house_age', 'metro_distance']`) and so on. The resulting quality metrics are stored in the `DataFrame` `R2`.\n"
   ]
  },
  {
   "cell_type": "code",
   "execution_count": 9,
   "metadata": {
    "cell_content_type": "code_demo",
    "changed": false,
    "deletable": false,
    "editable": true,
    "hint": "If you would like, you can discuss this in the forum under *Too Many Features: Overfitting*.",
    "original-content": "R2 = pd.DataFrame({'training':[],\n                  'test': []})\n\nfor i in range(1, len(df.columns)-2):  # for each feature (not target)\n    \n    print('Features: ', df.columns[:i].format())\n    \n    # instantiate model\n    model_tmp = LinearRegression()\n    \n    # feature matrix and target vector\n    features = df.loc[:, df.columns[:i]]  # feature matrix for training data\n    target = df.loc[:, 'price_per_m2']  # target vector for training data\n    \n    # model fitting\n    model_tmp.fit(features, target)\n    \n    # model predictions (training data)\n    target_pred = model_tmp.predict(features)  # predict target values of training data\n    residuals = target - target_pred  # difference between predicted and actual target values \n    \n    R2.loc[i, 'training'] = r2_score(target, target_pred)  # calculate R2-score for training data and add it to DataFrame\n    print('R2-score (training): ', round(R2.loc[i, 'training'], 3))\n\n    # model predictions (test data)\n    features_test = df_test.loc[:, df_test.columns[:i]]  # feature matrix for test data\n    target_test = df_test.loc[:, 'price_per_m2']  # target_values of test data\n    target_test_pred = model_tmp.predict(features_test)  # predict target values of test data\n\n    R2.loc[i, 'test'] = r2_score(target_test, target_test_pred)  # calculate R2-score for test data and add it to DataFrame\n    print('R2-score (test): ', round(R2.loc[i, 'test'], 3), '\\n')",
    "selectable": true
   },
   "outputs": [
    {
     "name": "stdout",
     "output_type": "stream",
     "text": [
      "Features:  ['house_age']\n",
      "R2-score (training):  0.051\n",
      "R2-score (test):  0.101 \n",
      "\n",
      "Features:  ['house_age', 'metro_distance']\n",
      "R2-score (training):  0.478\n",
      "R2-score (test):  0.265 \n",
      "\n",
      "Features:  ['house_age', 'metro_distance', 'number_convenience_stores']\n",
      "R2-score (training):  0.524\n",
      "R2-score (test):  0.352 \n",
      "\n",
      "Features:  ['house_age', 'metro_distance', 'number_convenience_stores', 'number_parking_spaces']\n",
      "R2-score (training):  0.546\n",
      "R2-score (test):  0.086 \n",
      "\n",
      "Features:  ['house_age', 'metro_distance', 'number_convenience_stores', 'number_parking_spaces', 'air_pollution']\n",
      "R2-score (training):  0.547\n",
      "R2-score (test):  0.099 \n",
      "\n",
      "Features:  ['house_age', 'metro_distance', 'number_convenience_stores', 'number_parking_spaces', 'air_pollution', 'light_pollution']\n",
      "R2-score (training):  0.554\n",
      "R2-score (test):  0.038 \n",
      "\n",
      "Features:  ['house_age', 'metro_distance', 'number_convenience_stores', 'number_parking_spaces', 'air_pollution', 'light_pollution', 'noise_pollution']\n",
      "R2-score (training):  0.557\n",
      "R2-score (test):  -1.256 \n",
      "\n",
      "Features:  ['house_age', 'metro_distance', 'number_convenience_stores', 'number_parking_spaces', 'air_pollution', 'light_pollution', 'noise_pollution', 'neighborhood_quality']\n",
      "R2-score (training):  0.562\n",
      "R2-score (test):  -1.276 \n",
      "\n",
      "Features:  ['house_age', 'metro_distance', 'number_convenience_stores', 'number_parking_spaces', 'air_pollution', 'light_pollution', 'noise_pollution', 'neighborhood_quality', 'crime_score']\n",
      "R2-score (training):  0.562\n",
      "R2-score (test):  -1.304 \n",
      "\n",
      "Features:  ['house_age', 'metro_distance', 'number_convenience_stores', 'number_parking_spaces', 'air_pollution', 'light_pollution', 'noise_pollution', 'neighborhood_quality', 'crime_score', 'energy_consumption']\n",
      "R2-score (training):  0.562\n",
      "R2-score (test):  -1.326 \n",
      "\n"
     ]
    }
   ],
   "source": [
    "R2 = pd.DataFrame({'training':[],\n",
    "                  'test': []})\n",
    "\n",
    "for i in range(1, len(df.columns)-2):  # for each feature (not target)\n",
    "    \n",
    "    print('Features: ', df.columns[:i].format())\n",
    "    \n",
    "    # instantiate model\n",
    "    model_tmp = LinearRegression()\n",
    "    \n",
    "    # feature matrix and target vector\n",
    "    features = df.loc[:, df.columns[:i]]  # feature matrix for training data\n",
    "    target = df.loc[:, 'price_per_m2']  # target vector for training data\n",
    "    \n",
    "    # model fitting\n",
    "    model_tmp.fit(features, target)\n",
    "    \n",
    "    # model predictions (training data)\n",
    "    target_pred = model_tmp.predict(features)  # predict target values of training data\n",
    "    residuals = target - target_pred  # difference between predicted and actual target values \n",
    "    \n",
    "    R2.loc[i, 'training'] = r2_score(target, target_pred)  # calculate R2-score for training data and add it to DataFrame\n",
    "    print('R2-score (training): ', round(R2.loc[i, 'training'], 3))\n",
    "\n",
    "    # model predictions (test data)\n",
    "    features_test = df_test.loc[:, df_test.columns[:i]]  # feature matrix for test data\n",
    "    target_test = df_test.loc[:, 'price_per_m2']  # target_values of test data\n",
    "    target_test_pred = model_tmp.predict(features_test)  # predict target values of test data\n",
    "\n",
    "    R2.loc[i, 'test'] = r2_score(target_test, target_test_pred)  # calculate R2-score for test data and add it to DataFrame\n",
    "    print('R2-score (test): ', round(R2.loc[i, 'test'], 3), '\\n')"
   ]
  },
  {
   "cell_type": "markdown",
   "metadata": {
    "cell_content_type": "markdown_default",
    "changed": false,
    "deletable": false,
    "editable": false,
    "original-content": "Now we can visualize the coefficients of determination. The x axis describes the number of features in the linear regression model, while the y axis shows the *R²* value.\n",
    "selectable": false
   },
   "source": [
    "Now we can visualize the coefficients of determination. The x axis describes the number of features in the linear regression model, while the y axis shows the *R²* value.\n"
   ]
  },
  {
   "cell_type": "code",
   "execution_count": 10,
   "metadata": {
    "cell_content_type": "code_demo",
    "changed": false,
    "deletable": false,
    "editable": true,
    "hint": "If you would like, you can discuss this in the forum under *Too Many Features: Overfitting*.",
    "original-content": "R2.plot(ylim=[-1.5, 1],title=\"Vergleich Trainings- und Testscores\").set(xlabel=\"# Features\", \n                                                                     ylabel=\"$R^2$-Score\")",
    "selectable": true
   },
   "outputs": [
    {
     "data": {
      "image/png": "[encoded data removed]",
      "text/plain": [
       "<Figure size 432x288 with 1 Axes>"
      ]
     },
     "metadata": {
      "needs_background": "light"
     },
     "output_type": "display_data"
    }
   ],
   "source": [
    "R2.plot(ylim=[-1.5, 1],title=\"Vergleich Trainings- und Testscores\").set(xlabel=\"# Features\", ylabel=\"$R^2$-Score\");"
   ]
  },
  {
   "cell_type": "markdown",
   "metadata": {
    "cell_content_type": "markdown_default",
    "changed": false,
    "deletable": false,
    "editable": false,
    "original-content": "We see that the coefficient of determination for the prediction of training data increases with each additional feature. So if you only evaluated the models with the training data, it would look as if the model gets better with every added feature.\n\nHowever, this is not the case with the test data. First the *R²* values increase up to a model with three features. After that, however, the prediction accuracy decreases with each additional feature. So although a 10 feature model has much more information at its disposal, it does not predict the test data as well as a model with only three features.\n\nThe model with three features appears here to be the optimal compromise between *bias* and *variance*.\n\nIf you want, you can use the following code cell to use the *mean squared error* for the same exercise. As the model becomes increasingly complex, it should steadily decrease (training data), or first decrease and then increase (test data). This part of the lesson is optional. You don't have to work through it to complete this course successfully.\n",
    "selectable": false
   },
   "source": [
    "We see that the coefficient of determination for the prediction of training data increases with each additional feature. So if you only evaluated the models with the training data, it would look as if the model gets better with every added feature.\n",
    "\n",
    "However, this is not the case with the test data. First the *R²* values increase up to a model with three features. After that, however, the prediction accuracy decreases with each additional feature. So although a 10 feature model has much more information at its disposal, it does not predict the test data as well as a model with only three features.\n",
    "\n",
    "The model with three features appears here to be the optimal compromise between *bias* and *variance*.\n",
    "\n",
    "If you want, you can use the following code cell to use the *mean squared error* for the same exercise. As the model becomes increasingly complex, it should steadily decrease (training data), or first decrease and then increase (test data). This part of the lesson is optional. You don't have to work through it to complete this course successfully.\n"
   ]
  },
  {
   "cell_type": "code",
   "execution_count": 11,
   "metadata": {
    "cell_content_type": "code_user",
    "changed": false,
    "deletable": false,
    "editable": true,
    "hint": "Use the previous code cell to help you solve this optional task.",
    "original-content": "",
    "selectable": true
   },
   "outputs": [
    {
     "name": "stdout",
     "output_type": "stream",
     "text": [
      "MSE (training):  0.051\n",
      "MSE (test):  11.89 \n",
      "\n",
      "MSE (training):  0.478\n",
      "MSE (test):  9.72 \n",
      "\n",
      "MSE (training):  0.524\n",
      "MSE (test):  8.568 \n",
      "\n",
      "MSE (training):  0.546\n",
      "MSE (test):  12.084 \n",
      "\n",
      "MSE (training):  0.547\n",
      "MSE (test):  11.914 \n",
      "\n",
      "MSE (training):  0.554\n",
      "MSE (test):  12.722 \n",
      "\n",
      "MSE (training):  0.557\n",
      "MSE (test):  29.84 \n",
      "\n",
      "MSE (training):  0.562\n",
      "MSE (test):  30.11 \n",
      "\n",
      "MSE (training):  0.562\n",
      "MSE (test):  30.479 \n",
      "\n",
      "MSE (training):  0.562\n",
      "MSE (test):  30.765 \n",
      "\n"
     ]
    },
    {
     "data": {
      "image/png": "[encoded data removed]",
      "text/plain": [
       "<Figure size 432x288 with 1 Axes>"
      ]
     },
     "metadata": {
      "needs_background": "light"
     },
     "output_type": "display_data"
    }
   ],
   "source": [
    "MSE = pd.DataFrame({'training':[],\n",
    "                  'test': []})\n",
    "\n",
    "for i in range(1, len(df.columns)-2):  # for each feature (not target)\n",
    "    \n",
    "    #print('Features: ', df.columns[:i].format())\n",
    "    \n",
    "    # instantiate model\n",
    "    model_tmp = LinearRegression()\n",
    "    \n",
    "    # feature matrix and target vector\n",
    "    features = df.loc[:, df.columns[:i]]  # feature matrix for training data\n",
    "    target = df.loc[:, 'price_per_m2']  # target vector for training data\n",
    "    \n",
    "    # model fitting\n",
    "    model_tmp.fit(features, target)\n",
    "    \n",
    "    # model predictions (training data)\n",
    "    target_pred = model_tmp.predict(features)  # predict target values of training data\n",
    "    residuals = target - target_pred  # difference between predicted and actual target values \n",
    "    \n",
    "    MSE.loc[i, 'training'] = mean_squared_error(target, target_pred)  # calculate MSE for training data and add it to DataFrame\n",
    "    print('MSE (training): ', round(R2.loc[i, 'training'], 3))\n",
    "\n",
    "    # model predictions (test data)\n",
    "    features_test = df_test.loc[:, df_test.columns[:i]]  # feature matrix for test data\n",
    "    target_test = df_test.loc[:, 'price_per_m2']  # target_values of test data\n",
    "    target_test_pred = model_tmp.predict(features_test)  # predict target values of test data\n",
    "\n",
    "    MSE.loc[i, 'test'] = mean_squared_error(target_test, target_test_pred)  # calculate MSE for test data and add it to DataFrame\n",
    "    print('MSE (test): ', round(MSE.loc[i, 'test'], 3), '\\n')\n",
    "\n",
    "MSE.plot(ylim=[0,35],title=\"Vergleich Trainings- und Testscores\").set(xlabel=\"# Features\", ylabel=\"MSE\");"
   ]
  },
  {
   "cell_type": "markdown",
   "metadata": {
    "cell_content_type": "markdown_default",
    "changed": false,
    "deletable": false,
    "editable": false,
    "messageType": "glueckwunsch",
    "original-content": "**Congratulations:** You got your first impression of overfitting. If machine learning models from supervised learning show too much *variance*, they practically learn the training data by heart. This happens when there are too many parameters for the model to learn. A linear regression model with eleven features learns twelve parameters (one axis intercept and eleven slopes).\n\nThere are only two remedies to avoid overfitting:\n1. More training data\n2. A simpler model\n\nIn the next lesson you will look at a strategy for finding an optimally simple regression model.\n",
    "selectable": false
   },
   "source": [
    "**Congratulations:** You got your first impression of overfitting. If machine learning models from supervised learning show too much *variance*, they practically learn the training data by heart. This happens when there are too many parameters for the model to learn. A linear regression model with eleven features learns twelve parameters (one axis intercept and eleven slopes).\n",
    "\n",
    "There are only two remedies to avoid overfitting:\n",
    "1. More training data\n",
    "2. A simpler model\n",
    "\n",
    "In the next lesson you will look at a strategy for finding an optimally simple regression model.\n"
   ]
  },
  {
   "cell_type": "markdown",
   "metadata": {
    "cell_content_type": "markdown_default",
    "changed": false,
    "deletable": false,
    "editable": false,
    "messageType": "merke",
    "original-content": "**Remember:**\n* Too many features can lead to overfitting.\n* If the model is overfitted, it can only handle new data with difficulty.\n",
    "selectable": false
   },
   "source": [
    "**Remember:**\n",
    "* Too many features can lead to overfitting.\n",
    "* If the model is overfitted, it can only handle new data with difficulty.\n"
   ]
  },
  {
   "cell_type": "markdown",
   "metadata": {
    "cell_content_type": "markdown_default",
    "changed": false,
    "deletable": false,
    "editable": false,
    "original-content": "***\nDo you have any questions about this exercise? Look in the forum to see if they have already been discussed.\n***\nFound a mistake? Contact Support at support@stackfuel.com.\n***\n",
    "selectable": false
   },
   "source": [
    "***\n",
    "Do you have any questions about this exercise? Look in the forum to see if they have already been discussed.\n",
    "***\n",
    "Found a mistake? Contact Support at support@stackfuel.com.\n",
    "***\n"
   ]
  }
 ],
 "metadata": {
  "content_id": "e342ee88-f324-41a0-ad4b-db917dd97604",
  "content_language": "en",
  "content_title": "Too Many Features: Overfitting",
  "content_type": "exercise",
  "kernelspec": {
   "display_name": "Python 3 (ipykernel)",
   "language": "python",
   "name": "python3"
  },
  "language_info": {
   "codemirror_mode": {
    "name": "ipython",
    "version": 3
   },
   "file_extension": ".py",
   "mimetype": "text/x-python",
   "name": "python",
   "nbconvert_exporter": "python",
   "pygments_lexer": "ipython3",
   "version": "3.8.10"
  }
 },
 "nbformat": 4,
 "nbformat_minor": 4
}
