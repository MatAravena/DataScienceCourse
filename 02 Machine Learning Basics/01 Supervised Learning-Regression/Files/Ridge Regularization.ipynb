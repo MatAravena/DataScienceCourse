{
  "cells": [
    {
      "cell_type": "markdown",
      "metadata": {
        "cell_content_type": "markdown_default",
        "changed": false,
        "deletable": false,
        "editable": false,
        "original-content": "# Ridge Regularization (Solution)\nModule 1 | Chapter 1 | Notebook 8\n\n***\nAfter learning about overfitting in the previous lesson, we will look at a remedy for that in this lesson. Regularization. Regularization simplifies multiple linear regression models. You will learn about the first approach, *ridge* regularization, in this lesson.\n***\n",
        "selectable": false
      },
      "source": [
        "# Ridge Regularization (Solution)\n",
        "Module 1 | Chapter 1 | Notebook 8\n",
        "\n",
        "***\n",
        "After learning about overfitting in the previous lesson, we will look at a remedy for that in this lesson. Regularization. Regularization simplifies multiple linear regression models. You will learn about the first approach, *ridge* regularization, in this lesson.\n",
        "***\n"
      ]
    },
    {
      "cell_type": "markdown",
      "metadata": {
        "cell_content_type": "markdown_default",
        "changed": false,
        "deletable": false,
        "editable": false,
        "original-content": "## Ridge Regression\n",
        "selectable": false
      },
      "source": [
        "## Ridge Regression\n"
      ]
    },
    {
      "cell_type": "markdown",
      "metadata": {
        "cell_content_type": "markdown_selectable",
        "changed": false,
        "deletable": false,
        "editable": false,
        "messageType": "szenario",
        "original-content": "**Scenario:** A Taiwanese investor comes to you to find out how much his properties in Taiwan are actually worth. He might want to resell them. The data for the houses he needs predictions for is located in *Taiwan_real_estate_prediction_data.xlsx*. \n\nAfter the overfitting problems in the previous lesson, he is now looking for an optimal solution with as many features as possible, but not more than that. The training data is in *Taiwan_real_estate_training_data.xlsx*.\n\nHe wants you to evaluate the model quality with the data in *Taiwan_real_estate_test_data.xlsx*. If it's good, the investor wants to know how much his properties are worth.\n",
        "selectable": true
      },
      "source": [
        "**Scenario:** A Taiwanese investor comes to you to find out how much his properties in Taiwan are actually worth. He might want to resell them. The data for the houses he needs predictions for is located in *Taiwan_real_estate_prediction_data.xlsx*. \n",
        "\n",
        "After the overfitting problems in the previous lesson, he is now looking for an optimal solution with as many features as possible, but not more than that. The training data is in *Taiwan_real_estate_training_data.xlsx*.\n",
        "\n",
        "He wants you to evaluate the model quality with the data in *Taiwan_real_estate_test_data.xlsx*. If it's good, the investor wants to know how much his properties are worth.\n"
      ]
    },
    {
      "cell_type": "markdown",
      "metadata": {
        "cell_content_type": "markdown_selectable",
        "changed": false,
        "deletable": false,
        "editable": false,
        "original-content": "In order to make rapid progress, let's import the data and divide it into `df_train` (training data), `df_test` (test data to validate the models) and `df_aim` (prediction data not including property prices).\n",
        "selectable": true
      },
      "source": [
        "In order to make rapid progress, let's import the data and divide it into `df_train` (training data), `df_test` (test data to validate the models) and `df_aim` (prediction data not including property prices).\n"
      ]
    },
    {
      "cell_type": "code",
      "execution_count": 1,
      "metadata": {
        "cell_content_type": "code_demo",
        "changed": false,
        "deletable": false,
        "editable": true,
        "hint": "If you would like, you can discuss this in the forum under *Ridge Regularization*.",
        "hint_counter": 0,
        "original-content": "import pandas as pd\nimport numpy as np\ndf_train = pd.read_excel('Taiwan_real_estate_training_data.xlsx', index_col='No')\ndf_test = pd.read_excel('Taiwan_real_estate_test_data.xlsx', index_col='No')\ndf_aim = pd.read_excel('Taiwan_real_estate_prediction_data.xlsx', index_col='No')\n\ncol_names = ['house_age', \n              'metro_distance', \n              'number_convenience_stores', \n              'number_parking_spaces',\n              'air_pollution',\n              'light_pollution',\n              'noise_pollution',\n              'neighborhood_quality',\n              'crime_score',\n              'energy_consumption',\n              'longitude', \n              'price_per_ping']\ndf_train.columns = col_names\ndf_test.columns = col_names\ndf_aim.columns = col_names\n\ndf_train.loc[:, 'price_per_m2'] = df_train.loc[:, 'price_per_ping'] / 3.3\ndf_test.loc[:, 'price_per_m2'] = df_test.loc[:, 'price_per_ping'] / 3.3\ndf_aim.loc[:, 'price_per_m2'] = df_aim.loc[:, 'price_per_ping'] / 3.3\n\ndf_train = df_train.drop('price_per_ping', axis=1)\ndf_test = df_test.drop('price_per_ping', axis=1)\ndf_aim = df_aim.drop('price_per_ping', axis=1)",
        "selectable": true
      },
      "outputs": [],
      "source": [
        "import pandas as pd\n",
        "import numpy as np\n",
        "df_train = pd.read_excel('Taiwan_real_estate_training_data.xlsx', index_col='No')\n",
        "df_test = pd.read_excel('Taiwan_real_estate_test_data.xlsx', index_col='No')\n",
        "df_aim = pd.read_excel('Taiwan_real_estate_prediction_data.xlsx', index_col='No')\n",
        "\n",
        "col_names = ['house_age', \n",
        "              'metro_distance', \n",
        "              'number_convenience_stores', \n",
        "              'number_parking_spaces',\n",
        "              'air_pollution',\n",
        "              'light_pollution',\n",
        "              'noise_pollution',\n",
        "              'neighborhood_quality',\n",
        "              'crime_score',\n",
        "              'energy_consumption',\n",
        "              'longitude', \n",
        "              'price_per_ping']\n",
        "df_train.columns = col_names\n",
        "df_test.columns = col_names\n",
        "df_aim.columns = col_names\n",
        "\n",
        "df_train.loc[:, 'price_per_m2'] = df_train.loc[:, 'price_per_ping'] / 3.3\n",
        "df_test.loc[:, 'price_per_m2'] = df_test.loc[:, 'price_per_ping'] / 3.3\n",
        "df_aim.loc[:, 'price_per_m2'] = df_aim.loc[:, 'price_per_ping'] / 3.3\n",
        "\n",
        "df_train = df_train.drop('price_per_ping', axis=1)\n",
        "df_test = df_test.drop('price_per_ping', axis=1)\n",
        "df_aim = df_aim.drop('price_per_ping', axis=1)"
      ]
    },
    {
      "cell_type": "markdown",
      "metadata": {
        "cell_content_type": "markdown_selectable",
        "changed": false,
        "deletable": false,
        "editable": false,
        "original-content": "Once again, the data dictionary for this data is as follows:\n\nColumn number | Column name       | Type      | Description\n ------------ | ---     | :---------:           | ------------:\n0              | `'house_age'` | continuous (`float`) | age of the house in years\n1              | `'metro_distance'` | continuous (`float`) | distance in meters to the next metro station\n2              | `'number_convenience_stores'` | continuous (`int`) | Number of convenience stores nearby\n3              | `'number_parking_spaces'` | continuous (`int`) | Number of parking spaces nearby\n4              | `'air_pollution'` | continuous (`float`) | Air pollution value near the house\n5              | `'light_pollution'` | continuous (`float`) | Light pollution value near the house\n6              | `'noise_pollution'` | continuous (`float`) | Noise pollution value near the house\n7              | `'neighborhood_quality'` | continuous (`float`) | average quality of life in the neighborhood\n8              | `'crime_score'` | continuous (`float`) | crime score according to police\n9              | `'energy_consumption'` | continuous (`float`) | The property's energy consumption\n10              | `'longitude'` | continuous (`float`) | The property's longitude\n11              | `'price_per_ping'` | continuous (`float`) | House price in Taiwan dollars per ping, one ping is 3.3 m\u00b2\n12              | `'price_per_ping'` | continuous (`float`) | House price in Taiwan dollars per m\u00b2\n",
        "selectable": true
      },
      "source": [
        "Once again, the data dictionary for this data is as follows:\n",
        "\n",
        "Column number | Column name       | Type      | Description\n",
        " ------------ | ---     | :---------:           | ------------:\n",
        "0              | `'house_age'` | continuous (`float`) | age of the house in years\n",
        "1              | `'metro_distance'` | continuous (`float`) | distance in meters to the next metro station\n",
        "2              | `'number_convenience_stores'` | continuous (`int`) | Number of convenience stores nearby\n",
        "3              | `'number_parking_spaces'` | continuous (`int`) | Number of parking spaces nearby\n",
        "4              | `'air_pollution'` | continuous (`float`) | Air pollution value near the house\n",
        "5              | `'light_pollution'` | continuous (`float`) | Light pollution value near the house\n",
        "6              | `'noise_pollution'` | continuous (`float`) | Noise pollution value near the house\n",
        "7              | `'neighborhood_quality'` | continuous (`float`) | average quality of life in the neighborhood\n",
        "8              | `'crime_score'` | continuous (`float`) | crime score according to police\n",
        "9              | `'energy_consumption'` | continuous (`float`) | The property's energy consumption\n",
        "10              | `'longitude'` | continuous (`float`) | The property's longitude\n",
        "11              | `'price_per_ping'` | continuous (`float`) | House price in Taiwan dollars per ping, one ping is 3.3 m\u00b2\n",
        "12              | `'price_per_ping'` | continuous (`float`) | House price in Taiwan dollars per m\u00b2\n"
      ]
    },
    {
      "cell_type": "markdown",
      "metadata": {
        "cell_content_type": "markdown_selectable",
        "changed": false,
        "deletable": false,
        "editable": false,
        "original-content": "In the last lesson we saw that too many features in the linear regression model led to overfitting. The trained parameters can then no longer be used to predict new, independent data. The only way to prevent overfitting is to enlarge the training data set and/or simplify the model.\n\nWhat's known as regularization simplifies the multiple regression model with a data-driven approach. Since the lesson *Simple Linear Regression with sklearn* you know that a linear regression adjusts parameters to the data so that the distance between the regression line and data points is as small as possible. Regularization adds an additional goal. Not only should the distance between the regression line and the data points be as small as possible, but also the slope values.\n\nThe formula for multiple linear regression with two features looks like this:\n\n\\begin{equation*}\nTarget = intercept + (slope_1 \\cdot Feature_1) + (slope_2 \\cdot Feature_2) + error\n\\end{equation*}\n\nRidge regression, also known as Tikhonov regularization uses regularization to avoid overfitting. When the model is fitted to the data, there are two objectives that should be pursued:\n* Keep the difference between predicted and actual target values as small as possible.\n* Keep the sum of the squared slopes (e.g. $(slope_1)^2 + (slope_2)^2$) as small as possible.\n\nThe second objective is called regularization, or *shrinkage penalty*. This is as if the model will be punished if the slopes are too big.\n\nIt makes sense for you to gain practical experience with ridge regression. Import `Ridge` from the `sklearn.linear_model` module.\n",
        "selectable": true
      },
      "source": [
        "In the last lesson we saw that too many features in the linear regression model led to overfitting. The trained parameters can then no longer be used to predict new, independent data. The only way to prevent overfitting is to enlarge the training data set and/or simplify the model.\n",
        "\n",
        "What's known as regularization simplifies the multiple regression model with a data-driven approach. Since the lesson *Simple Linear Regression with sklearn* you know that a linear regression adjusts parameters to the data so that the distance between the regression line and data points is as small as possible. Regularization adds an additional goal. Not only should the distance between the regression line and the data points be as small as possible, but also the slope values.\n",
        "\n",
        "The formula for multiple linear regression with two features looks like this:\n",
        "\n",
        "\\begin{equation*}\n",
        "Target = intercept + (slope_1 \\cdot Feature_1) + (slope_2 \\cdot Feature_2) + error\n",
        "\\end{equation*}\n",
        "\n",
        "Ridge regression, also known as Tikhonov regularization uses regularization to avoid overfitting. When the model is fitted to the data, there are two objectives that should be pursued:\n",
        "* Keep the difference between predicted and actual target values as small as possible.\n",
        "* Keep the sum of the squared slopes (e.g. $(slope_1)^2 + (slope_2)^2$) as small as possible.\n",
        "\n",
        "The second objective is called regularization, or *shrinkage penalty*. This is as if the model will be punished if the slopes are too big.\n",
        "\n",
        "It makes sense for you to gain practical experience with ridge regression. Import `Ridge` from the `sklearn.linear_model` module.\n"
      ]
    },
    {
      "cell_type": "code",
      "execution_count": 2,
      "metadata": {
        "cell_content_type": "code_user",
        "changed": false,
        "deletable": false,
        "editable": true,
        "hint": "Write `from sklearn.linear_model import Ridge` and run the cell.",
        "original-content": "# Solution:\nfrom sklearn.linear_model import Ridge",
        "selectable": true
      },
      "outputs": [],
      "source": [
        "# Solution:\n",
        "from sklearn.linear_model import Ridge"
      ]
    },
    {
      "cell_type": "markdown",
      "metadata": {
        "cell_content_type": "markdown_selectable",
        "changed": false,
        "deletable": false,
        "editable": false,
        "original-content": "To instantiate the model, we need knowledge about the hyperparameters of the model. The main one is called $\\alpha$. This hyper parameter controls how much the ridge regression should follow one target and how much it should follow the other. With `alpha=0` the second objective (regularization) is disregarded. Then the ridge regression would be a normal linear regression.\n\nWith an infinitely high `alpha` the first objective disregarded. In this case all slopes are zero.\n\n`alpha` therefore controls the balance between *bias* (very large `alpha`) and *variance* (very small `alpha`). There are data driven ways to get an optimal value for `alpha`. Unfortunately we don't have enough time to cover this here. If you are interested, [the official `sklearn` documentation](https://scikit-learn.org/stable/modules/linear_model.html#setting-regularization-parameter) provides all the information you need.\nWe have summarized the most important information for you here:\n```python\nRidge(\n    alpha= float,       #strength of penalty for regularization\n    fit_intercept=True, #fit intercept in underlying linear regression\n    solver='auto',      #solving algorithm, will affect training runtime\n    random_state=None,  #random seed used for data shuffling\n)\n```\n\nIn our case we use an `alpha` value of 1500.\n",
        "selectable": true
      },
      "source": [
        "To instantiate the model, we need knowledge about the hyperparameters of the model. The main one is called $\\alpha$. This hyper parameter controls how much the ridge regression should follow one target and how much it should follow the other. With `alpha=0` the second objective (regularization) is disregarded. Then the ridge regression would be a normal linear regression.\n",
        "\n",
        "With an infinitely high `alpha` the first objective disregarded. In this case all slopes are zero.\n",
        "\n",
        "`alpha` therefore controls the balance between *bias* (very large `alpha`) and *variance* (very small `alpha`). There are data driven ways to get an optimal value for `alpha`. Unfortunately we don't have enough time to cover this here. If you are interested, [the official `sklearn` documentation](https://scikit-learn.org/stable/modules/linear_model.html#setting-regularization-parameter) provides all the information you need.\n",
        "We have summarized the most important information for you here:\n",
        "```python\n",
        "Ridge(\n",
        "    alpha= float,       #strength of penalty for regularization\n",
        "    fit_intercept=True, #fit intercept in underlying linear regression\n",
        "    solver='auto',      #solving algorithm, will affect training runtime\n",
        "    random_state=None,  #random seed used for data shuffling\n",
        ")\n",
        "```\n",
        "\n",
        "In our case we use an `alpha` value of 1500.\n"
      ]
    },
    {
      "cell_type": "markdown",
      "metadata": {
        "cell_content_type": "markdown_selectable",
        "changed": false,
        "deletable": false,
        "editable": false,
        "messageType": "vertiefung",
        "original-content": "**Deep dive:** The following content is optional, feel free to skip it.<br>\n\n**How does ridge regularization work?**\n\nAs we saw in Module 1, Chapter 1, Notebook 6, the *cost function* of the linear regression simply calculates the MSE. Regularizations add what's called a *penalty term* or *regularization term* to this *cost function*. In the case of ridge regularization, this term is nothing more than the L2 norm (see Module 0, Chapter 2 Notebook 4) of the coefficient vector ($\\vec{\\beta}$) with the exception of the *y_intercept* ($\\beta_0$). To make sure you have the ability to adjust the strength of the regularization, the hyperparameter $\\alpha$ is used, which the *penalty-term* is multiplied by.\n\nThis results in the *cost function* ( $J(\\vec{\\beta})$ ) of the ridge regression:\n\n$J(\\vec{\\beta}) = MSE(X,\\vec{\\beta}) + \\alpha \\cdot ||\\vec{\\beta}||_2$\n\nWhen training the model, the system tries again to minimize this *cost function* and to find optimal values for the coefficients in $\\vec{b}$. This solution can be done in several ways, which you can select under the parameter `solver`.\n",
        "selectable": true
      },
      "source": [
        "**Deep dive:** The following content is optional, feel free to skip it.<br>\n",
        "\n",
        "**How does ridge regularization work?**\n",
        "\n",
        "As we saw in Module 1, Chapter 1, Notebook 6, the *cost function* of the linear regression simply calculates the MSE. Regularizations add what's called a *penalty term* or *regularization term* to this *cost function*. In the case of ridge regularization, this term is nothing more than the L2 norm (see Module 0, Chapter 2 Notebook 4) of the coefficient vector ($\\vec{\\beta}$) with the exception of the *y_intercept* ($\\beta_0$). To make sure you have the ability to adjust the strength of the regularization, the hyperparameter $\\alpha$ is used, which the *penalty-term* is multiplied by.\n",
        "\n",
        "This results in the *cost function* ( $J(\\vec{\\beta})$ ) of the ridge regression:\n",
        "\n",
        "$J(\\vec{\\beta}) = MSE(X,\\vec{\\beta}) + \\alpha \\cdot ||\\vec{\\beta}||_2$\n",
        "\n",
        "When training the model, the system tries again to minimize this *cost function* and to find optimal values for the coefficients in $\\vec{b}$. This solution can be done in several ways, which you can select under the parameter `solver`.\n"
      ]
    },
    {
      "cell_type": "markdown",
      "metadata": {
        "cell_content_type": "markdown_selectable",
        "changed": false,
        "deletable": false,
        "editable": false,
        "original-content": "2) Instantiate a linear regression model and store it in the variable `model_ridge`. Set the function parameter `alpha` to `1500`.\n",
        "selectable": true
      },
      "source": [
        "2) Instantiate a linear regression model and store it in the variable `model_ridge`. Set the function parameter `alpha` to `1500`.\n"
      ]
    },
    {
      "cell_type": "code",
      "execution_count": 3,
      "metadata": {
        "cell_content_type": "code_user",
        "changed": false,
        "deletable": false,
        "editable": true,
        "hint": "Write `model_ridge = Ridge(alpha=1500)` and run the cell.",
        "original-content": "# Solution:\nmodel_ridge = Ridge(alpha=1500)",
        "selectable": true
      },
      "outputs": [],
      "source": [
        "# Solution:\n",
        "model_ridge = Ridge(alpha=1500)"
      ]
    },
    {
      "cell_type": "markdown",
      "metadata": {
        "cell_content_type": "markdown_selectable",
        "changed": false,
        "deletable": false,
        "editable": false,
        "original-content": "Now we can turn to the feature matrix and the target vector. Save a feature matrix with all eleven features in the new `DataFrame` named `features_train`. Also store the target values from `price_per_m2` in the `Series` named `target_train`.\n",
        "selectable": true
      },
      "source": [
        "Now we can turn to the feature matrix and the target vector. Save a feature matrix with all eleven features in the new `DataFrame` named `features_train`. Also store the target values from `price_per_m2` in the `Series` named `target_train`.\n"
      ]
    },
    {
      "cell_type": "code",
      "execution_count": 4,
      "metadata": {
        "cell_content_type": "code_user",
        "changed": false,
        "deletable": false,
        "editable": true,
        "hint": "For example, you could define the feature matrix like this `features_train = df_train.loc[:, col_names[:-1]]`.",
        "original-content": "# Solution:\nfeatures_train = df_train.loc[:, col_names[:-1]]\ntarget_train = df_train.loc[:, 'price_per_m2']",
        "selectable": true
      },
      "outputs": [],
      "source": [
        "# Solution:\n",
        "features_train = df_train.loc[:, col_names[:-1]]\n",
        "target_train = df_train.loc[:, 'price_per_m2']"
      ]
    },
    {
      "cell_type": "markdown",
      "metadata": {
        "cell_content_type": "markdown_selectable",
        "changed": false,
        "deletable": false,
        "editable": false,
        "original-content": "Since the ridge regression tries to minimize the squared slopes, the slopes should be on the same scale. Remember that the slopes use their feature's scale. Print the eight value summary for `features_train` to get an impression of the current scales of the different features.\n",
        "selectable": true
      },
      "source": [
        "Since the ridge regression tries to minimize the squared slopes, the slopes should be on the same scale. Remember that the slopes use their feature's scale. Print the eight value summary for `features_train` to get an impression of the current scales of the different features.\n"
      ]
    },
    {
      "cell_type": "code",
      "execution_count": 5,
      "metadata": {
        "cell_content_type": "code_user",
        "changed": false,
        "deletable": false,
        "editable": true,
        "hint": "Write `features_train.describe()` and run the cell.",
        "original-content": "# Solution:\nfeatures_train.describe()",
        "selectable": true
      },
      "outputs": [
        {
          "data": {
            "text/html": [
              "<div>\n",
              "<style scoped>\n",
              "    .dataframe tbody tr th:only-of-type {\n",
              "        vertical-align: middle;\n",
              "    }\n",
              "\n",
              "    .dataframe tbody tr th {\n",
              "        vertical-align: top;\n",
              "    }\n",
              "\n",
              "    .dataframe thead th {\n",
              "        text-align: right;\n",
              "    }\n",
              "</style>\n",
              "<table border=\"1\" class=\"dataframe\">\n",
              "  <thead>\n",
              "    <tr style=\"text-align: right;\">\n",
              "      <th></th>\n",
              "      <th>house_age</th>\n",
              "      <th>metro_distance</th>\n",
              "      <th>number_convenience_stores</th>\n",
              "      <th>number_parking_spaces</th>\n",
              "      <th>air_pollution</th>\n",
              "      <th>light_pollution</th>\n",
              "      <th>noise_pollution</th>\n",
              "      <th>neighborhood_quality</th>\n",
              "      <th>crime_score</th>\n",
              "      <th>energy_consumption</th>\n",
              "      <th>longitude</th>\n",
              "    </tr>\n",
              "  </thead>\n",
              "  <tbody>\n",
              "    <tr>\n",
              "      <th>count</th>\n",
              "      <td>314.000000</td>\n",
              "      <td>314.000000</td>\n",
              "      <td>314.000000</td>\n",
              "      <td>314.000000</td>\n",
              "      <td>314.000000</td>\n",
              "      <td>314.000000</td>\n",
              "      <td>314.000000</td>\n",
              "      <td>314.000000</td>\n",
              "      <td>314.000000</td>\n",
              "      <td>314.000000</td>\n",
              "      <td>314.000000</td>\n",
              "    </tr>\n",
              "    <tr>\n",
              "      <th>mean</th>\n",
              "      <td>17.964968</td>\n",
              "      <td>1080.554101</td>\n",
              "      <td>4.073248</td>\n",
              "      <td>72.544586</td>\n",
              "      <td>552.604234</td>\n",
              "      <td>350.052585</td>\n",
              "      <td>24.454473</td>\n",
              "      <td>0.499967</td>\n",
              "      <td>0.827038</td>\n",
              "      <td>85.749346</td>\n",
              "      <td>121.533587</td>\n",
              "    </tr>\n",
              "    <tr>\n",
              "      <th>std</th>\n",
              "      <td>11.302234</td>\n",
              "      <td>1265.305662</td>\n",
              "      <td>2.917018</td>\n",
              "      <td>33.956459</td>\n",
              "      <td>724.980887</td>\n",
              "      <td>214.841852</td>\n",
              "      <td>28.952314</td>\n",
              "      <td>0.129891</td>\n",
              "      <td>0.137589</td>\n",
              "      <td>15.608840</td>\n",
              "      <td>0.015328</td>\n",
              "    </tr>\n",
              "    <tr>\n",
              "      <th>min</th>\n",
              "      <td>0.000000</td>\n",
              "      <td>23.382840</td>\n",
              "      <td>0.000000</td>\n",
              "      <td>0.000000</td>\n",
              "      <td>0.129046</td>\n",
              "      <td>109.402514</td>\n",
              "      <td>0.642399</td>\n",
              "      <td>0.154785</td>\n",
              "      <td>0.370455</td>\n",
              "      <td>52.271031</td>\n",
              "      <td>121.475160</td>\n",
              "    </tr>\n",
              "    <tr>\n",
              "      <th>25%</th>\n",
              "      <td>10.025000</td>\n",
              "      <td>292.997800</td>\n",
              "      <td>1.000000</td>\n",
              "      <td>47.250000</td>\n",
              "      <td>105.270986</td>\n",
              "      <td>219.736031</td>\n",
              "      <td>6.975039</td>\n",
              "      <td>0.404905</td>\n",
              "      <td>0.750257</td>\n",
              "      <td>73.492326</td>\n",
              "      <td>121.529540</td>\n",
              "    </tr>\n",
              "    <tr>\n",
              "      <th>50%</th>\n",
              "      <td>16.250000</td>\n",
              "      <td>492.231300</td>\n",
              "      <td>4.000000</td>\n",
              "      <td>74.000000</td>\n",
              "      <td>273.298306</td>\n",
              "      <td>291.221794</td>\n",
              "      <td>12.933224</td>\n",
              "      <td>0.488622</td>\n",
              "      <td>0.863517</td>\n",
              "      <td>85.537347</td>\n",
              "      <td>121.538990</td>\n",
              "    </tr>\n",
              "    <tr>\n",
              "      <th>75%</th>\n",
              "      <td>28.350000</td>\n",
              "      <td>1412.735250</td>\n",
              "      <td>6.000000</td>\n",
              "      <td>91.000000</td>\n",
              "      <td>650.921839</td>\n",
              "      <td>398.473926</td>\n",
              "      <td>29.924671</td>\n",
              "      <td>0.590752</td>\n",
              "      <td>0.936969</td>\n",
              "      <td>98.303667</td>\n",
              "      <td>121.543480</td>\n",
              "    </tr>\n",
              "    <tr>\n",
              "      <th>max</th>\n",
              "      <td>43.800000</td>\n",
              "      <td>6396.283000</td>\n",
              "      <td>10.000000</td>\n",
              "      <td>173.000000</td>\n",
              "      <td>4257.231953</td>\n",
              "      <td>1473.563235</td>\n",
              "      <td>162.678976</td>\n",
              "      <td>0.830381</td>\n",
              "      <td>0.999743</td>\n",
              "      <td>119.588789</td>\n",
              "      <td>121.566270</td>\n",
              "    </tr>\n",
              "  </tbody>\n",
              "</table>\n",
              "</div>"
            ],
            "text/plain": [
              "        house_age  metro_distance  number_convenience_stores  \\\n",
              "count  314.000000      314.000000                 314.000000   \n",
              "mean    17.964968     1080.554101                   4.073248   \n",
              "std     11.302234     1265.305662                   2.917018   \n",
              "min      0.000000       23.382840                   0.000000   \n",
              "25%     10.025000      292.997800                   1.000000   \n",
              "50%     16.250000      492.231300                   4.000000   \n",
              "75%     28.350000     1412.735250                   6.000000   \n",
              "max     43.800000     6396.283000                  10.000000   \n",
              "\n",
              "       number_parking_spaces  air_pollution  light_pollution  noise_pollution  \\\n",
              "count             314.000000     314.000000       314.000000       314.000000   \n",
              "mean               72.544586     552.604234       350.052585        24.454473   \n",
              "std                33.956459     724.980887       214.841852        28.952314   \n",
              "min                 0.000000       0.129046       109.402514         0.642399   \n",
              "25%                47.250000     105.270986       219.736031         6.975039   \n",
              "50%                74.000000     273.298306       291.221794        12.933224   \n",
              "75%                91.000000     650.921839       398.473926        29.924671   \n",
              "max               173.000000    4257.231953      1473.563235       162.678976   \n",
              "\n",
              "       neighborhood_quality  crime_score  energy_consumption   longitude  \n",
              "count            314.000000   314.000000          314.000000  314.000000  \n",
              "mean               0.499967     0.827038           85.749346  121.533587  \n",
              "std                0.129891     0.137589           15.608840    0.015328  \n",
              "min                0.154785     0.370455           52.271031  121.475160  \n",
              "25%                0.404905     0.750257           73.492326  121.529540  \n",
              "50%                0.488622     0.863517           85.537347  121.538990  \n",
              "75%                0.590752     0.936969           98.303667  121.543480  \n",
              "max                0.830381     0.999743          119.588789  121.566270  "
            ]
          },
          "execution_count": 5,
          "metadata": {},
          "output_type": "execute_result"
        }
      ],
      "source": [
        "# Solution:\n",
        "features_train.describe()"
      ]
    },
    {
      "cell_type": "markdown",
      "metadata": {
        "cell_content_type": "markdown_selectable",
        "changed": false,
        "deletable": false,
        "editable": false,
        "original-content": "Let's take the scales of `'air_pollution'` and `'noise_pollution'` as an example. While the `'air_pollution'` values vary between 0.1 and 4,300, the `'noise_pollution'` values are only between 0.6 and 163. This does not mean that `'air_pollution'` is any more important than `'noise_pollution'`. Values in one column are not simply directly comparable with values in the other column. \n\nNevertheless, ridge regression tries to minimize the slopes that use the scale of its feature. The ridge regression would therefore punish the slope of `'air_pollution'` much less than the increase of `'noise_pollution'`, because `'air_pollution'` has larger values on average and would therefore probably also have a smaller slope value.\n\nHow can you tell the ridge regression to treat all features the same? You can use a trick. You standardize the values of each feature. This means that from each value in features ($x$) the mean of its own column ($\\bar{x}$) is subtracted and each value is divided by the standard deviation ($\\sigma$) of its column. As a formula that looks like this:\n\n<table style=\"float:left;\">\n    <tr><th align=\"left\">Word formula</th>\n        <th align=\"left\">math. Formula</th>\n    </tr>\n<tr>\n<td>\n\\begin{equation*}\n\\operatorname{feature_{standardized}} = \\frac{feature - mean_{feature}}{standard deviation_{feature}}\n\\end{equation*}\n    </td>\n<td>\n\\begin{equation*}\n\\operatorname{feature_{standard}} = \\frac{x - \\bar{x}}{\\sigma}\n\\end{equation*}  \n        </td>\n    </tr>\n</table>\n\n<br style=\"clear:both\">\n\n`StandardScaler` from `sklearn.preprocessing` implements this kind of standardization. Import `StandardScaler` directly.\n",
        "selectable": true
      },
      "source": [
        "Let's take the scales of `'air_pollution'` and `'noise_pollution'` as an example. While the `'air_pollution'` values vary between 0.1 and 4,300, the `'noise_pollution'` values are only between 0.6 and 163. This does not mean that `'air_pollution'` is any more important than `'noise_pollution'`. Values in one column are not simply directly comparable with values in the other column. \n",
        "\n",
        "Nevertheless, ridge regression tries to minimize the slopes that use the scale of its feature. The ridge regression would therefore punish the slope of `'air_pollution'` much less than the increase of `'noise_pollution'`, because `'air_pollution'` has larger values on average and would therefore probably also have a smaller slope value.\n",
        "\n",
        "How can you tell the ridge regression to treat all features the same? You can use a trick. You standardize the values of each feature. This means that from each value in features ($x$) the mean of its own column ($\\bar{x}$) is subtracted and each value is divided by the standard deviation ($\\sigma$) of its column. As a formula that looks like this:\n",
        "\n",
        "<table style=\"float:left;\">\n",
        "    <tr><th align=\"left\">Word formula</th>\n",
        "        <th align=\"left\">math. Formula</th>\n",
        "    </tr>\n",
        "<tr>\n",
        "<td>\n",
        "\\begin{equation*}\n",
        "\\operatorname{feature_{standardized}} = \\frac{feature - mean_{feature}}{standard deviation_{feature}}\n",
        "\\end{equation*}\n",
        "    </td>\n",
        "<td>\n",
        "\\begin{equation*}\n",
        "\\operatorname{feature_{standard}} = \\frac{x - \\bar{x}}{\\sigma}\n",
        "\\end{equation*}  \n",
        "        </td>\n",
        "    </tr>\n",
        "</table>\n",
        "\n",
        "<br style=\"clear:both\">\n",
        "\n",
        "`StandardScaler` from `sklearn.preprocessing` implements this kind of standardization. Import `StandardScaler` directly.\n"
      ]
    },
    {
      "cell_type": "code",
      "execution_count": 6,
      "metadata": {
        "cell_content_type": "code_user",
        "changed": false,
        "deletable": false,
        "editable": true,
        "hint": "Wrote `from sklearn.preprocessing import StandardScaler` and run the cell.",
        "original-content": "# Solution:\nfrom sklearn.preprocessing import StandardScaler",
        "selectable": true
      },
      "outputs": [],
      "source": [
        "# Solution:\n",
        "from sklearn.preprocessing import StandardScaler"
      ]
    },
    {
      "cell_type": "markdown",
      "metadata": {
        "cell_content_type": "markdown_selectable",
        "changed": false,
        "deletable": false,
        "editable": false,
        "original-content": "Now we can use `StandardScaler()` to build a scaler. Assign it to `scaler`.\n",
        "selectable": true
      },
      "source": [
        "Now we can use `StandardScaler()` to build a scaler. Assign it to `scaler`.\n"
      ]
    },
    {
      "cell_type": "code",
      "execution_count": 7,
      "metadata": {
        "cell_content_type": "code_demo",
        "changed": false,
        "deletable": false,
        "editable": true,
        "hint": "If you would like, you can discuss this in the forum under *Ridge Regularization*.",
        "original-content": "scaler = StandardScaler()",
        "selectable": true
      },
      "outputs": [],
      "source": [
        "scaler = StandardScaler()"
      ]
    },
    {
      "cell_type": "markdown",
      "metadata": {
        "cell_content_type": "markdown_selectable",
        "changed": false,
        "deletable": false,
        "editable": false,
        "original-content": "`scaler` calculates means and dispersions using the `my_scaler.fit()` method which it needs to standardize the data. The `my_scaler.transform()` method then standardizes the data with these values. We'll use the `my_scaler.fit_transform()` method here, which carries out both steps. You can ignore the warnings.\n",
        "selectable": true
      },
      "source": [
        "`scaler` calculates means and dispersions using the `my_scaler.fit()` method which it needs to standardize the data. The `my_scaler.transform()` method then standardizes the data with these values. We'll use the `my_scaler.fit_transform()` method here, which carries out both steps. You can ignore the warnings.\n"
      ]
    },
    {
      "cell_type": "code",
      "execution_count": 8,
      "metadata": {
        "cell_content_type": "code_demo",
        "changed": false,
        "deletable": false,
        "editable": true,
        "hint": "If you would like, you can discuss this in the forum under *Ridge Regularization*.",
        "original-content": "features_train_standardized = scaler.fit_transform(features_train)",
        "selectable": true
      },
      "outputs": [],
      "source": [
        "features_train_standardized = scaler.fit_transform(features_train)"
      ]
    },
    {
      "cell_type": "markdown",
      "metadata": {
        "cell_content_type": "markdown_default",
        "changed": false,
        "deletable": false,
        "editable": false,
        "original-content": "The warnings are harmless, as they do not affect how your code is executed, but they can become annoying. You can stop the warnings from appearing using the following ode. Try it out now.\n",
        "selectable": false
      },
      "source": [
        "The warnings are harmless, as they do not affect how your code is executed, but they can become annoying. You can stop the warnings from appearing using the following ode. Try it out now.\n"
      ]
    },
    {
      "cell_type": "code",
      "execution_count": 9,
      "metadata": {
        "cell_content_type": "code_demo",
        "changed": false,
        "deletable": false,
        "editable": true,
        "hint": "If you would like, you can discuss this in the forum under *Ridge Regularization*.",
        "original-content": "#ignore DataConversionWarning\nfrom sklearn.exceptions import DataConversionWarning\nimport warnings\nwarnings.filterwarnings(action='ignore', category=DataConversionWarning)\n\n#test results\nfeatures_train_standardized = scaler.fit_transform(features_train)",
        "selectable": true
      },
      "outputs": [],
      "source": [
        "#ignore DataConversionWarning\n",
        "from sklearn.exceptions import DataConversionWarning\n",
        "import warnings\n",
        "warnings.filterwarnings(action='ignore', category=DataConversionWarning)\n",
        "\n",
        "#test results\n",
        "features_train_standardized = scaler.fit_transform(features_train)"
      ]
    },
    {
      "cell_type": "markdown",
      "metadata": {
        "cell_content_type": "markdown_selectable",
        "changed": false,
        "deletable": false,
        "editable": false,
        "original-content": "Now the mean values of all columns in `features_train_standardized` should be zero, while the standard deviations (a measure for the dispersion of the data in the row `'std'`) in each column should be 1. We'll tell `pandas` to switch off the scientific notation and convert `features_train_standardized` into a `DataFrame`, and we can then display its eight-value summmary.\n",
        "selectable": true
      },
      "source": [
        "Now the mean values of all columns in `features_train_standardized` should be zero, while the standard deviations (a measure for the dispersion of the data in the row `'std'`) in each column should be 1. We'll tell `pandas` to switch off the scientific notation and convert `features_train_standardized` into a `DataFrame`, and we can then display its eight-value summmary.\n"
      ]
    },
    {
      "cell_type": "code",
      "execution_count": 10,
      "metadata": {
        "cell_content_type": "code_demo",
        "changed": false,
        "deletable": false,
        "editable": true,
        "hint": "If you would like, you can discuss this in the forum under *Ridge Regularization*.",
        "original-content": "pd.options.display.float_format = '{:.2f}'.format  # avoid scientific notation using exponent, display up to two digital places instead\npd.DataFrame(features_train_standardized).describe()  # eight value summary",
        "selectable": true
      },
      "outputs": [
        {
          "data": {
            "text/html": [
              "<div>\n",
              "<style scoped>\n",
              "    .dataframe tbody tr th:only-of-type {\n",
              "        vertical-align: middle;\n",
              "    }\n",
              "\n",
              "    .dataframe tbody tr th {\n",
              "        vertical-align: top;\n",
              "    }\n",
              "\n",
              "    .dataframe thead th {\n",
              "        text-align: right;\n",
              "    }\n",
              "</style>\n",
              "<table border=\"1\" class=\"dataframe\">\n",
              "  <thead>\n",
              "    <tr style=\"text-align: right;\">\n",
              "      <th></th>\n",
              "      <th>0</th>\n",
              "      <th>1</th>\n",
              "      <th>2</th>\n",
              "      <th>3</th>\n",
              "      <th>4</th>\n",
              "      <th>5</th>\n",
              "      <th>6</th>\n",
              "      <th>7</th>\n",
              "      <th>8</th>\n",
              "      <th>9</th>\n",
              "      <th>10</th>\n",
              "    </tr>\n",
              "  </thead>\n",
              "  <tbody>\n",
              "    <tr>\n",
              "      <th>count</th>\n",
              "      <td>314.00</td>\n",
              "      <td>314.00</td>\n",
              "      <td>314.00</td>\n",
              "      <td>314.00</td>\n",
              "      <td>314.00</td>\n",
              "      <td>314.00</td>\n",
              "      <td>314.00</td>\n",
              "      <td>314.00</td>\n",
              "      <td>314.00</td>\n",
              "      <td>314.00</td>\n",
              "      <td>314.00</td>\n",
              "    </tr>\n",
              "    <tr>\n",
              "      <th>mean</th>\n",
              "      <td>0.00</td>\n",
              "      <td>-0.00</td>\n",
              "      <td>-0.00</td>\n",
              "      <td>0.00</td>\n",
              "      <td>0.00</td>\n",
              "      <td>0.00</td>\n",
              "      <td>0.00</td>\n",
              "      <td>0.00</td>\n",
              "      <td>-0.00</td>\n",
              "      <td>0.00</td>\n",
              "      <td>0.00</td>\n",
              "    </tr>\n",
              "    <tr>\n",
              "      <th>std</th>\n",
              "      <td>1.00</td>\n",
              "      <td>1.00</td>\n",
              "      <td>1.00</td>\n",
              "      <td>1.00</td>\n",
              "      <td>1.00</td>\n",
              "      <td>1.00</td>\n",
              "      <td>1.00</td>\n",
              "      <td>1.00</td>\n",
              "      <td>1.00</td>\n",
              "      <td>1.00</td>\n",
              "      <td>1.00</td>\n",
              "    </tr>\n",
              "    <tr>\n",
              "      <th>min</th>\n",
              "      <td>-1.59</td>\n",
              "      <td>-0.84</td>\n",
              "      <td>-1.40</td>\n",
              "      <td>-2.14</td>\n",
              "      <td>-0.76</td>\n",
              "      <td>-1.12</td>\n",
              "      <td>-0.82</td>\n",
              "      <td>-2.66</td>\n",
              "      <td>-3.32</td>\n",
              "      <td>-2.15</td>\n",
              "      <td>-3.82</td>\n",
              "    </tr>\n",
              "    <tr>\n",
              "      <th>25%</th>\n",
              "      <td>-0.70</td>\n",
              "      <td>-0.62</td>\n",
              "      <td>-1.06</td>\n",
              "      <td>-0.75</td>\n",
              "      <td>-0.62</td>\n",
              "      <td>-0.61</td>\n",
              "      <td>-0.60</td>\n",
              "      <td>-0.73</td>\n",
              "      <td>-0.56</td>\n",
              "      <td>-0.79</td>\n",
              "      <td>-0.26</td>\n",
              "    </tr>\n",
              "    <tr>\n",
              "      <th>50%</th>\n",
              "      <td>-0.15</td>\n",
              "      <td>-0.47</td>\n",
              "      <td>-0.03</td>\n",
              "      <td>0.04</td>\n",
              "      <td>-0.39</td>\n",
              "      <td>-0.27</td>\n",
              "      <td>-0.40</td>\n",
              "      <td>-0.09</td>\n",
              "      <td>0.27</td>\n",
              "      <td>-0.01</td>\n",
              "      <td>0.35</td>\n",
              "    </tr>\n",
              "    <tr>\n",
              "      <th>75%</th>\n",
              "      <td>0.92</td>\n",
              "      <td>0.26</td>\n",
              "      <td>0.66</td>\n",
              "      <td>0.54</td>\n",
              "      <td>0.14</td>\n",
              "      <td>0.23</td>\n",
              "      <td>0.19</td>\n",
              "      <td>0.70</td>\n",
              "      <td>0.80</td>\n",
              "      <td>0.81</td>\n",
              "      <td>0.65</td>\n",
              "    </tr>\n",
              "    <tr>\n",
              "      <th>max</th>\n",
              "      <td>2.29</td>\n",
              "      <td>4.21</td>\n",
              "      <td>2.04</td>\n",
              "      <td>2.96</td>\n",
              "      <td>5.12</td>\n",
              "      <td>5.24</td>\n",
              "      <td>4.78</td>\n",
              "      <td>2.55</td>\n",
              "      <td>1.26</td>\n",
              "      <td>2.17</td>\n",
              "      <td>2.14</td>\n",
              "    </tr>\n",
              "  </tbody>\n",
              "</table>\n",
              "</div>"
            ],
            "text/plain": [
              "          0      1      2      3      4      5      6      7      8      9   \\\n",
              "count 314.00 314.00 314.00 314.00 314.00 314.00 314.00 314.00 314.00 314.00   \n",
              "mean    0.00  -0.00  -0.00   0.00   0.00   0.00   0.00   0.00  -0.00   0.00   \n",
              "std     1.00   1.00   1.00   1.00   1.00   1.00   1.00   1.00   1.00   1.00   \n",
              "min    -1.59  -0.84  -1.40  -2.14  -0.76  -1.12  -0.82  -2.66  -3.32  -2.15   \n",
              "25%    -0.70  -0.62  -1.06  -0.75  -0.62  -0.61  -0.60  -0.73  -0.56  -0.79   \n",
              "50%    -0.15  -0.47  -0.03   0.04  -0.39  -0.27  -0.40  -0.09   0.27  -0.01   \n",
              "75%     0.92   0.26   0.66   0.54   0.14   0.23   0.19   0.70   0.80   0.81   \n",
              "max     2.29   4.21   2.04   2.96   5.12   5.24   4.78   2.55   1.26   2.17   \n",
              "\n",
              "          10  \n",
              "count 314.00  \n",
              "mean    0.00  \n",
              "std     1.00  \n",
              "min    -3.82  \n",
              "25%    -0.26  \n",
              "50%     0.35  \n",
              "75%     0.65  \n",
              "max     2.14  "
            ]
          },
          "execution_count": 10,
          "metadata": {},
          "output_type": "execute_result"
        }
      ],
      "source": [
        "pd.options.display.float_format = '{:.2f}'.format  # avoid scientific notation using exponent, display up to two digital places instead\n",
        "pd.DataFrame(features_train_standardized).describe()  # eight value summary"
      ]
    },
    {
      "cell_type": "markdown",
      "metadata": {
        "cell_content_type": "markdown_selectable",
        "changed": false,
        "deletable": false,
        "editable": false,
        "messageType": "beachte",
        "original-content": "**Attention**: Because of the conversion of the numpy array into a DataFrame, the information about the column names disappeared. When instantiating the `DataFrame` you can add the parameter `columns=features_train.columns` to restore the names. This might help you to interpret the numbers more easily.\n",
        "selectable": true
      },
      "source": [
        "**Attention**: Because of the conversion of the numpy array into a DataFrame, the information about the column names disappeared. When instantiating the `DataFrame` you can add the parameter `columns=features_train.columns` to restore the names. This might help you to interpret the numbers more easily.\n"
      ]
    },
    {
      "cell_type": "code",
      "execution_count": 11,
      "metadata": {
        "cell_content_type": "code_user",
        "changed": false,
        "deletable": false,
        "editable": true,
        "hint": "The function for converting a `numpy.array` into a `DataFrame` is `pd.DataFrame()`",
        "original-content": "#Solution\npd.DataFrame(features_train_standardized, columns=features_train.columns).describe()",
        "selectable": true
      },
      "outputs": [
        {
          "data": {
            "text/html": [
              "<div>\n",
              "<style scoped>\n",
              "    .dataframe tbody tr th:only-of-type {\n",
              "        vertical-align: middle;\n",
              "    }\n",
              "\n",
              "    .dataframe tbody tr th {\n",
              "        vertical-align: top;\n",
              "    }\n",
              "\n",
              "    .dataframe thead th {\n",
              "        text-align: right;\n",
              "    }\n",
              "</style>\n",
              "<table border=\"1\" class=\"dataframe\">\n",
              "  <thead>\n",
              "    <tr style=\"text-align: right;\">\n",
              "      <th></th>\n",
              "      <th>house_age</th>\n",
              "      <th>metro_distance</th>\n",
              "      <th>number_convenience_stores</th>\n",
              "      <th>number_parking_spaces</th>\n",
              "      <th>air_pollution</th>\n",
              "      <th>light_pollution</th>\n",
              "      <th>noise_pollution</th>\n",
              "      <th>neighborhood_quality</th>\n",
              "      <th>crime_score</th>\n",
              "      <th>energy_consumption</th>\n",
              "      <th>longitude</th>\n",
              "    </tr>\n",
              "  </thead>\n",
              "  <tbody>\n",
              "    <tr>\n",
              "      <th>count</th>\n",
              "      <td>314.00</td>\n",
              "      <td>314.00</td>\n",
              "      <td>314.00</td>\n",
              "      <td>314.00</td>\n",
              "      <td>314.00</td>\n",
              "      <td>314.00</td>\n",
              "      <td>314.00</td>\n",
              "      <td>314.00</td>\n",
              "      <td>314.00</td>\n",
              "      <td>314.00</td>\n",
              "      <td>314.00</td>\n",
              "    </tr>\n",
              "    <tr>\n",
              "      <th>mean</th>\n",
              "      <td>0.00</td>\n",
              "      <td>-0.00</td>\n",
              "      <td>-0.00</td>\n",
              "      <td>0.00</td>\n",
              "      <td>0.00</td>\n",
              "      <td>0.00</td>\n",
              "      <td>0.00</td>\n",
              "      <td>0.00</td>\n",
              "      <td>-0.00</td>\n",
              "      <td>0.00</td>\n",
              "      <td>0.00</td>\n",
              "    </tr>\n",
              "    <tr>\n",
              "      <th>std</th>\n",
              "      <td>1.00</td>\n",
              "      <td>1.00</td>\n",
              "      <td>1.00</td>\n",
              "      <td>1.00</td>\n",
              "      <td>1.00</td>\n",
              "      <td>1.00</td>\n",
              "      <td>1.00</td>\n",
              "      <td>1.00</td>\n",
              "      <td>1.00</td>\n",
              "      <td>1.00</td>\n",
              "      <td>1.00</td>\n",
              "    </tr>\n",
              "    <tr>\n",
              "      <th>min</th>\n",
              "      <td>-1.59</td>\n",
              "      <td>-0.84</td>\n",
              "      <td>-1.40</td>\n",
              "      <td>-2.14</td>\n",
              "      <td>-0.76</td>\n",
              "      <td>-1.12</td>\n",
              "      <td>-0.82</td>\n",
              "      <td>-2.66</td>\n",
              "      <td>-3.32</td>\n",
              "      <td>-2.15</td>\n",
              "      <td>-3.82</td>\n",
              "    </tr>\n",
              "    <tr>\n",
              "      <th>25%</th>\n",
              "      <td>-0.70</td>\n",
              "      <td>-0.62</td>\n",
              "      <td>-1.06</td>\n",
              "      <td>-0.75</td>\n",
              "      <td>-0.62</td>\n",
              "      <td>-0.61</td>\n",
              "      <td>-0.60</td>\n",
              "      <td>-0.73</td>\n",
              "      <td>-0.56</td>\n",
              "      <td>-0.79</td>\n",
              "      <td>-0.26</td>\n",
              "    </tr>\n",
              "    <tr>\n",
              "      <th>50%</th>\n",
              "      <td>-0.15</td>\n",
              "      <td>-0.47</td>\n",
              "      <td>-0.03</td>\n",
              "      <td>0.04</td>\n",
              "      <td>-0.39</td>\n",
              "      <td>-0.27</td>\n",
              "      <td>-0.40</td>\n",
              "      <td>-0.09</td>\n",
              "      <td>0.27</td>\n",
              "      <td>-0.01</td>\n",
              "      <td>0.35</td>\n",
              "    </tr>\n",
              "    <tr>\n",
              "      <th>75%</th>\n",
              "      <td>0.92</td>\n",
              "      <td>0.26</td>\n",
              "      <td>0.66</td>\n",
              "      <td>0.54</td>\n",
              "      <td>0.14</td>\n",
              "      <td>0.23</td>\n",
              "      <td>0.19</td>\n",
              "      <td>0.70</td>\n",
              "      <td>0.80</td>\n",
              "      <td>0.81</td>\n",
              "      <td>0.65</td>\n",
              "    </tr>\n",
              "    <tr>\n",
              "      <th>max</th>\n",
              "      <td>2.29</td>\n",
              "      <td>4.21</td>\n",
              "      <td>2.04</td>\n",
              "      <td>2.96</td>\n",
              "      <td>5.12</td>\n",
              "      <td>5.24</td>\n",
              "      <td>4.78</td>\n",
              "      <td>2.55</td>\n",
              "      <td>1.26</td>\n",
              "      <td>2.17</td>\n",
              "      <td>2.14</td>\n",
              "    </tr>\n",
              "  </tbody>\n",
              "</table>\n",
              "</div>"
            ],
            "text/plain": [
              "       house_age  metro_distance  number_convenience_stores  \\\n",
              "count     314.00          314.00                     314.00   \n",
              "mean        0.00           -0.00                      -0.00   \n",
              "std         1.00            1.00                       1.00   \n",
              "min        -1.59           -0.84                      -1.40   \n",
              "25%        -0.70           -0.62                      -1.06   \n",
              "50%        -0.15           -0.47                      -0.03   \n",
              "75%         0.92            0.26                       0.66   \n",
              "max         2.29            4.21                       2.04   \n",
              "\n",
              "       number_parking_spaces  air_pollution  light_pollution  noise_pollution  \\\n",
              "count                 314.00         314.00           314.00           314.00   \n",
              "mean                    0.00           0.00             0.00             0.00   \n",
              "std                     1.00           1.00             1.00             1.00   \n",
              "min                    -2.14          -0.76            -1.12            -0.82   \n",
              "25%                    -0.75          -0.62            -0.61            -0.60   \n",
              "50%                     0.04          -0.39            -0.27            -0.40   \n",
              "75%                     0.54           0.14             0.23             0.19   \n",
              "max                     2.96           5.12             5.24             4.78   \n",
              "\n",
              "       neighborhood_quality  crime_score  energy_consumption  longitude  \n",
              "count                314.00       314.00              314.00     314.00  \n",
              "mean                   0.00        -0.00                0.00       0.00  \n",
              "std                    1.00         1.00                1.00       1.00  \n",
              "min                   -2.66        -3.32               -2.15      -3.82  \n",
              "25%                   -0.73        -0.56               -0.79      -0.26  \n",
              "50%                   -0.09         0.27               -0.01       0.35  \n",
              "75%                    0.70         0.80                0.81       0.65  \n",
              "max                    2.55         1.26                2.17       2.14  "
            ]
          },
          "execution_count": 11,
          "metadata": {},
          "output_type": "execute_result"
        }
      ],
      "source": [
        "#Solution\n",
        "pd.DataFrame(features_train_standardized, columns=features_train.columns).describe()"
      ]
    },
    {
      "cell_type": "markdown",
      "metadata": {
        "cell_content_type": "markdown_default",
        "changed": false,
        "deletable": false,
        "editable": false,
        "original-content": "As you predicted earlier, This means that the feature values are now comparable. They now use the same scale. This means that the ridge regression will no longer penalize the slope of one feature more than another.\n",
        "selectable": false
      },
      "source": [
        "As you predicted earlier, This means that the feature values are now comparable. They now use the same scale. This means that the ridge regression will no longer penalize the slope of one feature more than another.\n"
      ]
    },
    {
      "cell_type": "markdown",
      "metadata": {
        "cell_content_type": "markdown_selectable",
        "changed": false,
        "deletable": false,
        "editable": false,
        "original-content": "Now use the `my_model.fit()` method with `model_ridge` together with the standardized feature matrix `features_train_standardized` and `target_train` to fit the ridge regression model to the data.\n",
        "selectable": true
      },
      "source": [
        "Now use the `my_model.fit()` method with `model_ridge` together with the standardized feature matrix `features_train_standardized` and `target_train` to fit the ridge regression model to the data.\n"
      ]
    },
    {
      "cell_type": "code",
      "execution_count": 12,
      "metadata": {
        "cell_content_type": "code_user",
        "changed": false,
        "deletable": false,
        "editable": true,
        "hint": "Write `model_ridge.fit(features_train_standardized, target_train)` and run the cell.",
        "original-content": "# Solution:\nmodel_ridge.fit(features_train_standardized, target_train)",
        "selectable": true
      },
      "outputs": [
        {
          "data": {
            "text/plain": [
              "Ridge(alpha=1500)"
            ]
          },
          "execution_count": 12,
          "metadata": {},
          "output_type": "execute_result"
        }
      ],
      "source": [
        "# Solution:\n",
        "model_ridge.fit(features_train_standardized, target_train)"
      ]
    },
    {
      "cell_type": "markdown",
      "metadata": {
        "cell_content_type": "markdown_default",
        "changed": false,
        "deletable": false,
        "editable": false,
        "original-content": "Now visualize the slope values of the ridge regression in a bar chart to find out which are the most important features in the ridge model. Because all slope values are on the same standardized scale, you can compare them directly.\n",
        "selectable": false
      },
      "source": [
        "Now visualize the slope values of the ridge regression in a bar chart to find out which are the most important features in the ridge model. Because all slope values are on the same standardized scale, you can compare them directly.\n"
      ]
    },
    {
      "cell_type": "code",
      "execution_count": 13,
      "metadata": {
        "cell_content_type": "code_user",
        "changed": false,
        "deletable": false,
        "editable": true,
        "hint": "The values for the coefficients can be found in `model_ridge.coef_`. If you convert it to a `pd.Series`, you can use the `plot.bar()` method.",
        "original-content": "# Solution:\nimport matplotlib.pyplot as plt\n\nfig, ax = plt.subplots(1,figsize=(6,6))\npd.Series(model_ridge.coef_, index=features_train.columns).sort_values().plot.bar(ax=ax)\nax.set_title('Feature Weights in Ridgemodel')\nax.set_ylabel('Weight (standardized)')\nax.set_xlabel('Feature')\nfig.tight_layout()",
        "selectable": true
      },
      "outputs": [
        {
          "data": {
            "image/png": "[encoded data removed]",
            "text/plain": [
              "<Figure size 432x432 with 1 Axes>"
            ]
          },
          "metadata": {
            "needs_background": "light"
          },
          "output_type": "display_data"
        }
      ],
      "source": [
        "# Solution:\n",
        "import matplotlib.pyplot as plt\n",
        "\n",
        "fig, ax = plt.subplots(1,figsize=(6,6))\n",
        "pd.Series(model_ridge.coef_, index=features_train.columns).sort_values().plot.bar(ax=ax)\n",
        "ax.set_title('Feature Weights in Ridgemodel')\n",
        "ax.set_ylabel('Weight (standardized)')\n",
        "ax.set_xlabel('Feature')\n",
        "fig.tight_layout()"
      ]
    },
    {
      "cell_type": "markdown",
      "metadata": {
        "cell_content_type": "markdown_default",
        "changed": false,
        "deletable": false,
        "editable": false,
        "original-content": "Your visualization should now look something like this:\n\n<img src=\"01_01_08_pic01_featureWeightsPlot_en.png\"  align=\"left\">\n",
        "selectable": false
      },
      "source": [
        "Your visualization should now look something like this:\n",
        "\n",
        "<img src=\"01_01_08_pic01_featureWeightsPlot_en.png\"  align=\"left\">\n"
      ]
    },
    {
      "cell_type": "markdown",
      "metadata": {
        "cell_content_type": "markdown_default",
        "changed": false,
        "deletable": false,
        "editable": false,
        "messageType": "glueckwunsch",
        "original-content": "**Congratulations:** You fitted your first ridge regression model to the data. How good is it actually? Next we will evaluate the model quality using the independent test data.\n",
        "selectable": false
      },
      "source": [
        "**Congratulations:** You fitted your first ridge regression model to the data. How good is it actually? Next we will evaluate the model quality using the independent test data.\n"
      ]
    },
    {
      "cell_type": "markdown",
      "metadata": {
        "cell_content_type": "markdown_default",
        "changed": false,
        "deletable": false,
        "editable": false,
        "original-content": "## Determing the ridge regression model quality\n",
        "selectable": false
      },
      "source": [
        "## Determing the ridge regression model quality\n"
      ]
    },
    {
      "cell_type": "markdown",
      "metadata": {
        "cell_content_type": "markdown_selectable",
        "changed": false,
        "deletable": false,
        "editable": false,
        "original-content": "Assessing the model quality requires the prediction of target values. For that we need the feature matrix and the target vector with the data from `df_test`. Save them in `features_test` and `target_test`.\n",
        "selectable": true
      },
      "source": [
        "Assessing the model quality requires the prediction of target values. For that we need the feature matrix and the target vector with the data from `df_test`. Save them in `features_test` and `target_test`.\n"
      ]
    },
    {
      "cell_type": "code",
      "execution_count": 14,
      "metadata": {
        "cell_content_type": "code_user",
        "changed": false,
        "deletable": false,
        "editable": true,
        "hint": "Use the fourth code cell of this lesson as a guide.",
        "original-content": "# Solution:\nfeatures_test = df_test.loc[:, col_names[:-1]]\ntarget_test = df_test.loc[:, 'price_per_m2']",
        "selectable": true
      },
      "outputs": [],
      "source": [
        "# Solution:\n",
        "features_test = df_test.loc[:, col_names[:-1]]\n",
        "target_test = df_test.loc[:, 'price_per_m2']"
      ]
    },
    {
      "cell_type": "markdown",
      "metadata": {
        "cell_content_type": "markdown_selectable",
        "changed": false,
        "deletable": false,
        "editable": false,
        "original-content": "The feature matrix `features_test` doesn't use a uniform scale yet. In order to use the same scale as above, `scaler` should transform the test data exactly as it did the training data. We therefore have to carry out the `my_scaler.transform()` step with the test data set.\n",
        "selectable": true
      },
      "source": [
        "The feature matrix `features_test` doesn't use a uniform scale yet. In order to use the same scale as above, `scaler` should transform the test data exactly as it did the training data. We therefore have to carry out the `my_scaler.transform()` step with the test data set.\n"
      ]
    },
    {
      "cell_type": "code",
      "execution_count": 15,
      "metadata": {
        "cell_content_type": "code_demo",
        "changed": false,
        "deletable": false,
        "editable": true,
        "hint": "If you would like, you can discuss this in the forum under *Ridge Regularization*.",
        "hint_counter": 0,
        "original-content": "features_test_standardized = scaler.transform(features_test)",
        "selectable": true
      },
      "outputs": [],
      "source": [
        "features_test_standardized = scaler.transform(features_test)"
      ]
    },
    {
      "cell_type": "markdown",
      "metadata": {
        "cell_content_type": "markdown_default",
        "changed": false,
        "deletable": false,
        "editable": false,
        "messageType": "beachte",
        "original-content": "**Important:**\nThe separation of training and test data is an important principle in the data science process.\n\nRemember this: **Only ever fit to the training set!**\n\nOnce a *scaler* or other *transformer* has been fitted, you can apply it to all the data sets.\n",
        "selectable": false
      },
      "source": [
        "**Important:**\n",
        "The separation of training and test data is an important principle in the data science process.\n",
        "\n",
        "Remember this: **Only ever fit to the training set!**\n",
        "\n",
        "Once a *scaler* or other *transformer* has been fitted, you can apply it to all the data sets.\n"
      ]
    },
    {
      "cell_type": "markdown",
      "metadata": {
        "cell_content_type": "markdown_selectable",
        "changed": false,
        "deletable": false,
        "editable": false,
        "original-content": "If we now look at the eight-value summary of `features_test_standardized`, it becomes apparent that the features now don't quite exactly have a mean value of zero and a dispersion (standard deviation) of one. This is to do with the fact that the standardization used the mean and dispersion values from the training data set.\n",
        "selectable": true
      },
      "source": [
        "If we now look at the eight-value summary of `features_test_standardized`, it becomes apparent that the features now don't quite exactly have a mean value of zero and a dispersion (standard deviation) of one. This is to do with the fact that the standardization used the mean and dispersion values from the training data set.\n"
      ]
    },
    {
      "cell_type": "code",
      "execution_count": 16,
      "metadata": {
        "cell_content_type": "code_demo",
        "changed": false,
        "deletable": false,
        "editable": true,
        "hint": "If you would like, you can discuss this in the forum under *Ridge Regularization*.",
        "original-content": "pd.DataFrame(features_test_standardized).describe()  # eight value summary",
        "selectable": true
      },
      "outputs": [
        {
          "data": {
            "text/html": [
              "<div>\n",
              "<style scoped>\n",
              "    .dataframe tbody tr th:only-of-type {\n",
              "        vertical-align: middle;\n",
              "    }\n",
              "\n",
              "    .dataframe tbody tr th {\n",
              "        vertical-align: top;\n",
              "    }\n",
              "\n",
              "    .dataframe thead th {\n",
              "        text-align: right;\n",
              "    }\n",
              "</style>\n",
              "<table border=\"1\" class=\"dataframe\">\n",
              "  <thead>\n",
              "    <tr style=\"text-align: right;\">\n",
              "      <th></th>\n",
              "      <th>0</th>\n",
              "      <th>1</th>\n",
              "      <th>2</th>\n",
              "      <th>3</th>\n",
              "      <th>4</th>\n",
              "      <th>5</th>\n",
              "      <th>6</th>\n",
              "      <th>7</th>\n",
              "      <th>8</th>\n",
              "      <th>9</th>\n",
              "      <th>10</th>\n",
              "    </tr>\n",
              "  </thead>\n",
              "  <tbody>\n",
              "    <tr>\n",
              "      <th>count</th>\n",
              "      <td>110.00</td>\n",
              "      <td>110.00</td>\n",
              "      <td>110.00</td>\n",
              "      <td>110.00</td>\n",
              "      <td>110.00</td>\n",
              "      <td>110.00</td>\n",
              "      <td>110.00</td>\n",
              "      <td>110.00</td>\n",
              "      <td>110.00</td>\n",
              "      <td>110.00</td>\n",
              "      <td>110.00</td>\n",
              "    </tr>\n",
              "    <tr>\n",
              "      <th>mean</th>\n",
              "      <td>-0.22</td>\n",
              "      <td>-0.04</td>\n",
              "      <td>0.28</td>\n",
              "      <td>0.29</td>\n",
              "      <td>-0.10</td>\n",
              "      <td>-1.47</td>\n",
              "      <td>5.51</td>\n",
              "      <td>0.12</td>\n",
              "      <td>-0.06</td>\n",
              "      <td>-0.07</td>\n",
              "      <td>-0.08</td>\n",
              "    </tr>\n",
              "    <tr>\n",
              "      <th>std</th>\n",
              "      <td>1.01</td>\n",
              "      <td>1.02</td>\n",
              "      <td>1.23</td>\n",
              "      <td>2.03</td>\n",
              "      <td>0.89</td>\n",
              "      <td>0.61</td>\n",
              "      <td>2.52</td>\n",
              "      <td>0.96</td>\n",
              "      <td>1.04</td>\n",
              "      <td>1.03</td>\n",
              "      <td>1.03</td>\n",
              "    </tr>\n",
              "    <tr>\n",
              "      <th>min</th>\n",
              "      <td>-1.59</td>\n",
              "      <td>-0.85</td>\n",
              "      <td>-1.40</td>\n",
              "      <td>-2.14</td>\n",
              "      <td>-0.76</td>\n",
              "      <td>-1.63</td>\n",
              "      <td>-0.73</td>\n",
              "      <td>-2.06</td>\n",
              "      <td>-2.87</td>\n",
              "      <td>-2.15</td>\n",
              "      <td>-3.92</td>\n",
              "    </tr>\n",
              "    <tr>\n",
              "      <th>25%</th>\n",
              "      <td>-1.09</td>\n",
              "      <td>-0.71</td>\n",
              "      <td>-0.71</td>\n",
              "      <td>-0.49</td>\n",
              "      <td>-0.70</td>\n",
              "      <td>-1.63</td>\n",
              "      <td>4.06</td>\n",
              "      <td>-0.54</td>\n",
              "      <td>-0.62</td>\n",
              "      <td>-0.99</td>\n",
              "      <td>-1.04</td>\n",
              "    </tr>\n",
              "    <tr>\n",
              "      <th>50%</th>\n",
              "      <td>-0.39</td>\n",
              "      <td>-0.52</td>\n",
              "      <td>0.32</td>\n",
              "      <td>0.09</td>\n",
              "      <td>-0.51</td>\n",
              "      <td>-1.62</td>\n",
              "      <td>5.48</td>\n",
              "      <td>0.12</td>\n",
              "      <td>0.17</td>\n",
              "      <td>0.01</td>\n",
              "      <td>0.32</td>\n",
              "    </tr>\n",
              "    <tr>\n",
              "      <th>75%</th>\n",
              "      <td>0.32</td>\n",
              "      <td>0.50</td>\n",
              "      <td>1.00</td>\n",
              "      <td>0.63</td>\n",
              "      <td>0.09</td>\n",
              "      <td>-1.61</td>\n",
              "      <td>7.44</td>\n",
              "      <td>0.79</td>\n",
              "      <td>0.73</td>\n",
              "      <td>0.72</td>\n",
              "      <td>0.62</td>\n",
              "    </tr>\n",
              "    <tr>\n",
              "      <th>max</th>\n",
              "      <td>2.19</td>\n",
              "      <td>4.28</td>\n",
              "      <td>5.81</td>\n",
              "      <td>18.68</td>\n",
              "      <td>3.83</td>\n",
              "      <td>3.22</td>\n",
              "      <td>9.45</td>\n",
              "      <td>2.77</td>\n",
              "      <td>1.26</td>\n",
              "      <td>2.18</td>\n",
              "      <td>1.70</td>\n",
              "    </tr>\n",
              "  </tbody>\n",
              "</table>\n",
              "</div>"
            ],
            "text/plain": [
              "          0      1      2      3      4      5      6      7      8      9   \\\n",
              "count 110.00 110.00 110.00 110.00 110.00 110.00 110.00 110.00 110.00 110.00   \n",
              "mean   -0.22  -0.04   0.28   0.29  -0.10  -1.47   5.51   0.12  -0.06  -0.07   \n",
              "std     1.01   1.02   1.23   2.03   0.89   0.61   2.52   0.96   1.04   1.03   \n",
              "min    -1.59  -0.85  -1.40  -2.14  -0.76  -1.63  -0.73  -2.06  -2.87  -2.15   \n",
              "25%    -1.09  -0.71  -0.71  -0.49  -0.70  -1.63   4.06  -0.54  -0.62  -0.99   \n",
              "50%    -0.39  -0.52   0.32   0.09  -0.51  -1.62   5.48   0.12   0.17   0.01   \n",
              "75%     0.32   0.50   1.00   0.63   0.09  -1.61   7.44   0.79   0.73   0.72   \n",
              "max     2.19   4.28   5.81  18.68   3.83   3.22   9.45   2.77   1.26   2.18   \n",
              "\n",
              "          10  \n",
              "count 110.00  \n",
              "mean   -0.08  \n",
              "std     1.03  \n",
              "min    -3.92  \n",
              "25%    -1.04  \n",
              "50%     0.32  \n",
              "75%     0.62  \n",
              "max     1.70  "
            ]
          },
          "execution_count": 16,
          "metadata": {},
          "output_type": "execute_result"
        }
      ],
      "source": [
        "pd.DataFrame(features_test_standardized).describe()  # eight value summary"
      ]
    },
    {
      "cell_type": "markdown",
      "metadata": {
        "cell_content_type": "markdown_selectable",
        "changed": false,
        "deletable": false,
        "editable": false,
        "original-content": "Now calculate the predicted house prices of the test data set using the `my_model.predict()` method with `model_ridge`. Note that it should now get the standardized features of the test data set. Store the predicted house prices in the variable `target_test_pred_ridge`.\n",
        "selectable": true
      },
      "source": [
        "Now calculate the predicted house prices of the test data set using the `my_model.predict()` method with `model_ridge`. Note that it should now get the standardized features of the test data set. Store the predicted house prices in the variable `target_test_pred_ridge`.\n"
      ]
    },
    {
      "cell_type": "code",
      "execution_count": 17,
      "metadata": {
        "cell_content_type": "code_user",
        "changed": false,
        "deletable": false,
        "editable": true,
        "hint": "Write `target_test_pred_ridge = model_ridge.predict(features_test_standardized)` and run the cell.",
        "original-content": "# Solution:\ntarget_test_pred_ridge = model_ridge.predict(features_test_standardized)",
        "selectable": true
      },
      "outputs": [],
      "source": [
        "# Solution:\n",
        "target_test_pred_ridge = model_ridge.predict(features_test_standardized)"
      ]
    },
    {
      "cell_type": "markdown",
      "metadata": {
        "cell_content_type": "markdown_selectable",
        "changed": false,
        "deletable": false,
        "editable": false,
        "original-content": "With `target_test` and `target_test_pred_ridge` you now have everything you need to calculate the *mean squared error* , *RMSE* and *R\u00b2* model quality metrics. Print these values.\n",
        "selectable": true
      },
      "source": [
        "With `target_test` and `target_test_pred_ridge` you now have everything you need to calculate the *mean squared error* , *RMSE* and *R\u00b2* model quality metrics. Print these values.\n"
      ]
    },
    {
      "cell_type": "code",
      "execution_count": 18,
      "metadata": {
        "cell_content_type": "code_user",
        "changed": false,
        "deletable": false,
        "editable": true,
        "hint": "First import the associated functions, for example like this: `from sklearn.metrics import mean_squared_error`.",
        "original-content": "# Solution:\nfrom sklearn.metrics import mean_squared_error\nfrom sklearn.metrics import r2_score\n\nprint('MSE: ', mean_squared_error(target_test, target_test_pred_ridge))\nprint('RMSE: ', np.sqrt(mean_squared_error(target_test, target_test_pred_ridge)))\nprint('R2: ', r2_score(target_test, target_test_pred_ridge))",
        "selectable": true
      },
      "outputs": [
        {
          "name": "stdout",
          "output_type": "stream",
          "text": [
            "MSE:  10.834407403869\n",
            "RMSE:  3.2915661020050924\n",
            "R2:  0.18093724447993753\n"
          ]
        }
      ],
      "source": [
        "# Solution:\n",
        "from sklearn.metrics import mean_squared_error\n",
        "from sklearn.metrics import r2_score\n",
        "\n",
        "print('MSE: ', mean_squared_error(target_test, target_test_pred_ridge))\n",
        "print('RMSE: ', np.sqrt(mean_squared_error(target_test, target_test_pred_ridge)))\n",
        "print('R2: ', r2_score(target_test, target_test_pred_ridge))"
      ]
    },
    {
      "cell_type": "markdown",
      "metadata": {
        "cell_content_type": "markdown_default",
        "changed": false,
        "deletable": false,
        "editable": false,
        "original-content": "How good are these values compared to the other regressions we calculated in this chapter?\n",
        "selectable": false
      },
      "source": [
        "How good are these values compared to the other regressions we calculated in this chapter?\n"
      ]
    },
    {
      "cell_type": "markdown",
      "metadata": {
        "cell_content_type": "markdown_selectable",
        "changed": false,
        "deletable": false,
        "editable": false,
        "original-content": "Looking at the performance of the other models we've worked with so far, we get the following table:\n\nModel| Test: *MSE* | Test: *R\u00b2*\n---|---|---\n`model_age`| 11.89 | 10.1%\n`model_metro`| 10.27 | 22.4%\n`model_stores`| 11.29 | 14.7%\n`model_multiple`| 9.72 | 26.5%\n`model_multiple_all`| 31.77 | -140.2%\n`model_ridge`| 10.83 | 18.1%\n",
        "selectable": true
      },
      "source": [
        "Looking at the performance of the other models we've worked with so far, we get the following table:\n",
        "\n",
        "Model| Test: *MSE* | Test: *R\u00b2*\n",
        "---|---|---\n",
        "`model_age`| 11.89 | 10.1%\n",
        "`model_metro`| 10.27 | 22.4%\n",
        "`model_stores`| 11.29 | 14.7%\n",
        "`model_multiple`| 9.72 | 26.5%\n",
        "`model_multiple_all`| 31.77 | -140.2%\n",
        "`model_ridge`| 10.83 | 18.1%\n"
      ]
    },
    {
      "cell_type": "markdown",
      "metadata": {
        "cell_content_type": "markdown_default",
        "changed": false,
        "deletable": false,
        "editable": false,
        "messageType": "glueckwunsch",
        "original-content": "**Congratulations:** You used a ridge regression to use all features in a model without leading to severe overfitting. The quality metrics based on test data are better for the ridge regression with eleven features than for the multiple linear regression with eleven features \n\nRidge regressions are popular when people want to avoid overfitting and when features correlate with each other. However, they are not suitable for completely removing unimportant features. To do that, you should then look at lasso regressions. We'll cover this approach for *feature selection* in the next lesson.\n",
        "selectable": false
      },
      "source": [
        "**Congratulations:** You used a ridge regression to use all features in a model without leading to severe overfitting. The quality metrics based on test data are better for the ridge regression with eleven features than for the multiple linear regression with eleven features \n",
        "\n",
        "Ridge regressions are popular when people want to avoid overfitting and when features correlate with each other. However, they are not suitable for completely removing unimportant features. To do that, you should then look at lasso regressions. We'll cover this approach for *feature selection* in the next lesson.\n"
      ]
    },
    {
      "cell_type": "markdown",
      "metadata": {
        "cell_content_type": "markdown_selectable",
        "changed": false,
        "deletable": false,
        "editable": false,
        "messageType": "merke",
        "original-content": "**Remember:**\n* `Ridge` minimizes the sum of the squared slope values\n* `Ridge` is suitable to prevent overfitting and colinearity\n* **Only ever fit to the training set!**\n",
        "selectable": true
      },
      "source": [
        "**Remember:**\n",
        "* `Ridge` minimizes the sum of the squared slope values\n",
        "* `Ridge` is suitable to prevent overfitting and colinearity\n",
        "* **Only ever fit to the training set!**\n"
      ]
    },
    {
      "cell_type": "markdown",
      "metadata": {
        "cell_content_type": "markdown_default",
        "changed": false,
        "deletable": false,
        "editable": false,
        "messageType": "literatur",
        "original-content": "**Literature:**\nIf you would like to delve deeper into the subject matter of this chapter, we recommend the following source(s):\n* G\u00e9ron, Aur\u00e9lien. 2017. *Hands-On Machine Learning with Scikit-Learn & TensorFlow*. Sebastopol : O'Reilly, 2017. p. 108 pp.",
        "selectable": false
      },
      "source": [
        "**Literature:**\n",
        "If you would like to delve deeper into the subject matter of this chapter, we recommend the following source(s):\n",
        "* G\u00e9ron, Aur\u00e9lien. 2017. *Hands-On Machine Learning with Scikit-Learn & TensorFlow*. Sebastopol : O'Reilly, 2017. p. 108 pp."
      ]
    },
    {
      "cell_type": "markdown",
      "metadata": {
        "cell_content_type": "markdown_default",
        "changed": false,
        "deletable": false,
        "editable": false,
        "original-content": "***\nDo you have any questions about this exercise? Look in the forum to see if they have already been discussed.\n***\nFound a mistake? Contact Support at support@stackfuel.com.\n***\n",
        "selectable": false
      },
      "source": [
        "***\n",
        "Do you have any questions about this exercise? Look in the forum to see if they have already been discussed.\n",
        "***\n",
        "Found a mistake? Contact Support at support@stackfuel.com.\n",
        "***\n"
      ]
    }
  ],
  "metadata": {
    "content_id": "350a9f9a-35c5-458e-a203-c5924a4bafb1",
    "content_language": "en",
    "content_title": "Ridge Regularization",
    "content_type": "solution",
    "kernelspec": {
      "display_name": "Python 3 (ipykernel)",
      "language": "python",
      "name": "python3"
    },
    "language_info": {
      "codemirror_mode": {
        "name": "ipython",
        "version": 3
      },
      "file_extension": ".py",
      "mimetype": "text/x-python",
      "name": "python",
      "nbconvert_exporter": "python",
      "pygments_lexer": "ipython3",
      "version": "3.8.10"
    }
  },
  "nbformat": 4,
  "nbformat_minor": 4
}