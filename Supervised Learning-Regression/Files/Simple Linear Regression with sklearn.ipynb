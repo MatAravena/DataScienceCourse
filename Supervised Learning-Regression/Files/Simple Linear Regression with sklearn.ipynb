{
 "cells": [
  {
   "cell_type": "markdown",
   "metadata": {
    "cell_content_type": "markdown_selectable",
    "changed": false,
    "deletable": false,
    "editable": false,
    "original-content": "# Simple Linear Regression with sklearn (Solution)\nModule 1 | Chapter 1 | Notebook 2\n\n***\nIn this notebook we will use our first machine learning model: a simple linear regression. It predicts continuous values using a straight line. In our case, we will be predicting house prices. By the end of this lesson you will be able to:\n* Use the Python module `sklearn`\n* Predict prices with linear regression models\n* Interpret regression parameters\n***\n",
    "selectable": true
   },
   "source": [
    "# Simple Linear Regression with sklearn\n",
    "Module 1 | Chapter 1 | Notebook 2\n",
    "\n",
    "***\n",
    "In this notebook we will use our first machine learning model: a simple linear regression. It predicts continuous values using a straight line. In our case, we will be predicting house prices. By the end of this lesson you will be able to:\n",
    "* Use the Python module `sklearn`\n",
    "* Predict prices with linear regression models\n",
    "* Interpret regression parameters\n",
    "***\n"
   ]
  },
  {
   "cell_type": "markdown",
   "metadata": {
    "cell_content_type": "markdown_default",
    "changed": false,
    "deletable": false,
    "editable": false,
    "original-content": "## Training a model\n",
    "selectable": false
   },
   "source": [
    "## Training a model\n"
   ]
  },
  {
   "cell_type": "markdown",
   "metadata": {
    "cell_content_type": "markdown_default",
    "changed": false,
    "deletable": false,
    "editable": false,
    "messageType": "szenario",
    "original-content": "**Scenario:** A Taiwanese investor comes to you to find out how much his properties in Taiwan are actually worth. He might want to resell them. Two of the houses are brand new. The other houses are 12, 13.3, 34, 3, 15, 27.5, 11 and 7 years old. How much are these houses worth?\n",
    "selectable": false
   },
   "source": [
    "**Scenario:** A Taiwanese investor comes to you to find out how much his properties in Taiwan are actually worth. He might want to resell them. Two of the houses are brand new. The other houses are 12, 13.3, 34, 3, 15, 27.5, 11 and 7 years old. How much are these houses worth?\n"
   ]
  },
  {
   "cell_type": "markdown",
   "metadata": {
    "cell_content_type": "markdown_selectable",
    "changed": false,
    "deletable": false,
    "editable": false,
    "original-content": "Import `pandas` with its conventional alias `pd`, import the training data which is located in *Taiwan_real_estate_training_data.xlsx* and store it in a `DataFrame` named `df` and use the `'No'` column for row names. Rename the columns to the following column names:\n\n```python\n['house_age', \n 'metro_distance', \n 'number_convenience_stores', \n 'number_parking_spaces',\n 'air_pollution',\n 'light_pollution',\n 'noise_pollution',\n 'neighborhood_quality',\n 'crime_score',\n 'energy_consumption',\n 'longitude', \n 'price_per_ping']\n ```\n\nThen add another column `'price_per_m2'` where the values are the values from the `'price_per_ping'` column divided by 3.3.\n",
    "selectable": true
   },
   "source": [
    "Import `pandas` with its conventional alias `pd`, import the training data which is located in *Taiwan_real_estate_training_data.xlsx* and store it in a `DataFrame` named `df` and use the `'No'` column for row names. Rename the columns to the following column names:\n",
    "\n",
    "```python\n",
    "['house_age', \n",
    " 'metro_distance', \n",
    " 'number_convenience_stores', \n",
    " 'number_parking_spaces',\n",
    " 'air_pollution',\n",
    " 'light_pollution',\n",
    " 'noise_pollution',\n",
    " 'neighborhood_quality',\n",
    " 'crime_score',\n",
    " 'energy_consumption',\n",
    " 'longitude', \n",
    " 'price_per_ping']\n",
    " ```\n",
    "\n",
    "Then add another column `'price_per_m2'` where the values are the values from the `'price_per_ping'` column divided by 3.3.\n"
   ]
  },
  {
   "cell_type": "code",
   "execution_count": 36,
   "metadata": {
    "cell_content_type": "code_user",
    "changed": false,
    "deletable": false,
    "editable": true,
    "hint": "First import `pandas` with `import pandas as pd`. Then import the data with `pandas.read_excel()`. Then change the column names by assigning them to the attribute `my_df.columns`. Then convert the `'price_per_ping'` column and store the converted values in the new `'price_per_m2'` column.",
    "original-content": "",
    "selectable": true
   },
   "outputs": [
    {
     "data": {
      "text/html": [
       "<div>\n",
       "<style scoped>\n",
       "    .dataframe tbody tr th:only-of-type {\n",
       "        vertical-align: middle;\n",
       "    }\n",
       "\n",
       "    .dataframe tbody tr th {\n",
       "        vertical-align: top;\n",
       "    }\n",
       "\n",
       "    .dataframe thead th {\n",
       "        text-align: right;\n",
       "    }\n",
       "</style>\n",
       "<table border=\"1\" class=\"dataframe\">\n",
       "  <thead>\n",
       "    <tr style=\"text-align: right;\">\n",
       "      <th></th>\n",
       "      <th>house_age</th>\n",
       "      <th>metro_distance</th>\n",
       "      <th>number_convenience_stores</th>\n",
       "      <th>number_parking_spaces</th>\n",
       "      <th>air_pollution</th>\n",
       "      <th>light_pollution</th>\n",
       "      <th>noise_pollution</th>\n",
       "      <th>neighborhood_quality</th>\n",
       "      <th>crime_score</th>\n",
       "      <th>energy_consumption</th>\n",
       "      <th>longitude</th>\n",
       "      <th>price_per_ping</th>\n",
       "      <th>price_per_m2</th>\n",
       "    </tr>\n",
       "    <tr>\n",
       "      <th>No</th>\n",
       "      <th></th>\n",
       "      <th></th>\n",
       "      <th></th>\n",
       "      <th></th>\n",
       "      <th></th>\n",
       "      <th></th>\n",
       "      <th></th>\n",
       "      <th></th>\n",
       "      <th></th>\n",
       "      <th></th>\n",
       "      <th></th>\n",
       "      <th></th>\n",
       "      <th></th>\n",
       "    </tr>\n",
       "  </thead>\n",
       "  <tbody>\n",
       "    <tr>\n",
       "      <th>1</th>\n",
       "      <td>32.0</td>\n",
       "      <td>84.87882</td>\n",
       "      <td>10</td>\n",
       "      <td>89</td>\n",
       "      <td>29.754370</td>\n",
       "      <td>197.289414</td>\n",
       "      <td>0.852160</td>\n",
       "      <td>0.348743</td>\n",
       "      <td>0.593276</td>\n",
       "      <td>77.636034</td>\n",
       "      <td>121.54024</td>\n",
       "      <td>37.9</td>\n",
       "      <td>11.484848</td>\n",
       "    </tr>\n",
       "    <tr>\n",
       "      <th>2</th>\n",
       "      <td>19.5</td>\n",
       "      <td>306.59470</td>\n",
       "      <td>9</td>\n",
       "      <td>99</td>\n",
       "      <td>111.751859</td>\n",
       "      <td>179.272296</td>\n",
       "      <td>11.394151</td>\n",
       "      <td>0.279919</td>\n",
       "      <td>0.679967</td>\n",
       "      <td>96.182066</td>\n",
       "      <td>121.53951</td>\n",
       "      <td>42.2</td>\n",
       "      <td>12.787879</td>\n",
       "    </tr>\n",
       "    <tr>\n",
       "      <th>3</th>\n",
       "      <td>13.3</td>\n",
       "      <td>561.98450</td>\n",
       "      <td>5</td>\n",
       "      <td>79</td>\n",
       "      <td>394.335266</td>\n",
       "      <td>310.258310</td>\n",
       "      <td>13.691476</td>\n",
       "      <td>0.518158</td>\n",
       "      <td>0.585334</td>\n",
       "      <td>84.704896</td>\n",
       "      <td>121.54391</td>\n",
       "      <td>47.3</td>\n",
       "      <td>14.333333</td>\n",
       "    </tr>\n",
       "    <tr>\n",
       "      <th>4</th>\n",
       "      <td>13.3</td>\n",
       "      <td>561.98450</td>\n",
       "      <td>5</td>\n",
       "      <td>82</td>\n",
       "      <td>411.776028</td>\n",
       "      <td>273.979285</td>\n",
       "      <td>7.798633</td>\n",
       "      <td>0.431828</td>\n",
       "      <td>0.785321</td>\n",
       "      <td>66.828633</td>\n",
       "      <td>121.54391</td>\n",
       "      <td>54.8</td>\n",
       "      <td>16.606061</td>\n",
       "    </tr>\n",
       "    <tr>\n",
       "      <th>5</th>\n",
       "      <td>5.0</td>\n",
       "      <td>390.56840</td>\n",
       "      <td>5</td>\n",
       "      <td>72</td>\n",
       "      <td>98.966440</td>\n",
       "      <td>223.585153</td>\n",
       "      <td>12.628267</td>\n",
       "      <td>0.371121</td>\n",
       "      <td>0.752676</td>\n",
       "      <td>76.754044</td>\n",
       "      <td>121.54245</td>\n",
       "      <td>43.1</td>\n",
       "      <td>13.060606</td>\n",
       "    </tr>\n",
       "  </tbody>\n",
       "</table>\n",
       "</div>"
      ],
      "text/plain": [
       "    house_age  metro_distance  number_convenience_stores  \\\n",
       "No                                                         \n",
       "1        32.0        84.87882                         10   \n",
       "2        19.5       306.59470                          9   \n",
       "3        13.3       561.98450                          5   \n",
       "4        13.3       561.98450                          5   \n",
       "5         5.0       390.56840                          5   \n",
       "\n",
       "    number_parking_spaces  air_pollution  light_pollution  noise_pollution  \\\n",
       "No                                                                           \n",
       "1                      89      29.754370       197.289414         0.852160   \n",
       "2                      99     111.751859       179.272296        11.394151   \n",
       "3                      79     394.335266       310.258310        13.691476   \n",
       "4                      82     411.776028       273.979285         7.798633   \n",
       "5                      72      98.966440       223.585153        12.628267   \n",
       "\n",
       "    neighborhood_quality  crime_score  energy_consumption  longitude  \\\n",
       "No                                                                     \n",
       "1               0.348743     0.593276           77.636034  121.54024   \n",
       "2               0.279919     0.679967           96.182066  121.53951   \n",
       "3               0.518158     0.585334           84.704896  121.54391   \n",
       "4               0.431828     0.785321           66.828633  121.54391   \n",
       "5               0.371121     0.752676           76.754044  121.54245   \n",
       "\n",
       "    price_per_ping  price_per_m2  \n",
       "No                                \n",
       "1             37.9     11.484848  \n",
       "2             42.2     12.787879  \n",
       "3             47.3     14.333333  \n",
       "4             54.8     16.606061  \n",
       "5             43.1     13.060606  "
      ]
     },
     "execution_count": 36,
     "metadata": {},
     "output_type": "execute_result"
    }
   ],
   "source": [
    "import pandas as pd\n",
    "\n",
    "df = pd.read_excel('Taiwan_real_estate_training_data.xlsx', index_col='No')\n",
    "df.head()\n",
    "\n",
    "col_names = ['house_age', \n",
    "             'metro_distance', \n",
    "             'number_convenience_stores', \n",
    "             'number_parking_spaces',\n",
    "             'air_pollution',\n",
    "             'light_pollution',\n",
    "             'noise_pollution',\n",
    "             'neighborhood_quality',\n",
    "             'crime_score',\n",
    "             'energy_consumption',\n",
    "             'longitude', \n",
    "             'price_per_ping']\n",
    "\n",
    "df.columns = col_names\n",
    "\n",
    "df.loc[:,'price_per_m2'] = df.loc[:,'price_per_ping']/3.3\n",
    "df.head()"
   ]
  },
  {
   "cell_type": "markdown",
   "metadata": {
    "cell_content_type": "markdown_selectable",
    "changed": false,
    "deletable": false,
    "editable": false,
    "original-content": "The data dictionary for this data is as follows:\n\nColumn number | Column name       | Type      | Description\n ------------ | ---     | :---------:           | ------------:\n0              | `'house_age'` | continuous (`float`) | age of the house in years\n1              | `'metro_distance'` | continuous (`float`) | distance in meters to the next metro station\n2              | `'number_convenience_stores'` | continuous (`int`) | Number of convenience stores nearby\n3              | `'number_parking_spaces'` | continuous (`int`) | Number of parking spaces nearby\n4              | `'air_pollution'` | continuous (`float`) | Air pollution value near the house\n5              | `'light_pollution'` | continuous (`float`) | Light pollution value near the house\n6              | `'noise_pollution'` | continuous (`float`) | Noise pollution value near the house\n7              | `'neighborhood_quality'` | continuous (`float`) | average quality of life in the neighborhood\n8              | `'crime_score'` | continuous (`float`) | crime score according to police\n9              | `'energy_consumption'` | continuous (`float`) | The property's energy consumption\n10              | `'longitude'` | continuous (`float`) | The property's longitude\n11              | `'price_per_ping'` | continuous (`float`) | House price in Taiwan dollars per ping, one ping is 3.3 m²\n12              | `'price_per_m2'` | continuous (`float`) | House price in Taiwan dollars per m²\n",
    "selectable": true
   },
   "source": [
    "The data dictionary for this data is as follows:\n",
    "\n",
    "Column number | Column name       | Type      | Description\n",
    " ------------ | ---     | :---------:           | ------------:\n",
    "0              | `'house_age'` | continuous (`float`) | age of the house in years\n",
    "1              | `'metro_distance'` | continuous (`float`) | distance in meters to the next metro station\n",
    "2              | `'number_convenience_stores'` | continuous (`int`) | Number of convenience stores nearby\n",
    "3              | `'number_parking_spaces'` | continuous (`int`) | Number of parking spaces nearby\n",
    "4              | `'air_pollution'` | continuous (`float`) | Air pollution value near the house\n",
    "5              | `'light_pollution'` | continuous (`float`) | Light pollution value near the house\n",
    "6              | `'noise_pollution'` | continuous (`float`) | Noise pollution value near the house\n",
    "7              | `'neighborhood_quality'` | continuous (`float`) | average quality of life in the neighborhood\n",
    "8              | `'crime_score'` | continuous (`float`) | crime score according to police\n",
    "9              | `'energy_consumption'` | continuous (`float`) | The property's energy consumption\n",
    "10              | `'longitude'` | continuous (`float`) | The property's longitude\n",
    "11              | `'price_per_ping'` | continuous (`float`) | House price in Taiwan dollars per ping, one ping is 3.3 m²\n",
    "12              | `'price_per_m2'` | continuous (`float`) | House price in Taiwan dollars per m²\n"
   ]
  },
  {
   "cell_type": "markdown",
   "metadata": {
    "cell_content_type": "markdown_selectable",
    "changed": false,
    "deletable": false,
    "editable": false,
    "original-content": "The Python module `sklearn` offers a wide range of machine learning algorithms and supporting functionalities. That is why it has become established among data scientists as the best all-rounder among the Python modules for machine learning. If you want to organize or predict data using a machine learning model, you go through five steps. Don't worry, you might not understand all the steps just yet. That's ok. You will know more by the end of this lesson.\n\n1. Choose model type\n2. Instantiate a model with certain settings known as hyperparameters\n3. Organize data into a feature matrix and target vector\n4. Model fitting\n5. Make predictions with the trained model\n",
    "selectable": true
   },
   "source": [
    "The Python module `sklearn` offers a wide range of machine learning algorithms and supporting functionalities. That is why it has become established among data scientists as the best all-rounder among the Python modules for machine learning. If you want to organize or predict data using a machine learning model, you go through five steps. Don't worry, you might not understand all the steps just yet. That's ok. You will know more by the end of this lesson.\n",
    "\n",
    "1. Choose model type\n",
    "2. Instantiate a model with certain settings known as hyperparameters\n",
    "3. Organize data into a feature matrix and target vector\n",
    "4. Model fitting\n",
    "5. Make predictions with the trained model\n"
   ]
  },
  {
   "cell_type": "markdown",
   "metadata": {
    "cell_content_type": "markdown_default",
    "changed": false,
    "deletable": false,
    "editable": false,
    "messageType": "glueckwunsch",
    "original-content": "**Congratulations:** We will go through these five steps many times throughout this course. In general, creating a machine learning model is an iterative process. Usually you will go through the five steps several times in one project. Now you have an idea of what lies ahead in this lesson. Take a deep breath before we take the first step.\n",
    "selectable": false
   },
   "source": [
    "**Congratulations:** We will go through these five steps many times throughout this course. In general, creating a machine learning model is an iterative process. Usually you will go through the five steps several times in one project. Now you have an idea of what lies ahead in this lesson. Take a deep breath before we take the first step.\n"
   ]
  },
  {
   "cell_type": "markdown",
   "metadata": {
    "cell_content_type": "markdown_selectable",
    "changed": false,
    "deletable": false,
    "editable": false,
    "original-content": "## 1. Choose model type \nLet's start right away with the first step: choosing a model type. We want to predict continuous data, in this case house prices. This means we need a regression model. There are different algorithms available. We will use one of them, linear regression, as an example in this chapter.\n\nLinear regression is very popular in the business world because a) it's very flexible, b) it can be fitted to data fairly quickly and, above all, c) it generates interpretable parameters. We will see exactly how to interpret the parameters later in this lesson. \n\nNow let's look at the first step: Choose the model type.\nUnlike with `pandas`, it's common to import functions directly from the `sklearn` module. For this we use the following syntax:\n```python\nfrom module_name import function_name\n```\n`LinearRegression` represents the linear regression model type and is located in the `sklearn.linear_model` module. Import `LinearRegression` directly.\n",
    "selectable": true,
    "tags": []
   },
   "source": [
    "## 1. Choose model type \n",
    "Let's start right away with the first step: choosing a model type. We want to predict continuous data, in this case house prices. This means we need a regression model. There are different algorithms available. We will use one of them, linear regression, as an example in this chapter.\n",
    "\n",
    "Linear regression is very popular in the business world because a) it's very flexible, b) it can be fitted to data fairly quickly and, above all, c) it generates interpretable parameters. We will see exactly how to interpret the parameters later in this lesson. \n",
    "\n",
    "Now let's look at the first step: Choose the model type.\n",
    "Unlike with `pandas`, it's common to import functions directly from the `sklearn` module. For this we use the following syntax:\n",
    "```python\n",
    "from module_name import function_name\n",
    "```\n",
    "`LinearRegression` represents the linear regression model type and is located in the `sklearn.linear_model` module. Import `LinearRegression` directly.\n"
   ]
  },
  {
   "cell_type": "code",
   "execution_count": 2,
   "metadata": {
    "cell_content_type": "code_user",
    "changed": false,
    "deletable": false,
    "editable": true,
    "hint": "Write `from sklearn.linear_model import LinearRegression` and run the cell.",
    "hint_counter": 1,
    "original-content": "",
    "selectable": true,
    "tags": []
   },
   "outputs": [],
   "source": [
    "from sklearn.linear_model import LinearRegression"
   ]
  },
  {
   "cell_type": "markdown",
   "metadata": {
    "cell_content_type": "markdown_default",
    "changed": false,
    "deletable": false,
    "editable": false,
    "messageType": "glueckwunsch",
    "original-content": "**Congratulations:** You have selected the model type. In this case it was already decided for you. When working as a data scientist, you often try out different ones and select the best model type. Let's continue with the linear regression and determine the hyperparameters.\n",
    "selectable": false
   },
   "source": [
    "**Congratulations:** You have selected the model type. In this case it was already decided for you. When working as a data scientist, you often try out different ones and select the best model type. Let's continue with the linear regression and determine the hyperparameters.\n"
   ]
  },
  {
   "cell_type": "markdown",
   "metadata": {
    "cell_content_type": "markdown_default",
    "changed": false,
    "deletable": false,
    "editable": false,
    "original-content": "## 2. Instantiate the model with certain hyperparameters\n",
    "selectable": false
   },
   "source": [
    "## 2. Instantiate the model with certain hyperparameters\n"
   ]
  },
  {
   "cell_type": "markdown",
   "metadata": {
    "cell_content_type": "markdown_selectable",
    "changed": false,
    "deletable": false,
    "editable": false,
    "original-content": "Now we have already decided on a model type and can turn to step 2: instantiating the model with certain settings, what we call hyperparameters. Hyperparameters specify exactly what the model should look like. The [official `sklearn` documentation on `LinearRegression`](https://scikit-learn.org/stable/modules/generated/sklearn.linear_model.LinearRegression.html) shows a possible hyperparameter: whether the intercept of the model should be learned (fitted) (`fit_intercept=True`) or specified (`fit_intercept=False`).\n\nTo understand what this is all about, we have to look at how linear regression works. Visually, we can imagine a simple linear regression like this. There is one data series in `feature` and another data series in `target`. In a scatter diagram with made up values that have nothing to do with the Taiwanese real estate investor, they would look like this:\n\n![scatter plot](01_01_01_pic1_en.png)\n",
    "selectable": true
   },
   "source": [
    "Now we have already decided on a model type and can turn to step 2: instantiating the model with certain settings, what we call hyperparameters. Hyperparameters specify exactly what the model should look like. The [official `sklearn` documentation on `LinearRegression`](https://scikit-learn.org/stable/modules/generated/sklearn.linear_model.LinearRegression.html) shows a possible hyperparameter: whether the intercept of the model should be learned (fitted) (`fit_intercept=True`) or specified (`fit_intercept=False`).\n",
    "\n",
    "To understand what this is all about, we have to look at how linear regression works. Visually, we can imagine a simple linear regression like this. There is one data series in `feature` and another data series in `target`. In a scatter diagram with made up values that have nothing to do with the Taiwanese real estate investor, they would look like this:\n",
    "\n",
    "![scatter plot](01_01_01_pic1_en.png)\n"
   ]
  },
  {
   "cell_type": "markdown",
   "metadata": {
    "cell_content_type": "markdown_default",
    "changed": false,
    "deletable": false,
    "editable": false,
    "original-content": "A simple linear regression now tries to find a line where the average distance to the points is as small as possible.\n\n![scatter plot with regression line](01_01_01_pic2_en.png)\n",
    "selectable": false
   },
   "source": [
    "A simple linear regression now tries to find a line where the average distance to the points is as small as possible.\n",
    "\n",
    "![scatter plot with regression line](01_01_01_pic2_en.png)\n"
   ]
  },
  {
   "cell_type": "markdown",
   "metadata": {
    "cell_content_type": "markdown_default",
    "changed": false,
    "deletable": false,
    "editable": false,
    "original-content": "You can imagine the distances as vertical lines between the dark blue dots and the light blue line. In the following scatter diagram we have drawn them in red.\n\n![regression line with residuals](01_01_01_pic2b_en.png)\n",
    "selectable": false
   },
   "source": [
    "You can imagine the distances as vertical lines between the dark blue dots and the light blue line. In the following scatter diagram we have drawn them in red.\n",
    "\n",
    "![regression line with residuals](01_01_01_pic2b_en.png)\n"
   ]
  },
  {
   "cell_type": "markdown",
   "metadata": {
    "cell_content_type": "markdown_default",
    "changed": false,
    "deletable": false,
    "editable": false,
    "original-content": "These red vertical lines should be as short as possible on average. More precisely, the squared average length of the vertical lines should be as short as possible. Or to express it with a formula, you would try to minimize $error$:\n\n\n<table>\n    <tr><th>Word formula</th>\n        <th>math. Formula</th>\n    </tr>\n<tr>\n<td>\n\\begin{equation*}\nerror = \\sum (Target_{measured} - Target_{predicted})^2\n\\end{equation*}\n    </td>\n<td>\n\\begin{equation*}\nError = \\sum_{i=1}^n (y_i - f(x_i))^2 \n\\end{equation*}    \n        </td>\n    </tr>\n</table>  \nTo achieve this, two parameters are adjusted: \n\n1. the intercept, i.e. the y value where the light blue line intersects the vertical y axis and \n2. the slope of the straight light blue lines\n\nA simple linear regression learns the best values for the intercept and the slope so that the average squared vertical distances of the points to the regression line are as small as possible. You can imagine the trained model as a straight line:\n\n![regression line](01_01_01_pic3_en.png)\n",
    "selectable": false
   },
   "source": [
    "These red vertical lines should be as short as possible on average. More precisely, the squared average length of the vertical lines should be as short as possible. Or to express it with a formula, you would try to minimize $error$:\n",
    "\n",
    "\n",
    "<table>\n",
    "    <tr><th>Word formula</th>\n",
    "        <th>math. Formula</th>\n",
    "    </tr>\n",
    "<tr>\n",
    "<td>\n",
    "\\begin{equation*}\n",
    "error = \\sum (Target_{measured} - Target_{predicted})^2\n",
    "\\end{equation*}\n",
    "    </td>\n",
    "<td>\n",
    "\\begin{equation*}\n",
    "Error = \\sum_{i=1}^n (y_i - f(x_i))^2 \n",
    "\\end{equation*}    \n",
    "        </td>\n",
    "    </tr>\n",
    "</table>  \n",
    "To achieve this, two parameters are adjusted: \n",
    "\n",
    "1. the intercept, i.e. the y value where the light blue line intersects the vertical y axis and \n",
    "2. the slope of the straight light blue lines\n",
    "\n",
    "A simple linear regression learns the best values for the intercept and the slope so that the average squared vertical distances of the points to the regression line are as small as possible. You can imagine the trained model as a straight line:\n",
    "\n",
    "![regression line](01_01_01_pic3_en.png)\n"
   ]
  },
  {
   "cell_type": "markdown",
   "metadata": {
    "cell_content_type": "markdown_default",
    "changed": false,
    "deletable": false,
    "editable": false,
    "original-content": "In this case, the regression line intersects the y axis approximately at a y value of 9 and has a slope of 2. You can express that in a formula like this. The y values $Target$ are described by an axis intercept ($intercept$) and x values ($Feature$) with their coefficients $slope$. The description isn't perfect. The distance from the points to the straight line is expressed with $error$.\n\n\\begin{equation*}\nTarget = intercept + (slope \\cdot Feature) + error\n\\end{equation*}\n\nThe parameter $slope$ is also often called $\\beta$ (\"Beta\"). The linear regression has learned optimal values for the $intercept$ and $slope$. Therefore the formula is as follows if we ignore the $error$:\n\n\\begin{equation*}\nTarget = 9 + (2 \\cdot Feature)\n\\end{equation*}\n\nNow we can add all possible values for $Feature$ to the formula and get a $Target$ value. For example, a $Feature$ value of 3 leads to a $Target$ value of 15 ($9 + (2 \\cdot 3)$).\n",
    "selectable": false
   },
   "source": [
    "In this case, the regression line intersects the y axis approximately at a y value of 9 and has a slope of 2. You can express that in a formula like this. The y values $Target$ are described by an axis intercept ($intercept$) and x values ($Feature$) with their coefficients $slope$. The description isn't perfect. The distance from the points to the straight line is expressed with $error$.\n",
    "\n",
    "\\begin{equation*}\n",
    "Target = intercept + (slope \\cdot Feature) + error\n",
    "\\end{equation*}\n",
    "\n",
    "The parameter $slope$ is also often called $\\beta$ (\"Beta\"). The linear regression has learned optimal values for the $intercept$ and $slope$. Therefore the formula is as follows if we ignore the $error$:\n",
    "\n",
    "\\begin{equation*}\n",
    "Target = 9 + (2 \\cdot Feature)\n",
    "\\end{equation*}\n",
    "\n",
    "Now we can add all possible values for $Feature$ to the formula and get a $Target$ value. For example, a $Feature$ value of 3 leads to a $Target$ value of 15 ($9 + (2 \\cdot 3)$).\n"
   ]
  },
  {
   "cell_type": "markdown",
   "metadata": {
    "cell_content_type": "markdown_default",
    "changed": false,
    "deletable": false,
    "editable": false,
    "original-content": "This is equivalent to the height of the straight light blue lines at an x value of 3. We've indicated that here with orange lines:\n\n![regression line prediction](01_01_01_pic4_en.png)\n",
    "selectable": false
   },
   "source": [
    "This is equivalent to the height of the straight light blue lines at an x value of 3. We've indicated that here with orange lines:\n",
    "\n",
    "![regression line prediction](01_01_01_pic4_en.png)\n"
   ]
  },
  {
   "cell_type": "markdown",
   "metadata": {
    "cell_content_type": "markdown_selectable",
    "changed": false,
    "deletable": false,
    "editable": false,
    "original-content": "Now what is the `fit_intercept` parameter of the `LinearRegression()` function? With `fit_intercept=True` the regression formula is used as described above. This is the default of the function. \n\nWith `fit_intercept=False` the model does not learn the intercept value. It is simply set at zero. Then the formula looks like this:\n\n\\begin{equation*}\nTarget = 0 + (slope \\cdot Feature) + error\n\\end{equation*}\n\nA straight line is then fitted to the data which intersects the y axis at 0. Then your code would look like this:\n\n![regression line without intercept](01_01_01_pic5_en.png)\n",
    "selectable": true
   },
   "source": [
    "Now what is the `fit_intercept` parameter of the `LinearRegression()` function? With `fit_intercept=True` the regression formula is used as described above. This is the default of the function. \n",
    "\n",
    "With `fit_intercept=False` the model does not learn the intercept value. It is simply set at zero. Then the formula looks like this:\n",
    "\n",
    "\\begin{equation*}\n",
    "Target = 0 + (slope \\cdot Feature) + error\n",
    "\\end{equation*}\n",
    "\n",
    "A straight line is then fitted to the data which intersects the y axis at 0. Then your code would look like this:\n",
    "\n",
    "![regression line without intercept](01_01_01_pic5_en.png)\n"
   ]
  },
  {
   "cell_type": "markdown",
   "metadata": {
    "cell_content_type": "markdown_selectable",
    "changed": false,
    "deletable": false,
    "editable": false,
    "original-content": "Now we have learned a bit about simple linear regressions and we can return to the scenario with the Taiwanese real estate investor. It's time to make a decision regarding the hyperparameters.\n\nInstantiate the linear regression model by running `LinearRegression(fit_intercept=True)`, and store the result in the new variable `model`.\n",
    "selectable": true
   },
   "source": [
    "Now we have learned a bit about simple linear regressions and we can return to the scenario with the Taiwanese real estate investor. It's time to make a decision regarding the hyperparameters.\n",
    "\n",
    "Instantiate the linear regression model by running `LinearRegression(fit_intercept=True)`, and store the result in the new variable `model`.\n"
   ]
  },
  {
   "cell_type": "code",
   "execution_count": 3,
   "metadata": {
    "cell_content_type": "code_user",
    "changed": false,
    "deletable": false,
    "editable": true,
    "hint": "Write `model = LinearRegression(fit_intercept=True)` and run the cell.",
    "hint_counter": 1,
    "original-content": "",
    "selectable": true,
    "tags": []
   },
   "outputs": [],
   "source": [
    "model = LinearRegression(fit_intercept=True)"
   ]
  },
  {
   "cell_type": "markdown",
   "metadata": {
    "cell_content_type": "markdown_selectable",
    "changed": false,
    "deletable": false,
    "editable": false,
    "messageType": "glueckwunsch",
    "original-content": "**Congratulations:** You have now gained a lot of background knowledge about linear regression and now understand what the `fit_intercept` parameter of `LinearRegression()` means. Now let's look at the third step.\n",
    "selectable": true
   },
   "source": [
    "**Congratulations:** You have now gained a lot of background knowledge about linear regression and now understand what the `fit_intercept` parameter of `LinearRegression()` means. Now let's look at the third step.\n"
   ]
  },
  {
   "cell_type": "markdown",
   "metadata": {
    "cell_content_type": "markdown_default",
    "changed": false,
    "deletable": false,
    "editable": false,
    "original-content": "## 3. Organize data into a feature matrix and target vector\n",
    "selectable": false
   },
   "source": [
    "## 3. Organize data into a feature matrix and target vector\n"
   ]
  },
  {
   "cell_type": "markdown",
   "metadata": {
    "cell_content_type": "markdown_selectable",
    "changed": false,
    "deletable": false,
    "editable": false,
    "original-content": "What is the feature matrix? A feature is a description of each data point. In our case, each data point is a house purchase, which is described by features such as the age of the house, the position of the house and much more (see data dictionary). Each feature is a column in `df`. Each data point is one row in `df`. The data points are often called *samples* by data scientists.\n\nSo the feature matrix is a `DataFrame` with as many rows as there are data points in the training dataset and as many columns as there should be features. With **simple** linear regression, you only work with one feature at a time. Later on in this course we will work with several features at the same time. For the moment we'll limit ourselves to one feature at a time. First let's choose `'house_age'`.\n\nIn this course we'll call the feature matrix `features`. Create a variable `features` containing a `DataFrame` with only one column: the `'house_age'` column of `df`\n\nTip: Use `my_df.loc[]` or `my_df.iloc[]` and specify a list as the column specification, for example `my_df.loc[:, ['col_name']]`, <br>but not `my_df.loc[:, 'col_name']` (note the double square brackets in the top command). This way you make sure that the result is a `DataFrame` with one column.\n",
    "selectable": true
   },
   "source": [
    "What is the feature matrix? A feature is a description of each data point. In our case, each data point is a house purchase, which is described by features such as the age of the house, the position of the house and much more (see data dictionary). Each feature is a column in `df`. Each data point is one row in `df`. The data points are often called *samples* by data scientists.\n",
    "\n",
    "So the feature matrix is a `DataFrame` with as many rows as there are data points in the training dataset and as many columns as there should be features. With **simple** linear regression, you only work with one feature at a time. Later on in this course we will work with several features at the same time. For the moment we'll limit ourselves to one feature at a time. First let's choose `'house_age'`.\n",
    "\n",
    "In this course we'll call the feature matrix `features`. Create a variable `features` containing a `DataFrame` with only one column: the `'house_age'` column of `df`\n",
    "\n",
    "Tip: Use `my_df.loc[]` or `my_df.iloc[]` and specify a list as the column specification, for example `my_df.loc[:, ['col_name']]`, <br>but not `my_df.loc[:, 'col_name']` (note the double square brackets in the top command). This way you make sure that the result is a `DataFrame` with one column.\n"
   ]
  },
  {
   "cell_type": "code",
   "execution_count": 12,
   "metadata": {
    "cell_content_type": "code_user",
    "changed": false,
    "deletable": false,
    "editable": true,
    "hint": "For example, write  `features= df.loc[:, ['house_age']]` and run the cell.",
    "hint_counter": 1,
    "original-content": "",
    "selectable": true,
    "tags": []
   },
   "outputs": [
    {
     "name": "stdout",
     "output_type": "stream",
     "text": [
      "<class 'pandas.core.frame.DataFrame'>\n",
      "<class 'pandas.core.frame.DataFrame'>\n"
     ]
    }
   ],
   "source": [
    "features = df.loc[:,'house_age']\n",
    "print(type(df_house_age))\n",
    "features = df.loc[:,['house_age']]\n",
    "print(type(df_house_age))"
   ]
  },
  {
   "cell_type": "markdown",
   "metadata": {
    "cell_content_type": "markdown_selectable",
    "changed": false,
    "deletable": false,
    "editable": false,
    "messageType": "beachte",
    "original-content": "**important:** `features` must be a `DataFrame`. Check that `features` is not a `Series` by mistake.\n",
    "selectable": true
   },
   "source": [
    "**important:** `features` must be a `DataFrame`. Check that `features` is not a `Series` by mistake.\n"
   ]
  },
  {
   "cell_type": "markdown",
   "metadata": {
    "cell_content_type": "markdown_selectable",
    "changed": false,
    "deletable": false,
    "editable": false,
    "original-content": "Print the data type of `features`.\n",
    "selectable": true
   },
   "source": [
    "Print the data type of `features`.\n"
   ]
  },
  {
   "cell_type": "code",
   "execution_count": 14,
   "metadata": {
    "cell_content_type": "code_user",
    "changed": false,
    "deletable": false,
    "editable": true,
    "hint": "Use the `type()` function.",
    "hint_counter": 1,
    "original-content": "",
    "selectable": true,
    "tags": []
   },
   "outputs": [
    {
     "data": {
      "text/plain": [
       "pandas.core.frame.DataFrame"
      ]
     },
     "execution_count": 14,
     "metadata": {},
     "output_type": "execute_result"
    }
   ],
   "source": [
    "type(features)"
   ]
  },
  {
   "cell_type": "markdown",
   "metadata": {
    "cell_content_type": "markdown_selectable",
    "changed": false,
    "deletable": false,
    "editable": false,
    "original-content": "Also check if `features` really contains 314 rows and 1 column. Print the dimensions of `features`.\n",
    "selectable": true
   },
   "source": [
    "Also check if `features` really contains 314 rows and 1 column. Print the dimensions of `features`.\n"
   ]
  },
  {
   "cell_type": "code",
   "execution_count": 16,
   "metadata": {
    "cell_content_type": "code_user",
    "changed": false,
    "deletable": false,
    "editable": true,
    "hint": "Use the `my_df.shape` attribute of `features`.",
    "hint_counter": 1,
    "original-content": "",
    "selectable": true,
    "tags": []
   },
   "outputs": [
    {
     "data": {
      "text/plain": [
       "(314, 1)"
      ]
     },
     "execution_count": 16,
     "metadata": {},
     "output_type": "execute_result"
    }
   ],
   "source": [
    "features.shape "
   ]
  },
  {
   "cell_type": "markdown",
   "metadata": {
    "cell_content_type": "markdown_selectable",
    "changed": false,
    "deletable": false,
    "editable": false,
    "original-content": "Great! In addition to the feature matrix `features`, a target vector is also required. We'll call it `target`. The target vector contains the values the machine learning model should learn to predict. The target vector must have exactly as many rows as the feature matrix.\n\nWith regressions the target vector always contains continuous values. In our case, these are the house prices. Store the 314 values in the `'price_per_m2'` column of `df` in a separate `Series` called `target`.\n",
    "selectable": true
   },
   "source": [
    "Great! In addition to the feature matrix `features`, a target vector is also required. We'll call it `target`. The target vector contains the values the machine learning model should learn to predict. The target vector must have exactly as many rows as the feature matrix.\n",
    "\n",
    "With regressions the target vector always contains continuous values. In our case, these are the house prices. Store the 314 values in the `'price_per_m2'` column of `df` in a separate `Series` called `target`.\n"
   ]
  },
  {
   "cell_type": "code",
   "execution_count": 18,
   "metadata": {
    "cell_content_type": "code_user",
    "changed": false,
    "deletable": false,
    "editable": true,
    "hint": "For example, use the `my_df.iloc[]` attribute of `df`. Alternatively, you can use the `my_df.loc[]` attribute. Either way, there should be a `Series` at the end.",
    "hint_counter": 1,
    "original-content": "",
    "selectable": true,
    "tags": []
   },
   "outputs": [],
   "source": [
    "target = df.loc[:,'price_per_m2']"
   ]
  },
  {
   "cell_type": "markdown",
   "metadata": {
    "cell_content_type": "markdown_selectable",
    "changed": false,
    "deletable": false,
    "editable": false,
    "original-content": "Now check whether `target` is really a `Series` with 314 entries.\n",
    "selectable": true
   },
   "source": [
    "Now check whether `target` is really a `Series` with 314 entries.\n"
   ]
  },
  {
   "cell_type": "code",
   "execution_count": 19,
   "metadata": {
    "cell_content_type": "code_user",
    "changed": false,
    "deletable": false,
    "editable": true,
    "hint": "Use the `type()` and `len()` functions.",
    "original-content": "",
    "selectable": true
   },
   "outputs": [
    {
     "data": {
      "text/plain": [
       "(314,)"
      ]
     },
     "execution_count": 19,
     "metadata": {},
     "output_type": "execute_result"
    }
   ],
   "source": [
    "target.shape"
   ]
  },
  {
   "cell_type": "markdown",
   "metadata": {
    "cell_content_type": "markdown_default",
    "changed": false,
    "deletable": false,
    "editable": false,
    "original-content": "At this point we can now visualize the data as a scatter plot.\n",
    "selectable": false
   },
   "source": [
    "At this point we can now visualize the data as a scatter plot.\n"
   ]
  },
  {
   "cell_type": "code",
   "execution_count": 21,
   "metadata": {
    "cell_content_type": "code_demo",
    "changed": false,
    "deletable": false,
    "editable": true,
    "hint": "If you would like, you can discuss this in the forum under *Simple Linear Regression with sklearn*.",
    "original-content": "import seaborn as sns\nsns.regplot(x=features.iloc[:, 0],\n            y=target,\n            scatter_kws={'color':'#17415f',  # dark blue dots\n                        'alpha':1},  # no transparency for dots\n            fit_reg=False)  # no regression line\n\n# alternative\n#import matplotlib.pyplot as plt\n#fig, ax = plt.subplots()\n#ax.scatter(x=features.iloc[:, 0], \n#            y=target,\n#          c='#17415f')  # dark blue dots\n#ax.set(xlabel='House age (years)',\n#      ylabel='House price (Dollars per square meter)')",
    "selectable": true
   },
   "outputs": [
    {
     "data": {
      "image/png": "[encoded data removed]",
      "text/plain": [
       "<Figure size 432x288 with 1 Axes>"
      ]
     },
     "metadata": {
      "needs_background": "light"
     },
     "output_type": "display_data"
    }
   ],
   "source": [
    "import seaborn as sns\n",
    "sns.regplot(x=features.iloc[:, 0],\n",
    "            y=target,\n",
    "            scatter_kws={'color':'#17415f',  # dark blue dots\n",
    "                        'alpha':1},  # no transparency for dots\n",
    "            fit_reg=False);  # no regression line\n",
    "\n",
    "# alternative\n",
    "#import matplotlib.pyplot as plt\n",
    "#fig, ax = plt.subplots()\n",
    "#ax.scatter(x=features.iloc[:, 0], \n",
    "#            y=target,\n",
    "#          c='#17415f')  # dark blue dots\n",
    "#ax.set(xlabel='House age (years)',\n",
    "#      ylabel='House price (Dollars per square meter)')"
   ]
  },
  {
   "cell_type": "markdown",
   "metadata": {
    "cell_content_type": "markdown_default",
    "changed": false,
    "deletable": false,
    "editable": false,
    "original-content": "Remember that we want to predict the price (y axis) based on the house age (x axis). Traditionally, the data series to be predicted, i.e. the target vector, is shown on the y axis.\n",
    "selectable": false
   },
   "source": [
    "Remember that we want to predict the price (y axis) based on the house age (x axis). Traditionally, the data series to be predicted, i.e. the target vector, is shown on the y axis.\n"
   ]
  },
  {
   "cell_type": "markdown",
   "metadata": {
    "cell_content_type": "markdown_default",
    "changed": false,
    "deletable": false,
    "editable": false,
    "messageType": "glueckwunsch",
    "original-content": "**Congratulations:** You have split the real estate investor's data into a feature matrix and a target vector. Now we can train the model on the data. The machine learning algorithm will now actually start learning.\n",
    "selectable": false
   },
   "source": [
    "**Congratulations:** You have split the real estate investor's data into a feature matrix and a target vector. Now we can train the model on the data. The machine learning algorithm will now actually start learning.\n"
   ]
  },
  {
   "cell_type": "markdown",
   "metadata": {
    "cell_content_type": "markdown_default",
    "changed": false,
    "deletable": false,
    "editable": false,
    "original-content": "## 4. Model fitting\n",
    "selectable": false
   },
   "source": [
    "## 4. Model fitting\n"
   ]
  },
  {
   "cell_type": "markdown",
   "metadata": {
    "cell_content_type": "markdown_selectable",
    "changed": false,
    "deletable": false,
    "editable": false,
    "original-content": "We chose a machine learning model, set the hyperparameters and split the data into the variables `features` (a `DataFrame`) and `target` (a `Series`). Now we are ready to use the `my_model.fit()` method. It ensures that the linear regression finds the best values for *intercept* and *slope* to match the values of the target vector as closely as possible.\n\nUse the `my_model.fit()` method on the variable `model`, which we created in step 2. As described in the [official documentation](https://scikit-learn.org/stable/modules/generated/sklearn.linear_model.LinearRegression.html#sklearn.linear_model.LinearRegression.fit), this method takes two arguments: `features` and `target`, i.e. the feature matrix and the target vector. A possible third argument (`sample_weight`) is only relevant for more than one feature. \n\n```python\nmodel.fit(X=Dataframe,       #features Dataframe\n          y=Series,          #target Series\n          sample_weight=list #*optional* individual weights for each sample\n         )\n```\n\nSince you do not have to assign the trained model, you can write \n```python\nmy_model.fit(features, target).\n```\nTrain `model` with this approach.\n",
    "selectable": true
   },
   "source": [
    "We chose a machine learning model, set the hyperparameters and split the data into the variables `features` (a `DataFrame`) and `target` (a `Series`). Now we are ready to use the `my_model.fit()` method. It ensures that the linear regression finds the best values for *intercept* and *slope* to match the values of the target vector as closely as possible.\n",
    "\n",
    "Use the `my_model.fit()` method on the variable `model`, which we created in step 2. As described in the [official documentation](https://scikit-learn.org/stable/modules/generated/sklearn.linear_model.LinearRegression.html#sklearn.linear_model.LinearRegression.fit), this method takes two arguments: `features` and `target`, i.e. the feature matrix and the target vector. A possible third argument (`sample_weight`) is only relevant for more than one feature. \n",
    "\n",
    "```python\n",
    "model.fit(X=Dataframe,       #features Dataframe\n",
    "          y=Series,          #target Series\n",
    "          sample_weight=list #*optional* individual weights for each sample\n",
    "         )\n",
    "```\n",
    "\n",
    "Since you do not have to assign the trained model, you can write \n",
    "```python\n",
    "my_model.fit(features, target).\n",
    "```\n",
    "Train `model` with this approach.\n"
   ]
  },
  {
   "cell_type": "code",
   "execution_count": 24,
   "metadata": {
    "cell_content_type": "code_user",
    "changed": false,
    "deletable": false,
    "editable": true,
    "hint": "Write `model.fit(features, target)` and run the cell.",
    "hint_counter": 1,
    "original-content": "",
    "selectable": true,
    "tags": []
   },
   "outputs": [
    {
     "data": {
      "text/plain": [
       "LinearRegression()"
      ]
     },
     "execution_count": 24,
     "metadata": {},
     "output_type": "execute_result"
    }
   ],
   "source": [
    "model.fit(features, target)"
   ]
  },
  {
   "cell_type": "markdown",
   "metadata": {
    "cell_content_type": "markdown_default",
    "changed": false,
    "deletable": false,
    "editable": false,
    "original-content": "In no time at all, the optimal values for *intercept* and *slope* were found so that the vertical squared distance of the data points to the regression line is as small as possible on average. We can imagine this visually:\n",
    "selectable": false
   },
   "source": [
    "In no time at all, the optimal values for *intercept* and *slope* were found so that the vertical squared distance of the data points to the regression line is as small as possible on average. We can imagine this visually:\n"
   ]
  },
  {
   "cell_type": "code",
   "execution_count": 26,
   "metadata": {
    "cell_content_type": "code_demo",
    "changed": false,
    "deletable": false,
    "editable": true,
    "hint": "If you would like, you can discuss this in the forum under *Simple Linear Regression with sklearn*.",
    "original-content": "sns.regplot(x=features.iloc[:, 0], \n            y=target,\n            scatter_kws={'color':'#17415f',  # dark blue dots\n                        'alpha':1},  # no transparency for dots\n            line_kws={'color':'#70b8e5'},  # light blue regression line\n            ci=None)  # no confidence intervals around line",
    "selectable": true
   },
   "outputs": [
    {
     "data": {
      "image/png": "[encoded data removed]",
      "text/plain": [
       "<Figure size 432x288 with 1 Axes>"
      ]
     },
     "metadata": {
      "needs_background": "light"
     },
     "output_type": "display_data"
    }
   ],
   "source": [
    "sns.regplot(x=features.iloc[:, 0], \n",
    "            y=target,\n",
    "            scatter_kws={'color':'#17415f',  # dark blue dots\n",
    "                        'alpha':1},  # no transparency for dots\n",
    "            line_kws={'color':'#70b8e5'},  # light blue regression line\n",
    "            ci=None);  # no confidence intervals around line"
   ]
  },
  {
   "cell_type": "markdown",
   "metadata": {
    "cell_content_type": "markdown_selectable",
    "changed": false,
    "deletable": false,
    "editable": false,
    "original-content": "The linear regression model learns how to make sure the squared vertical distance between the dark blue points and the light blue line is as small as possible on average.\n\nWhat are the values that the model learned? The visualization already gives us a rough idea. The light blue regression line intersects the y axis just below 15. Then it goes down. The slope should therefore be negative.\n\nIn the `sklearn` module, the model parameters are always found as an attribute of the model variable. The attributes that end in an underscore, represent the parameters learned by the model. For example, `my_model.coef_` is the slope. Print this parameter.\n",
    "selectable": true
   },
   "source": [
    "The linear regression model learns how to make sure the squared vertical distance between the dark blue points and the light blue line is as small as possible on average.\n",
    "\n",
    "What are the values that the model learned? The visualization already gives us a rough idea. The light blue regression line intersects the y axis just below 15. Then it goes down. The slope should therefore be negative.\n",
    "\n",
    "In the `sklearn` module, the model parameters are always found as an attribute of the model variable. The attributes that end in an underscore, represent the parameters learned by the model. For example, `my_model.coef_` is the slope. Print this parameter.\n"
   ]
  },
  {
   "cell_type": "code",
   "execution_count": 28,
   "metadata": {
    "cell_content_type": "code_user",
    "changed": false,
    "deletable": false,
    "editable": true,
    "hint": "Write `print(model.coef_)` and run the cell.",
    "hint_counter": 1,
    "original-content": "",
    "selectable": true,
    "tags": []
   },
   "outputs": [
    {
     "name": "stdout",
     "output_type": "stream",
     "text": [
      "[-0.08505421]\n"
     ]
    }
   ],
   "source": [
    "print(model.coef_)"
   ]
  },
  {
   "cell_type": "markdown",
   "metadata": {
    "cell_content_type": "markdown_selectable",
    "changed": false,
    "deletable": false,
    "editable": false,
    "original-content": "As we expected, the value is negative. This means that as a house gets older, its price drops. It can be formulated even more precisely, because the slope can be interpreted directly. An increase of the feature value by 1 leads to a change of the target value by *slope*. In our example: When a property ages by one year, the value of the property decreases by $0.09 per square meter.\n\nHow expensive is a square meter in a brand new house? The intercept represents the target value at a feature value of zero. In our example the axis intercept therefore expresses the value of a house that is zero years old. Print the `my_model.intercept_` attribute of `model` to find out exactly what the value is.\n",
    "selectable": true
   },
   "source": [
    "As we expected, the value is negative. This means that as a house gets older, its price drops. It can be formulated even more precisely, because the slope can be interpreted directly. An increase of the feature value by 1 leads to a change of the target value by *slope*. In our example: When a property ages by one year, the value of the property decreases by $0.09 per square meter.\n",
    "\n",
    "How expensive is a square meter in a brand new house? The intercept represents the target value at a feature value of zero. In our example the axis intercept therefore expresses the value of a house that is zero years old. Print the `my_model.intercept_` attribute of `model` to find out exactly what the value is.\n"
   ]
  },
  {
   "cell_type": "code",
   "execution_count": 29,
   "metadata": {
    "cell_content_type": "code_user",
    "changed": false,
    "deletable": false,
    "editable": true,
    "hint": "Write `print(model.intercept_)` and run the cell.",
    "original-content": "",
    "selectable": true
   },
   "outputs": [
    {
     "name": "stdout",
     "output_type": "stream",
     "text": [
      "13.072871693016417\n"
     ]
    }
   ],
   "source": [
    "print(model.intercept_)"
   ]
  },
  {
   "cell_type": "markdown",
   "metadata": {
    "cell_content_type": "markdown_default",
    "changed": false,
    "deletable": false,
    "editable": false,
    "original-content": "The axis intercept is just below 15. This value can also be interpreted directly. A brand new house is worth $13.07 per square meter. The model we have trained can be expressed with this formula:\n\n\\begin{equation*}\nHouse price\\, \\ per\\, \\ m² = 13.07 \\, Dollar - (0.09 \\cdot house age)\n\\end{equation*}\n\nThis is no different than in this regression line:\n",
    "selectable": false
   },
   "source": [
    "The axis intercept is just below 15. This value can also be interpreted directly. A brand new house is worth $13.07 per square meter. The model we have trained can be expressed with this formula:\n",
    "\n",
    "\\begin{equation*}\n",
    "House price\\, \\ per\\, \\ m² = 13.07 \\, Dollar - (0.09 \\cdot house age)\n",
    "\\end{equation*}\n",
    "\n",
    "This is no different than in this regression line:\n"
   ]
  },
  {
   "cell_type": "code",
   "execution_count": 30,
   "metadata": {
    "cell_content_type": "code_demo",
    "changed": false,
    "deletable": false,
    "editable": true,
    "hint": "If you would like, you can discuss this in the forum under *Simple Linear Regression with sklearn*.",
    "original-content": "import matplotlib.pyplot as plt\n\nfig, ax = plt.subplots()\n\nax.set(xlim=[0, max(df.loc[:, 'house_age'])],  # limits of x-axis\n       ylim=[8, max(df.loc[:, 'price_per_m2'])])  # limits of y-axis\n\nsns.regplot(x=features.iloc[:, 0], \n            y=target,\n            scatter=False,  # no dots\n            line_kws={'color':'#70b8e5'},  # light blue regression line\n            ci=None,  # no confidence intervals around line\n            ax=ax)  # draw on Axes ax",
    "selectable": true
   },
   "outputs": [
    {
     "data": {
      "text/plain": [
       "<AxesSubplot:xlabel='house_age', ylabel='price_per_m2'>"
      ]
     },
     "execution_count": 30,
     "metadata": {},
     "output_type": "execute_result"
    },
    {
     "data": {
      "image/png": "[encoded data removed]",
      "text/plain": [
       "<Figure size 432x288 with 1 Axes>"
      ]
     },
     "metadata": {
      "needs_background": "light"
     },
     "output_type": "display_data"
    }
   ],
   "source": [
    "import matplotlib.pyplot as plt\n",
    "\n",
    "fig, ax = plt.subplots()\n",
    "\n",
    "ax.set(xlim=[0, max(df.loc[:, 'house_age'])],  # limits of x-axis\n",
    "       ylim=[8, max(df.loc[:, 'price_per_m2'])])  # limits of y-axis\n",
    "\n",
    "sns.regplot(x=features.iloc[:, 0], \n",
    "            y=target,\n",
    "            scatter=False,  # no dots\n",
    "            line_kws={'color':'#70b8e5'},  # light blue regression line\n",
    "            ci=None,  # no confidence intervals around line\n",
    "            ax=ax)  # draw on Axes ax"
   ]
  },
  {
   "cell_type": "markdown",
   "metadata": {
    "cell_content_type": "markdown_default",
    "changed": false,
    "deletable": false,
    "editable": false,
    "messageType": "glueckwunsch",
    "original-content": "**Congratulations:** You have trained your first machine learning model. We can now make predictions with the trained parameters.\n",
    "selectable": false
   },
   "source": [
    "**Congratulations:** You have trained your first machine learning model. We can now make predictions with the trained parameters.\n"
   ]
  },
  {
   "cell_type": "markdown",
   "metadata": {
    "cell_content_type": "markdown_default",
    "changed": false,
    "deletable": false,
    "editable": false,
    "original-content": "## 5. Make predictions with the trained model\n",
    "selectable": false
   },
   "source": [
    "## 5. Make predictions with the trained model\n"
   ]
  },
  {
   "cell_type": "markdown",
   "metadata": {
    "cell_content_type": "markdown_default",
    "changed": false,
    "deletable": false,
    "editable": false,
    "original-content": "For 10 houses, the real estate investor would like to know, how much they are worth. The ages of these houses are:\n",
    "selectable": false
   },
   "source": [
    "For 10 houses, the real estate investor would like to know, how much they are worth. The ages of these houses are:\n"
   ]
  },
  {
   "cell_type": "code",
   "execution_count": 31,
   "metadata": {
    "cell_content_type": "code_demo",
    "changed": false,
    "deletable": false,
    "editable": true,
    "hint": "If you would like, you can discuss this in the forum under *Simple Linear Regression with sklearn*.",
    "original-content": "features_aim = pd.DataFrame({'house_age': [0, 0, 12, 13.3, 34, 3, 15, 27.5, 11, 7]})\nfeatures_aim",
    "selectable": true
   },
   "outputs": [
    {
     "data": {
      "text/html": [
       "<div>\n",
       "<style scoped>\n",
       "    .dataframe tbody tr th:only-of-type {\n",
       "        vertical-align: middle;\n",
       "    }\n",
       "\n",
       "    .dataframe tbody tr th {\n",
       "        vertical-align: top;\n",
       "    }\n",
       "\n",
       "    .dataframe thead th {\n",
       "        text-align: right;\n",
       "    }\n",
       "</style>\n",
       "<table border=\"1\" class=\"dataframe\">\n",
       "  <thead>\n",
       "    <tr style=\"text-align: right;\">\n",
       "      <th></th>\n",
       "      <th>house_age</th>\n",
       "    </tr>\n",
       "  </thead>\n",
       "  <tbody>\n",
       "    <tr>\n",
       "      <th>0</th>\n",
       "      <td>0.0</td>\n",
       "    </tr>\n",
       "    <tr>\n",
       "      <th>1</th>\n",
       "      <td>0.0</td>\n",
       "    </tr>\n",
       "    <tr>\n",
       "      <th>2</th>\n",
       "      <td>12.0</td>\n",
       "    </tr>\n",
       "    <tr>\n",
       "      <th>3</th>\n",
       "      <td>13.3</td>\n",
       "    </tr>\n",
       "    <tr>\n",
       "      <th>4</th>\n",
       "      <td>34.0</td>\n",
       "    </tr>\n",
       "    <tr>\n",
       "      <th>5</th>\n",
       "      <td>3.0</td>\n",
       "    </tr>\n",
       "    <tr>\n",
       "      <th>6</th>\n",
       "      <td>15.0</td>\n",
       "    </tr>\n",
       "    <tr>\n",
       "      <th>7</th>\n",
       "      <td>27.5</td>\n",
       "    </tr>\n",
       "    <tr>\n",
       "      <th>8</th>\n",
       "      <td>11.0</td>\n",
       "    </tr>\n",
       "    <tr>\n",
       "      <th>9</th>\n",
       "      <td>7.0</td>\n",
       "    </tr>\n",
       "  </tbody>\n",
       "</table>\n",
       "</div>"
      ],
      "text/plain": [
       "   house_age\n",
       "0        0.0\n",
       "1        0.0\n",
       "2       12.0\n",
       "3       13.3\n",
       "4       34.0\n",
       "5        3.0\n",
       "6       15.0\n",
       "7       27.5\n",
       "8       11.0\n",
       "9        7.0"
      ]
     },
     "execution_count": 31,
     "metadata": {},
     "output_type": "execute_result"
    }
   ],
   "source": [
    "features_aim = pd.DataFrame({'house_age': [0, 0, 12, 13.3, 34, 3, 15, 27.5, 11, 7]})\n",
    "features_aim"
   ]
  },
  {
   "cell_type": "markdown",
   "metadata": {
    "cell_content_type": "markdown_selectable",
    "changed": false,
    "deletable": false,
    "editable": false,
    "original-content": "In principle you could put these values into the trained formula and you would get a result:\n\n\\begin{equation*}\nHouse price\\, \\ per\\, \\ square meter = \\frac{$}{years} - (0,09\\cdot house age)\n\\end{equation*}\n\nWe can understand this relatively easily with a `DataFrame`.\n",
    "selectable": true
   },
   "source": [
    "In principle you could put these values into the trained formula and you would get a result:\n",
    "\n",
    "\\begin{equation*}\n",
    "House price\\, \\ per\\, \\ square meter = \\frac{$}{years} - (0,09\\cdot house age)\n",
    "\\end{equation*}\n",
    "\n",
    "We can understand this relatively easily with a `DataFrame`.\n"
   ]
  },
  {
   "cell_type": "code",
   "execution_count": 32,
   "metadata": {
    "cell_content_type": "code_demo",
    "changed": false,
    "deletable": false,
    "editable": true,
    "hint": "If you would like, you can discuss this in the forum under *Simple Linear Regression with sklearn*.",
    "original-content": "target_aim_pred = 13.07 - (0.09 * features_aim)\ntarget_aim_pred.values",
    "selectable": true
   },
   "outputs": [
    {
     "data": {
      "text/plain": [
       "array([[13.07 ],\n",
       "       [13.07 ],\n",
       "       [11.99 ],\n",
       "       [11.873],\n",
       "       [10.01 ],\n",
       "       [12.8  ],\n",
       "       [11.72 ],\n",
       "       [10.595],\n",
       "       [12.08 ],\n",
       "       [12.44 ]])"
      ]
     },
     "execution_count": 32,
     "metadata": {},
     "output_type": "execute_result"
    }
   ],
   "source": [
    "target_aim_pred = 13.07 - (0.09 * features_aim)\n",
    "target_aim_pred.values"
   ]
  },
  {
   "cell_type": "markdown",
   "metadata": {
    "cell_content_type": "markdown_selectable",
    "changed": false,
    "deletable": false,
    "editable": false,
    "original-content": "A better solution is to use the `my_model.predict()` method, because you can use it for all kinds of models. Otherwise you very quickly lose sight of the bigger picture with very complex models. You give it a `DataFrame` with the feature you want to use for making predictions, in our case `features_aim`. Calculate `target_aim_pred` again with this method and compare the values with the approach above.\n",
    "selectable": true
   },
   "source": [
    "A better solution is to use the `my_model.predict()` method, because you can use it for all kinds of models. Otherwise you very quickly lose sight of the bigger picture with very complex models. You give it a `DataFrame` with the feature you want to use for making predictions, in our case `features_aim`. Calculate `target_aim_pred` again with this method and compare the values with the approach above.\n"
   ]
  },
  {
   "cell_type": "code",
   "execution_count": 34,
   "metadata": {
    "cell_content_type": "code_user",
    "changed": false,
    "deletable": false,
    "editable": true,
    "hint": "Write `target_aim_pred = model.predict(features_aim)` in the code cell.",
    "hint_counter": 1,
    "original-content": "",
    "selectable": true,
    "tags": []
   },
   "outputs": [
    {
     "data": {
      "text/plain": [
       "array([13.07287169, 13.07287169, 12.05222116, 11.94165069, 10.18102853,\n",
       "       12.81770906, 11.79705853, 10.7338809 , 12.13727538, 12.47749222])"
      ]
     },
     "execution_count": 34,
     "metadata": {},
     "output_type": "execute_result"
    }
   ],
   "source": [
    "target_aim_pred = model.predict(features_aim)\n",
    "target_aim_pred"
   ]
  },
  {
   "cell_type": "markdown",
   "metadata": {
    "cell_content_type": "markdown_default",
    "changed": false,
    "deletable": false,
    "editable": false,
    "original-content": "Note that the brand new houses (the age of the house is zero) have the value of the axis intercept.\n\nWe can now visualize the predicted values (orange) together with the values used for the prediction (dark blue).\n",
    "selectable": false
   },
   "source": [
    "Note that the brand new houses (the age of the house is zero) have the value of the axis intercept.\n",
    "\n",
    "We can now visualize the predicted values (orange) together with the values used for the prediction (dark blue).\n"
   ]
  },
  {
   "cell_type": "code",
   "execution_count": 35,
   "metadata": {
    "cell_content_type": "code_demo",
    "changed": false,
    "deletable": false,
    "editable": true,
    "hint": "If you would like, you can discuss this in the forum under *Simple Linear Regression with sklearn*.",
    "original-content": "fig, ax = plt.subplots()\n\nsns.regplot(x=features.iloc[:, 0],  # house age in training data set\n            y=target,  # prices in training data set\n            scatter_kws={'color':'#17415f',  # dark blue dots\n                        'alpha':1},  # no transparency for dots\n            line_kws={'color':'#70b8e5'},  # light blue regression line\n            ci=None,  # no confidence intervals around line\n           ax=ax)  # plot on current Axes\n\nsns.regplot(x=features_aim.iloc[:, 0],  # x-values of houses with estimated prices\n            y=target_aim_pred,  # estimated prices\n            scatter_kws={'color':'#ff9e1c',  # orange dots\n                        'alpha':1,  # no transparency for dots\n                        's':70},  # dot size\n            fit_reg=False,  # no additional regression line\n            ci=None,  # no confidence intervals around line\n           ax=ax)  # plot on current Axes\n\nax.set(xlabel='House age [years]',\n    ylabel='Predicted house price per sqaure meter \\n[Taiwan Dollar]',\n      xlim=[0, max(df.loc[:, 'house_age'])],\n      ylim=[0, max(df.loc[:, 'price_per_m2'])])",
    "selectable": true
   },
   "outputs": [
    {
     "data": {
      "text/plain": [
       "[Text(0.5, 0, 'House age [years]'),\n",
       " Text(0, 0.5, 'Predicted house price per sqaure meter \\n[Taiwan Dollar]'),\n",
       " (0.0, 43.8),\n",
       " (0.0, 35.60606060606061)]"
      ]
     },
     "execution_count": 35,
     "metadata": {},
     "output_type": "execute_result"
    },
    {
     "data": {
      "image/png": "[encoded data removed]",
      "text/plain": [
       "<Figure size 432x288 with 1 Axes>"
      ]
     },
     "metadata": {
      "needs_background": "light"
     },
     "output_type": "display_data"
    }
   ],
   "source": [
    "fig, ax = plt.subplots()\n",
    "\n",
    "sns.regplot(x=features.iloc[:, 0],  # house age in training data set\n",
    "            y=target,  # prices in training data set\n",
    "            scatter_kws={'color':'#17415f',  # dark blue dots\n",
    "                        'alpha':1},  # no transparency for dots\n",
    "            line_kws={'color':'#70b8e5'},  # light blue regression line\n",
    "            ci=None,  # no confidence intervals around line\n",
    "           ax=ax)  # plot on current Axes\n",
    "\n",
    "sns.regplot(x=features_aim.iloc[:, 0],  # x-values of houses with estimated prices\n",
    "            y=target_aim_pred,  # estimated prices\n",
    "            scatter_kws={'color':'#ff9e1c',  # orange dots\n",
    "                        'alpha':1,  # no transparency for dots\n",
    "                        's':70},  # dot size\n",
    "            fit_reg=False,  # no additional regression line\n",
    "            ci=None,  # no confidence intervals around line\n",
    "           ax=ax)  # plot on current Axes\n",
    "\n",
    "ax.set(xlabel='House age [years]',\n",
    "    ylabel='Predicted house price per sqaure meter \\n[Taiwan Dollar]',\n",
    "      xlim=[0, max(df.loc[:, 'house_age'])],\n",
    "      ylim=[0, max(df.loc[:, 'price_per_m2'])])"
   ]
  },
  {
   "cell_type": "markdown",
   "metadata": {
    "cell_content_type": "markdown_default",
    "changed": false,
    "deletable": false,
    "editable": false,
    "original-content": "As you can see, the orange dots lie exactly on the light blue regression line. This was to be expected, since the regression line is nothing more than all the possible predictions.\n",
    "selectable": false
   },
   "source": [
    "As you can see, the orange dots lie exactly on the light blue regression line. This was to be expected, since the regression line is nothing more than all the possible predictions.\n"
   ]
  },
  {
   "cell_type": "markdown",
   "metadata": {
    "cell_content_type": "markdown_selectable",
    "changed": false,
    "deletable": false,
    "editable": false,
    "messageType": "glueckwunsch",
    "original-content": "**Congratulations:** You have used a linear regression to predict the value of ten of the investor's houses. You also got a first impression of the Python module `sklearn`. This will accompany you through the entire course. After we have explored how the simple linear regression works in more detail in this lesson, in the following lesson, we will use various features to make predictions and choose the best one.\n",
    "selectable": true
   },
   "source": [
    "**Congratulations:** You have used a linear regression to predict the value of ten of the investor's houses. You also got a first impression of the Python module `sklearn`. This will accompany you through the entire course. After we have explored how the simple linear regression works in more detail in this lesson, in the following lesson, we will use various features to make predictions and choose the best one.\n"
   ]
  },
  {
   "cell_type": "markdown",
   "metadata": {
    "cell_content_type": "markdown_selectable",
    "changed": false,
    "deletable": false,
    "editable": false,
    "messageType": "merke",
    "original-content": "**Remember:**\n\nThere are five steps to making data-driven predictions with `sklearn`:\n\n1. Choose model type\n2. Instantiate the model with certain hyperparameters\n3. Split data into a feature matrix and target vector\n4. Model fitting\n5. Make predictions with the trained model\n",
    "selectable": true
   },
   "source": [
    "**Remember:**\n",
    "\n",
    "There are five steps to making data-driven predictions with `sklearn`:\n",
    "\n",
    "1. Choose model type\n",
    "2. Instantiate the model with certain hyperparameters\n",
    "3. Split data into a feature matrix and target vector\n",
    "4. Model fitting\n",
    "5. Make predictions with the trained model\n"
   ]
  },
  {
   "cell_type": "markdown",
   "metadata": {
    "cell_content_type": "markdown_default",
    "changed": false,
    "deletable": false,
    "editable": false,
    "original-content": "***\nDo you have any questions about this exercise? Look in the forum to see if they have already been discussed.\n***\nFound a mistake? Contact Support at support@stackfuel.com.\n***\n",
    "selectable": false
   },
   "source": [
    "***\n",
    "Do you have any questions about this exercise? Look in the forum to see if they have already been discussed.\n",
    "***\n",
    "Found a mistake? Contact Support at support@stackfuel.com.\n",
    "***\n"
   ]
  }
 ],
 "metadata": {
  "content_id": "02dda612-74b7-44e4-8ad9-1e4bbc95750a",
  "content_language": "en",
  "content_title": "Simple Linear Regression with sklearn",
  "content_type": "exercise",
  "kernelspec": {
   "display_name": "Python 3 (ipykernel)",
   "language": "python",
   "name": "python3"
  },
  "language_info": {
   "codemirror_mode": {
    "name": "ipython",
    "version": 3
   },
   "file_extension": ".py",
   "mimetype": "text/x-python",
   "name": "python",
   "nbconvert_exporter": "python",
   "pygments_lexer": "ipython3",
   "version": "3.8.10"
  }
 },
 "nbformat": 4,
 "nbformat_minor": 4
}
