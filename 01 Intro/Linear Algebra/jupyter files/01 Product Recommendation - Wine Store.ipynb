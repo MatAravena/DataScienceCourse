{
 "cells": [
  {
   "cell_type": "markdown",
   "metadata": {
    "cell_content_type": "markdown_selectable",
    "changed": false,
    "deletable": false,
    "editable": false,
    "original-content": "# Product Recommendation - Wine Store (solution)\nModule 0 | Chapter 2 | Notebook 1\n\n***\nIn this notebook you'll get to know the `numpy` module a bit better, and use its basic data structure, the `ndarray`. We will cover the properties and calculation methods of arrays. Then we will explore a data set describing the characteristics of red and white wines. By the end of this exercise you will be able to calculate using arrays and you will understand the link to DataFrames from the `pandas` module. We will use arrays and the wine data set over the course of this chapter as a basis for learning useful linear algebra methods.\n***\n",
    "selectable": true
   },
   "source": [
    "# Product Recommendation - Wine Store\n",
    "Module 0 | Chapter 2 | Notebook 1\n",
    "\n",
    "***\n",
    "In this notebook you'll get to know the `numpy` module a bit better, and use its basic data structure, the `ndarray`. We will cover the properties and calculation methods of arrays. Then we will explore a data set describing the characteristics of red and white wines. By the end of this exercise you will be able to calculate using arrays and you will understand the link to DataFrames from the `pandas` module. We will use arrays and the wine data set over the course of this chapter as a basis for learning useful linear algebra methods.\n",
    "***\n"
   ]
  },
  {
   "cell_type": "markdown",
   "metadata": {
    "cell_content_type": "markdown_selectable",
    "changed": false,
    "deletable": false,
    "editable": false,
    "original-content": "## First steps with `numpy`\n",
    "selectable": true
   },
   "source": [
    "## First steps with `numpy`\n"
   ]
  },
  {
   "cell_type": "markdown",
   "metadata": {
    "cell_content_type": "markdown_default",
    "changed": false,
    "deletable": false,
    "editable": false,
    "messageType": "szenario",
    "original-content": "**Scenario:** 1001Wines is an online retailer that sells wines through its website. 1001Wines would like to recommend its customers high-quality wines that might be to their taste.\nThey therefore want to create a recommendation tool to compare the similarity of purchased wines with other wines from the assortment. If a wine from the range is similar to what customers have already ordered, it should be recommended to them.\n",
    "selectable": false
   },
   "source": [
    "**Scenario:** 1001Wines is an online retailer that sells wines through its website. 1001Wines would like to recommend its customers high-quality wines that might be to their taste.\n",
    "They therefore want to create a recommendation tool to compare the similarity of purchased wines with other wines from the assortment. If a wine from the range is similar to what customers have already ordered, it should be recommended to them.\n"
   ]
  },
  {
   "cell_type": "markdown",
   "metadata": {
    "cell_content_type": "markdown_selectable",
    "changed": false,
    "deletable": false,
    "editable": false,
    "original-content": "In order to be able to complete this task, 1001Wines has provided us with a wine data set. This includes various measured characteristics of each kind of wine, from the alcohol volume to the sugar level. We'll look at the data more closely later.\n\nFirst let's focus on the `numpy` module. It provides us with some tools that we can use to solve this task. Furthermore, you have already used `numpy` in many other modules, perhaps without realizing it. `numpy` is very common and offers many basic mathematical functions and optimized data structures, so that you can carry out calculations in `numpy` very quickly. Many other modules are based on it for this reason. For example, you will see how `numpy` and `pandas` are related.\n\nBegin by importing `numpy` with its conventional alias `np`.\n",
    "selectable": true
   },
   "source": [
    "In order to be able to complete this task, 1001Wines has provided us with a wine data set. This includes various measured characteristics of each kind of wine, from the alcohol volume to the sugar level. We'll look at the data more closely later.\n",
    "\n",
    "First let's focus on the `numpy` module. It provides us with some tools that we can use to solve this task. Furthermore, you have already used `numpy` in many other modules, perhaps without realizing it. `numpy` is very common and offers many basic mathematical functions and optimized data structures, so that you can carry out calculations in `numpy` very quickly. Many other modules are based on it for this reason. For example, you will see how `numpy` and `pandas` are related.\n",
    "\n",
    "Begin by importing `numpy` with its conventional alias `np`.\n"
   ]
  },
  {
   "cell_type": "code",
   "execution_count": 1,
   "metadata": {
    "cell_content_type": "code_user",
    "changed": false,
    "deletable": false,
    "editable": true,
    "hint": "Write `import numpy as np` in the cell and then run it.",
    "hint_counter": 1,
    "original-content": "",
    "selectable": true,
    "tags": []
   },
   "outputs": [],
   "source": [
    "import numpy as np"
   ]
  },
  {
   "cell_type": "markdown",
   "metadata": {
    "cell_content_type": "markdown_selectable",
    "changed": false,
    "deletable": false,
    "editable": false,
    "original-content": "The main data structure we need for this chapter is the `ndarray`. An array is very similar to a `list`. It contains data that appears in a certain order. However, an `Array` allows us to perform numerous arithmetical operations. Use `np.array(my_list)` to create two arrays from the lists `[5, 10, 20]` and `[1, 2, 4]`. Name the arrays `arr_1` and `arr_2`. Print the result of the four basic arithmetic operations between the two arrays.\n",
    "selectable": true
   },
   "source": [
    "The main data structure we need for this chapter is the `ndarray`. An array is very similar to a `list`. It contains data that appears in a certain order. However, an `Array` allows us to perform numerous arithmetical operations. Use `np.array(my_list)` to create two arrays from the lists `[5, 10, 20]` and `[1, 2, 4]`. Name the arrays `arr_1` and `arr_2`. Print the result of the four basic arithmetic operations between the two arrays.\n"
   ]
  },
  {
   "cell_type": "code",
   "execution_count": 2,
   "metadata": {
    "cell_content_type": "code_user",
    "changed": false,
    "deletable": false,
    "editable": true,
    "hint": "You should get the following results: \n* `arr_1 + arr_2`: \t [6 12 24] \n* `arr_1 - arr_2`: \t [4 8 16] \n* `arr_1 * arr_2`: \t [5 20 80] \n* `arr_1 / arr_2`: \t [5. 5. 5.]",
    "hint_counter": 3,
    "original-content": "",
    "selectable": true,
    "tags": []
   },
   "outputs": [
    {
     "name": "stdout",
     "output_type": "stream",
     "text": [
      "[ 6 12 24]\n",
      "[ 4  8 16]\n",
      "[ 5 20 80]\n",
      "[5. 5. 5.]\n"
     ]
    }
   ],
   "source": [
    "arr_1= np.array([5,10,20])\n",
    "arr_2= np.array([1,2,4])\n",
    "print(arr_1 + arr_2)\n",
    "print(arr_1 - arr_2)\n",
    "print(arr_1 * arr_2)\n",
    "print(arr_1 / arr_2)"
   ]
  },
  {
   "cell_type": "markdown",
   "metadata": {
    "cell_content_type": "markdown_selectable",
    "changed": false,
    "deletable": false,
    "editable": false,
    "original-content": "As you can see, when it comes to the basic arithmetic operations, the calculations are performed on the elements individually and their corresponding values, depend on the order. Now test the basic arithmetic for one of the two arrays with the number `3.5`.\n\n**Important:** Some arithmetic operations produce different results when they are carried out on `lists` and `np.ndarray`. You can also try out the operations with lists to see what happens.\n",
    "selectable": true
   },
   "source": [
    "As you can see, when it comes to the basic arithmetic operations, the calculations are performed on the elements individually and their corresponding values, depend on the order. Now test the basic arithmetic for one of the two arrays with the number `3.5`.\n",
    "\n",
    "**Important:** Some arithmetic operations produce different results when they are carried out on `lists` and `np.ndarray`. You can also try out the operations with lists to see what happens.\n"
   ]
  },
  {
   "cell_type": "code",
   "execution_count": 3,
   "metadata": {
    "cell_content_type": "code_user",
    "changed": false,
    "deletable": false,
    "editable": true,
    "hint": "When adding `ar_1` and `3.5` you should get `[8.5 13.5 23.5]`.",
    "original-content": "",
    "selectable": true
   },
   "outputs": [
    {
     "name": "stdout",
     "output_type": "stream",
     "text": [
      "[ 8.5 13.5 23.5]\n",
      "[ 1.5  6.5 16.5]\n",
      "[17.5 35.  70. ]\n",
      "[1.42857143 2.85714286 5.71428571]\n"
     ]
    }
   ],
   "source": [
    "print(arr_1 + 3.5)\n",
    "print(arr_1 - 3.5)\n",
    "print(arr_1 * 3.5)\n",
    "print(arr_1 / 3.5)"
   ]
  },
  {
   "cell_type": "markdown",
   "metadata": {
    "cell_content_type": "markdown_selectable",
    "changed": false,
    "deletable": false,
    "editable": false,
    "original-content": "If you calculate with arrays and single numbers, this arithmetic operation is applied to each element in the array. You already know this behavior from the `Series` and `DataFrame` data types from `pandas`. This is because `ndarrays` are used as the basis for storing the data. But unlikewith a `Series` or `DataFrame`, you can't use `my_array.loc[]` and `my_array.iloc[]` to access entries in an `array`. You access values in an `array` the same way as in a `list`. `my_array[0]` returns the first element of `my_array`. You can imagine that an `ndarray` is something between a `list` and a `DataFrame`. You can perform arithmetic operations on it, but there are no row names or column names.\nIn `numpy` you will also find other functions and methods that you already know from lists or from `pandas`. However, these methods from the module are not usually available as methods for arrays. In the following cell you will find a short overview. Run the cell.\n",
    "selectable": true
   },
   "source": [
    "If you calculate with arrays and single numbers, this arithmetic operation is applied to each element in the array. You already know this behavior from the `Series` and `DataFrame` data types from `pandas`. This is because `ndarrays` are used as the basis for storing the data. But unlikewith a `Series` or `DataFrame`, you can't use `my_array.loc[]` and `my_array.iloc[]` to access entries in an `array`. You access values in an `array` the same way as in a `list`. `my_array[0]` returns the first element of `my_array`. You can imagine that an `ndarray` is something between a `list` and a `DataFrame`. You can perform arithmetic operations on it, but there are no row names or column names.\n",
    "In `numpy` you will also find other functions and methods that you already know from lists or from `pandas`. However, these methods from the module are not usually available as methods for arrays. In the following cell you will find a short overview. Run the cell.\n"
   ]
  },
  {
   "cell_type": "code",
   "execution_count": 4,
   "metadata": {
    "cell_content_type": "code_demo",
    "changed": false,
    "deletable": false,
    "editable": true,
    "hint": "If you would like, you can discuss this in the forum under *Product Recommendation - Wine Store*.",
    "original-content": "#similar to lists:\nprint('Select first element of array with brackets:', arr_1[0])\nprint('Append new element to array using np.append():', np.append(arr_1,22.22))\nprint('Delete last element of array using np.delete():', np.delete(arr_1,-1)) #You can use the \"-\" sign to start from the end\n\nprint() #add empty line for better reading\n\n#similar to pandas:\nprint('Calculate mean of array using np.mean():', np.mean(arr_1))\nprint('Calculate the median using np.median()', np.median(arr_1))\nprint('Calculate the median using np.quantile()', np.quantile(arr_1,0.5))",
    "selectable": true
   },
   "outputs": [
    {
     "name": "stdout",
     "output_type": "stream",
     "text": [
      "Select first element of array with brackets: 5\n",
      "Append new element to array using np.append(): [ 5.   10.   20.   22.22]\n",
      "Delete last element of array using np.delete(): [ 5 10]\n",
      "\n",
      "Calculate mean of array using np.mean(): 11.666666666666666\n",
      "Calculate the median using np.median() 10.0\n",
      "Calculate the median using np.quantile() 10.0\n"
     ]
    }
   ],
   "source": [
    "#similar to lists:\n",
    "print('Select first element of array with brackets:', arr_1[0])\n",
    "print('Append new element to array using np.append():', np.append(arr_1,22.22))\n",
    "print('Delete last element of array using np.delete():', np.delete(arr_1,-1)) #You can use the \"-\" sign to start from the end\n",
    "\n",
    "print() #add empty line for better reading\n",
    "\n",
    "#similar to pandas:\n",
    "print('Calculate mean of array using np.mean():', np.mean(arr_1))\n",
    "print('Calculate the median using np.median()', np.median(arr_1))\n",
    "print('Calculate the median using np.quantile()', np.quantile(arr_1,0.5))"
   ]
  },
  {
   "cell_type": "markdown",
   "metadata": {
    "cell_content_type": "markdown_selectable",
    "changed": false,
    "deletable": false,
    "editable": false,
    "messageType": "beachte",
    "original-content": "**Important:** `np.append()` and `np.delete()` do not modify the arrays directly. This means you have to assign the result of the method back to the `array` if you want to store the change. This is different for a `list`. This is modified *in place*, which means it is changed directly, so you don't have to assign the result back to the variable.\n",
    "selectable": true
   },
   "source": [
    "**Important:** `np.append()` and `np.delete()` do not modify the arrays directly. This means you have to assign the result of the method back to the `array` if you want to store the change. This is different for a `list`. This is modified *in place*, which means it is changed directly, so you don't have to assign the result back to the variable.\n"
   ]
  },
  {
   "cell_type": "markdown",
   "metadata": {
    "cell_content_type": "markdown_default",
    "changed": false,
    "deletable": false,
    "editable": false,
    "messageType": "glueckwunsch",
    "original-content": "**Congratulations:** You have now got a feeling for arrays. Now let's take a look at the data set.\n",
    "selectable": false
   },
   "source": [
    "**Congratulations:** You have now got a feeling for arrays. Now let's take a look at the data set.\n"
   ]
  },
  {
   "cell_type": "markdown",
   "metadata": {
    "cell_content_type": "markdown_default",
    "changed": false,
    "deletable": false,
    "editable": false,
    "original-content": "## The data set\n",
    "selectable": false
   },
   "source": [
    "## The data set\n"
   ]
  },
  {
   "cell_type": "markdown",
   "metadata": {
    "cell_content_type": "markdown_selectable",
    "changed": false,
    "deletable": false,
    "editable": false,
    "original-content": "The wine data set is located in the file *wine-quality.csv*. Data in a CSV file is organized in rows and columns. A comma is usually used to separate the values. That's where the file format gets its name from: CSV stands for *comma separated values*. `pandas` makes it very easy to import this kind of data. It offers us the function `pd.read_csv()`. The most important parameter of this function is `filepath_or_buffer`, which is the first one and should contain the file name. Sometimes something other than a comma is used as separator, for example a semicolon. The function has a lot more parameters that we don't need so often. If you like, you can take a look at the [documentation](https://pandas.pydata.org/pandas-docs/stable/reference/api/pandas.read_csv.html) to get an overview. Then you pass the separator as a *string* to the parameter `sep` (short for separator). `pd.read_csv()` returns a `DataFrame` which is convenient to work with.",
    "selectable": true
   },
   "source": [
    "The wine data set is located in the file *wine-quality.csv*. Data in a CSV file is organized in rows and columns. A comma is usually used to separate the values. That's where the file format gets its name from: CSV stands for *comma separated values*. `pandas` makes it very easy to import this kind of data. It offers us the function `pd.read_csv()`. The most important parameter of this function is `filepath_or_buffer`, which is the first one and should contain the file name. Sometimes something other than a comma is used as separator, for example a semicolon. The function has a lot more parameters that we don't need so often. If you like, you can take a look at the [documentation](https://pandas.pydata.org/pandas-docs/stable/reference/api/pandas.read_csv.html) to get an overview. Then you pass the separator as a *string* to the parameter `sep` (short for separator). `pd.read_csv()` returns a `DataFrame` which is convenient to work with."
   ]
  },
  {
   "cell_type": "markdown",
   "metadata": {
    "cell_content_type": "markdown_selectable",
    "changed": false,
    "deletable": false,
    "editable": false,
    "original-content": "Import `pandas` with its conventional alias `pd`. Import the file and store it as a `DataFrame` named `df`. Display the first 5 rows of `df`.\nTip: Since the `filepath_or_buffer` parameter comes first, you don't need to write it out in full,  `pd.read_csv(my_filename)` will do.\n",
    "selectable": true
   },
   "source": [
    "Import `pandas` with its conventional alias `pd`. Import the file and store it as a `DataFrame` named `df`. Display the first 5 rows of `df`.\n",
    "Tip: Since the `filepath_or_buffer` parameter comes first, you don't need to write it out in full,  `pd.read_csv(my_filename)` will do.\n"
   ]
  },
  {
   "cell_type": "code",
   "execution_count": 5,
   "metadata": {
    "cell_content_type": "code_user",
    "changed": false,
    "deletable": false,
    "editable": true,
    "hint": "Read the file like this: `pd.read_csv('wine-quality.csv')`.\nYou can use `df.head()` to print the first five rows.",
    "original-content": "",
    "selectable": true
   },
   "outputs": [
    {
     "data": {
      "text/html": [
       "<div>\n",
       "<style scoped>\n",
       "    .dataframe tbody tr th:only-of-type {\n",
       "        vertical-align: middle;\n",
       "    }\n",
       "\n",
       "    .dataframe tbody tr th {\n",
       "        vertical-align: top;\n",
       "    }\n",
       "\n",
       "    .dataframe thead th {\n",
       "        text-align: right;\n",
       "    }\n",
       "</style>\n",
       "<table border=\"1\" class=\"dataframe\">\n",
       "  <thead>\n",
       "    <tr style=\"text-align: right;\">\n",
       "      <th></th>\n",
       "      <th>fixed.acidity</th>\n",
       "      <th>volatile.acidity</th>\n",
       "      <th>citric.acid</th>\n",
       "      <th>residual.sugar</th>\n",
       "      <th>chlorides</th>\n",
       "      <th>free.sulfur.dioxide</th>\n",
       "      <th>total.sulfur.dioxide</th>\n",
       "      <th>density</th>\n",
       "      <th>pH</th>\n",
       "      <th>sulphates</th>\n",
       "      <th>alcohol</th>\n",
       "      <th>color</th>\n",
       "    </tr>\n",
       "  </thead>\n",
       "  <tbody>\n",
       "    <tr>\n",
       "      <th>0</th>\n",
       "      <td>7.0</td>\n",
       "      <td>0.27</td>\n",
       "      <td>0.36</td>\n",
       "      <td>20.7</td>\n",
       "      <td>0.045</td>\n",
       "      <td>45.0</td>\n",
       "      <td>170.0</td>\n",
       "      <td>1.0010</td>\n",
       "      <td>3.00</td>\n",
       "      <td>0.45</td>\n",
       "      <td>8.8</td>\n",
       "      <td>white</td>\n",
       "    </tr>\n",
       "    <tr>\n",
       "      <th>1</th>\n",
       "      <td>6.3</td>\n",
       "      <td>0.30</td>\n",
       "      <td>0.34</td>\n",
       "      <td>1.6</td>\n",
       "      <td>0.049</td>\n",
       "      <td>14.0</td>\n",
       "      <td>132.0</td>\n",
       "      <td>0.9940</td>\n",
       "      <td>3.30</td>\n",
       "      <td>0.49</td>\n",
       "      <td>9.5</td>\n",
       "      <td>white</td>\n",
       "    </tr>\n",
       "    <tr>\n",
       "      <th>2</th>\n",
       "      <td>8.1</td>\n",
       "      <td>0.28</td>\n",
       "      <td>0.40</td>\n",
       "      <td>6.9</td>\n",
       "      <td>0.050</td>\n",
       "      <td>30.0</td>\n",
       "      <td>97.0</td>\n",
       "      <td>0.9951</td>\n",
       "      <td>3.26</td>\n",
       "      <td>0.44</td>\n",
       "      <td>10.1</td>\n",
       "      <td>white</td>\n",
       "    </tr>\n",
       "    <tr>\n",
       "      <th>3</th>\n",
       "      <td>7.2</td>\n",
       "      <td>0.23</td>\n",
       "      <td>0.32</td>\n",
       "      <td>8.5</td>\n",
       "      <td>0.058</td>\n",
       "      <td>47.0</td>\n",
       "      <td>186.0</td>\n",
       "      <td>0.9956</td>\n",
       "      <td>3.19</td>\n",
       "      <td>0.40</td>\n",
       "      <td>9.9</td>\n",
       "      <td>white</td>\n",
       "    </tr>\n",
       "    <tr>\n",
       "      <th>4</th>\n",
       "      <td>7.2</td>\n",
       "      <td>0.23</td>\n",
       "      <td>0.32</td>\n",
       "      <td>8.5</td>\n",
       "      <td>0.058</td>\n",
       "      <td>47.0</td>\n",
       "      <td>186.0</td>\n",
       "      <td>0.9956</td>\n",
       "      <td>3.19</td>\n",
       "      <td>0.40</td>\n",
       "      <td>9.9</td>\n",
       "      <td>white</td>\n",
       "    </tr>\n",
       "  </tbody>\n",
       "</table>\n",
       "</div>"
      ],
      "text/plain": [
       "   fixed.acidity  volatile.acidity  citric.acid  residual.sugar  chlorides  \\\n",
       "0            7.0              0.27         0.36            20.7      0.045   \n",
       "1            6.3              0.30         0.34             1.6      0.049   \n",
       "2            8.1              0.28         0.40             6.9      0.050   \n",
       "3            7.2              0.23         0.32             8.5      0.058   \n",
       "4            7.2              0.23         0.32             8.5      0.058   \n",
       "\n",
       "   free.sulfur.dioxide  total.sulfur.dioxide  density    pH  sulphates  \\\n",
       "0                 45.0                 170.0   1.0010  3.00       0.45   \n",
       "1                 14.0                 132.0   0.9940  3.30       0.49   \n",
       "2                 30.0                  97.0   0.9951  3.26       0.44   \n",
       "3                 47.0                 186.0   0.9956  3.19       0.40   \n",
       "4                 47.0                 186.0   0.9956  3.19       0.40   \n",
       "\n",
       "   alcohol  color  \n",
       "0      8.8  white  \n",
       "1      9.5  white  \n",
       "2     10.1  white  \n",
       "3      9.9  white  \n",
       "4      9.9  white  "
      ]
     },
     "execution_count": 5,
     "metadata": {},
     "output_type": "execute_result"
    }
   ],
   "source": [
    "import pandas as pd\n",
    "df = pd.read_csv('wine-quality.csv')\n",
    "df.head()"
   ]
  },
  {
   "cell_type": "markdown",
   "metadata": {
    "cell_content_type": "markdown_selectable",
    "changed": false,
    "deletable": false,
    "editable": false,
    "original-content": "As you can see, each row contains chemical properties of a wine, such as the pH level or alcohol content. We have already learned that `pandas` uses the `ndarray` internally. The `array` is stored in the attribute `my_df.values`. Check the data type of `df.values`.\n",
    "selectable": true
   },
   "source": [
    "As you can see, each row contains chemical properties of a wine, such as the pH level or alcohol content. We have already learned that `pandas` uses the `ndarray` internally. The `array` is stored in the attribute `my_df.values`. Check the data type of `df.values`.\n"
   ]
  },
  {
   "cell_type": "code",
   "execution_count": 6,
   "metadata": {
    "cell_content_type": "code_user",
    "changed": false,
    "deletable": false,
    "editable": true,
    "hint": "Use the `type()` function.",
    "hint_counter": 1,
    "original-content": "",
    "selectable": true,
    "tags": []
   },
   "outputs": [
    {
     "data": {
      "text/plain": [
       "numpy.ndarray"
      ]
     },
     "execution_count": 6,
     "metadata": {},
     "output_type": "execute_result"
    }
   ],
   "source": [
    "type(df.values)"
   ]
  },
  {
   "cell_type": "markdown",
   "metadata": {
    "cell_content_type": "markdown_selectable",
    "changed": false,
    "deletable": false,
    "editable": false,
    "original-content": "It has the data type `ndarray`. This is how `numpy` arrays are described. So the values in a `pandas` `DataFrame` are actually stored as arrays from `numpy`. This is because `numpy` arrays have already been highly optimized and why many packages are compatible with arrays. \n\n`nd` stands for n-dimensional. This means that an `ndarray` in `numpy` can have any number of dimensions. Dimensions are the number of directions along which the data is arranged. In the `DataFrame` there are 2 dimensions. We have the vertical columns and horizontal rows. If we just take one column, it has only one dimension, since we are only looking at one vertical column. Now let's try that out. The attribute `my_array.ndim` will be helpful here. This will tell you the number of dimensions. Print `df.values.ndim` and `df.loc[:,'pH'].values.ndim`.\n",
    "selectable": true
   },
   "source": [
    "It has the data type `ndarray`. This is how `numpy` arrays are described. So the values in a `pandas` `DataFrame` are actually stored as arrays from `numpy`. This is because `numpy` arrays have already been highly optimized and why many packages are compatible with arrays. \n",
    "\n",
    "`nd` stands for n-dimensional. This means that an `ndarray` in `numpy` can have any number of dimensions. Dimensions are the number of directions along which the data is arranged. In the `DataFrame` there are 2 dimensions. We have the vertical columns and horizontal rows. If we just take one column, it has only one dimension, since we are only looking at one vertical column. Now let's try that out. The attribute `my_array.ndim` will be helpful here. This will tell you the number of dimensions. Print `df.values.ndim` and `df.loc[:,'pH'].values.ndim`.\n"
   ]
  },
  {
   "cell_type": "code",
   "execution_count": 7,
   "metadata": {
    "cell_content_type": "code_user",
    "changed": false,
    "deletable": false,
    "editable": true,
    "hint": "Write `print(df.values.ndim)` and `print(df.loc[:,'pH'].values.ndim)` in the cell.",
    "original-content": "",
    "selectable": true
   },
   "outputs": [
    {
     "data": {
      "text/plain": [
       "1"
      ]
     },
     "execution_count": 7,
     "metadata": {},
     "output_type": "execute_result"
    }
   ],
   "source": [
    "df.ndim\n",
    "df.values.ndim\n",
    "df.loc[:,'pH'].values.ndim"
   ]
  },
  {
   "cell_type": "markdown",
   "metadata": {
    "cell_content_type": "markdown_selectable",
    "changed": false,
    "deletable": false,
    "editable": false,
    "original-content": "As we mentioned above, the `array` for the `DataFrame` has two dimensions and the `array` for a column (i.e. a `Series`) has one dimension. If an `array` has one dimension, it is also called a vector. Two dimensions are called a matrix. This is visualized here once again:\n",
    "selectable": true
   },
   "source": [
    "As we mentioned above, the `array` for the `DataFrame` has two dimensions and the `array` for a column (i.e. a `Series`) has one dimension. If an `array` has one dimension, it is also called a vector. Two dimensions are called a matrix. This is visualized here once again:\n"
   ]
  },
  {
   "cell_type": "markdown",
   "metadata": {
    "cell_content_type": "markdown_default",
    "changed": false,
    "deletable": false,
    "editable": false,
    "original-content": "![Data in different dimensions](00-02-01-pic1.png)\n",
    "selectable": false
   },
   "source": [
    "![Data in different dimensions](00-02-01-pic1.png)\n"
   ]
  },
  {
   "cell_type": "markdown",
   "metadata": {
    "cell_content_type": "markdown_selectable",
    "changed": false,
    "deletable": false,
    "editable": false,
    "original-content": "Now you might ask yourself when you need more than 2 dimensions. For example, if we recorded the measurement data of the wines every year, then we could use a separate 2-dimensional array for each year or we could use a 3-dimensional array. Then the 2-dimensional arrays are arranged one behind the other, as shown in the illustration. The values within arrays can be accessed in a the same way as you would use `my_df.iloc[]` to access values in DataFrames, but you don't use the dot and four letters `.iloc`, so you just use: `df.values[row_num, col_num]`. Each dimension needs a new number. Try it out. Which value is located at `df.values[1, 8]`?\n",
    "selectable": true
   },
   "source": [
    "Now you might ask yourself when you need more than 2 dimensions. For example, if we recorded the measurement data of the wines every year, then we could use a separate 2-dimensional array for each year or we could use a 3-dimensional array. Then the 2-dimensional arrays are arranged one behind the other, as shown in the illustration. The values within arrays can be accessed in a the same way as you would use `my_df.iloc[]` to access values in DataFrames, but you don't use the dot and four letters `.iloc`, so you just use: `df.values[row_num, col_num]`. Each dimension needs a new number. Try it out. Which value is located at `df.values[1, 8]`?\n"
   ]
  },
  {
   "cell_type": "code",
   "execution_count": 8,
   "metadata": {
    "cell_content_type": "code_user",
    "changed": false,
    "deletable": false,
    "editable": true,
    "hint": "If you would like, you can discuss this cell in the forum under *Product Recommendation - Wine Store*.",
    "hint_counter": 1,
    "original-content": "",
    "selectable": true,
    "tags": []
   },
   "outputs": [
    {
     "data": {
      "text/plain": [
       "3.3"
      ]
     },
     "execution_count": 8,
     "metadata": {},
     "output_type": "execute_result"
    }
   ],
   "source": [
    "df.values[1, 8] "
   ]
  },
  {
   "cell_type": "markdown",
   "metadata": {
    "cell_content_type": "markdown_default",
    "changed": false,
    "deletable": false,
    "editable": false,
    "original-content": "The **rows before columns** principle also applies here.\n",
    "selectable": false
   },
   "source": [
    "The **rows before columns** principle also applies here.\n"
   ]
  },
  {
   "cell_type": "markdown",
   "metadata": {
    "cell_content_type": "markdown_default",
    "changed": false,
    "deletable": false,
    "editable": false,
    "messageType": "glueckwunsch",
    "original-content": "**Congratulations:** You now know what we mean by dimensions in data structures and what the words vector and matrix mean. You will come across these terms very often in the field of data science. For example, we often call the data used by a machine learning model to make predictions a feature matrix. This is the matrix that contains the feature data, the characteristics you want to use to make the predictions. Vectors and matrices are the basic data structures for linear algebra. In the next notebooks, we will take a much closer look at vectors and use them to find a solution for our task.\n",
    "selectable": false
   },
   "source": [
    "**Congratulations:** You now know what we mean by dimensions in data structures and what the words vector and matrix mean. You will come across these terms very often in the field of data science. For example, we often call the data used by a machine learning model to make predictions a feature matrix. This is the matrix that contains the feature data, the characteristics you want to use to make the predictions. Vectors and matrices are the basic data structures for linear algebra. In the next notebooks, we will take a much closer look at vectors and use them to find a solution for our task.\n"
   ]
  },
  {
   "cell_type": "markdown",
   "metadata": {
    "cell_content_type": "markdown_selectable",
    "changed": false,
    "deletable": false,
    "editable": false,
    "messageType": "merke",
    "original-content": "**Remember:**\n* `numpy` offers many features that you already know from using DataFrames.\n* Access an element in an `ndarray` like a `DataFrame` but without `.iloc` - `my_array[row_num, col_num]`.\n* Imagine the dimensions of an array as axes on which the data is arranged.\n* A vector has one dimension. A matrix has two dimensions.\n",
    "selectable": true
   },
   "source": [
    "**Remember:**\n",
    "* `numpy` offers many features that you already know from using DataFrames.\n",
    "* Access an element in an `ndarray` like a `DataFrame` but without `.iloc` - `my_array[row_num, col_num]`.\n",
    "* Imagine the dimensions of an array as axes on which the data is arranged.\n",
    "* A vector has one dimension. A matrix has two dimensions.\n"
   ]
  },
  {
   "cell_type": "markdown",
   "metadata": {
    "cell_content_type": "markdown_default",
    "changed": false,
    "deletable": false,
    "editable": false,
    "original-content": "***\nDo you have any questions about this exercise? Look in the forum to see if they have already been discussed.\n***\nFound a mistake? Contact Support at support@stackfuel.com.\n***\nThe data was published here first: P. Cortez, A. Cerdeira, F. Almeida, T. Matos and J. Reis.\nModeling wine preferences by data mining from physicochemical properties. In Decision Support Systems, Elsevier, 47(4):547-553, 2009. \n***\n",
    "selectable": false
   },
   "source": [
    "***\n",
    "Do you have any questions about this exercise? Look in the forum to see if they have already been discussed.\n",
    "***\n",
    "Found a mistake? Contact Support at support@stackfuel.com.\n",
    "***\n",
    "The data was published here first: P. Cortez, A. Cerdeira, F. Almeida, T. Matos and J. Reis.\n",
    "Modeling wine preferences by data mining from physicochemical properties. In Decision Support Systems, Elsevier, 47(4):547-553, 2009. \n",
    "***\n"
   ]
  }
 ],
 "metadata": {
  "celltoolbar": "Edit Metadata",
  "content_id": "4f646790-5b24-4d10-badf-c9eb7ed380f3",
  "content_language": "en",
  "content_title": "Product Recommendation - Wine Store",
  "content_type": "exercise",
  "kernelspec": {
   "display_name": "Python 3 (ipykernel)",
   "language": "python",
   "name": "python3"
  },
  "language_info": {
   "codemirror_mode": {
    "name": "ipython",
    "version": 3
   },
   "file_extension": ".py",
   "mimetype": "text/x-python",
   "name": "python",
   "nbconvert_exporter": "python",
   "pygments_lexer": "ipython3",
   "version": "3.8.10"
  }
 },
 "nbformat": 4,
 "nbformat_minor": 4
}
