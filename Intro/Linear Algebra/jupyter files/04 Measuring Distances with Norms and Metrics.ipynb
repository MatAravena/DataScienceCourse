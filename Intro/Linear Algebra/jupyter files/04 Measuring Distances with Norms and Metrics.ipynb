{
 "cells": [
  {
   "cell_type": "markdown",
   "metadata": {
    "cell_content_type": "markdown_default",
    "changed": false,
    "deletable": false,
    "editable": false,
    "original-content": "# Measuring Distances with Norms and Metrics (solution)\nModule 0 | Chapter 2 | Notebook 4\n\n***\nIn the last lesson we got to know the scalar product and length of vectors. From this we calculated the cosine similarity of the wines. Now we will look at an alternative way of calculating the similarity. In this exercise you will learn:\n* How to calculate distances between two data points\n* The big differences between metrics and norms\n* How to caluclate the similarity of data points with the L2 norm \n***\n",
    "selectable": false
   },
   "source": [
    "# Measuring Distances with Norms and Metrics\n",
    "Module 0 | Chapter 2 | Notebook 4\n",
    "\n",
    "***\n",
    "In the last lesson we got to know the scalar product and length of vectors. From this we calculated the cosine similarity of the wines. Now we will look at an alternative way of calculating the similarity. In this exercise you will learn:\n",
    "* How to calculate distances between two data points\n",
    "* The big differences between metrics and norms\n",
    "* How to caluclate the similarity of data points with the L2 norm \n",
    "***\n"
   ]
  },
  {
   "cell_type": "markdown",
   "metadata": {
    "cell_content_type": "markdown_default",
    "changed": false,
    "deletable": false,
    "editable": false,
    "original-content": "## A brief look at metrics and norms\n",
    "selectable": false
   },
   "source": [
    "## A brief look at metrics and norms\n"
   ]
  },
  {
   "cell_type": "markdown",
   "metadata": {
    "cell_content_type": "markdown_default",
    "changed": false,
    "deletable": false,
    "editable": false,
    "messageType": "szenario",
    "original-content": "**Scenario:** 1001Wines is an online retailer that sells wines through its website. 1001Wines would like to recommend its customers high-quality wines that might be to their taste.\nThey therefore want to create a recommendation tool to compare the similarity of purchased wines with other wines from the assortment. If a wine from the range is similar to what customers have already ordered, it should be recommended to them.\n",
    "selectable": false
   },
   "source": [
    "**Scenario:** 1001Wines is an online retailer that sells wines through its website. 1001Wines would like to recommend its customers high-quality wines that might be to their taste.\n",
    "They therefore want to create a recommendation tool to compare the similarity of purchased wines with other wines from the assortment. If a wine from the range is similar to what customers have already ordered, it should be recommended to them.\n"
   ]
  },
  {
   "cell_type": "markdown",
   "metadata": {
    "cell_content_type": "markdown_default",
    "changed": false,
    "deletable": false,
    "editable": false,
    "original-content": "In the last lesson you already developed a measure of similarity. This assesses the similarity of two wines based on the ratio between the proportions of sugar and sulphates in the wine. In principle, this was not a bad assumption if you don't have domain knowledge yourself. But now the sommeliers at 1001Wines have had their say and said that the ratio of the proportions is not what determines the different flavour, but rather the total number of ingredients. Sometimes the exact requirements only come to light in the course of the project. But this isn't a problem. You will develop an degree of similarity based on this in this lesson.\n",
    "selectable": false
   },
   "source": [
    "In the last lesson you already developed a measure of similarity. This assesses the similarity of two wines based on the ratio between the proportions of sugar and sulphates in the wine. In principle, this was not a bad assumption if you don't have domain knowledge yourself. But now the sommeliers at 1001Wines have had their say and said that the ratio of the proportions is not what determines the different flavour, but rather the total number of ingredients. Sometimes the exact requirements only come to light in the course of the project. But this isn't a problem. You will develop an degree of similarity based on this in this lesson.\n"
   ]
  },
  {
   "cell_type": "markdown",
   "metadata": {
    "cell_content_type": "markdown_default",
    "changed": false,
    "deletable": false,
    "editable": false,
    "original-content": "The concept of similarity in our imagination is closely related to the concept of distance. The smaller the distance, the more similar the data points are. However, it makes sense to distinguish these two concepts from each other. When we speak colloquially of similarity, we usually mean a similarity in one or more specific characteristics. it's possible that two objects are very similar in certain aspects, but in others they are very different. For example, we previously dealt with the cosine similarity. Two vectors are similar in this case if they point roughly in the same direction. In addition to a direction, vectors also have a length. Would we call two vectors which point in the same direction, but have very different lengths similar in day-to-day life? This can depend on the context. Instead of the similarity we can also speak about the distance between two objects. In linear algebra we refer to metrics when we talk about distances. Metrics are, so to speak, a generalization of the concept of distance that we use in everyday life. Metrics have certain characteristics that our concept of distance from everyday life also has. \nA metric $d(x,y)$ meets the following properties:\n\n* $d(x,y)\\: \\ge 0; \\: d(x,y) = 0$, g.d.w. $x=y$: (positive definite)\n* $d(x,y) = d(y,x)$ (symmetry)\n* $d(x,y)\\le d(x,c)+d(c,y)$ (triangle inequality)\n\n\nWe can now bring these mathematical definitions to life. In everyday life we indicate distances in meters, for example. So we can take a meter rule and measure the length. Following this intuition, we can assume that distances cannot assume negative values. Furthermore, we expect that a distance of $0$ is only present if the two objects are in exactly the same position. This is exactly the first property of metrics. The second property describes the following observation: if you measure the distance between two objects, e.g. with a ruler, the distance does not depend on whether you place one end of the ruler at object $x$\nand read the distance to $y$, or if you do it the other way around. The last property describes that the distance should describe the shortest path between the objects. The distance from $x$ to $y$ should always be less than or equal to the sum of the distances from $x$ to another point $c$ and the distance from $c$ to $y$. Specifically: If we leave our home to drive to the cinema, the kilometer counter when we get to the cinema should at most display the length of the route travelled that it would have displayed if we had picked up a friend on the way. In the best case the person lives directly on the route, then both traveled routes are identical. Otherwise we have to make a detour and the route we travel becomes longer. \nAs far as we are concerned, the length and distance are the same. In linear algebra this is not quite the case. A distinction is made there between distances (metrics) and lengths (norms). If we have a measure of length (a norm), we can always use it to measure a distance (a metric). We define a vector that connects the two points and determine its norm. The reverse is not necessarily true. The following metric is an example of a metric that cannot be used as a norm:\n\n$d(x,y)=\\begin{cases}0&\\text{if} x=y \\\\ ||x||+||y|| & \\text{otherwise} \\end{cases}$\n\nThis distance function is not based on the norm of the vector connecting the two points and that means you cannot derive a norm from this metric in a clear way. \n\n\nLet's make this a little clearer. In the last lesson, we calculated the cosine similarity of the wines. For this, we need the angle between two vectors.\n\n![angle between 2 vectors](00-02-02-pic4.png)\n",
    "selectable": false
   },
   "source": [
    "The concept of similarity in our imagination is closely related to the concept of distance. The smaller the distance, the more similar the data points are. However, it makes sense to distinguish these two concepts from each other. When we speak colloquially of similarity, we usually mean a similarity in one or more specific characteristics. it's possible that two objects are very similar in certain aspects, but in others they are very different. For example, we previously dealt with the cosine similarity. Two vectors are similar in this case if they point roughly in the same direction. In addition to a direction, vectors also have a length. Would we call two vectors which point in the same direction, but have very different lengths similar in day-to-day life? This can depend on the context. Instead of the similarity we can also speak about the distance between two objects. In linear algebra we refer to metrics when we talk about distances. Metrics are, so to speak, a generalization of the concept of distance that we use in everyday life. Metrics have certain characteristics that our concept of distance from everyday life also has. \n",
    "A metric $d(x,y)$ meets the following properties:\n",
    "\n",
    "* $d(x,y)\\: \\ge 0; \\: d(x,y) = 0$, g.d.w. $x=y$: (positive definite)\n",
    "* $d(x,y) = d(y,x)$ (symmetry)\n",
    "* $d(x,y)\\le d(x,c)+d(c,y)$ (triangle inequality)\n",
    "\n",
    "\n",
    "We can now bring these mathematical definitions to life. In everyday life we indicate distances in meters, for example. So we can take a meter rule and measure the length. Following this intuition, we can assume that distances cannot assume negative values. Furthermore, we expect that a distance of $0$ is only present if the two objects are in exactly the same position. This is exactly the first property of metrics. The second property describes the following observation: if you measure the distance between two objects, e.g. with a ruler, the distance does not depend on whether you place one end of the ruler at object $x$\n",
    "and read the distance to $y$, or if you do it the other way around. The last property describes that the distance should describe the shortest path between the objects. The distance from $x$ to $y$ should always be less than or equal to the sum of the distances from $x$ to another point $c$ and the distance from $c$ to $y$. Specifically: If we leave our home to drive to the cinema, the kilometer counter when we get to the cinema should at most display the length of the route travelled that it would have displayed if we had picked up a friend on the way. In the best case the person lives directly on the route, then both traveled routes are identical. Otherwise we have to make a detour and the route we travel becomes longer. \n",
    "As far as we are concerned, the length and distance are the same. In linear algebra this is not quite the case. A distinction is made there between distances (metrics) and lengths (norms). If we have a measure of length (a norm), we can always use it to measure a distance (a metric). We define a vector that connects the two points and determine its norm. The reverse is not necessarily true. The following metric is an example of a metric that cannot be used as a norm:\n",
    "\n",
    "$d(x,y)=\\begin{cases}0&\\text{if} x=y \\\\ ||x||+||y|| & \\text{otherwise} \\end{cases}$\n",
    "\n",
    "This distance function is not based on the norm of the vector connecting the two points and that means you cannot derive a norm from this metric in a clear way. \n",
    "\n",
    "\n",
    "Let's make this a little clearer. In the last lesson, we calculated the cosine similarity of the wines. For this, we need the angle between two vectors.\n",
    "\n",
    "![angle between 2 vectors](00-02-02-pic4.png)\n"
   ]
  },
  {
   "cell_type": "markdown",
   "metadata": {
    "cell_content_type": "markdown_selectable",
    "changed": false,
    "deletable": false,
    "editable": false,
    "original-content": "This measures to a certain extent the similarity of the direction of two vectors. It is easy to be convinced that cosine similarity is neither a metric nor a norm. \nSo how about the lengths of the vectors? You can calculate this for each vector individually. You don't need a second one to be able to do this. So the length is a norm. So we used the `norm()` function to calculate the length of vectors. If we have a norm, we can always use it to create a metric. Let's try that out now.\n\nIn everyday life, for example, we might say things like: \"The distance from the starting blocks to the finish line is 100 meters.\" To get to 100 meters, we measure the distance from the start point and finish point. These are also data points with two properties: their coordinates. We can plot the distance between the points on a plane with a vector and then measure its length.\n\n![distance between start and end point](00-02-03-pic1.png)\n",
    "selectable": true
   },
   "source": [
    "This measures to a certain extent the similarity of the direction of two vectors. It is easy to be convinced that cosine similarity is neither a metric nor a norm. \n",
    "So how about the lengths of the vectors? You can calculate this for each vector individually. You don't need a second one to be able to do this. So the length is a norm. So we used the `norm()` function to calculate the length of vectors. If we have a norm, we can always use it to create a metric. Let's try that out now.\n",
    "\n",
    "In everyday life, for example, we might say things like: \"The distance from the starting blocks to the finish line is 100 meters.\" To get to 100 meters, we measure the distance from the start point and finish point. These are also data points with two properties: their coordinates. We can plot the distance between the points on a plane with a vector and then measure its length.\n",
    "\n",
    "![distance between start and end point](00-02-03-pic1.png)\n"
   ]
  },
  {
   "cell_type": "markdown",
   "metadata": {
    "cell_content_type": "markdown_selectable",
    "changed": false,
    "deletable": false,
    "editable": false,
    "original-content": "In this visualization we have chose an arbitrary zero point. For example, this could be your seat as a spectator. The start position is given by coordinates `[13, 52]` and the end point by `[113, 52]`. The distance between the points corresponds to the length of the vector. So far we have always started the vectors from the point `[0, 0]`. If we start from a different point, we simply subtract the vector of the starting point from the vector of the end point. Try it out! Create a new vector by subtracting `[13, 52]` from `[113, 52]`. How long is the new vector?\n",
    "selectable": true
   },
   "source": [
    "In this visualization we have chose an arbitrary zero point. For example, this could be your seat as a spectator. The start position is given by coordinates `[13, 52]` and the end point by `[113, 52]`. The distance between the points corresponds to the length of the vector. So far we have always started the vectors from the point `[0, 0]`. If we start from a different point, we simply subtract the vector of the starting point from the vector of the end point. Try it out! Create a new vector by subtracting `[13, 52]` from `[113, 52]`. How long is the new vector?\n"
   ]
  },
  {
   "cell_type": "code",
   "execution_count": 83,
   "metadata": {
    "cell_content_type": "code_user",
    "changed": false,
    "deletable": false,
    "editable": true,
    "hint": "Remember to import `numpy` (alias `np`) to be able to perform calculations on the arrays. Also import the `norm` function from the submodule `numpy.linalg`. Subtract the arrays from one another and calculate the length from the result.",
    "hint_counter": 3,
    "original-content": "",
    "selectable": true,
    "tags": []
   },
   "outputs": [
    {
     "name": "stdout",
     "output_type": "stream",
     "text": [
      "100.0\n"
     ]
    }
   ],
   "source": [
    "import numpy as np\n",
    "from numpy.linalg import norm\n",
    "\n",
    "vec = np.array([13,52])\n",
    "vec2 = np.array([113,52])\n",
    "vec_length = norm(vec2 - vec)\n",
    "print(vec_length)\n"
   ]
  },
  {
   "cell_type": "markdown",
   "metadata": {
    "cell_content_type": "markdown_selectable",
    "changed": false,
    "deletable": false,
    "editable": false,
    "original-content": "The length is 100. Since we have given the coordinates in meters from our position, it's 100 meters.\nThe `norm()` function calculates the length of a vector, which we can use to measure a distance! If you don't specify additional arguments it calculates the Euclidean norm. This is the norm we use in everyday life to measure distances. It is also called the **L2 norm**. Remember this term, because it comes up a lot in the context of machine learning.\n\nOur distinction between metric and norm is somewhat crude. There are also precise mathematical definitions for both of them. But don't worry, you don't need to learn them now. The most important thing is that you connect the terms **norm** and **metric** with **measuring lengths and distances** of vectors.\n",
    "selectable": true
   },
   "source": [
    "The length is 100. Since we have given the coordinates in meters from our position, it's 100 meters.\n",
    "The `norm()` function calculates the length of a vector, which we can use to measure a distance! If you don't specify additional arguments it calculates the Euclidean norm. This is the norm we use in everyday life to measure distances. It is also called the **L2 norm**. Remember this term, because it comes up a lot in the context of machine learning.\n",
    "\n",
    "Our distinction between metric and norm is somewhat crude. There are also precise mathematical definitions for both of them. But don't worry, you don't need to learn them now. The most important thing is that you connect the terms **norm** and **metric** with **measuring lengths and distances** of vectors.\n"
   ]
  },
  {
   "cell_type": "markdown",
   "metadata": {
    "cell_content_type": "markdown_default",
    "changed": false,
    "deletable": false,
    "editable": false,
    "messageType": "glueckwunsch",
    "original-content": "**Congratulations:** You now know the terms metric and norm. You will encounter them very often in the field of machine learning. Now we will use the L2 norm to determine a similarity between the wines.\n",
    "selectable": false
   },
   "source": [
    "**Congratulations:** You now know the terms metric and norm. You will encounter them very often in the field of machine learning. Now we will use the L2 norm to determine a similarity between the wines.\n"
   ]
  },
  {
   "cell_type": "markdown",
   "metadata": {
    "cell_content_type": "markdown_default",
    "changed": false,
    "deletable": false,
    "editable": false,
    "original-content": "## Product recommendation with the L2 norm\n",
    "selectable": false
   },
   "source": [
    "## Product recommendation with the L2 norm\n"
   ]
  },
  {
   "cell_type": "markdown",
   "metadata": {
    "cell_content_type": "markdown_default",
    "changed": false,
    "deletable": false,
    "editable": false,
    "original-content": "Run the next cell to import the data quickly and to print the first 5 rows.\n",
    "selectable": false
   },
   "source": [
    "Run the next cell to import the data quickly and to print the first 5 rows.\n"
   ]
  },
  {
   "cell_type": "code",
   "execution_count": 86,
   "metadata": {
    "cell_content_type": "code_demo",
    "changed": false,
    "deletable": false,
    "editable": true,
    "hint": "If you would like, you can discuss this in the forum under *Measuring Distances with Norms and Metrics*.",
    "original-content": "import pandas as pd\ndf = pd.read_csv('wine-quality.csv')\ndf.head()",
    "selectable": true
   },
   "outputs": [
    {
     "data": {
      "text/html": [
       "<div>\n",
       "<style scoped>\n",
       "    .dataframe tbody tr th:only-of-type {\n",
       "        vertical-align: middle;\n",
       "    }\n",
       "\n",
       "    .dataframe tbody tr th {\n",
       "        vertical-align: top;\n",
       "    }\n",
       "\n",
       "    .dataframe thead th {\n",
       "        text-align: right;\n",
       "    }\n",
       "</style>\n",
       "<table border=\"1\" class=\"dataframe\">\n",
       "  <thead>\n",
       "    <tr style=\"text-align: right;\">\n",
       "      <th></th>\n",
       "      <th>fixed.acidity</th>\n",
       "      <th>volatile.acidity</th>\n",
       "      <th>citric.acid</th>\n",
       "      <th>residual.sugar</th>\n",
       "      <th>chlorides</th>\n",
       "      <th>free.sulfur.dioxide</th>\n",
       "      <th>total.sulfur.dioxide</th>\n",
       "      <th>density</th>\n",
       "      <th>pH</th>\n",
       "      <th>sulphates</th>\n",
       "      <th>alcohol</th>\n",
       "      <th>color</th>\n",
       "    </tr>\n",
       "  </thead>\n",
       "  <tbody>\n",
       "    <tr>\n",
       "      <th>0</th>\n",
       "      <td>7.0</td>\n",
       "      <td>0.27</td>\n",
       "      <td>0.36</td>\n",
       "      <td>20.7</td>\n",
       "      <td>0.045</td>\n",
       "      <td>45.0</td>\n",
       "      <td>170.0</td>\n",
       "      <td>1.0010</td>\n",
       "      <td>3.00</td>\n",
       "      <td>0.45</td>\n",
       "      <td>8.8</td>\n",
       "      <td>white</td>\n",
       "    </tr>\n",
       "    <tr>\n",
       "      <th>1</th>\n",
       "      <td>6.3</td>\n",
       "      <td>0.30</td>\n",
       "      <td>0.34</td>\n",
       "      <td>1.6</td>\n",
       "      <td>0.049</td>\n",
       "      <td>14.0</td>\n",
       "      <td>132.0</td>\n",
       "      <td>0.9940</td>\n",
       "      <td>3.30</td>\n",
       "      <td>0.49</td>\n",
       "      <td>9.5</td>\n",
       "      <td>white</td>\n",
       "    </tr>\n",
       "    <tr>\n",
       "      <th>2</th>\n",
       "      <td>8.1</td>\n",
       "      <td>0.28</td>\n",
       "      <td>0.40</td>\n",
       "      <td>6.9</td>\n",
       "      <td>0.050</td>\n",
       "      <td>30.0</td>\n",
       "      <td>97.0</td>\n",
       "      <td>0.9951</td>\n",
       "      <td>3.26</td>\n",
       "      <td>0.44</td>\n",
       "      <td>10.1</td>\n",
       "      <td>white</td>\n",
       "    </tr>\n",
       "    <tr>\n",
       "      <th>3</th>\n",
       "      <td>7.2</td>\n",
       "      <td>0.23</td>\n",
       "      <td>0.32</td>\n",
       "      <td>8.5</td>\n",
       "      <td>0.058</td>\n",
       "      <td>47.0</td>\n",
       "      <td>186.0</td>\n",
       "      <td>0.9956</td>\n",
       "      <td>3.19</td>\n",
       "      <td>0.40</td>\n",
       "      <td>9.9</td>\n",
       "      <td>white</td>\n",
       "    </tr>\n",
       "    <tr>\n",
       "      <th>4</th>\n",
       "      <td>7.2</td>\n",
       "      <td>0.23</td>\n",
       "      <td>0.32</td>\n",
       "      <td>8.5</td>\n",
       "      <td>0.058</td>\n",
       "      <td>47.0</td>\n",
       "      <td>186.0</td>\n",
       "      <td>0.9956</td>\n",
       "      <td>3.19</td>\n",
       "      <td>0.40</td>\n",
       "      <td>9.9</td>\n",
       "      <td>white</td>\n",
       "    </tr>\n",
       "  </tbody>\n",
       "</table>\n",
       "</div>"
      ],
      "text/plain": [
       "   fixed.acidity  volatile.acidity  citric.acid  residual.sugar  chlorides  \\\n",
       "0            7.0              0.27         0.36            20.7      0.045   \n",
       "1            6.3              0.30         0.34             1.6      0.049   \n",
       "2            8.1              0.28         0.40             6.9      0.050   \n",
       "3            7.2              0.23         0.32             8.5      0.058   \n",
       "4            7.2              0.23         0.32             8.5      0.058   \n",
       "\n",
       "   free.sulfur.dioxide  total.sulfur.dioxide  density    pH  sulphates  \\\n",
       "0                 45.0                 170.0   1.0010  3.00       0.45   \n",
       "1                 14.0                 132.0   0.9940  3.30       0.49   \n",
       "2                 30.0                  97.0   0.9951  3.26       0.44   \n",
       "3                 47.0                 186.0   0.9956  3.19       0.40   \n",
       "4                 47.0                 186.0   0.9956  3.19       0.40   \n",
       "\n",
       "   alcohol  color  \n",
       "0      8.8  white  \n",
       "1      9.5  white  \n",
       "2     10.1  white  \n",
       "3      9.9  white  \n",
       "4      9.9  white  "
      ]
     },
     "execution_count": 86,
     "metadata": {},
     "output_type": "execute_result"
    }
   ],
   "source": [
    "import pandas as pd\n",
    "df = pd.read_csv('wine-quality.csv')\n",
    "df.head()"
   ]
  },
  {
   "cell_type": "markdown",
   "metadata": {
    "cell_content_type": "markdown_selectable",
    "changed": false,
    "deletable": false,
    "editable": false,
    "original-content": "Last time we limited ourselves two properties, because we could visualize the results more easily. Mathematically speaking, however, it makes no difference how many entries our vectors have. We can calculate angles and lengths in all cases. So this time we will use all the columns except `'color'`, because this is not numeric. Each row of data (and therefore each wine) is a separate vector, which we will use to calculate the distances between the data points. \n\nFirst we would like to get a feeling for the distances to be able to say when two wines are similar. Calculate the L2 norm between each wine and the wine with index 0. Remember that you must subtract the corresponding vectors from each other before calculating the length (L2 norm). So the numerical values of the rows describe our start and end point, just like in the 100 meter sprint.\nSave these distances as a list in the variable `distance_idx0` and print the first two values.\n",
    "selectable": true
   },
   "source": [
    "Last time we limited ourselves two properties, because we could visualize the results more easily. Mathematically speaking, however, it makes no difference how many entries our vectors have. We can calculate angles and lengths in all cases. So this time we will use all the columns except `'color'`, because this is not numeric. Each row of data (and therefore each wine) is a separate vector, which we will use to calculate the distances between the data points. \n",
    "\n",
    "First we would like to get a feeling for the distances to be able to say when two wines are similar. Calculate the L2 norm between each wine and the wine with index 0. Remember that you must subtract the corresponding vectors from each other before calculating the length (L2 norm). So the numerical values of the rows describe our start and end point, just like in the 100 meter sprint.\n",
    "Save these distances as a list in the variable `distance_idx0` and print the first two values.\n"
   ]
  },
  {
   "cell_type": "code",
   "execution_count": 87,
   "metadata": {
    "cell_content_type": "code_user",
    "changed": false,
    "deletable": false,
    "editable": true,
    "hint": "Use the following code to calculate the L2 norm of two wines: `norm(df.iloc[i,:-1] - df.iloc[0,: -1])`. `i` is the iterator variable for your loop. The last column is `color`, so we can exclude it in the code.\nFor the loop code you can use e.g. `df.index`.",
    "hint_counter": 1,
    "original-content": "",
    "selectable": true,
    "tags": []
   },
   "outputs": [
    {
     "name": "stdout",
     "output_type": "stream",
     "text": [
      "[0.0, 52.63917709273199]\n",
      "6497\n"
     ]
    }
   ],
   "source": [
    "distance_idx0 = []\n",
    "for i in df.index:\n",
    "    distance_idx0.append( norm(df.iloc[i,:-1] - df.iloc[0,: -1]))\n",
    "\n",
    "print(distance_idx0[:2])\n",
    "print(len(distance_idx0))"
   ]
  },
  {
   "cell_type": "markdown",
   "metadata": {
    "cell_content_type": "markdown_default",
    "changed": false,
    "deletable": false,
    "editable": false,
    "original-content": "The distance from the wine with index 0 to itself is 0. This is to be expected since it is just one wine. The distance to the wine with index 1 is roughly 52.6. Maybe you're wondering what that distance means. We are only familiar with measuring distances in units like meters in two or three dimensions. However, the concept can be applied to as many dimensions as you wish, the calculation remains the same. The distance is always only a number. We use them to determine how similar two data points are. Because the vector between two data points is shorter when they have very similar values. \n\nIt's best for us to get an overview of the distribution of the distances so that we can better evaluate them.\nNow print the distribution of your distances with a histogram with 50 bins.\n",
    "selectable": false
   },
   "source": [
    "The distance from the wine with index 0 to itself is 0. This is to be expected since it is just one wine. The distance to the wine with index 1 is roughly 52.6. Maybe you're wondering what that distance means. We are only familiar with measuring distances in units like meters in two or three dimensions. However, the concept can be applied to as many dimensions as you wish, the calculation remains the same. The distance is always only a number. We use them to determine how similar two data points are. Because the vector between two data points is shorter when they have very similar values. \n",
    "\n",
    "It's best for us to get an overview of the distribution of the distances so that we can better evaluate them.\n",
    "Now print the distribution of your distances with a histogram with 50 bins.\n"
   ]
  },
  {
   "cell_type": "code",
   "execution_count": 88,
   "metadata": {
    "cell_content_type": "code_user",
    "changed": false,
    "deletable": false,
    "editable": true,
    "hint": "For example, import the submodule `matplotlib.pyplot` with its conventional alias and use the `my_axis.hist()` method.",
    "hint_counter": 1,
    "original-content": "",
    "selectable": true,
    "tags": []
   },
   "outputs": [
    {
     "data": {
      "image/png": "[encoded data removed]",
      "text/plain": [
       "<Figure size 432x288 with 1 Axes>"
      ]
     },
     "metadata": {
      "needs_background": "light"
     },
     "output_type": "display_data"
    }
   ],
   "source": [
    "import matplotlib.pyplot as plt\n",
    "fig, ax = plt.subplots(nrows=1,ncols=1)\n",
    "ax.hist(distance_idx0, bins=100)\n",
    "ax.set(xlabel='Similarity based on L2 metric',ylabel='Number of wines');"
   ]
  },
  {
   "cell_type": "markdown",
   "metadata": {
    "cell_content_type": "markdown_default",
    "changed": false,
    "deletable": false,
    "editable": false,
    "original-content": "Our histogram looked something like this:\n\n![del](00-02-03-pic2.png)\n",
    "selectable": false
   },
   "source": [
    "Our histogram looked something like this:\n",
    "\n",
    "![del](00-02-03-pic2.png)\n"
   ]
  },
  {
   "cell_type": "markdown",
   "metadata": {
    "cell_content_type": "markdown_default",
    "changed": false,
    "deletable": false,
    "editable": false,
    "original-content": "We can see that the number of wines starts to increase rapidly with the distance. We could now determine a value on the x-axis that reflects our maximum distance so that a wine is still considered similar. This distribution could however be different for other wines. This could lead to a case where we're not able to recommend any wine at all because we restricted the distance too much. For a product recommendation it makes more sense to always select a fixed number. For example the 10 most similar wines. It's our goal for this lesson to write this function.\n",
    "selectable": false
   },
   "source": [
    "We can see that the number of wines starts to increase rapidly with the distance. We could now determine a value on the x-axis that reflects our maximum distance so that a wine is still considered similar. This distribution could however be different for other wines. This could lead to a case where we're not able to recommend any wine at all because we restricted the distance too much. For a product recommendation it makes more sense to always select a fixed number. For example the 10 most similar wines. It's our goal for this lesson to write this function.\n"
   ]
  },
  {
   "cell_type": "markdown",
   "metadata": {
    "cell_content_type": "markdown_selectable",
    "changed": false,
    "deletable": false,
    "editable": false,
    "original-content": "Use the following steps:\n* Define a function called `wine_recommendation_L2` with the parameters `df_wines`, `wine_id` and `quantity`. `df_wines` is the data frame containing the wine data. `wine_id` is the index of the wine a customer has bought. And `quantity` is the number of wines to be recommended.\n* Define the variable `cols` internally in the function. It contains all the column names of the data except for `color`.\n* Create a loop or *list comprehension* which iterates directly through the row names in `df.index`.\n* It should calculate the distance between each wine and the wine with index `wine_id`. To do this, treat the rows of data in the same way as the start and end points for the 100 meter sprint. The row with index `wine_id` is always the starting point. The loop's iterator variable returns the line of the target point. So subtract them and calculate the L2 norm of the result. Assign these distances as a list to the `distances` variable.\n* Select the smallest distances with `quantity`. Their index corresponds to the wines to be recommended.\n* Use the keyword `return` to output the index of wines to be recommended as a `list` or `array`.\n* Add a docstring to your function. Use 3 double quotation marks for this. The *docstring* should contain a short description of the function and the parameters and output values. You can look at the *docstring* from the last exercise for some inspiration.\n\nYou can use this function header to orientate yourself\n\n```python\ndef wine_recommendation_L2(df_wines, wine_id, quantity):\n    \"\"\"Return positions of wines in df_wines, which are similar to the wine at position wine_id.\n    \n    Use L2 norm as a measure of similarity between two wines.\n    \n    Args:\n        df_wines (DataFrame): Contains the wines quality data.\n        wine_id (int): Position in df_wines of the wine, on which the recommendation is based.\n        quantity (int): Number of recommended wines to return.\n\n    Returns:\n        recommendations (list): Contains the positions of quantity wines that are most similar to wine_id.\n        \n    \"\"\"\n```\n\nTip: The easiest way to select the smallest distances from a list is to use the function `np.argsort()`. It sorts the list in ascending order and returns its indices as an array. The smallest values are therefore at the beginning of the array.\n",
    "selectable": true
   },
   "source": [
    "Use the following steps:\n",
    "* Define a function called `wine_recommendation_L2` with the parameters `df_wines`, `wine_id` and `quantity`. `df_wines` is the data frame containing the wine data. `wine_id` is the index of the wine a customer has bought. And `quantity` is the number of wines to be recommended.\n",
    "* Define the variable `cols` internally in the function. It contains all the column names of the data except for `color`.\n",
    "* Create a loop or *list comprehension* which iterates directly through the row names in `df.index`.\n",
    "* It should calculate the distance between each wine and the wine with index `wine_id`. To do this, treat the rows of data in the same way as the start and end points for the 100 meter sprint. The row with index `wine_id` is always the starting point. The loop's iterator variable returns the line of the target point. So subtract them and calculate the L2 norm of the result. Assign these distances as a list to the `distances` variable.\n",
    "* Select the smallest distances with `quantity`. Their index corresponds to the wines to be recommended.\n",
    "* Use the keyword `return` to output the index of wines to be recommended as a `list` or `array`.\n",
    "* Add a docstring to your function. Use 3 double quotation marks for this. The *docstring* should contain a short description of the function and the parameters and output values. You can look at the *docstring* from the last exercise for some inspiration.\n",
    "\n",
    "You can use this function header to orientate yourself\n",
    "\n",
    "```python\n",
    "def wine_recommendation_L2(df_wines, wine_id, quantity):\n",
    "    \"\"\"Return positions of wines in df_wines, which are similar to the wine at position wine_id.\n",
    "    \n",
    "    Use L2 norm as a measure of similarity between two wines.\n",
    "    \n",
    "    Args:\n",
    "        df_wines (DataFrame): Contains the wines quality data.\n",
    "        wine_id (int): Position in df_wines of the wine, on which the recommendation is based.\n",
    "        quantity (int): Number of recommended wines to return.\n",
    "\n",
    "    Returns:\n",
    "        recommendations (list): Contains the positions of quantity wines that are most similar to wine_id.\n",
    "        \n",
    "    \"\"\"\n",
    "```\n",
    "\n",
    "Tip: The easiest way to select the smallest distances from a list is to use the function `np.argsort()`. It sorts the list in ascending order and returns its indices as an array. The smallest values are therefore at the beginning of the array.\n"
   ]
  },
  {
   "cell_type": "code",
   "execution_count": 89,
   "metadata": {
    "cell_content_type": "code_user",
    "changed": false,
    "deletable": false,
    "editable": true,
    "hint": "You can select all columns apart from `color` with `df_wines.columns[:-1]`.\n Use `df.index` in the loop header to iterate directly through the row names.\n Your code to calculate the distance could look like this: `dist = norm(df_wines.loc[i,cols]-df_wines.loc[wine_id,cols])`, where `i` is your iterator variable and `cols` are the columns you want to use.\n To get the line positions of the smallest AbstÃƒÂ¤nde use the code `recommendations = np.argsort(distances)[:quantity]`.",
    "original-content": "",
    "selectable": true
   },
   "outputs": [],
   "source": [
    "def wine_recommendation_L2(df_wines, wine_id, quantity):\n",
    "    \"\"\"Return positions of wines in df_wines, which are similar to the wine at position wine_id.\n",
    "    \n",
    "    Use L2 norm as a measure of similarity between two wines.\n",
    "    \n",
    "    Args:\n",
    "        df_wines (DataFrame): Contains the wines quality data.\n",
    "        wine_id (int): Position in df_wines of the wine, on which the recommendation is based.\n",
    "        quantity (int): Number of recommended wines to return.\n",
    "\n",
    "    Returns:\n",
    "        recommendations (list): Contains the positions of quantity wines that are most similar to wine_id.\n",
    "        \n",
    "    \"\"\"\n",
    "    cols = df_wines.columns[:-1] \n",
    "    distances = []\n",
    "    for i in range(len(df_wines)):\n",
    "        distances.append( norm( df_wines.loc[i,cols] - df_wines.loc[wine_id,cols] ))\n",
    "    return np.argsort(distances)[:quantity]\n"
   ]
  },
  {
   "cell_type": "markdown",
   "metadata": {
    "cell_content_type": "markdown_selectable",
    "changed": false,
    "deletable": false,
    "editable": false,
    "original-content": "We should now test the function. We can expect that each wine should be most similar to itself. Since we are using all columns this time, the function should only return the position of the wine you enter if you specify `quantity = 1`. Let's try that out for a few wines. Our expectations are listed in the following table:\n\nInput | Output \n---|---\n`wine_id = 0`, `quantity = 1`, `df_wines = df` | `[0]`\n`wine_id = 3200`, `quantity = 1`, `df_wines = df` | `[3200]`\n`wine_id = 6400`, `quantity = 1`, `df_wines = df` | `[6400]`\n\nPrint the output values of the given with the different argument values, this may take a few seconds. Did you receive the output you were expecting?\n",
    "selectable": true
   },
   "source": [
    "We should now test the function. We can expect that each wine should be most similar to itself. Since we are using all columns this time, the function should only return the position of the wine you enter if you specify `quantity = 1`. Let's try that out for a few wines. Our expectations are listed in the following table:\n",
    "\n",
    "Input | Output \n",
    "---|---\n",
    "`wine_id = 0`, `quantity = 1`, `df_wines = df` | `[0]`\n",
    "`wine_id = 3200`, `quantity = 1`, `df_wines = df` | `[3200]`\n",
    "`wine_id = 6400`, `quantity = 1`, `df_wines = df` | `[6400]`\n",
    "\n",
    "Print the output values of the given with the different argument values, this may take a few seconds. Did you receive the output you were expecting?\n"
   ]
  },
  {
   "cell_type": "code",
   "execution_count": 90,
   "metadata": {
    "cell_content_type": "code_user",
    "changed": false,
    "deletable": false,
    "editable": true,
    "hint": "Try using the code `print(wine_recommendation_L2(df_wines=df, wine_id=0, quantity = 1))`.",
    "original-content": "",
    "selectable": true
   },
   "outputs": [
    {
     "data": {
      "text/plain": [
       "array([6400])"
      ]
     },
     "execution_count": 90,
     "metadata": {},
     "output_type": "execute_result"
    }
   ],
   "source": [
    "wine_recommendation_L2(wine_id = 0, quantity = 1, df_wines = df)\n",
    "wine_recommendation_L2(wine_id = 3200, quantity = 1, df_wines = df)\n",
    "wine_recommendation_L2(wine_id = 6400, quantity = 1, df_wines = df)"
   ]
  },
  {
   "cell_type": "markdown",
   "metadata": {
    "cell_content_type": "markdown_selectable",
    "changed": false,
    "deletable": false,
    "editable": false,
    "original-content": "After the small test we can now return to making actual recommendations. Which wines do you see as the output if you pass `wine_id = 0` and `quantity = 10`? Store the recommendations as `recommendation_0` and `df.loc[recommendation_0, :]`. What color are the wines?\n",
    "selectable": true
   },
   "source": [
    "After the small test we can now return to making actual recommendations. Which wines do you see as the output if you pass `wine_id = 0` and `quantity = 10`? Store the recommendations as `recommendation_0` and `df.loc[recommendation_0, :]`. What color are the wines?\n"
   ]
  },
  {
   "cell_type": "code",
   "execution_count": 91,
   "metadata": {
    "cell_content_type": "code_user",
    "changed": false,
    "deletable": false,
    "editable": true,
    "hint": "The 10 most similar wines that we receive have the indices `[0, 7, 103, 1487, 2269, 191, 182, 14, 813, 773]`.\n * If all your indices are one lower, then you went through `wine_id` in its entirety in the loop. Instead of that, try assigning the wine with `wine_id` a greater distance in an `if` statement. This keeps the indices the same, but `wine_id` will not be recommended.",
    "hint_counter": 0,
    "original-content": "",
    "selectable": true
   },
   "outputs": [
    {
     "data": {
      "text/html": [
       "<div>\n",
       "<style scoped>\n",
       "    .dataframe tbody tr th:only-of-type {\n",
       "        vertical-align: middle;\n",
       "    }\n",
       "\n",
       "    .dataframe tbody tr th {\n",
       "        vertical-align: top;\n",
       "    }\n",
       "\n",
       "    .dataframe thead th {\n",
       "        text-align: right;\n",
       "    }\n",
       "</style>\n",
       "<table border=\"1\" class=\"dataframe\">\n",
       "  <thead>\n",
       "    <tr style=\"text-align: right;\">\n",
       "      <th></th>\n",
       "      <th>fixed.acidity</th>\n",
       "      <th>volatile.acidity</th>\n",
       "      <th>citric.acid</th>\n",
       "      <th>residual.sugar</th>\n",
       "      <th>chlorides</th>\n",
       "      <th>free.sulfur.dioxide</th>\n",
       "      <th>total.sulfur.dioxide</th>\n",
       "      <th>density</th>\n",
       "      <th>pH</th>\n",
       "      <th>sulphates</th>\n",
       "      <th>alcohol</th>\n",
       "      <th>color</th>\n",
       "    </tr>\n",
       "  </thead>\n",
       "  <tbody>\n",
       "    <tr>\n",
       "      <th>0</th>\n",
       "      <td>7.0</td>\n",
       "      <td>0.270</td>\n",
       "      <td>0.36</td>\n",
       "      <td>20.70</td>\n",
       "      <td>0.045</td>\n",
       "      <td>45.0</td>\n",
       "      <td>170.0</td>\n",
       "      <td>1.00100</td>\n",
       "      <td>3.00</td>\n",
       "      <td>0.45</td>\n",
       "      <td>8.8</td>\n",
       "      <td>white</td>\n",
       "    </tr>\n",
       "    <tr>\n",
       "      <th>7</th>\n",
       "      <td>7.0</td>\n",
       "      <td>0.270</td>\n",
       "      <td>0.36</td>\n",
       "      <td>20.70</td>\n",
       "      <td>0.045</td>\n",
       "      <td>45.0</td>\n",
       "      <td>170.0</td>\n",
       "      <td>1.00100</td>\n",
       "      <td>3.00</td>\n",
       "      <td>0.45</td>\n",
       "      <td>8.8</td>\n",
       "      <td>white</td>\n",
       "    </tr>\n",
       "    <tr>\n",
       "      <th>103</th>\n",
       "      <td>7.5</td>\n",
       "      <td>0.305</td>\n",
       "      <td>0.40</td>\n",
       "      <td>18.90</td>\n",
       "      <td>0.059</td>\n",
       "      <td>44.0</td>\n",
       "      <td>170.0</td>\n",
       "      <td>1.00000</td>\n",
       "      <td>2.99</td>\n",
       "      <td>0.46</td>\n",
       "      <td>9.0</td>\n",
       "      <td>white</td>\n",
       "    </tr>\n",
       "    <tr>\n",
       "      <th>1487</th>\n",
       "      <td>6.7</td>\n",
       "      <td>0.250</td>\n",
       "      <td>0.74</td>\n",
       "      <td>19.40</td>\n",
       "      <td>0.054</td>\n",
       "      <td>44.0</td>\n",
       "      <td>169.0</td>\n",
       "      <td>1.00040</td>\n",
       "      <td>3.51</td>\n",
       "      <td>0.45</td>\n",
       "      <td>9.8</td>\n",
       "      <td>white</td>\n",
       "    </tr>\n",
       "    <tr>\n",
       "      <th>2269</th>\n",
       "      <td>8.5</td>\n",
       "      <td>0.190</td>\n",
       "      <td>0.56</td>\n",
       "      <td>17.30</td>\n",
       "      <td>0.055</td>\n",
       "      <td>47.0</td>\n",
       "      <td>169.0</td>\n",
       "      <td>1.00047</td>\n",
       "      <td>3.07</td>\n",
       "      <td>0.67</td>\n",
       "      <td>9.3</td>\n",
       "      <td>white</td>\n",
       "    </tr>\n",
       "    <tr>\n",
       "      <th>191</th>\n",
       "      <td>6.8</td>\n",
       "      <td>0.280</td>\n",
       "      <td>0.40</td>\n",
       "      <td>22.00</td>\n",
       "      <td>0.048</td>\n",
       "      <td>48.0</td>\n",
       "      <td>167.0</td>\n",
       "      <td>1.00100</td>\n",
       "      <td>2.93</td>\n",
       "      <td>0.50</td>\n",
       "      <td>8.7</td>\n",
       "      <td>white</td>\n",
       "    </tr>\n",
       "    <tr>\n",
       "      <th>182</th>\n",
       "      <td>6.8</td>\n",
       "      <td>0.280</td>\n",
       "      <td>0.40</td>\n",
       "      <td>22.00</td>\n",
       "      <td>0.048</td>\n",
       "      <td>48.0</td>\n",
       "      <td>167.0</td>\n",
       "      <td>1.00100</td>\n",
       "      <td>2.93</td>\n",
       "      <td>0.50</td>\n",
       "      <td>8.7</td>\n",
       "      <td>white</td>\n",
       "    </tr>\n",
       "    <tr>\n",
       "      <th>14</th>\n",
       "      <td>8.3</td>\n",
       "      <td>0.420</td>\n",
       "      <td>0.62</td>\n",
       "      <td>19.25</td>\n",
       "      <td>0.040</td>\n",
       "      <td>41.0</td>\n",
       "      <td>172.0</td>\n",
       "      <td>1.00020</td>\n",
       "      <td>2.98</td>\n",
       "      <td>0.67</td>\n",
       "      <td>9.7</td>\n",
       "      <td>white</td>\n",
       "    </tr>\n",
       "    <tr>\n",
       "      <th>813</th>\n",
       "      <td>6.5</td>\n",
       "      <td>0.260</td>\n",
       "      <td>0.32</td>\n",
       "      <td>16.50</td>\n",
       "      <td>0.045</td>\n",
       "      <td>44.0</td>\n",
       "      <td>166.0</td>\n",
       "      <td>1.00000</td>\n",
       "      <td>3.38</td>\n",
       "      <td>0.46</td>\n",
       "      <td>9.5</td>\n",
       "      <td>white</td>\n",
       "    </tr>\n",
       "    <tr>\n",
       "      <th>773</th>\n",
       "      <td>6.1</td>\n",
       "      <td>0.270</td>\n",
       "      <td>0.30</td>\n",
       "      <td>16.70</td>\n",
       "      <td>0.039</td>\n",
       "      <td>49.0</td>\n",
       "      <td>172.0</td>\n",
       "      <td>0.99985</td>\n",
       "      <td>3.40</td>\n",
       "      <td>0.45</td>\n",
       "      <td>9.4</td>\n",
       "      <td>white</td>\n",
       "    </tr>\n",
       "  </tbody>\n",
       "</table>\n",
       "</div>"
      ],
      "text/plain": [
       "      fixed.acidity  volatile.acidity  citric.acid  residual.sugar  chlorides  \\\n",
       "0               7.0             0.270         0.36           20.70      0.045   \n",
       "7               7.0             0.270         0.36           20.70      0.045   \n",
       "103             7.5             0.305         0.40           18.90      0.059   \n",
       "1487            6.7             0.250         0.74           19.40      0.054   \n",
       "2269            8.5             0.190         0.56           17.30      0.055   \n",
       "191             6.8             0.280         0.40           22.00      0.048   \n",
       "182             6.8             0.280         0.40           22.00      0.048   \n",
       "14              8.3             0.420         0.62           19.25      0.040   \n",
       "813             6.5             0.260         0.32           16.50      0.045   \n",
       "773             6.1             0.270         0.30           16.70      0.039   \n",
       "\n",
       "      free.sulfur.dioxide  total.sulfur.dioxide  density    pH  sulphates  \\\n",
       "0                    45.0                 170.0  1.00100  3.00       0.45   \n",
       "7                    45.0                 170.0  1.00100  3.00       0.45   \n",
       "103                  44.0                 170.0  1.00000  2.99       0.46   \n",
       "1487                 44.0                 169.0  1.00040  3.51       0.45   \n",
       "2269                 47.0                 169.0  1.00047  3.07       0.67   \n",
       "191                  48.0                 167.0  1.00100  2.93       0.50   \n",
       "182                  48.0                 167.0  1.00100  2.93       0.50   \n",
       "14                   41.0                 172.0  1.00020  2.98       0.67   \n",
       "813                  44.0                 166.0  1.00000  3.38       0.46   \n",
       "773                  49.0                 172.0  0.99985  3.40       0.45   \n",
       "\n",
       "      alcohol  color  \n",
       "0         8.8  white  \n",
       "7         8.8  white  \n",
       "103       9.0  white  \n",
       "1487      9.8  white  \n",
       "2269      9.3  white  \n",
       "191       8.7  white  \n",
       "182       8.7  white  \n",
       "14        9.7  white  \n",
       "813       9.5  white  \n",
       "773       9.4  white  "
      ]
     },
     "execution_count": 91,
     "metadata": {},
     "output_type": "execute_result"
    }
   ],
   "source": [
    "recommendation_0 = wine_recommendation_L2(wine_id = 0, quantity = 10, df_wines = df)\n",
    "df.loc[recommendation_0, :]"
   ]
  },
  {
   "cell_type": "markdown",
   "metadata": {
    "cell_content_type": "markdown_selectable",
    "changed": false,
    "deletable": false,
    "editable": false,
    "original-content": "We only saw white wines as a result. But that was also the case with cosine similarity. What does it look like for `wine_id = 6400`?\n",
    "selectable": true
   },
   "source": [
    "We only saw white wines as a result. But that was also the case with cosine similarity. What does it look like for `wine_id = 6400`?\n"
   ]
  },
  {
   "cell_type": "code",
   "execution_count": 92,
   "metadata": {
    "cell_content_type": "code_user",
    "changed": false,
    "deletable": false,
    "editable": true,
    "hint": "The 6 most similar wines that we receive have the indices `[6400, 1468, 5320, 5322, 4904, 6081]`.\n * If all your indices are one lower, then you went through `wine_id` in its entirety in the loop. This means your your series is shorter by one value. Instead of that, try assigning the wine with `wine_id` a greater distance in an `if` statement. This keeps the indices the same, but `wine_id` will not be recommended.",
    "hint_counter": 1,
    "original-content": "",
    "selectable": true,
    "tags": []
   },
   "outputs": [
    {
     "data": {
      "text/html": [
       "<div>\n",
       "<style scoped>\n",
       "    .dataframe tbody tr th:only-of-type {\n",
       "        vertical-align: middle;\n",
       "    }\n",
       "\n",
       "    .dataframe tbody tr th {\n",
       "        vertical-align: top;\n",
       "    }\n",
       "\n",
       "    .dataframe thead th {\n",
       "        text-align: right;\n",
       "    }\n",
       "</style>\n",
       "<table border=\"1\" class=\"dataframe\">\n",
       "  <thead>\n",
       "    <tr style=\"text-align: right;\">\n",
       "      <th></th>\n",
       "      <th>fixed.acidity</th>\n",
       "      <th>volatile.acidity</th>\n",
       "      <th>citric.acid</th>\n",
       "      <th>residual.sugar</th>\n",
       "      <th>chlorides</th>\n",
       "      <th>free.sulfur.dioxide</th>\n",
       "      <th>total.sulfur.dioxide</th>\n",
       "      <th>density</th>\n",
       "      <th>pH</th>\n",
       "      <th>sulphates</th>\n",
       "      <th>alcohol</th>\n",
       "      <th>color</th>\n",
       "    </tr>\n",
       "  </thead>\n",
       "  <tbody>\n",
       "    <tr>\n",
       "      <th>6400</th>\n",
       "      <td>7.3</td>\n",
       "      <td>0.585</td>\n",
       "      <td>0.18</td>\n",
       "      <td>2.4</td>\n",
       "      <td>0.078</td>\n",
       "      <td>15.0</td>\n",
       "      <td>60.0</td>\n",
       "      <td>0.99638</td>\n",
       "      <td>3.31</td>\n",
       "      <td>0.54</td>\n",
       "      <td>9.8</td>\n",
       "      <td>red</td>\n",
       "    </tr>\n",
       "    <tr>\n",
       "      <th>1468</th>\n",
       "      <td>6.5</td>\n",
       "      <td>0.240</td>\n",
       "      <td>0.24</td>\n",
       "      <td>1.6</td>\n",
       "      <td>0.046</td>\n",
       "      <td>15.0</td>\n",
       "      <td>60.0</td>\n",
       "      <td>0.99280</td>\n",
       "      <td>3.19</td>\n",
       "      <td>0.39</td>\n",
       "      <td>9.8</td>\n",
       "      <td>white</td>\n",
       "    </tr>\n",
       "    <tr>\n",
       "      <th>5322</th>\n",
       "      <td>7.7</td>\n",
       "      <td>0.960</td>\n",
       "      <td>0.20</td>\n",
       "      <td>2.0</td>\n",
       "      <td>0.047</td>\n",
       "      <td>15.0</td>\n",
       "      <td>60.0</td>\n",
       "      <td>0.99550</td>\n",
       "      <td>3.36</td>\n",
       "      <td>0.44</td>\n",
       "      <td>10.9</td>\n",
       "      <td>red</td>\n",
       "    </tr>\n",
       "    <tr>\n",
       "      <th>5320</th>\n",
       "      <td>7.7</td>\n",
       "      <td>0.960</td>\n",
       "      <td>0.20</td>\n",
       "      <td>2.0</td>\n",
       "      <td>0.047</td>\n",
       "      <td>15.0</td>\n",
       "      <td>60.0</td>\n",
       "      <td>0.99550</td>\n",
       "      <td>3.36</td>\n",
       "      <td>0.44</td>\n",
       "      <td>10.9</td>\n",
       "      <td>red</td>\n",
       "    </tr>\n",
       "    <tr>\n",
       "      <th>4904</th>\n",
       "      <td>7.9</td>\n",
       "      <td>0.600</td>\n",
       "      <td>0.06</td>\n",
       "      <td>1.6</td>\n",
       "      <td>0.069</td>\n",
       "      <td>15.0</td>\n",
       "      <td>59.0</td>\n",
       "      <td>0.99640</td>\n",
       "      <td>3.30</td>\n",
       "      <td>0.46</td>\n",
       "      <td>9.4</td>\n",
       "      <td>red</td>\n",
       "    </tr>\n",
       "    <tr>\n",
       "      <th>6081</th>\n",
       "      <td>6.8</td>\n",
       "      <td>0.660</td>\n",
       "      <td>0.07</td>\n",
       "      <td>1.6</td>\n",
       "      <td>0.070</td>\n",
       "      <td>16.0</td>\n",
       "      <td>61.0</td>\n",
       "      <td>0.99572</td>\n",
       "      <td>3.29</td>\n",
       "      <td>0.60</td>\n",
       "      <td>9.3</td>\n",
       "      <td>red</td>\n",
       "    </tr>\n",
       "    <tr>\n",
       "      <th>4735</th>\n",
       "      <td>6.0</td>\n",
       "      <td>0.170</td>\n",
       "      <td>0.36</td>\n",
       "      <td>1.7</td>\n",
       "      <td>0.042</td>\n",
       "      <td>14.0</td>\n",
       "      <td>61.0</td>\n",
       "      <td>0.99144</td>\n",
       "      <td>3.22</td>\n",
       "      <td>0.54</td>\n",
       "      <td>10.8</td>\n",
       "      <td>white</td>\n",
       "    </tr>\n",
       "    <tr>\n",
       "      <th>4910</th>\n",
       "      <td>5.6</td>\n",
       "      <td>0.615</td>\n",
       "      <td>0.00</td>\n",
       "      <td>1.6</td>\n",
       "      <td>0.089</td>\n",
       "      <td>16.0</td>\n",
       "      <td>59.0</td>\n",
       "      <td>0.99430</td>\n",
       "      <td>3.58</td>\n",
       "      <td>0.52</td>\n",
       "      <td>9.9</td>\n",
       "      <td>red</td>\n",
       "    </tr>\n",
       "    <tr>\n",
       "      <th>1349</th>\n",
       "      <td>9.2</td>\n",
       "      <td>0.350</td>\n",
       "      <td>0.39</td>\n",
       "      <td>0.9</td>\n",
       "      <td>0.042</td>\n",
       "      <td>15.0</td>\n",
       "      <td>61.0</td>\n",
       "      <td>0.99240</td>\n",
       "      <td>2.96</td>\n",
       "      <td>0.28</td>\n",
       "      <td>10.4</td>\n",
       "      <td>white</td>\n",
       "    </tr>\n",
       "    <tr>\n",
       "      <th>5590</th>\n",
       "      <td>8.6</td>\n",
       "      <td>0.490</td>\n",
       "      <td>0.51</td>\n",
       "      <td>2.0</td>\n",
       "      <td>0.422</td>\n",
       "      <td>16.0</td>\n",
       "      <td>62.0</td>\n",
       "      <td>0.99790</td>\n",
       "      <td>3.03</td>\n",
       "      <td>1.17</td>\n",
       "      <td>9.0</td>\n",
       "      <td>red</td>\n",
       "    </tr>\n",
       "  </tbody>\n",
       "</table>\n",
       "</div>"
      ],
      "text/plain": [
       "      fixed.acidity  volatile.acidity  citric.acid  residual.sugar  chlorides  \\\n",
       "6400            7.3             0.585         0.18             2.4      0.078   \n",
       "1468            6.5             0.240         0.24             1.6      0.046   \n",
       "5322            7.7             0.960         0.20             2.0      0.047   \n",
       "5320            7.7             0.960         0.20             2.0      0.047   \n",
       "4904            7.9             0.600         0.06             1.6      0.069   \n",
       "6081            6.8             0.660         0.07             1.6      0.070   \n",
       "4735            6.0             0.170         0.36             1.7      0.042   \n",
       "4910            5.6             0.615         0.00             1.6      0.089   \n",
       "1349            9.2             0.350         0.39             0.9      0.042   \n",
       "5590            8.6             0.490         0.51             2.0      0.422   \n",
       "\n",
       "      free.sulfur.dioxide  total.sulfur.dioxide  density    pH  sulphates  \\\n",
       "6400                 15.0                  60.0  0.99638  3.31       0.54   \n",
       "1468                 15.0                  60.0  0.99280  3.19       0.39   \n",
       "5322                 15.0                  60.0  0.99550  3.36       0.44   \n",
       "5320                 15.0                  60.0  0.99550  3.36       0.44   \n",
       "4904                 15.0                  59.0  0.99640  3.30       0.46   \n",
       "6081                 16.0                  61.0  0.99572  3.29       0.60   \n",
       "4735                 14.0                  61.0  0.99144  3.22       0.54   \n",
       "4910                 16.0                  59.0  0.99430  3.58       0.52   \n",
       "1349                 15.0                  61.0  0.99240  2.96       0.28   \n",
       "5590                 16.0                  62.0  0.99790  3.03       1.17   \n",
       "\n",
       "      alcohol  color  \n",
       "6400      9.8    red  \n",
       "1468      9.8  white  \n",
       "5322     10.9    red  \n",
       "5320     10.9    red  \n",
       "4904      9.4    red  \n",
       "6081      9.3    red  \n",
       "4735     10.8  white  \n",
       "4910      9.9    red  \n",
       "1349     10.4  white  \n",
       "5590      9.0    red  "
      ]
     },
     "execution_count": 92,
     "metadata": {},
     "output_type": "execute_result"
    }
   ],
   "source": [
    "recommendation_0 = wine_recommendation_L2(wine_id = 6400, quantity = 10, df_wines = df)\n",
    "df.loc[recommendation_0, :]"
   ]
  },
  {
   "cell_type": "markdown",
   "metadata": {
    "cell_content_type": "markdown_default",
    "changed": false,
    "deletable": false,
    "editable": false,
    "original-content": "This time it contains both red and white wines. So there is also an overlap with the L2 norm as a similarity. Apparently, some red and white wines are very similar.\n",
    "selectable": false
   },
   "source": [
    "This time it contains both red and white wines. So there is also an overlap with the L2 norm as a similarity. Apparently, some red and white wines are very similar.\n"
   ]
  },
  {
   "cell_type": "markdown",
   "metadata": {
    "cell_content_type": "markdown_selectable",
    "changed": false,
    "deletable": false,
    "editable": false,
    "messageType": "beachte",
    "original-content": "**Important:** If you look more closely at the properties of the recommended wines, you can see that properties with low numerical values such as `chlorides` vary a lot more more, relative to their value, than properties with high numerical values, such as `total.sulfur.dioxide`. This is because all deviations of properties are treated equally for the L2 norm, regardless of how big the deviation is relative to the absolute values. The relative change of `chlorides` therefore holds less weight than that of `total.sulfur.dioxide`. Specifically: if you compare the largest value with the smallest value, you will notice that the largest value of `chlorides` is a multiple of the smallest value. In comparison, `total.sulfur.dioxide` only varies by a few percent. Depending on how the relative change in these properties affects the taste, it can distort the similarity calculation. We will show you how to solve this problem in the next module. The methods used to recommend products can then still be applied in the same way.\n",
    "selectable": true
   },
   "source": [
    "**Important:** If you look more closely at the properties of the recommended wines, you can see that properties with low numerical values such as `chlorides` vary a lot more more, relative to their value, than properties with high numerical values, such as `total.sulfur.dioxide`. This is because all deviations of properties are treated equally for the L2 norm, regardless of how big the deviation is relative to the absolute values. The relative change of `chlorides` therefore holds less weight than that of `total.sulfur.dioxide`. Specifically: if you compare the largest value with the smallest value, you will notice that the largest value of `chlorides` is a multiple of the smallest value. In comparison, `total.sulfur.dioxide` only varies by a few percent. Depending on how the relative change in these properties affects the taste, it can distort the similarity calculation. We will show you how to solve this problem in the next module. The methods used to recommend products can then still be applied in the same way.\n"
   ]
  },
  {
   "cell_type": "markdown",
   "metadata": {
    "cell_content_type": "markdown_default",
    "changed": false,
    "deletable": false,
    "editable": false,
    "messageType": "glueckwunsch",
    "original-content": "**Congratulations**: You have learned another method to classify products. Now you already know how to use the cosine similarity and the L2 norm to evaluate similarities. These methods are based solely on linear algebra. Now the sommeliers of 1001Wines are also satisfied. The company says thank you!\n",
    "selectable": false
   },
   "source": [
    "**Congratulations**: You have learned another method to classify products. Now you already know how to use the cosine similarity and the L2 norm to evaluate similarities. These methods are based solely on linear algebra. Now the sommeliers of 1001Wines are also satisfied. The company says thank you!\n"
   ]
  },
  {
   "cell_type": "markdown",
   "metadata": {
    "cell_content_type": "markdown_selectable",
    "changed": false,
    "deletable": false,
    "editable": false,
    "original-content": "You have now learned 2 methods for calculating the similarity of products: the angle between the vectors of two data points and the Euclidean distance between two data points. If we apply these two similarities to our wines, we get the following data points as similar wines to the wine at position 6400, for example.\n\n![Comparison of similarities with cosine and L2 norm](00-02-03-pic3.png)\n\nFor the visualization we only used the two columns `'residual.sugar'` and `'sulphates'`. On the left side we see that all points are on a straight line. This is because the angle is very narrow, so the relationships between of the columns are relatively constant.\nThe recommended points are in a circle on the right side. This is skewed into an ellipse in the y-direction because the scale of the y-axis is smaller in the display.\n\nBoth measures are some form of distance between the data points. Once this distance is given as an angle and once as the distance we are used to. There are many other measures that can be used to define distances between data points. Which measure you need always depends on which data you have and what you want to achieve.\n",
    "selectable": true
   },
   "source": [
    "You have now learned 2 methods for calculating the similarity of products: the angle between the vectors of two data points and the Euclidean distance between two data points. If we apply these two similarities to our wines, we get the following data points as similar wines to the wine at position 6400, for example.\n",
    "\n",
    "![Comparison of similarities with cosine and L2 norm](00-02-03-pic3.png)\n",
    "\n",
    "For the visualization we only used the two columns `'residual.sugar'` and `'sulphates'`. On the left side we see that all points are on a straight line. This is because the angle is very narrow, so the relationships between of the columns are relatively constant.\n",
    "The recommended points are in a circle on the right side. This is skewed into an ellipse in the y-direction because the scale of the y-axis is smaller in the display.\n",
    "\n",
    "Both measures are some form of distance between the data points. Once this distance is given as an angle and once as the distance we are used to. There are many other measures that can be used to define distances between data points. Which measure you need always depends on which data you have and what you want to achieve.\n"
   ]
  },
  {
   "cell_type": "markdown",
   "metadata": {
    "cell_content_type": "markdown_selectable",
    "changed": false,
    "deletable": false,
    "editable": false,
    "original-content": "## Additional metrics\n\nThe L2 norm we learned in this lesson is a representative of a whole family of metrics called Lp norms. The general formula for these metrics is\n\n$L^p(\\vec{x})= \\left(\\sum_i^N |x_i|^{p}\\right)^{\\frac{1}{p}},$\n\nwhere the absolute values of the components are taken to the power of $p$, added up and then the $p$-th root is taken. If you set $p=2$, you get the L2 norm. \n\n$L^2=\\sqrt{\\sum_i^N |x_i|^{2}}$\n\nAs an example, let's try calculating that for the vector `vec`. It is defined as follows:\n\n$\\vec{vec} = \\left(\\begin{array}{c} 2 \\\\ 1 \\end{array}\\right)$\n\nIn Python, this vector `vec` is defined as follows:\n```\nvec = [2, 1]\n```\n\nFor the L2 norm we get the following for the vector `vec`:\n$L^2=\\sqrt{|2|^2 + |1|^2}=\\sqrt{4 + 1}\\approx 2.3$\n\nFor $p=1$, we get another popular norm, the L1 norm. \n\n$L^1=\\sum_i^N |x_i|$\n\nHere the absolute values of the components of the vector are simply added up. It's simple to interpret. If you imagine a 2-dimensional, rectangular road network, the L1 norm of a vector on this grid describes the distance a taxi would have to travel in this road network to get from one end of the vector to the other end. It is therefore also called taxicab or Manhattan norm. \nFor the vector `vec`, we get\n\n$L^1= |2|+|1|=3$\n",
    "selectable": true,
    "tags": []
   },
   "source": [
    "## Additional metrics\n",
    "\n",
    "The L2 norm we learned in this lesson is a representative of a whole family of metrics called Lp norms. The general formula for these metrics is\n",
    "\n",
    "$L^p(\\vec{x})= \\left(\\sum_i^N |x_i|^{p}\\right)^{\\frac{1}{p}},$\n",
    "\n",
    "where the absolute values of the components are taken to the power of $p$, added up and then the $p$-th root is taken. If you set $p=2$, you get the L2 norm. \n",
    "\n",
    "$L^2=\\sqrt{\\sum_i^N |x_i|^{2}}$\n",
    "\n",
    "As an example, let's try calculating that for the vector `vec`. It is defined as follows:\n",
    "\n",
    "$\\vec{vec} = \\left(\\begin{array}{c} 2 \\\\ 1 \\end{array}\\right)$\n",
    "\n",
    "In Python, this vector `vec` is defined as follows:\n",
    "```\n",
    "vec = [2, 1]\n",
    "```\n",
    "\n",
    "For the L2 norm we get the following for the vector `vec`:\n",
    "$L^2=\\sqrt{|2|^2 + |1|^2}=\\sqrt{4 + 1}\\approx 2.3$\n",
    "\n",
    "For $p=1$, we get another popular norm, the L1 norm. \n",
    "\n",
    "$L^1=\\sum_i^N |x_i|$\n",
    "\n",
    "Here the absolute values of the components of the vector are simply added up. It's simple to interpret. If you imagine a 2-dimensional, rectangular road network, the L1 norm of a vector on this grid describes the distance a taxi would have to travel in this road network to get from one end of the vector to the other end. It is therefore also called taxicab or Manhattan norm. \n",
    "For the vector `vec`, we get\n",
    "\n",
    "$L^1= |2|+|1|=3$\n"
   ]
  },
  {
   "cell_type": "markdown",
   "metadata": {
    "cell_content_type": "markdown_default",
    "changed": false,
    "deletable": false,
    "editable": false,
    "original-content": "To practice, now write a short Python function *lp_norm(vec,p)*. This should have a vector as an input and the $p$ value for the corresponding metric. The function should return the value of the $Lp$ norm for the corresponding vector.\n",
    "selectable": false
   },
   "source": [
    "To practice, now write a short Python function *lp_norm(vec,p)*. This should have a vector as an input and the $p$ value for the corresponding metric. The function should return the value of the $Lp$ norm for the corresponding vector.\n"
   ]
  },
  {
   "cell_type": "code",
   "execution_count": 93,
   "metadata": {
    "cell_content_type": "code_user",
    "changed": false,
    "deletable": false,
    "editable": true,
    "hint": "For example, use a list comprehension to multiply the components individually. You can calculate the p-th power of x in Python with `x ** p`. With `np.sum()` you can sum up the components of a list. In this case you should make sure that you have imported `numpy` as `np`.",
    "hint_counter": 1,
    "original-content": "",
    "selectable": true,
    "tags": []
   },
   "outputs": [
    {
     "name": "stdout",
     "output_type": "stream",
     "text": [
      "L1 norm for vec:  2.23606797749979\n",
      "L2 norm for vec:  3.0\n",
      "L1 norm for vec:  2.23606797749979\n",
      "L2 norm for vec:  3.0\n"
     ]
    }
   ],
   "source": [
    "import numpy as np\n",
    "def lp_norm( vec, p):\n",
    "    correlation = 0\n",
    "    for i in range(0, len(vec)):\n",
    "        correlation += abs(vec[i])**p\n",
    "    return correlation**(1/p)\n",
    "\n",
    "print('L1 norm for vec: ', lp_norm(vec=[2,1], p=2))\n",
    "print('L2 norm for vec: ', lp_norm(vec=[2,1], p=1))\n",
    "\n",
    "def lp_norm2(vec, p):\n",
    "    vec_p = [abs(x)**p for x in vec]\n",
    "    return (np.sum(vec_p))**(1/p)\n",
    "\n",
    "print('L1 norm for vec: ', lp_norm2(vec=[2,1], p=2))\n",
    "print('L2 norm for vec: ', lp_norm2(vec=[2,1], p=1))"
   ]
  },
  {
   "cell_type": "markdown",
   "metadata": {
    "cell_content_type": "markdown_default",
    "changed": false,
    "deletable": false,
    "editable": false,
    "original-content": "Now we want to get an idea of how the $Lp$ metrics are related to each other. For this we'll look at how the $Lp$ norm of a vector behaves when we vary $p$. Plot the $Lp$ of the vector *vec* as a function of $p$ for integer values between 1 and 9.\n",
    "selectable": false
   },
   "source": [
    "Now we want to get an idea of how the $Lp$ metrics are related to each other. For this we'll look at how the $Lp$ norm of a vector behaves when we vary $p$. Plot the $Lp$ of the vector *vec* as a function of $p$ for integer values between 1 and 9.\n"
   ]
  },
  {
   "cell_type": "code",
   "execution_count": 94,
   "metadata": {
    "cell_content_type": "code_user",
    "changed": false,
    "deletable": false,
    "editable": true,
    "hint": "First add the vector vec: `vec = [2, 1]`. Then, for example, start by using the `range()` function to create a list of integers between 1 and 9. Store the result in the variable `x`. Now you can create a list with a list comprehension, which stores the Lp norm of the vector `vec` for every value in x. You can call this list `y`. Then you can import `matplotlib.pyplot as plt` and create the plot with `plt.plot(x,y)`.",
    "hint_counter": 2,
    "original-content": "",
    "selectable": true,
    "tags": []
   },
   "outputs": [
    {
     "data": {
      "text/plain": [
       "[<matplotlib.lines.Line2D at 0x7f23406be940>]"
      ]
     },
     "execution_count": 94,
     "metadata": {},
     "output_type": "execute_result"
    },
    {
     "data": {
      "image/png": "[encoded data removed]",
      "text/plain": [
       "<Figure size 432x288 with 1 Axes>"
      ]
     },
     "metadata": {
      "needs_background": "light"
     },
     "output_type": "display_data"
    }
   ],
   "source": [
    "vec = [2, 1]\n",
    "x = range(1,10)\n",
    "y = [lp_norm(vec, i) for i in x]\n",
    "\n",
    "plt.plot(x,y)"
   ]
  },
  {
   "cell_type": "markdown",
   "metadata": {
    "cell_content_type": "markdown_default",
    "changed": false,
    "deletable": false,
    "editable": false,
    "original-content": "Your plot should look something like this:\n\n\n![Lp norms](00-02-04-pic5.png)\n\n\nFor $p=1$ we get the sum of the all the component values. $3$ appears multiple times here. For $p=2$ we get the Euclidean length of the vector. This is always smaller or equal to the $p=1$ norm. This is a consequence of the triangle inequality. The case in two dimensions is an illustrative example. If we look at any vector with coordinates $[x,y]$, we can imagine it as the vector sum of the two vectors $[x,0]$ and $[0,y]$. The three vectors then form a right-angled triangle (see picture). \n\n![Lp norms 2](00-02-04-pic6.png)\n\nThe two short sides each have a length $|x|$ and $|y|$, whereas the hypotenuse has a length of $\\sqrt{|x|^2+|y|^2}$. And it is $|x|+|y|\\ge \\sqrt{|x|^2+|y|^2}$, and $L^1([x,y])\\ge L^2([x,y])$ accordingly. In fact, the $L^p$ norms for a fixed vector all decrease monotonously with increasing $p$, which we can see well in the graph above. We can also identify that the standards for an increasing $p$ approach the value $2$. This is no coincidence, because for $p=\\infty$, the $L^p$ norm changes into the Chebyshev distance. This assigns the amount of the largest component in terms of amount to a vector.\n",
    "selectable": false
   },
   "source": [
    "Your plot should look something like this:\n",
    "\n",
    "\n",
    "![Lp norms](00-02-04-pic5.png)\n",
    "\n",
    "\n",
    "For $p=1$ we get the sum of the all the component values. $3$ appears multiple times here. For $p=2$ we get the Euclidean length of the vector. This is always smaller or equal to the $p=1$ norm. This is a consequence of the triangle inequality. The case in two dimensions is an illustrative example. If we look at any vector with coordinates $[x,y]$, we can imagine it as the vector sum of the two vectors $[x,0]$ and $[0,y]$. The three vectors then form a right-angled triangle (see picture). \n",
    "\n",
    "![Lp norms 2](00-02-04-pic6.png)\n",
    "\n",
    "The two short sides each have a length $|x|$ and $|y|$, whereas the hypotenuse has a length of $\\sqrt{|x|^2+|y|^2}$. And it is $|x|+|y|\\ge \\sqrt{|x|^2+|y|^2}$, and $L^1([x,y])\\ge L^2([x,y])$ accordingly. In fact, the $L^p$ norms for a fixed vector all decrease monotonously with increasing $p$, which we can see well in the graph above. We can also identify that the standards for an increasing $p$ approach the value $2$. This is no coincidence, because for $p=\\infty$, the $L^p$ norm changes into the Chebyshev distance. This assigns the amount of the largest component in terms of amount to a vector.\n"
   ]
  },
  {
   "cell_type": "markdown",
   "metadata": {
    "cell_content_type": "markdown_selectable",
    "changed": false,
    "deletable": false,
    "editable": false,
    "original-content": "In our example `vec=[2,1]` this is just $2$.\n",
    "selectable": true
   },
   "source": [
    "In our example `vec=[2,1]` this is just $2$.\n"
   ]
  },
  {
   "cell_type": "markdown",
   "metadata": {
    "cell_content_type": "markdown_selectable",
    "changed": false,
    "deletable": false,
    "editable": false,
    "messageType": "merke",
    "original-content": "**Remember:**\n* Calculate the distance between two vectors with the L2 norm with `norm(my_array_1 - my_array_2)`\n* Metrics and norms are associated with distances\n* These can be used as a measure for similarly\n* Use *docstrings* and function tests for your own functions\n",
    "selectable": true
   },
   "source": [
    "**Remember:**\n",
    "* Calculate the distance between two vectors with the L2 norm with `norm(my_array_1 - my_array_2)`\n",
    "* Metrics and norms are associated with distances\n",
    "* These can be used as a measure for similarly\n",
    "* Use *docstrings* and function tests for your own functions\n"
   ]
  },
  {
   "cell_type": "markdown",
   "metadata": {
    "cell_content_type": "markdown_default",
    "changed": false,
    "deletable": false,
    "editable": false,
    "original-content": "***\nDo you have any questions about this exercise? Look in the forum to see if they have already been discussed.\n***\nFound a mistake? Contact Support at support@stackfuel.com.\n***\nThe data was published here first: P. Cortez, A. Cerdeira, F. Almeida, T. Matos and J. Reis.\nModeling wine preferences by data mining from physicochemical properties. In Decision Support Systems, Elsevier, 47(4):547-553, 2009. \n***\n",
    "selectable": false
   },
   "source": [
    "***\n",
    "Do you have any questions about this exercise? Look in the forum to see if they have already been discussed.\n",
    "***\n",
    "Found a mistake? Contact Support at support@stackfuel.com.\n",
    "***\n",
    "The data was published here first: P. Cortez, A. Cerdeira, F. Almeida, T. Matos and J. Reis.\n",
    "Modeling wine preferences by data mining from physicochemical properties. In Decision Support Systems, Elsevier, 47(4):547-553, 2009. \n",
    "***\n"
   ]
  }
 ],
 "metadata": {
  "celltoolbar": "Edit Metadata",
  "content_id": "002a8e88-a6ac-4094-8a45-aecba0785749",
  "content_language": "en",
  "content_title": "Measuring Distances with Norms and Metrics",
  "content_type": "exercise",
  "kernelspec": {
   "display_name": "Python 3 (ipykernel)",
   "language": "python",
   "name": "python3"
  },
  "language_info": {
   "codemirror_mode": {
    "name": "ipython",
    "version": 3
   },
   "file_extension": ".py",
   "mimetype": "text/x-python",
   "name": "python",
   "nbconvert_exporter": "python",
   "pygments_lexer": "ipython3",
   "version": "3.8.10"
  }
 },
 "nbformat": 4,
 "nbformat_minor": 4
}
